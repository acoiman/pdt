{
  "nbformat": 4,
  "nbformat_minor": 0,
  "metadata": {
    "colab": {
      "provenance": [],
      "authorship_tag": "ABX9TyPYF+Sixu6atxHqH3fZoq7S",
      "include_colab_link": true
    },
    "kernelspec": {
      "name": "python3",
      "display_name": "Python 3"
    },
    "language_info": {
      "name": "python"
    }
  },
  "cells": [
    {
      "cell_type": "markdown",
      "metadata": {
        "id": "view-in-github",
        "colab_type": "text"
      },
      "source": [
        "<a href=\"https://colab.research.google.com/github/acoiman/pdt/blob/main/asthma_mortality/notebooks/colab/10_Asthma_Mortality_DEM.ipynb\" target=\"_parent\"><img src=\"https://colab.research.google.com/assets/colab-badge.svg\" alt=\"Open In Colab\"/></a>"
      ]
    },
    {
      "cell_type": "markdown",
      "source": [
        "# ⛰️ Elevation Data"
      ],
      "metadata": {
        "id": "nPdaCLyJVTKG"
      }
    },
    {
      "cell_type": "markdown",
      "source": [
        "In this notebook, we will calculate elevation data (in meters) for each department using the [ NASADEM: NASA 30m Digital Elevation Model](https://developers.google.com/earth-engine/datasets/catalog/NASA_NASADEM_HGT_001#citations. We will begin by calculating and mapping elevation in Córdoba province as an example, and then extend the analysis to all departments in Argentina. This variable will later be included as a confounding factor in the modeling process"
      ],
      "metadata": {
        "id": "czv8Wh14taoY"
      }
    },
    {
      "cell_type": "markdown",
      "source": [
        "##📦 Import Required Libraries"
      ],
      "metadata": {
        "id": "GltzqObwVwde"
      }
    },
    {
      "cell_type": "code",
      "source": [
        "# data.frame handling\n",
        "import pandas as pd\n",
        "\n",
        "# geospatial data handling\n",
        "import geopandas as gpd\n",
        "import geemap\n",
        "import ee\n",
        "import folium\n",
        "\n",
        "# other libraries\n",
        "import branca.colormap as cm\n",
        "import os\n",
        "from itables import init_notebook_mode"
      ],
      "metadata": {
        "id": "5wWA9C3HVvv6"
      },
      "execution_count": null,
      "outputs": []
    },
    {
      "cell_type": "code",
      "source": [
        "# Set the PROJ_LIB path\n",
        "os.environ['PROJ_LIB'] = \"/opt/conda/envs/gds/share/proj\""
      ],
      "metadata": {
        "id": "z_0gGGLQxl5v"
      },
      "execution_count": null,
      "outputs": []
    },
    {
      "cell_type": "code",
      "source": [
        "# change to my computer home directory\n",
        "%cd work"
      ],
      "metadata": {
        "id": "oW6ZqRb0iWAB"
      },
      "execution_count": null,
      "outputs": []
    },
    {
      "cell_type": "markdown",
      "source": [
        "## 🌍 Connect to Google Earth Engine (GEE)"
      ],
      "metadata": {
        "id": "x3eqoWLMgevB"
      }
    },
    {
      "cell_type": "code",
      "source": [
        "# trigger the authentication flow\n",
        "ee.Authenticate()"
      ],
      "metadata": {
        "id": "-qQgNBqJgc9i"
      },
      "execution_count": null,
      "outputs": []
    },
    {
      "cell_type": "code",
      "source": [
        "# initialize the library.\n",
        "ee.Initialize(project='ee-pdt')\n",
        "print(ee.String('Hello from the Earth Engine servers!').getInfo())"
      ],
      "metadata": {
        "id": "gzkMyRxVg5Ld"
      },
      "execution_count": null,
      "outputs": []
    },
    {
      "cell_type": "markdown",
      "source": [
        "## Computing Elevation Data for Cordoba Province"
      ],
      "metadata": {
        "id": "kqL7JCRjf5Hy"
      }
    },
    {
      "cell_type": "code",
      "source": [
        "# Load all departments and select Córdoba province departments (IDPROV = 14)\n",
        "all_dptos = ee.FeatureCollection(\"projects/ee-pdt/assets/argentina/ar_prov_dpto\")\n",
        "cordoba_dptos = all_dptos.filter(ee.Filter.eq('IDPROV', \"14\"))"
      ],
      "metadata": {
        "id": "sq0Azsd8f4bL"
      },
      "execution_count": null,
      "outputs": []
    },
    {
      "cell_type": "code",
      "source": [
        "# Load elevation dataset (NASADEM)\n",
        "nasadem = ee.Image(\"NASA/NASADEM_HGT/001\").select(\"elevation\")"
      ],
      "metadata": {
        "id": "e2s4eTwRX8TJ"
      },
      "execution_count": null,
      "outputs": []
    },
    {
      "cell_type": "code",
      "source": [
        "# Clip elevation to Cordoba extent\n",
        "cor_extent = cordoba_dptos.geometry()\n",
        "nasadem_cor = nasadem.clip(cor_extent)"
      ],
      "metadata": {
        "id": "lpWeaOEpX8Z1"
      },
      "execution_count": null,
      "outputs": []
    },
    {
      "cell_type": "code",
      "source": [
        "# Compute mean elevation per department in Cordoba\n",
        "mean_elev_cor = nasadem_cor.reduceRegions(\n",
        "    collection=cordoba_dptos,\n",
        "    reducer=ee.Reducer.mean(),\n",
        "    scale=30  # NASADEM native resolution\n",
        ")"
      ],
      "metadata": {
        "id": "TeD_QdKMdVCL"
      },
      "execution_count": null,
      "outputs": []
    },
    {
      "cell_type": "code",
      "source": [
        "# change mean by ELEV_2001\n",
        "mean_elev_cor = mean_elev_cor.map(\n",
        "    lambda f: f.set(\n",
        "        \"ELEV_2001\", f.get(\"mean\")\n",
        "    ).select([\"IDDPTO\", \"ELEV_2001\", \"geometry\"])\n",
        ")"
      ],
      "metadata": {
        "id": "n0iqnb8HTlY7"
      },
      "execution_count": null,
      "outputs": []
    },
    {
      "cell_type": "code",
      "source": [
        "# Convert feature collection into GeoDataFrame and DataFrame and extract desired columns\n",
        "gdf_elev_cor = geemap.ee_to_gdf(mean_elev_cor).round(2)\n",
        "df_elev_cor  = gdf_elev_cor[['IDDPTO', 'ELEV_2001']]"
      ],
      "metadata": {
        "id": "1xIeSWOyRB9F"
      },
      "execution_count": null,
      "outputs": []
    },
    {
      "cell_type": "code",
      "source": [
        "# visualize data.frame\n",
        "init_notebook_mode(all_interactive=True)\n",
        "df_elev_cor"
      ],
      "metadata": {
        "id": "v-y8FjTbRPOs"
      },
      "execution_count": null,
      "outputs": []
    },
    {
      "cell_type": "markdown",
      "source": [
        "####  Mapping the Elevation (m) in Cordoba Province"
      ],
      "metadata": {
        "id": "vyEfo2FznEdc"
      }
    },
    {
      "cell_type": "code",
      "source": [
        "# Define color bins and values\n",
        "bins = [106, 190, 451, 593, 1087]\n",
        "colors = [\n",
        "    \"#1a9850\",\n",
        "    \"#fee08b\",\n",
        "    \"#fc8d59\",\n",
        "    \"#d73027\",\n",
        "    \"#f7f7f7\"\n",
        "]\n",
        "# Create a step colormap for legend\n",
        "colormap = cm.StepColormap(colors=colors, vmin=bins[0], vmax=bins[-1], index=bins,\n",
        "                           caption='Elevation (m)')\n",
        "\n",
        "# Function to assign color to each feature based on NBUT_2022 value\n",
        "def get_color(elev):\n",
        "    if elev is None:\n",
        "        return 'gray'\n",
        "    for i in range(len(bins) - 1):\n",
        "        if bins[i] <= elev < bins[i + 1]:\n",
        "            return colors[i]\n",
        "    return colors[-1]\n",
        "\n",
        "# Initialize map\n",
        "m = folium.Map(location=[-31.3, -64.2], zoom_start=7, control_scale=True)\n",
        "\n",
        "# Add the styled NBUT GeoJson layer\n",
        "folium.GeoJson(\n",
        "    gdf_elev_cor,\n",
        "    name='Elevation (Custom Choropleth)',\n",
        "    style_function=lambda feature: {\n",
        "        'fillColor': get_color(feature['properties']['ELEV_2001']),\n",
        "        'color': 'black',\n",
        "        'weight': 0.3,\n",
        "        'fillOpacity': 0.6,\n",
        "    },\n",
        "    tooltip=folium.GeoJsonTooltip(\n",
        "        fields=['IDDPTO', 'ELEV_2001'],\n",
        "        aliases=['Department ID:', 'Elevation (/m):'],\n",
        "        localize=True\n",
        "    )\n",
        ").add_to(m)\n",
        "\n",
        "# Add the colormap legend\n",
        "colormap.add_to(m)\n",
        "\n",
        "# Add layer control\n",
        "folium.LayerControl().add_to(m)"
      ],
      "metadata": {
        "id": "Djm0ODnJnLTx"
      },
      "execution_count": null,
      "outputs": []
    },
    {
      "cell_type": "code",
      "source": [
        "# display the map\n",
        "m"
      ],
      "metadata": {
        "id": "PUuC9wJvVltI"
      },
      "execution_count": null,
      "outputs": []
    },
    {
      "cell_type": "markdown",
      "source": [
        "#### Computing Elevation for all provinces"
      ],
      "metadata": {
        "id": "cysI7ArGZgQ6"
      }
    },
    {
      "cell_type": "code",
      "source": [
        "# Load the shapefile to get province id list\n",
        "shapefile_path = 'pdt/asthma_mortality/data/shp/ar_prov_dpto.shx'\n",
        "gdf = gpd.read_file(shapefile_path)\n",
        "\n",
        "# Get unique values of IDPROV\n",
        "province_ids = gdf['IDPROV'].unique().tolist()\n",
        "\n",
        "print(province_ids)"
      ],
      "metadata": {
        "id": "K5d07aHqZoVg"
      },
      "execution_count": null,
      "outputs": []
    },
    {
      "cell_type": "code",
      "source": [
        "# Load all province-department features\n",
        "all_dptos = ee.FeatureCollection(\"projects/ee-pdt/assets/argentina/ar_prov_dpto\")"
      ],
      "metadata": {
        "id": "ka5rQoj_bt_N"
      },
      "execution_count": null,
      "outputs": []
    },
    {
      "cell_type": "code",
      "source": [
        "# Load elevation dataset (NASADEM)\n",
        "nasadem = ee.Image(\"NASA/NASADEM_HGT/001\").select(\"elevation\")"
      ],
      "metadata": {
        "id": "0eUr2CGzb0xw"
      },
      "execution_count": null,
      "outputs": []
    },
    {
      "cell_type": "code",
      "source": [
        "# List to store DataFrames from each province\n",
        "df_list = []"
      ],
      "metadata": {
        "id": "Yp81D2LDccps"
      },
      "execution_count": null,
      "outputs": []
    },
    {
      "cell_type": "code",
      "source": [
        "# Loop through each province ID\n",
        "for prov_id in province_ids:\n",
        "    print(\"Processing province: \", prov_id)\n",
        "\n",
        "    # Filter departments by province\n",
        "    prov_dptos = all_dptos.filter(ee.Filter.eq('IDPROV', prov_id))\n",
        "\n",
        "    # Clip elevation to province extent\n",
        "    prov_extent = prov_dptos.geometry()\n",
        "    nasadem_prov = nasadem.clip(prov_extent)\n",
        "\n",
        "    # Compute mean elevation per department in the province\n",
        "    mean_elev_prov = nasadem_prov.reduceRegions(\n",
        "        collection=prov_dptos,\n",
        "        reducer=ee.Reducer.mean(),\n",
        "        scale=30  # NASADEM native resolution\n",
        "    )\n",
        "\n",
        "    # change mean by ELEV_2001\n",
        "    mean_elev_prov = mean_elev_prov.map(\n",
        "        lambda f: f.set(\n",
        "        \"ELEV_2001\", f.get(\"mean\")\n",
        "        ).select([\"IDDPTO\", \"ELEV_2001\"])\n",
        "    )\n",
        "\n",
        "    # Convert to GeoDataFrame and filter only required columns\n",
        "    gdf = geemap.ee_to_gdf(mean_elev_prov).round(2)\n",
        "    df = gdf[['IDDPTO', 'ELEV_2001']]\n",
        "\n",
        "    # Append to list\n",
        "    df_list.append(df)"
      ],
      "metadata": {
        "id": "1GPzelkPcptH"
      },
      "execution_count": null,
      "outputs": []
    },
    {
      "cell_type": "code",
      "source": [
        "# Merge all provincial data into one DataFrame\n",
        "df_elev_all = pd.concat(df_list, ignore_index=True)"
      ],
      "metadata": {
        "id": "eD88PD_Kmf3T"
      },
      "execution_count": null,
      "outputs": []
    },
    {
      "cell_type": "code",
      "source": [
        "# visualize data.frame\n",
        "init_notebook_mode(all_interactive=True)\n",
        "df_elev_all"
      ],
      "metadata": {
        "id": "QM7mC1KKmnjw"
      },
      "execution_count": null,
      "outputs": []
    },
    {
      "cell_type": "code",
      "source": [
        "# get basic info of the data.frame\n",
        "df_elev_all.info()"
      ],
      "metadata": {
        "id": "xLUkAG5zm2SK"
      },
      "execution_count": null,
      "outputs": []
    },
    {
      "cell_type": "code",
      "source": [
        "# test if df_elev_all[\"ELEV_2001\"] for cordoba province is the same as df_elev_cor[\"ELEV_2001\"]\n",
        "\n",
        "# Filter  df_elev_all for Cordoba province (IDPROV = '14')\n",
        "df_elev_all_cordoba =  df_elev_all[ df_elev_all['IDDPTO'].str.startswith('14')]\n",
        "\n",
        "# Sort both dataframes by 'IDDPTO' to ensure comparison alignment\n",
        "df_elev_all_cordoba = df_elev_all_cordoba.sort_values(by='IDDPTO').reset_index(drop=True)\n",
        "df_elev_cor_sorted = df_elev_cor.sort_values(by='IDDPTO').reset_index(drop=True)\n",
        "\n",
        "# Test if the 'NBUT_2022' columns are the same\n",
        "are_equal = (df_elev_all_cordoba['ELEV_2001'] == df_elev_cor_sorted['ELEV_2001']).all()\n",
        "\n",
        "print(f\"Are the 'ELEV_2001' values for Cordoba province the same?: {are_equal}\")"
      ],
      "metadata": {
        "id": "NIPaUbu0nLQi"
      },
      "execution_count": null,
      "outputs": []
    },
    {
      "cell_type": "markdown",
      "source": [
        "#### Merge computed elevation data with other features"
      ],
      "metadata": {
        "id": "4O2cVbXooQOx"
      }
    },
    {
      "cell_type": "code",
      "source": [
        "# load geopackage with PM2.5, Burned areas, LULC,  and other datasets\n",
        "gdf = gpd.read_file(\"pdt/asthma_mortality/data/gpkg/tma_pm25_ba_pd_pdpm25_agrt_nwvt_nbut_2001_2022.gpkg\", driver=\"GPKG\")"
      ],
      "metadata": {
        "id": "QnHhZJE8oPvR"
      },
      "execution_count": null,
      "outputs": []
    },
    {
      "cell_type": "code",
      "source": [
        "# Perform a left merge, preserving all rows from gdf\n",
        "gdf_elev_2001 = gdf.merge(df_elev_all, on='IDDPTO', how='left')"
      ],
      "metadata": {
        "id": "GLagPUJ8o8SA"
      },
      "execution_count": null,
      "outputs": []
    },
    {
      "cell_type": "code",
      "source": [
        "# visualize gdf\n",
        "init_notebook_mode(all_interactive=True)\n",
        "gdf_elev_2001.head()"
      ],
      "metadata": {
        "id": "uVHU9cFHpK4x"
      },
      "execution_count": null,
      "outputs": []
    },
    {
      "cell_type": "code",
      "source": [
        "# check dataframe shape\n",
        "gdf_elev_2001.shape"
      ],
      "metadata": {
        "id": "kyTNIbzmpW2V"
      },
      "execution_count": null,
      "outputs": []
    },
    {
      "cell_type": "code",
      "source": [
        "# Save dataset with ELEV_2001 as other features as a gpkg file\n",
        "gdf_elev_2001.to_file(\"pdt/asthma_mortality/data/gpkg/tma_pm25_ba_pd_pdpm25_agrt_nwvt_nbut_elev_2001_2022.gpkg\", driver=\"GPKG\")"
      ],
      "metadata": {
        "id": "ZwI2Yn-Hpftk"
      },
      "execution_count": null,
      "outputs": []
    },
    {
      "cell_type": "markdown",
      "source": [
        "To facilitate subsequent analysis, we will shorten the name of the spatial data file; from this point onward, it will simply be referred to as **data**."
      ],
      "metadata": {
        "id": "LtAnC0dkqG2C"
      }
    },
    {
      "cell_type": "code",
      "source": [
        "# Save dataset with ELEV_2001 as other features as a gpkg file called data\n",
        "gdf_elev_2001.to_file(\"pdt/asthma_mortality/data/gpkg/data.gpkg\", driver=\"GPKG\")"
      ],
      "metadata": {
        "id": "bZVhpe0Dp7aN"
      },
      "execution_count": null,
      "outputs": []
    }
  ]
}
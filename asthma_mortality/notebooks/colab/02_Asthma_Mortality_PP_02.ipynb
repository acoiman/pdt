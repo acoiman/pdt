{
  "nbformat": 4,
  "nbformat_minor": 0,
  "metadata": {
    "colab": {
      "provenance": [],
      "collapsed_sections": [
        "jZ5SCgGjL-MC",
        "QIkh6cveYwlx",
        "OceohWN3bp1g"
      ],
      "authorship_tag": "ABX9TyOONzRkcBBW+daats2JEX+G",
      "include_colab_link": true
    },
    "kernelspec": {
      "name": "python3",
      "display_name": "Python 3"
    },
    "language_info": {
      "name": "python"
    }
  },
  "cells": [
    {
      "cell_type": "markdown",
      "metadata": {
        "id": "view-in-github",
        "colab_type": "text"
      },
      "source": [
        "<a href=\"https://colab.research.google.com/github/acoiman/pdt/blob/main/asthma_mortality/notebooks/colab/02_Asthma_Mortality_PP_02.ipynb\" target=\"_parent\"><img src=\"https://colab.research.google.com/assets/colab-badge.svg\" alt=\"Open In Colab\"/></a>"
      ]
    },
    {
      "cell_type": "markdown",
      "source": [
        "# Asthma Mortality Data Preprocessing (Part 2)\n",
        "\n",
        "In part 2 of asthma mortality data preprocessing we will do Feature engineering. We will calculate asthma mortality rate aggregated by departments adjusted per 100,000 inhabitants."
      ],
      "metadata": {
        "id": "MBYCwGGIwyPO"
      }
    },
    {
      "cell_type": "markdown",
      "source": [
        "## Load libraries\n",
        "Libraries required for the analysis will be loaded."
      ],
      "metadata": {
        "id": "aja7CzZzjQth"
      }
    },
    {
      "cell_type": "code",
      "source": [
        "# DataFrame libraries\n",
        "import pandas as pd\n",
        "from pandas.api.types import CategoricalDtype\n",
        "import geopandas as gpd\n",
        "\n",
        "# numpy\n",
        "import numpy as np\n",
        "\n",
        "# Google Drive libraries\n",
        "from google.oauth2.credentials import Credentials\n",
        "from google_auth_oauthlib.flow import InstalledAppFlow\n",
        "from googleapiclient.discovery import build\n",
        "from googleapiclient.http import MediaFileUpload\n",
        "\n",
        "\n",
        "# other libraries\n",
        "import csv\n",
        "from itables import init_notebook_mode\n",
        "import webbrowser"
      ],
      "metadata": {
        "id": "k4VaPq1vw5-E"
      },
      "execution_count": null,
      "outputs": []
    },
    {
      "cell_type": "code",
      "source": [
        "# change directory to work folder (at the begining docker container enter into /home/jovyan/)\n",
        "%cd work"
      ],
      "metadata": {
        "id": "slU14RwRMUNv"
      },
      "execution_count": null,
      "outputs": []
    },
    {
      "cell_type": "markdown",
      "source": [
        "## Modifying 2001 census data"
      ],
      "metadata": {
        "id": "HP3-i6KGu7pV"
      }
    },
    {
      "cell_type": "markdown",
      "source": [
        "Argentina's 2001 population data, aggregated by department, were obtained from the website [poblaciones.org](https://poblaciones.org/). The data was displayed in QGIS, and only the total population column was selected.\n",
        "\n",
        "This dataset will be modified below. All polygons in Buenos Aires City will be dissolved because, according to the Department of Health Statistics (DEIS), \"in the case of Buenos Aires city, we treated it as a single geographic unit. The subdivision of Buenos Aires City was not homogeneous throughout the requested data period.\" Consequently, Buenos Aires City will be considered as a single department."
      ],
      "metadata": {
        "id": "JGjz_N-9vBmx"
      }
    },
    {
      "cell_type": "code",
      "source": [
        "# Read a shapefile into a GeoDataFrame.\n",
        "gdf= gpd.read_file(\"pdt/asthma_mortality/data/shp/censo_2001.shp\", encoding='utf-8')"
      ],
      "metadata": {
        "id": "FJOZdIZJvTVN"
      },
      "execution_count": null,
      "outputs": []
    },
    {
      "cell_type": "code",
      "source": [
        "# Display the first few rows of the DataFrame 'gdf'.\n",
        "gdf.head()"
      ],
      "metadata": {
        "id": "8QSgqPL6vTX_"
      },
      "execution_count": null,
      "outputs": []
    },
    {
      "cell_type": "code",
      "source": [
        "# Generate information about the dataframe.\n",
        "gdf.info()"
      ],
      "metadata": {
        "id": "ZBj-w1IVvTf2"
      },
      "execution_count": null,
      "outputs": []
    },
    {
      "cell_type": "code",
      "source": [
        "# Filter a GeoDataFrame to select rows where the 'DPTO' column starts with '02'.\n",
        "departamentos_02 = gdf[gdf['DPTO'].str.startswith('02')]\n",
        "\n",
        "#  Calculate the sum of the population in the 'A_2001' column of the 'departamentos_02' dataframe.\n",
        "poligono_union = departamentos_02.union_all()\n",
        "\n",
        "# Calculate the sum of the population in the 'A_2001' column of the 'departamentos_02' dataframe.\n",
        "suma_poblacion = departamentos_02['A_2001'].sum()\n",
        "\n",
        "# Update the 'geometry' and 'A_2001' columns in a GeoDataFrame.\n",
        "gdf.loc[departamentos_02.index, 'geometry'] = poligono_union\n",
        "\n",
        "# Update the 'A_2001' column in the 'gdf' DataFrame at the specified index locations with the calculated 'suma_poblacion' value.\n",
        "gdf.loc[departamentos_02.index, 'A_2001'] = suma_poblacion\n",
        "\n",
        "# Filter out rows from a DataFrame where the 'DPTO' column starts with '02'.\n",
        "gdf = gdf[~gdf['DPTO'].str.startswith('02')]\n",
        "\n",
        "# Create a new GeoDataFrame row with specified columns and values\n",
        "new_row = gpd.GeoDataFrame({'DPTO': '02000', 'geometry': poligono_union, 'A_2001': suma_poblacion}, index=[0], crs=gdf.crs)\n",
        "\n",
        "# Concatenate a DataFrame (new_row) to another DataFrame (gdf) while ignoring the index.\n",
        "gdf = pd.concat([gdf, new_row], ignore_index=True)"
      ],
      "metadata": {
        "id": "9DDepbIYvTi-"
      },
      "execution_count": null,
      "outputs": []
    },
    {
      "cell_type": "code",
      "source": [
        "# Rename the column 'DPTO' to 'IDDPTO' in the DataFrame gdf.\n",
        "gdf = gdf.rename(columns={'DPTO': 'IDDPTO'})"
      ],
      "metadata": {
        "id": "YkuHtScqvTqO"
      },
      "execution_count": null,
      "outputs": []
    },
    {
      "cell_type": "code",
      "source": [
        "# Filter polygons where 'DPTO' starts with '02'\n",
        "selected_polygons = gdf[gdf['IDDPTO'].str.startswith('02')]\n",
        "\n",
        "# Print or further process the selected polygons\n",
        "selected_polygons\n"
      ],
      "metadata": {
        "id": "m8lDmYiivTtO"
      },
      "execution_count": null,
      "outputs": []
    },
    {
      "cell_type": "code",
      "source": [
        "# Save the GeoDataFrame to a shapefile at the specified path.\n",
        "gdf.to_file(\"pdt/asthma_mortality/data/shp/censo_2001_modified.shp\")"
      ],
      "metadata": {
        "id": "L0xYfgjC05c6"
      },
      "execution_count": null,
      "outputs": []
    },
    {
      "cell_type": "markdown",
      "source": [
        "Since the dataset resulting from the union of the CABA polygons presents topological inconsistencies (holes), it was cleaned with the Delete Holes tool in QGIS."
      ],
      "metadata": {
        "id": "ApHpAPlJ1Hmg"
      }
    },
    {
      "cell_type": "code",
      "source": [
        "# Read a shapefile containing data on asthma mortality from the year 2001.\n",
        "gdf2001= gpd.read_file(\"pdt/asthma_mortality/data/shp/censo_2001_clean.shp\", encoding='utf-8')"
      ],
      "metadata": {
        "id": "1ZuhW4_m08hE"
      },
      "execution_count": null,
      "outputs": []
    },
    {
      "cell_type": "code",
      "source": [
        "# Display the first few rows of the gdf2001 DataFrame\n",
        "init_notebook_mode(all_interactive=False)\n",
        "gdf2001.head()"
      ],
      "metadata": {
        "id": "Ekw0CGKT08j5"
      },
      "execution_count": null,
      "outputs": []
    },
    {
      "cell_type": "code",
      "source": [
        "# Return the length of the object `gdf2001`.\n",
        "len(gdf2001)"
      ],
      "metadata": {
        "id": "dw6W3Kzv08nR"
      },
      "execution_count": null,
      "outputs": []
    },
    {
      "cell_type": "markdown",
      "source": [
        "## Modifying SHP census 2010-2023\n"
      ],
      "metadata": {
        "id": "jZ5SCgGjL-MC"
      }
    },
    {
      "cell_type": "markdown",
      "source": [
        "Argentina's projected population data for 2010-2023, aggregated by department, were obtained from the website [poblaciones.org](https://poblaciones.org/).\n",
        "\n",
        "\n",
        "This dataset will be modified below. All polygons in Buenos Aires City will be dissolved because, according to the Department of Health Statistics (DEIS), \"in the case of Buenos Aires city, we treated it as a single geographic unit. The subdivision of Buenos Aires City was not homogeneous throughout the requested period.\" Consequently, Buenos Aires City will be considered as a single department."
      ],
      "metadata": {
        "id": "7NBuuaZmMCPa"
      }
    },
    {
      "cell_type": "code",
      "source": [
        "# Read a shapefile into a GeoDataFrame.\n",
        "gdf= gpd.read_file(\"pdt/asthma_mortality/data/shp/proyecciones_departamento_2010-2025.shp\", encoding='utf-8')"
      ],
      "metadata": {
        "id": "wpubXY_r05fl"
      },
      "execution_count": null,
      "outputs": []
    },
    {
      "cell_type": "code",
      "source": [
        "# Display the first few rows of the GeoDataFrame to get an overview of the data structure and content\n",
        "init_notebook_mode(all_interactive=True)\n",
        "gdf.head()"
      ],
      "metadata": {
        "id": "Cq7UaZWB05is"
      },
      "execution_count": null,
      "outputs": []
    },
    {
      "cell_type": "code",
      "source": [
        "# Display information about the GeoDataFrame, such as column data types and non-null counts\n",
        "gdf.info()"
      ],
      "metadata": {
        "id": "9kdB0eNy05lW"
      },
      "execution_count": null,
      "outputs": []
    },
    {
      "cell_type": "code",
      "source": [
        "# Display the column names of the GeoDataFrame\n",
        "gdf.columns"
      ],
      "metadata": {
        "id": "05zc3y8505n9"
      },
      "execution_count": null,
      "outputs": []
    },
    {
      "cell_type": "code",
      "source": [
        "# Drop unnecessary columns from the GeoDataFrame 'gdf'\n",
        "gdf = gdf.drop(columns=['CODPROV', 'PROVINCIA', 'CODDPTO', 'DEPARTAMEN','DEPARTAM_1', 'DEPARTAM_2',\n",
        "                        'DEPARTAM_3', 'DEPARTAM_4', 'DEPARTAM_5', 'A_2024', 'A_2025'])"
      ],
      "metadata": {
        "id": "LOsZxfKoTRow"
      },
      "execution_count": null,
      "outputs": []
    },
    {
      "cell_type": "code",
      "source": [
        "# Display the column names of the GeoDataFrame\n",
        "gdf.columns"
      ],
      "metadata": {
        "id": "VoemAi7qTRrf"
      },
      "execution_count": null,
      "outputs": []
    },
    {
      "cell_type": "code",
      "source": [
        "# Filter the GeoDataFrame to include only rows where the 'IDDPTO' column starts with '02'\n",
        "departamentos_02 = gdf[gdf['IDDPTO'].str.startswith('02')]\n",
        "\n",
        "# Perform a unary union operation on the geometries in the 'departamentos_02' GeoDataFrame\n",
        "poligono_union = departamentos_02.union_all()\n",
        "\n",
        "# Calculate the sum of population for each year from 2010 to 2023\n",
        "suma_poblacion2010 = departamentos_02['A_2010'].sum()\n",
        "suma_poblacion2011 = departamentos_02['A_2011'].sum()\n",
        "suma_poblacion2012 = departamentos_02['A_2012'].sum()\n",
        "suma_poblacion2013 = departamentos_02['A_2013'].sum()\n",
        "suma_poblacion2014 = departamentos_02['A_2014'].sum()\n",
        "suma_poblacion2015 = departamentos_02['A_2015'].sum()\n",
        "suma_poblacion2016 = departamentos_02['A_2016'].sum()\n",
        "suma_poblacion2017 = departamentos_02['A_2017'].sum()\n",
        "suma_poblacion2018 = departamentos_02['A_2018'].sum()\n",
        "suma_poblacion2019 = departamentos_02['A_2019'].sum()\n",
        "suma_poblacion2020 = departamentos_02['A_2020'].sum()\n",
        "suma_poblacion2021 = departamentos_02['A_2021'].sum()\n",
        "suma_poblacion2022 = departamentos_02['A_2022'].sum()\n",
        "suma_poblacion2023 = departamentos_02['A_2023'].sum()\n",
        "\n",
        "# # Update the geometry and population data for the specified indices\n",
        "gdf.loc[departamentos_02.index, 'geometry'] = poligono_union\n",
        "gdf.loc[departamentos_02.index, 'A_2010'] = suma_poblacion2010\n",
        "gdf.loc[departamentos_02.index, 'A_2011'] = suma_poblacion2011\n",
        "gdf.loc[departamentos_02.index, 'A_2012'] = suma_poblacion2012\n",
        "gdf.loc[departamentos_02.index, 'A_2013'] = suma_poblacion2013\n",
        "gdf.loc[departamentos_02.index, 'A_2014'] = suma_poblacion2014\n",
        "gdf.loc[departamentos_02.index, 'A_2015'] = suma_poblacion2015\n",
        "gdf.loc[departamentos_02.index, 'A_2016'] = suma_poblacion2016\n",
        "gdf.loc[departamentos_02.index, 'A_2017'] = suma_poblacion2017\n",
        "gdf.loc[departamentos_02.index, 'A_2018'] = suma_poblacion2018\n",
        "gdf.loc[departamentos_02.index, 'A_2019'] = suma_poblacion2019\n",
        "gdf.loc[departamentos_02.index, 'A_2020'] = suma_poblacion2020\n",
        "gdf.loc[departamentos_02.index, 'A_2021'] = suma_poblacion2021\n",
        "gdf.loc[departamentos_02.index, 'A_2022'] = suma_poblacion2022\n",
        "gdf.loc[departamentos_02.index, 'A_2023'] = suma_poblacion2023\n",
        "\n",
        "# Filter out rows where 'IDDPTO' starts with '02'\n",
        "gdf = gdf[~gdf['IDDPTO'].str.startswith('02')]\n",
        "\n",
        "# Creating a new GeoDataFrame row with population data and geometry\n",
        "new_row = gpd.GeoDataFrame({'IDDPTO': '02000', 'geometry': poligono_union, 'A_2010': suma_poblacion2010,\n",
        "                            'A_2011': suma_poblacion2011,\n",
        "                            'A_2012': suma_poblacion2012,\n",
        "                            'A_2013': suma_poblacion2013,\n",
        "                            'A_2014': suma_poblacion2014,\n",
        "                            'A_2015': suma_poblacion2015,\n",
        "                            'A_2016': suma_poblacion2016,\n",
        "                            'A_2017': suma_poblacion2017,\n",
        "                            'A_2018': suma_poblacion2018,\n",
        "                            'A_2019': suma_poblacion2019,\n",
        "                            'A_2020': suma_poblacion2020,\n",
        "                            'A_2021': suma_poblacion2021,\n",
        "                            'A_2022': suma_poblacion2022,\n",
        "                            'A_2023': suma_poblacion2023,\n",
        "                            'IDPROV': '02',\n",
        "                            'PROV': 'CABA',\n",
        "                            'DPTO': 'CABA',\n",
        "                            }, index=[0], crs=gdf.crs)\n",
        "\n",
        "# Adding a new row to the GeoDataFrame with population data and geometry\n",
        "gdf = pd.concat([gdf, new_row], ignore_index=True)"
      ],
      "metadata": {
        "id": "dM7iOrMVTRut"
      },
      "execution_count": null,
      "outputs": []
    },
    {
      "cell_type": "code",
      "source": [
        "# Saving the modified GeoDataFrame to a shapefile\n",
        "gdf.to_file(\"pdt/asthma_mortality/data/shp/proyecciones_departamento_2010-2023_modified.shp\")"
      ],
      "metadata": {
        "id": "opqhM196TRxb"
      },
      "execution_count": null,
      "outputs": []
    },
    {
      "cell_type": "markdown",
      "source": [
        "Since the dataset resulting from the union of the CABA polygons has topological inconsistencies (holes), it was cleaned with the Delete Holes tool in QGIS."
      ],
      "metadata": {
        "id": "OjkIjuTWWspe"
      }
    },
    {
      "cell_type": "code",
      "source": [
        "# This line reads a shapefile containing projections for departments from 2010 to 2023\n",
        "gdf2010_2023= gpd.read_file(\"pdt/asthma_mortality/data/shp/proyecciones_departamento_2010-2023_clean.shp\", encoding='utf-8')"
      ],
      "metadata": {
        "id": "hBXuiC6005rB"
      },
      "execution_count": null,
      "outputs": []
    },
    {
      "cell_type": "code",
      "source": [
        "# Display the first few rows of the GeoDataFrame to inspect its structure\n",
        "init_notebook_mode(all_interactive=True)\n",
        "gdf2010_2023.head()"
      ],
      "metadata": {
        "id": "PF1siqvt05tv"
      },
      "execution_count": null,
      "outputs": []
    },
    {
      "cell_type": "code",
      "source": [
        "# Get the length of the GeoDataFrame\n",
        "len(gdf2010_2023)"
      ],
      "metadata": {
        "id": "zGVs9nRz05wp"
      },
      "execution_count": null,
      "outputs": []
    },
    {
      "cell_type": "markdown",
      "source": [
        "## Merging data from 2001 and 2010-2023 census"
      ],
      "metadata": {
        "id": "QIkh6cveYwlx"
      }
    },
    {
      "cell_type": "code",
      "source": [
        "# Merging the 2010-2023 GeoDataFrame with the 2001 GeoDataFrame on the 'IDDPTO' column using a left join\n",
        "gdf01_1023 = gdf2010_2023.merge(gdf2001, on='IDDPTO', how='left')"
      ],
      "metadata": {
        "id": "Jtgzfb_JYoy9"
      },
      "execution_count": null,
      "outputs": []
    },
    {
      "cell_type": "code",
      "source": [
        "# Display the first few rows of the GeoDataFrame\n",
        "init_notebook_mode(all_interactive=True)\n",
        "gdf01_1023.head()"
      ],
      "metadata": {
        "id": "4YnpQcppYo2P"
      },
      "execution_count": null,
      "outputs": []
    },
    {
      "cell_type": "code",
      "source": [
        "# Display the columns of the GeoDataFrame\n",
        "gdf01_1023.columns"
      ],
      "metadata": {
        "id": "Mx2LBm_XYo5u"
      },
      "execution_count": null,
      "outputs": []
    },
    {
      "cell_type": "code",
      "source": [
        "# Reordering the columns in the DataFrame to match the specified order\n",
        "new_column_order = ['IDPROV', 'PROV', 'IDDPTO', 'DPTO', 'A_2001', 'A_2010', 'A_2011', 'A_2012', 'A_2013', 'A_2014', 'A_2015',\n",
        "                    'A_2016', 'A_2017', 'A_2018', 'A_2019', 'A_2020', 'A_2021', 'A_2022', 'A_2023', 'geometry_x']\n",
        "gdf01_1023 = gdf01_1023[new_column_order]\n",
        "gdf01_1023 = gdf01_1023.rename(columns={'geometry_x': 'geometry'})\n"
      ],
      "metadata": {
        "id": "_CNBNCgbYo8j"
      },
      "execution_count": null,
      "outputs": []
    },
    {
      "cell_type": "code",
      "source": [
        "# Display the first few rows of the GeoDataFrame\n",
        "init_notebook_mode(all_interactive=True)\n",
        "gdf01_1023.head()"
      ],
      "metadata": {
        "id": "XJnpZ30rYo_r"
      },
      "execution_count": null,
      "outputs": []
    },
    {
      "cell_type": "code",
      "source": [
        "# Display information about the GeoDataFrame, such as column data types and non-null counts\n",
        "gdf01_1023.info()"
      ],
      "metadata": {
        "id": "BPaCwmweYpDd"
      },
      "execution_count": null,
      "outputs": []
    },
    {
      "cell_type": "code",
      "source": [
        "# Save the GeoDataFrame to a shapefile in the specified directory\n",
        "gdf01_1023.to_file(\"pdt/asthma_mortality/data/shp/proyecciones_departamento_2001-2010_2023_01.shp\")"
      ],
      "metadata": {
        "id": "Hk_M7pcuazHa"
      },
      "execution_count": null,
      "outputs": []
    },
    {
      "cell_type": "markdown",
      "source": [
        "## Compute the population by department between 2002 and 2009\n"
      ],
      "metadata": {
        "id": "OceohWN3bp1g"
      }
    },
    {
      "cell_type": "markdown",
      "source": [
        "We have data on number of inhabitants per departments in 2001 and from 2010 to 2023. The population per department between 2002 and 2009 will be calculated in two stages: i) the population of each province will be calculated using the average annual growth rate (AAR) (average annual growth rate per thousand inhabitants); ii) the population of each department will be estimated using the projected provincial population using the relative increase method. The resulting dataset will show the population by department between 2001 and 2022."
      ],
      "metadata": {
        "id": "8ss1iK5od5dy"
      }
    },
    {
      "cell_type": "code",
      "source": [
        "# This line reads a shapefile into a GeoDataFrame using Geopandas\n",
        "gdf= gpd.read_file(\"pdt/asthma_mortality/data/shp/proyecciones_departamento_2001-2010_2023_01.shp\", encoding='utf-8')"
      ],
      "metadata": {
        "id": "2_M3booqazJ7"
      },
      "execution_count": null,
      "outputs": []
    },
    {
      "cell_type": "code",
      "source": [
        "# Display the first few rows of the GeoDataFrame\n",
        "init_notebook_mode(all_interactive=True)\n",
        "gdf.head()"
      ],
      "metadata": {
        "id": "OkACAbJQfZRz"
      },
      "execution_count": null,
      "outputs": []
    },
    {
      "cell_type": "code",
      "source": [
        "# Adding new columns to the GeoDataFrame with specified data types\n",
        "gdf['PP_2001'] = pd.Series(dtype='Int64')\n",
        "gdf['PP_2010'] = pd.Series(dtype='Int64')\n",
        "gdf['TCAM_0110'] = np.nan"
      ],
      "metadata": {
        "id": "9sws1A4KfZUX"
      },
      "execution_count": null,
      "outputs": []
    },
    {
      "cell_type": "code",
      "source": [
        "# Extract unique province IDs from the 'IDPROV' column in the GeoDataFrame\n",
        "lcp = sorted(list(gdf['IDPROV'].unique()))\n",
        "print(lcp)\n",
        "len(lcp)"
      ],
      "metadata": {
        "id": "6gm7RTYMfZXk"
      },
      "execution_count": null,
      "outputs": []
    },
    {
      "cell_type": "markdown",
      "source": [
        "Generate a list of population of each province for 2001 and 2010, as well as the TCAM. This data was obtained from INDEC (https://www.indec.gob.ar/ftp/nuevaweb/cuadros/7/sesd_01a01.xls)"
      ],
      "metadata": {
        "id": "hECPsTjegnQ3"
      }
    },
    {
      "cell_type": "code",
      "source": [
        "# list with the population of each province for the year 2001\n",
        "lpp2001 = [2995805, 14211087, 338168, 3154833, 942870, 995192, 427404, 1177747, 492221, 619929, 307500, 297149, 1611091, 973225, 489997, 575043, 1090600, 630793, 375865, 199381, 3102849, 812609, 1359114, 102498   ]"
      ],
      "metadata": {
        "id": "EEIyK6bgh3S6"
      },
      "execution_count": null,
      "outputs": []
    },
    {
      "cell_type": "code",
      "source": [
        "# list with the population of each province for the year 2010\n",
        "lpp2010 = [3038430, 15771581, 378977, 3384649, 1021242, 1083740, 515203, 1259903, 553528, 685870, 32815, 343765, 1780854, 1117121, 573881, 650511, 1243386, 698476, 445477, 276407, 3269134, 883684, 1494358, 132116]"
      ],
      "metadata": {
        "id": "m8-bnZT-D_Ad"
      },
      "execution_count": null,
      "outputs": []
    },
    {
      "cell_type": "code",
      "source": [
        "# list with  TCAM each province\n",
        "ltcam0110 = [1.6, 11.7, 12.8, 7.9, 9, 9.6, 21.1, 7.6, 13.2, 11.4, 7.3, 16.4,  11.3, 15.5, 17.8, 13.9,  14.8, 11.5, 19.2, 37.2, 5.8, 9.4, 10.7, 28.8 ]"
      ],
      "metadata": {
        "id": "FoyvpNNaiTSQ"
      },
      "execution_count": null,
      "outputs": []
    },
    {
      "cell_type": "code",
      "source": [
        "# Iterate through the list of province IDs (lcp) and update the GeoDataFrame (gdf) with population data and growth rates\n",
        "for i in range(len(lcp)):\n",
        "  gdf.loc[gdf['IDPROV'] == lcp[i], 'PP_2001'] = lpp2001[i]\n",
        "  gdf.loc[gdf['IDPROV'] == lcp[i], 'PP_2010'] = lpp2010[i]\n",
        "  gdf.loc[gdf['IDPROV'] == lcp[i], 'TCAM_0110'] = ltcam0110[i]"
      ],
      "metadata": {
        "id": "oKtJk4YtazQL"
      },
      "execution_count": null,
      "outputs": []
    },
    {
      "cell_type": "code",
      "source": [
        "# Display the first few rows of the GeoDataFrame\n",
        "init_notebook_mode(all_interactive=True)\n",
        "gdf.head()"
      ],
      "metadata": {
        "id": "jMgA_i9eazTG"
      },
      "execution_count": null,
      "outputs": []
    },
    {
      "cell_type": "markdown",
      "source": [
        "To calculate the projected population of each province per year between 2002 and 2009, the following equation will be used:\n",
        "\n",
        "\\begin{align}\n",
        "TCAM = (\\sqrt[t]{Pf/Pi}-1).1000\n",
        "\\end{align}\n",
        "\n",
        "* TCAM: average annual growth rate per thousand inhabitants\n",
        "* Pf: population at the end of the period\n",
        "* Pi: population at the beginning of the period.\n",
        "* t: magnitude of the given period expressed in years.\n",
        "\n",
        "Fuente: https://www.argentina.gob.ar/interior/renaper/estadistica-de-poblacion/crecimiento-poblacional-2001-2010-y-2010-2022\n",
        "\n",
        "\n",
        "By clearing Pf from the equation we have:\n",
        "\n",
        "\\begin{align}\n",
        "Pf = Pi*(1+(\\frac{TCAM}{1000})^{t})\n",
        "\\end{align}\n",
        "\n",
        "This calculation will only be carried out between 2001 and 2009, from 2010 onwards, the projected population by province and department is avaliable at [poblaciones.org](https://poblaciones.org/)."
      ],
      "metadata": {
        "id": "7d7eHqBti_Dc"
      }
    },
    {
      "cell_type": "code",
      "source": [
        "# Calculate the projected population by province for each year between 2002 and 2009\n",
        "#2002\n",
        "gdf['PP_2002'] = (pow(((gdf.TCAM_0110/1000)+1), 1)*gdf.PP_2001).astype(int)\n",
        "\n",
        "#2003\n",
        "gdf['PP_2003'] = (pow(((gdf.TCAM_0110/1000)+1), 2)*gdf.PP_2001).astype(int)\n",
        "\n",
        "#2004\n",
        "gdf['PP_2004'] = (pow(((gdf.TCAM_0110/1000)+1), 3)*gdf.PP_2001).astype(int)\n",
        "\n",
        "#2005\n",
        "gdf['PP_2005'] = (pow(((gdf.TCAM_0110/1000)+1), 4)*gdf.PP_2001).astype(int)\n",
        "\n",
        "#2006\n",
        "gdf['PP_2006'] = (pow(((gdf.TCAM_0110/1000)+1), 5)*gdf.PP_2001).astype(int)\n",
        "\n",
        "#2007\n",
        "gdf['PP_2007'] = (pow(((gdf.TCAM_0110/1000)+1), 6)*gdf.PP_2001).astype(int)\n",
        "\n",
        "#2008\n",
        "gdf['PP_2008'] = (pow(((gdf.TCAM_0110/1000)+1), 7)*gdf.PP_2001).astype(int)\n",
        "\n",
        "#2009\n",
        "gdf['PP_2009'] = (pow(((gdf.TCAM_0110/1000)+1), 8)*gdf.PP_2001).astype(int)"
      ],
      "metadata": {
        "id": "oPWYBKR7azWA"
      },
      "execution_count": null,
      "outputs": []
    },
    {
      "cell_type": "code",
      "source": [
        "# Display the first few rows of the GeoDataFrame\n",
        "init_notebook_mode(all_interactive=True)\n",
        "gdf.head()"
      ],
      "metadata": {
        "id": "y-mIZ50vidmo"
      },
      "execution_count": null,
      "outputs": []
    },
    {
      "cell_type": "markdown",
      "source": [
        "The relative increase method will be used to calculate the projected population of each department per year between 2002 and 2009 through the following equation:\n",
        "\n",
        "\\begin{align}\n",
        "P^{t}_{i} = a_{i}.P^{t}_{T}+b_{i}\n",
        "\\end{align}\n",
        "\n",
        "Where:\n",
        "\\begin{align}\n",
        "P^{t}_{i} = \\text{population of the smallest area i in year t}\n",
        "\\\\\n",
        "P^{t}_{T} = \\text{population of the largest area T in year t}\n",
        "\\end{align}\n",
        "\n",
        "The proportional increase coefficient of the smaller area (a) in relation to the increase in population of the larger area is equal to:\n",
        "\n",
        "\\begin{align}\n",
        "{a_{i} = \\frac{P^{1}_{i}-P^{o}_{i}}{P^{1}_{T}-P^{0}_{T}}}\n",
        "\\end{align}\n",
        "\n",
        "The linear correlation coefficient (b) is calculated according to the following equation:\n",
        "\n",
        "\\begin{align}\n",
        "{b_{i} = \\frac{P^{1}_{i}+P^{o}_{i}-a_{i}.(P^{1}_{T}+P^{o}_{T})}{2}}\n",
        "\\end{align}\n",
        "\n",
        "Fuente: https://biblioteca.indec.gob.ar/bases/minde/4si20_34.pdf,\n",
        "\n",
        "https://files.alapop.org/alap/Serie-E-Investigaciones/N2/Capitulos/Capitulo4_Estimaciones&Proyecciones.pdf"
      ],
      "metadata": {
        "id": "wLOpni41uylr"
      }
    },
    {
      "cell_type": "code",
      "source": [
        "# proportional increase coefficient of the smaller area\n",
        "gdf['a'] = (gdf['A_2010']-gdf['A_2001'])/(gdf['PP_2010']-gdf['PP_2001'])"
      ],
      "metadata": {
        "id": "uwBunrN1idpw"
      },
      "execution_count": null,
      "outputs": []
    },
    {
      "cell_type": "code",
      "source": [
        "# linear correlation coefficient (b)\n",
        "gdf['b'] = ((gdf['A_2010']+gdf['A_2001'])-(gdf['a']*(gdf['PP_2010']+gdf['PP_2001'])))/2"
      ],
      "metadata": {
        "id": "O6eIp4_hidsv"
      },
      "execution_count": null,
      "outputs": []
    },
    {
      "cell_type": "code",
      "source": [
        "# Calculate the population of the smaller areas (departments) between 2002 and 2009\n",
        "# 2002\n",
        "gdf['A_2002'] = (gdf['a'] * gdf['PP_2002'] + gdf['b']).astype(int)\n",
        "\n",
        "# 2003\n",
        "gdf['A_2003'] = (gdf['a'] * gdf['PP_2003'] + gdf['b']).astype(int)\n",
        "\n",
        "# 2004\n",
        "gdf['A_2004'] = (gdf['a'] * gdf['PP_2004'] + gdf['b']).astype(int)\n",
        "\n",
        "# 2005\n",
        "gdf['A_2005'] = (gdf['a'] * gdf['PP_2005'] + gdf['b']).astype(int)\n",
        "\n",
        "# 2006\n",
        "gdf['A_2006'] = (gdf['a'] * gdf['PP_2006'] + gdf['b']).astype(int)\n",
        "\n",
        "# 2007\n",
        "gdf['A_2007'] = (gdf['a'] * gdf['PP_2007'] + gdf['b']).astype(int)\n",
        "\n",
        "# 2008\n",
        "gdf['A_2008'] = (gdf['a'] * gdf['PP_2008'] + gdf['b']).astype(int)\n",
        "\n",
        "# 2009\n",
        "gdf['A_2009'] = (gdf['a'] * gdf['PP_2009'] + gdf['b']).astype(int)"
      ],
      "metadata": {
        "id": "cZS5Hs6NidwI"
      },
      "execution_count": null,
      "outputs": []
    },
    {
      "cell_type": "code",
      "source": [
        "# Display the columns of the GeoDataFrame\n",
        "gdf.columns"
      ],
      "metadata": {
        "id": "hKIFtSi6vFd8"
      },
      "execution_count": null,
      "outputs": []
    },
    {
      "cell_type": "code",
      "source": [
        "# Selecting specific columns from the GeoDataFrame\n",
        "gdf = gdf[['IDPROV', 'PROV', 'IDDPTO', 'DPTO', 'A_2001', 'A_2002', 'A_2003', 'A_2004', 'A_2005', 'A_2006','A_2007', 'A_2008', 'A_2009', 'A_2010', 'A_2011',\\\n",
        "           'A_2012', 'A_2013', 'A_2014', 'A_2015', 'A_2016', 'A_2017', 'A_2018','A_2019', 'A_2020', 'A_2021', 'A_2022', 'geometry']]"
      ],
      "metadata": {
        "id": "UszjsFv9vFgr"
      },
      "execution_count": null,
      "outputs": []
    },
    {
      "cell_type": "code",
      "source": [
        "# Display the first few rows of the GeoDataFrame\n",
        "init_notebook_mode(all_interactive=True)\n",
        "gdf.head()"
      ],
      "metadata": {
        "id": "wJB8jJYlvFkv"
      },
      "execution_count": null,
      "outputs": []
    },
    {
      "cell_type": "code",
      "source": [
        "# Save the GeoDataFrame to a shapefile with UTF-8 encoding\n",
        "gdf.to_file(\"pdt/asthma_mortality/data/shp/censo_2001_2022.shp\", encoding='utf-8')"
      ],
      "metadata": {
        "id": "hCU__wxmidzb"
      },
      "execution_count": null,
      "outputs": []
    },
    {
      "cell_type": "markdown",
      "source": [
        "## Calculating the adjusted asthma mortality rate"
      ],
      "metadata": {
        "id": "g8frbWMAxDC1"
      }
    },
    {
      "cell_type": "markdown",
      "source": [
        "Using population and asthma mortality data by department, we will calculate the adjusted asthma mortality rate per 100,000 inhabitants for each year of study (2001-2022).\n",
        "\n",
        "In the years 2011, 2014, 2018, 2021 and 2022, it is necessary to make modifications to the geographic code of some departments due to the following:\n",
        "\n",
        "* Lezama District, Province of Buenos Aires: Law 14,087, passed by the Chamber of Deputies of the Province of Buenos Aires (22-12-2009), created a new municipality called Lezama over portions of the territory belonging to the Chascomús District. Since the geographic boundaries of the Lezama District were not available at the time the census 2010, the corresponding information is included within the Chascomús District.\n",
        "\n",
        "* Regarding the assignment of geographic codes, the code used in the census 2010 for the Chascomús district (code 217) has been modified by the new code 218. The Lezama district will be assigned code 466.\n"
      ],
      "metadata": {
        "id": "GwlJbn01xGAm"
      }
    },
    {
      "cell_type": "markdown",
      "source": [
        "### 2001"
      ],
      "metadata": {
        "id": "UNw5tSr_xXZt"
      }
    },
    {
      "cell_type": "code",
      "source": [
        "# Read the CSV file into a DataFrame\n",
        "df = pd.read_csv(\"pdt/asthma_mortality/data/csv/def_asma_2001_2022_clean_02.csv\")"
      ],
      "metadata": {
        "id": "fajurpH_id2A"
      },
      "execution_count": null,
      "outputs": []
    },
    {
      "cell_type": "code",
      "source": [
        "# Filter the dataframe to include only rows where the 'ANIO' column equals 2001\n",
        "df2001 = df[df['ANIO'] == 2001]"
      ],
      "metadata": {
        "id": "fHGhUyuqxKrt"
      },
      "execution_count": null,
      "outputs": []
    },
    {
      "cell_type": "code",
      "source": [
        "# Display the first few rows of the DataFrame for the year 2001\n",
        "init_notebook_mode(all_interactive=False)\n",
        "df2001.head()"
      ],
      "metadata": {
        "id": "JuEfopXVxKvd"
      },
      "execution_count": null,
      "outputs": []
    },
    {
      "cell_type": "code",
      "source": [
        "# The following code selects only the columns 'ANIO', 'IDDPTO', and 'CANTIDAD' from the DataFrame df2001\n",
        "df2001 = df2001[['ANIO', 'IDDPTO', 'CANTIDAD']]"
      ],
      "metadata": {
        "id": "ScZRTbSo9THO"
      },
      "execution_count": null,
      "outputs": []
    },
    {
      "cell_type": "code",
      "source": [
        "# Display the first few rows of the DataFrame for the year 2001\n",
        "init_notebook_mode(all_interactive=False)\n",
        "df2001.head()"
      ],
      "metadata": {
        "id": "jAIIZ3AF9i3d"
      },
      "execution_count": null,
      "outputs": []
    },
    {
      "cell_type": "code",
      "source": [
        "# Add a leading zero to IDDPTO if its length is 4 or less, otherwise return it as a string\n",
        "append_zero_IDDPTO = lambda IDDPTO: \"0\" + str(IDDPTO) if len(str(IDDPTO)) <= 4 else str(IDDPTO) # Convert IDDPTO to string before checking the length and in the output"
      ],
      "metadata": {
        "id": "MykoeUoWxKyT"
      },
      "execution_count": null,
      "outputs": []
    },
    {
      "cell_type": "code",
      "source": [
        "# Apply the append_zero_IDDPTO function to the 'IDDPTO' column of the df2001 DataFrame\n",
        "df2001['IDDPTO'] = df2001['IDDPTO'].apply(append_zero_IDDPTO)"
      ],
      "metadata": {
        "id": "U3UySGADxK1R"
      },
      "execution_count": null,
      "outputs": []
    },
    {
      "cell_type": "code",
      "source": [
        "# Display the first few rows of the DataFrame for the year 2001\n",
        "init_notebook_mode(all_interactive=False)\n",
        "df2001.head()"
      ],
      "metadata": {
        "id": "tAaZaKwLyR4v"
      },
      "execution_count": null,
      "outputs": []
    },
    {
      "cell_type": "code",
      "source": [
        "# Get the number of rows in the DataFrame `df2001`\n",
        "len(df2001)"
      ],
      "metadata": {
        "id": "kFlDi5J2yR67"
      },
      "execution_count": null,
      "outputs": []
    },
    {
      "cell_type": "code",
      "source": [
        "# Group the dataframe by the 'IDDPTO' column, sum the 'CANTIDAD' values for each group, and reset the index\n",
        "df2001_2 = df2001.groupby('IDDPTO')['CANTIDAD'].sum().reset_index()"
      ],
      "metadata": {
        "id": "1zG7X20WyR-I"
      },
      "execution_count": null,
      "outputs": []
    },
    {
      "cell_type": "code",
      "source": [
        "# Rename the 'CANTIDAD' column to 'C_2001' in the dataframe df2001_2\n",
        "df2001_2 = df2001_2.rename(columns={'CANTIDAD': 'C_2001'})"
      ],
      "metadata": {
        "id": "u12_C66IySAu"
      },
      "execution_count": null,
      "outputs": []
    },
    {
      "cell_type": "code",
      "source": [
        "# Display the first few rows of the DataFrame for the year 2001\n",
        "init_notebook_mode(all_interactive=False)\n",
        "df2001_2.head()"
      ],
      "metadata": {
        "id": "FkCaIXaQ-gVd"
      },
      "execution_count": null,
      "outputs": []
    },
    {
      "cell_type": "code",
      "source": [
        "# Get the number of rows in the DataFrame df2001_2\n",
        "len(df2001_2)"
      ],
      "metadata": {
        "id": "Nmdhbt8f-gYf"
      },
      "execution_count": null,
      "outputs": []
    },
    {
      "cell_type": "code",
      "source": [
        "# Load the shapefile using geopandas\n",
        "gdf = gpd.read_file(\"pdt/asthma_mortality/data/shp/censo_2001_2022.shp\", encoding='utf-8')"
      ],
      "metadata": {
        "id": "tepyoYiw-gbo"
      },
      "execution_count": null,
      "outputs": []
    },
    {
      "cell_type": "code",
      "source": [
        "# Display the first few rows of the GeoDataFrame\n",
        "init_notebook_mode(all_interactive=True)\n",
        "gdf.head()"
      ],
      "metadata": {
        "id": "6qVQnGJs-1lj"
      },
      "execution_count": null,
      "outputs": []
    },
    {
      "cell_type": "code",
      "source": [
        "# Merge the GeoDataFrame with df2001_2 on the 'IDDPTO' column using a left join\n",
        "gdf = gdf.merge(df2001_2, on='IDDPTO', how='left')"
      ],
      "metadata": {
        "id": "WHROtGMu-1o7"
      },
      "execution_count": null,
      "outputs": []
    },
    {
      "cell_type": "code",
      "source": [
        "# Display information about the GeoDataFrame\n",
        "gdf.info()"
      ],
      "metadata": {
        "id": "-6GLwjPp-1sS"
      },
      "execution_count": null,
      "outputs": []
    },
    {
      "cell_type": "code",
      "source": [
        "# Fill missing values in the 'C_2001' column with 0 and convert the column to integer type\n",
        "gdf['C_2001'] = gdf['C_2001'].fillna(0).astype(int)"
      ],
      "metadata": {
        "id": "RiGCKAwtySDj"
      },
      "execution_count": null,
      "outputs": []
    },
    {
      "cell_type": "code",
      "source": [
        "# Display information about the GeoDataFrame\n",
        "gdf.info()"
      ],
      "metadata": {
        "id": "XB67poNy_q0D"
      },
      "execution_count": null,
      "outputs": []
    },
    {
      "cell_type": "code",
      "source": [
        "# calculate the adjusted mortality rate (100,000 inhabitants)\n",
        "gdf['CA_2001'] = round((gdf['C_2001']/gdf['A_2001'])*100000, 2)"
      ],
      "metadata": {
        "id": "n0Md1PKe_q3S"
      },
      "execution_count": null,
      "outputs": []
    },
    {
      "cell_type": "code",
      "source": [
        "# Display summary statistics for the 'CA_2001' column\n",
        "init_notebook_mode(all_interactive=False)\n",
        "gdf['CA_2001'].describe()"
      ],
      "metadata": {
        "id": "IBxq6a0rF0iX"
      },
      "execution_count": null,
      "outputs": []
    },
    {
      "cell_type": "code",
      "source": [
        "# Save the GeoDataFrame to a shapefile with UTF-8 encoding\n",
        "gdf.to_file(\"pdt/asthma_mortality/data/shp/tma_2001_2022.shp\", encoding='utf-8')"
      ],
      "metadata": {
        "id": "SQfxE0tDF0k4"
      },
      "execution_count": null,
      "outputs": []
    },
    {
      "cell_type": "markdown",
      "source": [
        "### 2002"
      ],
      "metadata": {
        "id": "pPkbnjduGwvq"
      }
    },
    {
      "cell_type": "code",
      "source": [
        "# Read the CSV file into a DataFrame\n",
        "df = pd.read_csv(\"pdt/asthma_mortality/data/csv/def_asma_2001_2022_clean_02.csv\")"
      ],
      "metadata": {
        "id": "ygzojWZAHFSW"
      },
      "execution_count": null,
      "outputs": []
    },
    {
      "cell_type": "code",
      "source": [
        "# Filter the dataframe to include only rows where the 'ANIO' column equals 2002\n",
        "df2002 = df[df['ANIO'] == 2002]"
      ],
      "metadata": {
        "id": "jJLN4Ft9HFSX"
      },
      "execution_count": null,
      "outputs": []
    },
    {
      "cell_type": "code",
      "source": [
        "# Display the first few rows of the DataFrame for the year 2002\n",
        "init_notebook_mode(all_interactive=False)\n",
        "df2002.head()"
      ],
      "metadata": {
        "id": "KcvlOksHHFSX"
      },
      "execution_count": null,
      "outputs": []
    },
    {
      "cell_type": "code",
      "source": [
        "# Select only the columns 'ANIO', 'IDDPTO', and 'CANTIDAD' from the DataFrame df2002\n",
        "df2002 = df2002[['ANIO', 'IDDPTO', 'CANTIDAD']]"
      ],
      "metadata": {
        "id": "ilXxWQHBHFSX"
      },
      "execution_count": null,
      "outputs": []
    },
    {
      "cell_type": "code",
      "source": [
        "# Display the first few rows of the DataFrame for the year 2002\n",
        "init_notebook_mode(all_interactive=False)\n",
        "df2002.head()"
      ],
      "metadata": {
        "id": "I1bqne1iHFSX"
      },
      "execution_count": null,
      "outputs": []
    },
    {
      "cell_type": "code",
      "source": [
        "# Add a leading zero to IDDPTO if its length is 4 or less, otherwise return it as a string\n",
        "append_zero_IDDPTO = lambda IDDPTO: \"0\" + str(IDDPTO) if len(str(IDDPTO)) <= 4 else str(IDDPTO) # Convert IDDPTO to string before checking the length and in the output"
      ],
      "metadata": {
        "id": "ikvdQlJ6F0qa"
      },
      "execution_count": null,
      "outputs": []
    },
    {
      "cell_type": "code",
      "source": [
        "# Apply the append_zero_IDDPTO function to the 'IDDPTO' column of the df2002 DataFrame\n",
        "df2002['IDDPTO'] = df2002['IDDPTO'].apply(append_zero_IDDPTO)"
      ],
      "metadata": {
        "id": "kOH-T-QIHZOM"
      },
      "execution_count": null,
      "outputs": []
    },
    {
      "cell_type": "code",
      "source": [
        "# Display the first few rows of the DataFrame for the year 2002\n",
        "init_notebook_mode(all_interactive=False)\n",
        "df2002.head()"
      ],
      "metadata": {
        "id": "rhLw_qGvqh_k"
      },
      "execution_count": null,
      "outputs": []
    },
    {
      "cell_type": "code",
      "source": [
        "# Get the number of rows in the DataFrame `df2002`\n",
        "len(df2002)"
      ],
      "metadata": {
        "id": "PN9URUvcHZQu"
      },
      "execution_count": null,
      "outputs": []
    },
    {
      "cell_type": "code",
      "source": [
        "# Group the dataframe by the 'IDDPTO' column, sum the 'CANTIDAD' values for each group, and reset the index\n",
        "df2002_2 = df2002.groupby('IDDPTO')['CANTIDAD'].sum().reset_index()"
      ],
      "metadata": {
        "id": "CARNsjFEFpwb"
      },
      "execution_count": null,
      "outputs": []
    },
    {
      "cell_type": "code",
      "source": [
        "# Rename the 'CANTIDAD' column to 'C_2002' in the dataframe df2002_2\n",
        "df2002_2 = df2002_2.rename(columns={'CANTIDAD': 'C_2002'})"
      ],
      "metadata": {
        "id": "dd_cLF9DFpwb"
      },
      "execution_count": null,
      "outputs": []
    },
    {
      "cell_type": "code",
      "source": [
        "# Display the first few rows of the DataFrame for the year 2002\n",
        "init_notebook_mode(all_interactive=False)\n",
        "df2002_2.head()"
      ],
      "metadata": {
        "id": "Ye5MLyS5HZWP"
      },
      "execution_count": null,
      "outputs": []
    },
    {
      "cell_type": "code",
      "source": [
        "# Get the number of rows in the DataFrame df2002_2\n",
        "len(df2002_2)"
      ],
      "metadata": {
        "id": "qOVFrQQoHZZI"
      },
      "execution_count": null,
      "outputs": []
    },
    {
      "cell_type": "code",
      "source": [
        "# Read the shapefile into a GeoDataFrame with UTF-8 encoding\n",
        "gdf = gpd.read_file(\"pdt/asthma_mortality/data/shp/tma_2001_2022.shp\", encoding='utf-8')"
      ],
      "metadata": {
        "id": "Yc3aIZBUHZbh"
      },
      "execution_count": null,
      "outputs": []
    },
    {
      "cell_type": "code",
      "source": [
        "# Display the first few rows of the GeoDataFrame\n",
        "init_notebook_mode(all_interactive=True)\n",
        "gdf.head()"
      ],
      "metadata": {
        "id": "x2DSyzkNH8fn"
      },
      "execution_count": null,
      "outputs": []
    },
    {
      "cell_type": "code",
      "source": [
        "# Merge the GeoDataFrame with df2002_2 on the 'IDDPTO' column using a left join\n",
        "gdf = gdf.merge(df2002_2, on='IDDPTO', how='left')"
      ],
      "metadata": {
        "id": "Oxm_ywH3H8iZ"
      },
      "execution_count": null,
      "outputs": []
    },
    {
      "cell_type": "code",
      "source": [
        "# Display information about the GeoDataFrame\n",
        "gdf.info()"
      ],
      "metadata": {
        "id": "GrOhCRrPH8lY"
      },
      "execution_count": null,
      "outputs": []
    },
    {
      "cell_type": "code",
      "source": [
        "# Fill missing values in the 'C_2002' column with 0 and convert the column to integer type\n",
        "gdf['C_2002'] = gdf['C_2002'].fillna(0).astype(int)"
      ],
      "metadata": {
        "id": "8YCz9-1lH8oP"
      },
      "execution_count": null,
      "outputs": []
    },
    {
      "cell_type": "code",
      "source": [
        "# Display information about the GeoDataFrame\n",
        "gdf.info()"
      ],
      "metadata": {
        "id": "utoKhkVJeyeG"
      },
      "execution_count": null,
      "outputs": []
    },
    {
      "cell_type": "code",
      "source": [
        "# calculate the adjusted mortality rate (100,000 inhabitants)\n",
        "gdf['CA_2002'] = round((gdf['C_2002']/gdf['A_2002'])*100000, 2)"
      ],
      "metadata": {
        "id": "fvbOewMx_q6i"
      },
      "execution_count": null,
      "outputs": []
    },
    {
      "cell_type": "code",
      "source": [
        "# Display summary statistics for the 'CA_2002' column\n",
        "init_notebook_mode(all_interactive=False)\n",
        "gdf['CA_2002'].describe()"
      ],
      "metadata": {
        "id": "wIFJMcGXI3g_"
      },
      "execution_count": null,
      "outputs": []
    },
    {
      "cell_type": "code",
      "source": [
        "# Save the GeoDataFrame to a shapefile with UTF-8 encoding\n",
        "gdf.to_file(\"pdt/asthma_mortality/data/shp/tma_2001_2022.shp\", encoding='utf-8')"
      ],
      "metadata": {
        "id": "5T6NBxgkI3uh"
      },
      "execution_count": null,
      "outputs": []
    },
    {
      "cell_type": "markdown",
      "source": [
        "###2003"
      ],
      "metadata": {
        "id": "94DEQeiJJMDZ"
      }
    },
    {
      "cell_type": "code",
      "source": [
        "# Read the CSV file into a DataFrame\n",
        "df = pd.read_csv(\"pdt/asthma_mortality/data/csv/def_asma_2001_2022_clean_02.csv\")"
      ],
      "metadata": {
        "id": "f0-3W_X8b2Y_"
      },
      "execution_count": null,
      "outputs": []
    },
    {
      "cell_type": "code",
      "source": [
        "# Filter the dataframe to include only rows where the 'ANIO' column equals 2003\n",
        "df2003 = df[df['ANIO'] == 2003]"
      ],
      "metadata": {
        "id": "-ywGwOA8b2Y_"
      },
      "execution_count": null,
      "outputs": []
    },
    {
      "cell_type": "code",
      "source": [
        "# Display the first few rows of the DataFrame for the year 2003\n",
        "init_notebook_mode(all_interactive=False)\n",
        "df2003.head()"
      ],
      "metadata": {
        "id": "yvPcGq1ib2Y_"
      },
      "execution_count": null,
      "outputs": []
    },
    {
      "cell_type": "code",
      "source": [
        "# Select only the columns 'ANIO', 'IDDPTO', and 'CANTIDAD' from the DataFrame df2003\n",
        "df2003 = df2003[['ANIO', 'IDDPTO', 'CANTIDAD']]"
      ],
      "metadata": {
        "id": "Y2m34QOob2Y_"
      },
      "execution_count": null,
      "outputs": []
    },
    {
      "cell_type": "code",
      "source": [
        "# Display the first few rows of the DataFrame for the year 2003\n",
        "init_notebook_mode(all_interactive=False)\n",
        "df2003.head()"
      ],
      "metadata": {
        "id": "2h714T5yb2Y_"
      },
      "execution_count": null,
      "outputs": []
    },
    {
      "cell_type": "code",
      "source": [
        "# Add a leading zero to IDDPTO if its length is 4 or less, otherwise return it as a string\n",
        "append_zero_IDDPTO = lambda IDDPTO: \"0\" + str(IDDPTO) if len(str(IDDPTO)) <= 4 else str(IDDPTO) # Convert IDDPTO to string before checking the length and in the output"
      ],
      "metadata": {
        "id": "7oVRKheoM6D4"
      },
      "execution_count": null,
      "outputs": []
    },
    {
      "cell_type": "code",
      "source": [
        "# Apply the append_zero_IDDPTO function to the 'IDDPTO' column of the df2003 DataFrame\n",
        "df2003['IDDPTO'] = df2003['IDDPTO'].apply(append_zero_IDDPTO)"
      ],
      "metadata": {
        "id": "a91zAvoNySGR"
      },
      "execution_count": null,
      "outputs": []
    },
    {
      "cell_type": "code",
      "source": [
        "# Display the first few rows of the DataFrame for the year 2003\n",
        "init_notebook_mode(all_interactive=False)\n",
        "df2003.head()"
      ],
      "metadata": {
        "id": "w4LtRetHtGDf"
      },
      "execution_count": null,
      "outputs": []
    },
    {
      "cell_type": "code",
      "source": [
        "# Get the number of rows in the DataFrame `df2003`\n",
        "len(df2003)"
      ],
      "metadata": {
        "id": "8SuM_m3gcuYA"
      },
      "execution_count": null,
      "outputs": []
    },
    {
      "cell_type": "code",
      "source": [
        "# Group the dataframe by the 'IDDPTO' column, sum the 'CANTIDAD' values for each group, and reset the index\n",
        "df2003_2 = df2003.groupby('IDDPTO')['CANTIDAD'].sum().reset_index()"
      ],
      "metadata": {
        "id": "E3HvjyVScwHb"
      },
      "execution_count": null,
      "outputs": []
    },
    {
      "cell_type": "code",
      "source": [
        "# Rename the 'CANTIDAD' column to 'C_2003' in the dataframe df2003_2\n",
        "df2003_2 = df2003_2.rename(columns={'CANTIDAD': 'C_2003'})"
      ],
      "metadata": {
        "id": "unfxETnELjK5"
      },
      "execution_count": null,
      "outputs": []
    },
    {
      "cell_type": "code",
      "source": [
        "# Display the first few rows of the DataFrame for the year 2003\n",
        "init_notebook_mode(all_interactive=False)\n",
        "df2003_2.head()"
      ],
      "metadata": {
        "id": "TLlBY6HmLjK5"
      },
      "execution_count": null,
      "outputs": []
    },
    {
      "cell_type": "code",
      "source": [
        "# Get the number of rows in the DataFrame df2003_2\n",
        "len(df2003_2)"
      ],
      "metadata": {
        "id": "WcLq34Tzc5MH"
      },
      "execution_count": null,
      "outputs": []
    },
    {
      "cell_type": "code",
      "source": [
        "# Load the shapefile using geopandas\n",
        "gdf = gpd.read_file(\"pdt/asthma_mortality/data/shp/tma_2001_2022.shp\", encoding='utf-8')"
      ],
      "metadata": {
        "id": "tJJdE4nwc5Pi"
      },
      "execution_count": null,
      "outputs": []
    },
    {
      "cell_type": "code",
      "source": [
        "# Display the first few rows of the GeoDataFrame\n",
        "init_notebook_mode(all_interactive=True)\n",
        "gdf.head()"
      ],
      "metadata": {
        "id": "uWe4nMu0c5Sp"
      },
      "execution_count": null,
      "outputs": []
    },
    {
      "cell_type": "code",
      "source": [
        "# Merge the GeoDataFrame with df2003_2 on the 'IDDPTO' column using a left join\n",
        "gdf = gdf.merge(df2003_2, on='IDDPTO', how='left')"
      ],
      "metadata": {
        "id": "iKEQR2tDLjK5"
      },
      "execution_count": null,
      "outputs": []
    },
    {
      "cell_type": "code",
      "source": [
        "# Display information about the GeoDataFrame\n",
        "gdf.info()"
      ],
      "metadata": {
        "id": "WV0LbAlmLjK6"
      },
      "execution_count": null,
      "outputs": []
    },
    {
      "cell_type": "code",
      "source": [
        "# Fill missing values in the 'C_2001' column with 0 and convert the column to integer type\n",
        "gdf['C_2003'] = gdf['C_2003'].fillna(0).astype(int)"
      ],
      "metadata": {
        "id": "2-ZdVp-BLjK6"
      },
      "execution_count": null,
      "outputs": []
    },
    {
      "cell_type": "code",
      "source": [
        "# Display information about the GeoDataFrame\n",
        "gdf.info()"
      ],
      "metadata": {
        "id": "-CQFsqL9LjK6"
      },
      "execution_count": null,
      "outputs": []
    },
    {
      "cell_type": "code",
      "source": [
        "# calculate the adjusted mortality rate (100,000 inhabitants)\n",
        "gdf['CA_2003'] = round((gdf['C_2003']/gdf['A_2003'])*100000, 2)"
      ],
      "metadata": {
        "id": "RoOe-k4_LjK6"
      },
      "execution_count": null,
      "outputs": []
    },
    {
      "cell_type": "code",
      "source": [
        "# Display summary statistics for the 'CA_2003' column\n",
        "init_notebook_mode(all_interactive=False)\n",
        "gdf['CA_2003'].describe()"
      ],
      "metadata": {
        "id": "6uKfsUYOc5bt"
      },
      "execution_count": null,
      "outputs": []
    },
    {
      "cell_type": "code",
      "source": [
        "# Save the GeoDataFrame to a shapefile with UTF-8 encoding\n",
        "gdf.to_file(\"pdt/asthma_mortality/data/shp/tma_2001_2022.shp\", encoding='utf-8')"
      ],
      "metadata": {
        "id": "FUFnALI8dqtk"
      },
      "execution_count": null,
      "outputs": []
    },
    {
      "cell_type": "markdown",
      "source": [
        "### 2004"
      ],
      "metadata": {
        "id": "BzSpMgaSdyI8"
      }
    },
    {
      "cell_type": "code",
      "source": [
        "# Read the CSV file into a DataFrame\n",
        "df = pd.read_csv(\"pdt/asthma_mortality/data/csv/def_asma_2001_2022_clean_02.csv\")"
      ],
      "metadata": {
        "id": "rm5XVEJrfC4q"
      },
      "execution_count": null,
      "outputs": []
    },
    {
      "cell_type": "code",
      "source": [
        "# Filter the dataframe to include only rows where the 'ANIO' column equals 2004\n",
        "df2004 = df[df['ANIO'] == 2004]"
      ],
      "metadata": {
        "id": "1VAHRjucfC4r"
      },
      "execution_count": null,
      "outputs": []
    },
    {
      "cell_type": "code",
      "source": [
        "# Display the first few rows of the DataFrame for the year 2004\n",
        "init_notebook_mode(all_interactive=False)\n",
        "df2004.head()"
      ],
      "metadata": {
        "id": "ktOcLClefC4r"
      },
      "execution_count": null,
      "outputs": []
    },
    {
      "cell_type": "code",
      "source": [
        "# Select only the columns 'ANIO', 'IDDPTO', and 'CANTIDAD' from the DataFrame df2004\n",
        "df2004 = df2004[['ANIO', 'IDDPTO', 'CANTIDAD']]"
      ],
      "metadata": {
        "id": "IhO0Lv67fC4s"
      },
      "execution_count": null,
      "outputs": []
    },
    {
      "cell_type": "code",
      "source": [
        "# Display the first few rows of the DataFrame for the year 2004\n",
        "init_notebook_mode(all_interactive=False)\n",
        "df2004.head()"
      ],
      "metadata": {
        "id": "YnMOINRmfC4s"
      },
      "execution_count": null,
      "outputs": []
    },
    {
      "cell_type": "code",
      "source": [
        "# Add a leading zero to IDDPTO if its length is 4 or less, otherwise return it as a string\n",
        "append_zero_IDDPTO = lambda IDDPTO: \"0\" + str(IDDPTO) if len(str(IDDPTO)) <= 4 else str(IDDPTO) # Convert IDDPTO to string before checking the length and in the output"
      ],
      "metadata": {
        "id": "m6Koy7aZfRfc"
      },
      "execution_count": null,
      "outputs": []
    },
    {
      "cell_type": "code",
      "source": [
        "# Apply the append_zero_IDDPTO function to the 'IDDPTO' column of the df2004 DataFrame\n",
        "df2004['IDDPTO'] = df2004['IDDPTO'].apply(append_zero_IDDPTO)"
      ],
      "metadata": {
        "id": "w-nGYSvtfRnM"
      },
      "execution_count": null,
      "outputs": []
    },
    {
      "cell_type": "code",
      "source": [
        "# Display the first few rows of the DataFrame for the year 2004\n",
        "init_notebook_mode(all_interactive=False)\n",
        "df2004.head()"
      ],
      "metadata": {
        "id": "wIgK34teyOwe"
      },
      "execution_count": null,
      "outputs": []
    },
    {
      "cell_type": "code",
      "source": [
        "# Get the number of rows in the DataFrame `df2004`\n",
        "len(df2004)"
      ],
      "metadata": {
        "id": "YAuvTm46fRqQ"
      },
      "execution_count": null,
      "outputs": []
    },
    {
      "cell_type": "code",
      "source": [
        "# Group the dataframe by the 'IDDPTO' column, sum the 'CANTIDAD' values for each group, and reset the index\n",
        "df2004_2 = df2004.groupby('IDDPTO')['CANTIDAD'].sum().reset_index()"
      ],
      "metadata": {
        "id": "ml_3pTBqWw2X"
      },
      "execution_count": null,
      "outputs": []
    },
    {
      "cell_type": "code",
      "source": [
        "# Rename the 'CANTIDAD' column to 'C_2004' in the dataframe df2004_2\n",
        "df2004_2 = df2004_2.rename(columns={'CANTIDAD': 'C_2004'})"
      ],
      "metadata": {
        "id": "E2R1s8mdWw2X"
      },
      "execution_count": null,
      "outputs": []
    },
    {
      "cell_type": "code",
      "source": [
        "# Display the first few rows of the DataFrame for the year 2004\n",
        "init_notebook_mode(all_interactive=False)\n",
        "df2004_2.head()"
      ],
      "metadata": {
        "id": "Vd9xfhWtfRvp"
      },
      "execution_count": null,
      "outputs": []
    },
    {
      "cell_type": "code",
      "source": [
        "# Get the number of rows in the DataFrame df2004_2\n",
        "len(df2004_2)"
      ],
      "metadata": {
        "id": "EVF_dHf6h7ts"
      },
      "execution_count": null,
      "outputs": []
    },
    {
      "cell_type": "code",
      "source": [
        "# Load the shapefile using geopandas\n",
        "gdf = gpd.read_file(\"pdt/asthma_mortality/data/shp/tma_2001_2022.shp\", encoding='utf-8')"
      ],
      "metadata": {
        "id": "tFCAcWG4fRyo"
      },
      "execution_count": null,
      "outputs": []
    },
    {
      "cell_type": "code",
      "source": [
        "# Display the first few rows of the GeoDataFrame\n",
        "init_notebook_mode(all_interactive=True)\n",
        "gdf.head()"
      ],
      "metadata": {
        "id": "F2T9sXS0hZvs"
      },
      "execution_count": null,
      "outputs": []
    },
    {
      "cell_type": "code",
      "source": [
        "# Merge the GeoDataFrame with df2004_2 on the 'IDDPTO' column using a left join\n",
        "gdf = gdf.merge(df2004_2, on='IDDPTO', how='left')"
      ],
      "metadata": {
        "id": "AEpyDXZdWw2Y"
      },
      "execution_count": null,
      "outputs": []
    },
    {
      "cell_type": "code",
      "source": [
        "# Display information about the GeoDataFrame\n",
        "gdf.info()"
      ],
      "metadata": {
        "id": "10x9t_88Ww2Y"
      },
      "execution_count": null,
      "outputs": []
    },
    {
      "cell_type": "code",
      "source": [
        "# Fill missing values in the 'C_2001' column with 0 and convert the column to integer type\n",
        "gdf['C_2004'] = gdf['C_2004'].fillna(0).astype(int)"
      ],
      "metadata": {
        "id": "Bz_ce193Ww2Y"
      },
      "execution_count": null,
      "outputs": []
    },
    {
      "cell_type": "code",
      "source": [
        "# Display information about the GeoDataFrame\n",
        "gdf.info()"
      ],
      "metadata": {
        "id": "DKOlmATlWw2Y"
      },
      "execution_count": null,
      "outputs": []
    },
    {
      "cell_type": "code",
      "source": [
        "# calculate the adjusted mortality rate (100,000 inhabitants)\n",
        "gdf['CA_2004'] = round((gdf['C_2004']/gdf['A_2004'])*100000, 2)"
      ],
      "metadata": {
        "id": "NZILiUHLWw2Z"
      },
      "execution_count": null,
      "outputs": []
    },
    {
      "cell_type": "code",
      "source": [
        "# Display summary statistics for the 'CA_2004' column\n",
        "init_notebook_mode(all_interactive=False)\n",
        "gdf['CA_2004'].describe()"
      ],
      "metadata": {
        "id": "khAl0hM4Ww2Z"
      },
      "execution_count": null,
      "outputs": []
    },
    {
      "cell_type": "code",
      "source": [
        "# Save the GeoDataFrame to a shapefile with UTF-8 encoding\n",
        "gdf.to_file(\"pdt/asthma_mortality/data/shp/tma_2001_2022.shp\", encoding='utf-8')"
      ],
      "metadata": {
        "id": "wGvYUVvrhZ4z"
      },
      "execution_count": null,
      "outputs": []
    },
    {
      "cell_type": "markdown",
      "source": [
        "### 2005"
      ],
      "metadata": {
        "id": "s2pO0ScDkpn3"
      }
    },
    {
      "cell_type": "code",
      "source": [
        "# Read the CSV file into a DataFrame\n",
        "df = pd.read_csv(\"pdt/asthma_mortality/data/csv/def_asma_2001_2022_clean_02.csv\")"
      ],
      "metadata": {
        "id": "pPDC402pkpn4"
      },
      "execution_count": null,
      "outputs": []
    },
    {
      "cell_type": "code",
      "source": [
        "# Filter the dataframe to include only rows where the 'ANIO' column equals 2005\n",
        "df2005 = df[df['ANIO'] == 2005]"
      ],
      "metadata": {
        "id": "dt3djn82kpn4"
      },
      "execution_count": null,
      "outputs": []
    },
    {
      "cell_type": "code",
      "source": [
        "# Display the first few rows of the DataFrame for the year 2005\n",
        "init_notebook_mode(all_interactive=False)\n",
        "df2005.head()"
      ],
      "metadata": {
        "id": "MX9XpPJqkpn4"
      },
      "execution_count": null,
      "outputs": []
    },
    {
      "cell_type": "code",
      "source": [
        "# Select only the columns 'ANIO', 'IDDPTO', and 'CANTIDAD' from the DataFrame df2001\n",
        "df2005 = df2005[['ANIO', 'IDDPTO', 'CANTIDAD']]"
      ],
      "metadata": {
        "id": "xczIsEUDkpn4"
      },
      "execution_count": null,
      "outputs": []
    },
    {
      "cell_type": "code",
      "source": [
        "# Display the first few rows of the DataFrame for the year 2005\n",
        "init_notebook_mode(all_interactive=False)\n",
        "df2005.head()"
      ],
      "metadata": {
        "id": "JSXjUIywkpn4"
      },
      "execution_count": null,
      "outputs": []
    },
    {
      "cell_type": "code",
      "source": [
        "# Add a leading zero to IDDPTO if its length is 4 or less, otherwise return it as a string\n",
        "append_zero_IDDPTO = lambda IDDPTO: \"0\" + str(IDDPTO) if len(str(IDDPTO)) <= 4 else str(IDDPTO) # Convert IDDPTO to string before checking the length and in the output"
      ],
      "metadata": {
        "id": "bRD4tIEMkpn4"
      },
      "execution_count": null,
      "outputs": []
    },
    {
      "cell_type": "code",
      "source": [
        "# Apply the append_zero_IDDPTO function to the 'IDDPTO' column of the df2005 DataFrame\n",
        "df2005['IDDPTO'] = df2005['IDDPTO'].apply(append_zero_IDDPTO)"
      ],
      "metadata": {
        "id": "K5Mh1Y5Tkpn4"
      },
      "execution_count": null,
      "outputs": []
    },
    {
      "cell_type": "code",
      "source": [
        "# Display the first few rows of the DataFrame for the year 2005\n",
        "init_notebook_mode(all_interactive=False)\n",
        "df2005.head()"
      ],
      "metadata": {
        "id": "OHkoCkavdQ0j"
      },
      "execution_count": null,
      "outputs": []
    },
    {
      "cell_type": "code",
      "source": [
        "# Get the number of rows in the DataFrame `df2005`\n",
        "len(df2005)"
      ],
      "metadata": {
        "id": "HBA5tN2jkpn5"
      },
      "execution_count": null,
      "outputs": []
    },
    {
      "cell_type": "code",
      "source": [
        "# Group the dataframe by the 'IDDPTO' column, sum the 'CANTIDAD' values for each group, and reset the index\n",
        "df2005_2 = df2005.groupby('IDDPTO')['CANTIDAD'].sum().reset_index()"
      ],
      "metadata": {
        "id": "vkiFMVpKkpn5"
      },
      "execution_count": null,
      "outputs": []
    },
    {
      "cell_type": "code",
      "source": [
        "# Rename the 'CANTIDAD' column to 'C_2005' in the dataframe df2005_2\n",
        "df2005_2 = df2005_2.rename(columns={'CANTIDAD': 'C_2005'})"
      ],
      "metadata": {
        "id": "khUK5SEjkpn5"
      },
      "execution_count": null,
      "outputs": []
    },
    {
      "cell_type": "code",
      "source": [
        "# Display the first few rows of the DataFrame for the year 2005\n",
        "init_notebook_mode(all_interactive=False)\n",
        "df2005_2.head()"
      ],
      "metadata": {
        "id": "DtWD5yA4kpn5"
      },
      "execution_count": null,
      "outputs": []
    },
    {
      "cell_type": "code",
      "source": [
        "# Get the number of rows in the DataFrame df2005_2\n",
        "len(df2005_2)"
      ],
      "metadata": {
        "id": "Hxzhu2gfkpn5"
      },
      "execution_count": null,
      "outputs": []
    },
    {
      "cell_type": "code",
      "source": [
        "# Load the shapefile using geopandas\n",
        "gdf = gpd.read_file(\"pdt/asthma_mortality/data/shp/tma_2001_2022.shp\", encoding='utf-8')"
      ],
      "metadata": {
        "id": "wSCK7AUYkpn5"
      },
      "execution_count": null,
      "outputs": []
    },
    {
      "cell_type": "code",
      "source": [
        "# Display the first few rows of the GeoDataFrame\n",
        "init_notebook_mode(all_interactive=True)\n",
        "gdf.head()"
      ],
      "metadata": {
        "id": "vRK0hmF3kpn5"
      },
      "execution_count": null,
      "outputs": []
    },
    {
      "cell_type": "code",
      "source": [
        "# Merge the GeoDataFrame with df2005_2 on the 'IDDPTO' column using a left join\n",
        "gdf = gdf.merge(df2005_2, on='IDDPTO', how='left')"
      ],
      "metadata": {
        "id": "xLOT-oOMkpn5"
      },
      "execution_count": null,
      "outputs": []
    },
    {
      "cell_type": "code",
      "source": [
        "# Display information about the GeoDataFrame\n",
        "gdf.info()"
      ],
      "metadata": {
        "id": "1S-ZuAXTkpn5"
      },
      "execution_count": null,
      "outputs": []
    },
    {
      "cell_type": "code",
      "source": [
        "# Fill missing values in the 'C_2005' column with 0 and convert the column to integer type\n",
        "gdf['C_2005'] = gdf['C_2005'].fillna(0).astype(int)"
      ],
      "metadata": {
        "id": "ysZnw-lrkpn6"
      },
      "execution_count": null,
      "outputs": []
    },
    {
      "cell_type": "code",
      "source": [
        "# Display information about the GeoDataFrame\n",
        "gdf.info()"
      ],
      "metadata": {
        "id": "3XYygakQkpn6"
      },
      "execution_count": null,
      "outputs": []
    },
    {
      "cell_type": "code",
      "source": [
        "# calculate the adjusted mortality rate (100,000 inhabitants)\n",
        "gdf['CA_2005'] = round((gdf['C_2005']/gdf['A_2005'])*100000, 2)"
      ],
      "metadata": {
        "id": "oDHFMzbTkpn6"
      },
      "execution_count": null,
      "outputs": []
    },
    {
      "cell_type": "code",
      "source": [
        "# Display summary statistics for the 'CA_2005' column\n",
        "init_notebook_mode(all_interactive=False)\n",
        "gdf['CA_2005'].describe()"
      ],
      "metadata": {
        "id": "5Ih1CZ1zkpn6"
      },
      "execution_count": null,
      "outputs": []
    },
    {
      "cell_type": "code",
      "source": [
        "# Save the GeoDataFrame to a shapefile with UTF-8 encoding\n",
        "gdf.to_file(\"pdt/asthma_mortality/data/shp/tma_2001_2022.shp\", encoding='utf-8')"
      ],
      "metadata": {
        "id": "1uZntQf1kpn6"
      },
      "execution_count": null,
      "outputs": []
    },
    {
      "cell_type": "markdown",
      "source": [
        "### 2006"
      ],
      "metadata": {
        "id": "E-vJDO7xmpKJ"
      }
    },
    {
      "cell_type": "code",
      "source": [
        "# Read the CSV file into a DataFrame\n",
        "df = pd.read_csv(\"pdt/asthma_mortality/data/csv/def_asma_2001_2022_clean_02.csv\")"
      ],
      "metadata": {
        "id": "LdTYpBQCmpKJ"
      },
      "execution_count": null,
      "outputs": []
    },
    {
      "cell_type": "code",
      "source": [
        "# Filter the dataframe to include only rows where the 'ANIO' column equals 2006\n",
        "df2006 = df[df['ANIO'] == 2006]"
      ],
      "metadata": {
        "id": "NAOLzGs6mpKJ"
      },
      "execution_count": null,
      "outputs": []
    },
    {
      "cell_type": "code",
      "source": [
        "# Display the first few rows of the DataFrame for the year 2006\n",
        "init_notebook_mode(all_interactive=False)\n",
        "df2006.head()"
      ],
      "metadata": {
        "id": "rhRIvoOAmpKJ"
      },
      "execution_count": null,
      "outputs": []
    },
    {
      "cell_type": "code",
      "source": [
        "# Select only the columns 'ANIO', 'IDDPTO', and 'CANTIDAD' from the DataFrame df2006\n",
        "df2006 = df2006[['ANIO', 'IDDPTO', 'CANTIDAD']]"
      ],
      "metadata": {
        "id": "wBnZ22gEmpKK"
      },
      "execution_count": null,
      "outputs": []
    },
    {
      "cell_type": "code",
      "source": [
        "# Display the first few rows of the DataFrame for the year 2006\n",
        "init_notebook_mode(all_interactive=False)\n",
        "df2006.head()"
      ],
      "metadata": {
        "id": "Rp8Ulx3hmpKK"
      },
      "execution_count": null,
      "outputs": []
    },
    {
      "cell_type": "code",
      "source": [
        "# Add a leading zero to IDDPTO if its length is 4 or less, otherwise return it as a string\n",
        "append_zero_IDDPTO = lambda IDDPTO: \"0\" + str(IDDPTO) if len(str(IDDPTO)) <= 4 else str(IDDPTO) # Convert IDDPTO to string before checking the length and in the output"
      ],
      "metadata": {
        "id": "J9epwQWDmpKK"
      },
      "execution_count": null,
      "outputs": []
    },
    {
      "cell_type": "code",
      "source": [
        "# Apply the append_zero_IDDPTO function to the 'IDDPTO' column of the df2006 DataFrame\n",
        "df2006['IDDPTO'] = df2006['IDDPTO'].apply(append_zero_IDDPTO)"
      ],
      "metadata": {
        "id": "KxAQmM48mpKK"
      },
      "execution_count": null,
      "outputs": []
    },
    {
      "cell_type": "code",
      "source": [
        "# Display the first few rows of the DataFrame for the year 2006\n",
        "init_notebook_mode(all_interactive=False)\n",
        "df2006.head()"
      ],
      "metadata": {
        "id": "J7JhnPSSfCon"
      },
      "execution_count": null,
      "outputs": []
    },
    {
      "cell_type": "code",
      "source": [
        "# Get the number of rows in the DataFrame `df2006`\n",
        "len(df2006)"
      ],
      "metadata": {
        "id": "dl2MQK6NmpKK"
      },
      "execution_count": null,
      "outputs": []
    },
    {
      "cell_type": "code",
      "source": [
        "# Group the dataframe by the 'IDDPTO' column, sum the 'CANTIDAD' values for each group, and reset the index\n",
        "df2006_2 = df2006.groupby('IDDPTO')['CANTIDAD'].sum().reset_index()"
      ],
      "metadata": {
        "id": "ElnIRWsbmpKK"
      },
      "execution_count": null,
      "outputs": []
    },
    {
      "cell_type": "code",
      "source": [
        "# Rename the 'CANTIDAD' column to 'C_2006' in the dataframe df2006_2\n",
        "df2006_2 = df2006_2.rename(columns={'CANTIDAD': 'C_2006'})"
      ],
      "metadata": {
        "id": "8tqKt3XQmpKK"
      },
      "execution_count": null,
      "outputs": []
    },
    {
      "cell_type": "code",
      "source": [
        "# Display the first few rows of the DataFrame for the year 2006\n",
        "init_notebook_mode(all_interactive=False)\n",
        "df2006_2.head()"
      ],
      "metadata": {
        "id": "nF6-8SAvmpKK"
      },
      "execution_count": null,
      "outputs": []
    },
    {
      "cell_type": "code",
      "source": [
        "# Get the number of rows in the DataFrame df2006_2\n",
        "len(df2006_2)"
      ],
      "metadata": {
        "id": "wCSY5yAEmpKK"
      },
      "execution_count": null,
      "outputs": []
    },
    {
      "cell_type": "code",
      "source": [
        "# Load the shapefile using geopandas\n",
        "gdf = gpd.read_file(\"pdt/asthma_mortality/data/shp/tma_2001_2022.shp\", encoding='utf-8')"
      ],
      "metadata": {
        "id": "ft_kp2nympKL"
      },
      "execution_count": null,
      "outputs": []
    },
    {
      "cell_type": "code",
      "source": [
        "# Display the first few rows of the GeoDataFrame\n",
        "init_notebook_mode(all_interactive=True)\n",
        "gdf.head()"
      ],
      "metadata": {
        "id": "Qf06JdcBmpKL"
      },
      "execution_count": null,
      "outputs": []
    },
    {
      "cell_type": "code",
      "source": [
        "# Merge the GeoDataFrame with df2006_2 on the 'IDDPTO' column using a left join\n",
        "gdf = gdf.merge(df2006_2, on='IDDPTO', how='left')"
      ],
      "metadata": {
        "id": "fSkrs_S1mpKL"
      },
      "execution_count": null,
      "outputs": []
    },
    {
      "cell_type": "code",
      "source": [
        "# Display information about the GeoDataFrame\n",
        "gdf.info()"
      ],
      "metadata": {
        "id": "LSLgDKDPmpKL"
      },
      "execution_count": null,
      "outputs": []
    },
    {
      "cell_type": "code",
      "source": [
        "# Fill missing values in the 'C_2006' column with 0 and convert the column to integer type\n",
        "gdf['C_2006'] = gdf['C_2006'].fillna(0).astype(int)"
      ],
      "metadata": {
        "id": "y9VZEbotmpKL"
      },
      "execution_count": null,
      "outputs": []
    },
    {
      "cell_type": "code",
      "source": [
        "# Display information about the GeoDataFrame\n",
        "gdf.info()"
      ],
      "metadata": {
        "id": "vvKNIv_SmpKL"
      },
      "execution_count": null,
      "outputs": []
    },
    {
      "cell_type": "code",
      "source": [
        "# calculate the adjusted mortality rate (100,000 inhabitants)\n",
        "gdf['CA_2006'] = round((gdf['C_2006']/gdf['A_2006'])*100000, 2)"
      ],
      "metadata": {
        "id": "NYv-DqQNmpKL"
      },
      "execution_count": null,
      "outputs": []
    },
    {
      "cell_type": "code",
      "source": [
        "# Display summary statistics for the 'CA_2006' column\n",
        "init_notebook_mode(all_interactive=False)\n",
        "gdf['CA_2006'].describe()"
      ],
      "metadata": {
        "id": "Gi7pCshrmpKM"
      },
      "execution_count": null,
      "outputs": []
    },
    {
      "cell_type": "code",
      "source": [
        "# Save the GeoDataFrame to a shapefile with UTF-8 encoding\n",
        "gdf.to_file(\"pdt/asthma_mortality/data/shp/tma_2001_2022.shp\", encoding='utf-8')"
      ],
      "metadata": {
        "id": "rqr6Lyq8mpKM"
      },
      "execution_count": null,
      "outputs": []
    },
    {
      "cell_type": "markdown",
      "source": [
        "### 2007"
      ],
      "metadata": {
        "id": "08PgjL26qFRV"
      }
    },
    {
      "cell_type": "code",
      "source": [
        "# Read the CSV file into a DataFrame\n",
        "df = pd.read_csv(\"pdt/asthma_mortality/data/csv/def_asma_2001_2022_clean_02.csv\")"
      ],
      "metadata": {
        "id": "ZE4KX5MRqFRW"
      },
      "execution_count": null,
      "outputs": []
    },
    {
      "cell_type": "code",
      "source": [
        "# Filter the dataframe to include only rows where the 'ANIO' column equals 2007\n",
        "df2007 = df[df['ANIO'] == 2007]"
      ],
      "metadata": {
        "id": "ObXV3S4CqFRW"
      },
      "execution_count": null,
      "outputs": []
    },
    {
      "cell_type": "code",
      "source": [
        "# Display the first few rows of the DataFrame for the year 2007\n",
        "init_notebook_mode(all_interactive=False)\n",
        "df2007.head()"
      ],
      "metadata": {
        "id": "Is_qmy_QqFRW"
      },
      "execution_count": null,
      "outputs": []
    },
    {
      "cell_type": "code",
      "source": [
        "# Select only the columns 'ANIO', 'IDDPTO', and 'CANTIDAD' from the DataFrame df2007\n",
        "df2007 = df2007[['ANIO', 'IDDPTO', 'CANTIDAD']]"
      ],
      "metadata": {
        "id": "-qjIT_ACqFRW"
      },
      "execution_count": null,
      "outputs": []
    },
    {
      "cell_type": "code",
      "source": [
        "# Display the first few rows of the DataFrame for the year 2007\n",
        "init_notebook_mode(all_interactive=False)\n",
        "df2007.head()"
      ],
      "metadata": {
        "id": "tLPN7InkqFRW"
      },
      "execution_count": null,
      "outputs": []
    },
    {
      "cell_type": "code",
      "source": [
        "# Add a leading zero to IDDPTO if its length is 4 or less, otherwise return it as a string\n",
        "append_zero_IDDPTO = lambda IDDPTO: \"0\" + str(IDDPTO) if len(str(IDDPTO)) <= 4 else str(IDDPTO) # Convert IDDPTO to string before checking the length and in the output"
      ],
      "metadata": {
        "id": "F1_gt7xsqFRW"
      },
      "execution_count": null,
      "outputs": []
    },
    {
      "cell_type": "code",
      "source": [
        "# Apply the append_zero_IDDPTO function to the 'IDDPTO' column of the df2007 DataFrame\n",
        "df2007['IDDPTO'] = df2007['IDDPTO'].apply(append_zero_IDDPTO)"
      ],
      "metadata": {
        "id": "fifBsmt1qFRX"
      },
      "execution_count": null,
      "outputs": []
    },
    {
      "cell_type": "code",
      "source": [
        "# Display the first few rows of the DataFrame for the year 2007\n",
        "init_notebook_mode(all_interactive=False)\n",
        "df2007.head()"
      ],
      "metadata": {
        "id": "YgmlPLh1gikF"
      },
      "execution_count": null,
      "outputs": []
    },
    {
      "cell_type": "code",
      "source": [
        "# Get the number of rows in the DataFrame `df2007`\n",
        "len(df2007)"
      ],
      "metadata": {
        "id": "ndNCC91UqFRX"
      },
      "execution_count": null,
      "outputs": []
    },
    {
      "cell_type": "code",
      "source": [
        "# Group the dataframe by the 'IDDPTO' column, sum the 'CANTIDAD' values for each group, and reset the index\n",
        "df2007_2 = df2007.groupby('IDDPTO')['CANTIDAD'].sum().reset_index()"
      ],
      "metadata": {
        "id": "2-87hG64qFRX"
      },
      "execution_count": null,
      "outputs": []
    },
    {
      "cell_type": "code",
      "source": [
        "# Rename the 'CANTIDAD' column to 'C_2007' in the dataframe df2007_2\n",
        "df2007_2 = df2007_2.rename(columns={'CANTIDAD': 'C_2007'})"
      ],
      "metadata": {
        "id": "_oEaVMRQqFRX"
      },
      "execution_count": null,
      "outputs": []
    },
    {
      "cell_type": "code",
      "source": [
        "# Display the first few rows of the DataFrame for the year 2007\n",
        "init_notebook_mode(all_interactive=False)\n",
        "df2007_2.head()"
      ],
      "metadata": {
        "id": "9Zg_VkN3qFRX"
      },
      "execution_count": null,
      "outputs": []
    },
    {
      "cell_type": "code",
      "source": [
        "# Get the number of rows in the DataFrame df2007_2\n",
        "len(df2007_2)"
      ],
      "metadata": {
        "id": "lL6W3osaqFRX"
      },
      "execution_count": null,
      "outputs": []
    },
    {
      "cell_type": "code",
      "source": [
        "# Load the shapefile using geopandas\n",
        "gdf = gpd.read_file(\"pdt/asthma_mortality/data/shp/tma_2001_2022.shp\", encoding='utf-8')"
      ],
      "metadata": {
        "id": "h5I8C4jYqFRX"
      },
      "execution_count": null,
      "outputs": []
    },
    {
      "cell_type": "code",
      "source": [
        "# Display the first few rows of the GeoDataFrame\n",
        "init_notebook_mode(all_interactive=True)\n",
        "gdf.head()"
      ],
      "metadata": {
        "id": "9xU8ckecqFRX"
      },
      "execution_count": null,
      "outputs": []
    },
    {
      "cell_type": "code",
      "source": [
        "# Merge the GeoDataFrame with df2007_2 on the 'IDDPTO' column using a left join\n",
        "gdf = gdf.merge(df2007_2, on='IDDPTO', how='left')"
      ],
      "metadata": {
        "id": "yCiBOF_1qFRX"
      },
      "execution_count": null,
      "outputs": []
    },
    {
      "cell_type": "code",
      "source": [
        "# Display information about the GeoDataFrame\n",
        "gdf.info()"
      ],
      "metadata": {
        "id": "XVfJFUROqFRX"
      },
      "execution_count": null,
      "outputs": []
    },
    {
      "cell_type": "code",
      "source": [
        "# Fill missing values in the 'C_2001' column with 0 and convert the column to integer type\n",
        "gdf['C_2007'] = gdf['C_2007'].fillna(0).astype(int)"
      ],
      "metadata": {
        "id": "QvEjAU4qqFRY"
      },
      "execution_count": null,
      "outputs": []
    },
    {
      "cell_type": "code",
      "source": [
        "# Display information about the GeoDataFrame\n",
        "gdf.info()"
      ],
      "metadata": {
        "id": "N54FvAstqFRY"
      },
      "execution_count": null,
      "outputs": []
    },
    {
      "cell_type": "code",
      "source": [
        "# calculate the adjusted mortality rate (100,000 inhabitants)\n",
        "gdf['CA_2007'] = round((gdf['C_2007']/gdf['A_2007'])*100000, 2)"
      ],
      "metadata": {
        "id": "m8VWaZycqFRY"
      },
      "execution_count": null,
      "outputs": []
    },
    {
      "cell_type": "code",
      "source": [
        "# Display summary statistics for the 'CA_2007' column\n",
        "init_notebook_mode(all_interactive=False)\n",
        "gdf['CA_2007'].describe()"
      ],
      "metadata": {
        "id": "U68wJmZaqFRY"
      },
      "execution_count": null,
      "outputs": []
    },
    {
      "cell_type": "code",
      "source": [
        "# Save the GeoDataFrame to a shapefile with UTF-8 encoding\n",
        "gdf.to_file(\"pdt/asthma_mortality/data/shp/tma_2001_2022.shp\", encoding='utf-8')"
      ],
      "metadata": {
        "id": "uAG0uHdtqFRY"
      },
      "execution_count": null,
      "outputs": []
    },
    {
      "cell_type": "markdown",
      "source": [
        "### 2008"
      ],
      "metadata": {
        "id": "kxaunZkMrKgg"
      }
    },
    {
      "cell_type": "code",
      "source": [
        "# Read the CSV file into a DataFrame\n",
        "df = pd.read_csv(\"pdt/asthma_mortality/data/csv/def_asma_2001_2022_clean_02.csv\")"
      ],
      "metadata": {
        "id": "jRO3xg4trKgg"
      },
      "execution_count": null,
      "outputs": []
    },
    {
      "cell_type": "code",
      "source": [
        "# Filter the dataframe to include only rows where the 'ANIO' column equals 2008\n",
        "df2008 = df[df['ANIO'] == 2008]"
      ],
      "metadata": {
        "id": "Tuc73e2UrKgh"
      },
      "execution_count": null,
      "outputs": []
    },
    {
      "cell_type": "code",
      "source": [
        "# Display the first few rows of the DataFrame for the year 2008\n",
        "init_notebook_mode(all_interactive=False)\n",
        "df2008.head()"
      ],
      "metadata": {
        "id": "eEGYhEOlrKgh"
      },
      "execution_count": null,
      "outputs": []
    },
    {
      "cell_type": "code",
      "source": [
        "# Select only the columns 'ANIO', 'IDDPTO', and 'CANTIDAD' from the DataFrame df2008\n",
        "df2008 = df2008[['ANIO', 'IDDPTO', 'CANTIDAD']]"
      ],
      "metadata": {
        "id": "zVMrsShArKgh"
      },
      "execution_count": null,
      "outputs": []
    },
    {
      "cell_type": "code",
      "source": [
        "# Display the first few rows of the DataFrame for the year 2008\n",
        "init_notebook_mode(all_interactive=False)\n",
        "df2008.head()"
      ],
      "metadata": {
        "id": "nWehzhrbrKgh"
      },
      "execution_count": null,
      "outputs": []
    },
    {
      "cell_type": "code",
      "source": [
        "# Add a leading zero to IDDPTO if its length is 4 or less, otherwise return it as a string\n",
        "append_zero_IDDPTO = lambda IDDPTO: \"0\" + str(IDDPTO) if len(str(IDDPTO)) <= 4 else str(IDDPTO) # Convert IDDPTO to string before checking the length and in the output"
      ],
      "metadata": {
        "id": "NTmJEOhWrKgh"
      },
      "execution_count": null,
      "outputs": []
    },
    {
      "cell_type": "code",
      "source": [
        "# Apply the append_zero_IDDPTO function to the 'IDDPTO' column of the df2008 DataFrame\n",
        "df2008['IDDPTO'] = df2008['IDDPTO'].apply(append_zero_IDDPTO)"
      ],
      "metadata": {
        "id": "xyfaOPRRrKgh"
      },
      "execution_count": null,
      "outputs": []
    },
    {
      "cell_type": "code",
      "source": [
        "# Display the first few rows of the DataFrame for the year 2008\n",
        "init_notebook_mode(all_interactive=False)\n",
        "df2008.head()"
      ],
      "metadata": {
        "id": "E59SAwvzjwEt"
      },
      "execution_count": null,
      "outputs": []
    },
    {
      "cell_type": "code",
      "source": [
        "# Get the number of rows in the DataFrame `df2008`\n",
        "len(df2008)"
      ],
      "metadata": {
        "id": "fcVSU10crKgh"
      },
      "execution_count": null,
      "outputs": []
    },
    {
      "cell_type": "code",
      "source": [
        "# Group the dataframe by the 'IDDPTO' column, sum the 'CANTIDAD' values for each group, and reset the index\n",
        "df2008_2 = df2008.groupby('IDDPTO')['CANTIDAD'].sum().reset_index()"
      ],
      "metadata": {
        "id": "9n3OjNPQrKgh"
      },
      "execution_count": null,
      "outputs": []
    },
    {
      "cell_type": "code",
      "source": [
        "# Rename the 'CANTIDAD' column to 'C_2008' in the dataframe df2008_2\n",
        "df2008_2 = df2008_2.rename(columns={'CANTIDAD': 'C_2008'})"
      ],
      "metadata": {
        "id": "aiCI3Gk6rKgh"
      },
      "execution_count": null,
      "outputs": []
    },
    {
      "cell_type": "code",
      "source": [
        "# Display the first few rows of the DataFrame for the year 2008\n",
        "init_notebook_mode(all_interactive=False)\n",
        "df2008_2.head()"
      ],
      "metadata": {
        "id": "-fH4F-8_rKgi"
      },
      "execution_count": null,
      "outputs": []
    },
    {
      "cell_type": "code",
      "source": [
        "# Get the number of rows in the DataFrame df2008_2\n",
        "len(df2008_2)"
      ],
      "metadata": {
        "id": "FM_ts9czrKgi"
      },
      "execution_count": null,
      "outputs": []
    },
    {
      "cell_type": "code",
      "source": [
        "# Load the shapefile using geopandas\n",
        "gdf = gpd.read_file(\"pdt/asthma_mortality/data/shp/tma_2001_2022.shp\", encoding='utf-8')"
      ],
      "metadata": {
        "id": "91g0yI07rKgi"
      },
      "execution_count": null,
      "outputs": []
    },
    {
      "cell_type": "code",
      "source": [
        "# Display the first few rows of the GeoDataFrame\n",
        "init_notebook_mode(all_interactive=True)\n",
        "gdf.head()"
      ],
      "metadata": {
        "id": "yiPcBgedrKgi"
      },
      "execution_count": null,
      "outputs": []
    },
    {
      "cell_type": "code",
      "source": [
        "# Merge the GeoDataFrame with df2008_2 on the 'IDDPTO' column using a left join\n",
        "gdf = gdf.merge(df2008_2, on='IDDPTO', how='left')"
      ],
      "metadata": {
        "id": "Oy9ye78QrKgi"
      },
      "execution_count": null,
      "outputs": []
    },
    {
      "cell_type": "code",
      "source": [
        "# Display information about the GeoDataFrame\n",
        "gdf.info()"
      ],
      "metadata": {
        "id": "GGbbXPc3rKgi"
      },
      "execution_count": null,
      "outputs": []
    },
    {
      "cell_type": "code",
      "source": [
        "# Fill missing values in the 'C_2008' column with 0 and convert the column to integer type\n",
        "gdf['C_2008'] = gdf['C_2008'].fillna(0).astype(int)"
      ],
      "metadata": {
        "id": "xghmCOsnrKgi"
      },
      "execution_count": null,
      "outputs": []
    },
    {
      "cell_type": "code",
      "source": [
        "# Display information about the GeoDataFrame\n",
        "gdf.info()"
      ],
      "metadata": {
        "id": "vKnDLE1drKgi"
      },
      "execution_count": null,
      "outputs": []
    },
    {
      "cell_type": "code",
      "source": [
        "# calculate the adjusted mortality rate (100,000 inhabitants)\n",
        "gdf['CA_2008'] = round((gdf['C_2008']/gdf['A_2008'])*100000, 2)"
      ],
      "metadata": {
        "id": "MwazQke9rKgi"
      },
      "execution_count": null,
      "outputs": []
    },
    {
      "cell_type": "code",
      "source": [
        "# Display summary statistics for the 'CA_2008' column\n",
        "init_notebook_mode(all_interactive=True)\n",
        "gdf['CA_2008'].describe()"
      ],
      "metadata": {
        "id": "dEcradS7rKgj"
      },
      "execution_count": null,
      "outputs": []
    },
    {
      "cell_type": "code",
      "source": [
        "# Save the GeoDataFrame to a shapefile with UTF-8 encoding\n",
        "gdf.to_file(\"pdt/asthma_mortality/data/shp/tma_2001_2022.shp\", encoding='utf-8')"
      ],
      "metadata": {
        "id": "4L3EZ9iDrKgj"
      },
      "execution_count": null,
      "outputs": []
    },
    {
      "cell_type": "markdown",
      "source": [
        "### 2009"
      ],
      "metadata": {
        "id": "cCDV6Hk7vYnS"
      }
    },
    {
      "cell_type": "code",
      "source": [
        "# Read the CSV file into a DataFrame\n",
        "df = pd.read_csv(\"pdt/asthma_mortality/data/csv/def_asma_2001_2022_clean_02.csv\")"
      ],
      "metadata": {
        "id": "AcVmxHI-vYnS"
      },
      "execution_count": null,
      "outputs": []
    },
    {
      "cell_type": "code",
      "source": [
        "# Filter the dataframe to include only rows where the 'ANIO' column equals 2009\n",
        "df2009 = df[df['ANIO'] == 2009]"
      ],
      "metadata": {
        "id": "o8u0vXouvYnT"
      },
      "execution_count": null,
      "outputs": []
    },
    {
      "cell_type": "code",
      "source": [
        "# Display the first few rows of the DataFrame for the year 2009\n",
        "init_notebook_mode(all_interactive=False)\n",
        "df2009.head()"
      ],
      "metadata": {
        "id": "arK1ERbwvYnT"
      },
      "execution_count": null,
      "outputs": []
    },
    {
      "cell_type": "code",
      "source": [
        "# Select only the columns 'ANIO', 'IDDPTO', and 'CANTIDAD' from the DataFrame df2009\n",
        "df2009 = df2009[['ANIO', 'IDDPTO', 'CANTIDAD']]"
      ],
      "metadata": {
        "id": "SIX_JogfvYnT"
      },
      "execution_count": null,
      "outputs": []
    },
    {
      "cell_type": "code",
      "source": [
        "# Display the first few rows of the DataFrame for the year 2009\n",
        "init_notebook_mode(all_interactive=False)\n",
        "df2009.head()"
      ],
      "metadata": {
        "id": "QblBEC53vYnT"
      },
      "execution_count": null,
      "outputs": []
    },
    {
      "cell_type": "code",
      "source": [
        "# Add a leading zero to IDDPTO if its length is 4 or less, otherwise return it as a string\n",
        "append_zero_IDDPTO = lambda IDDPTO: \"0\" + str(IDDPTO) if len(str(IDDPTO)) <= 4 else str(IDDPTO) # Convert IDDPTO to string before checking the length and in the output"
      ],
      "metadata": {
        "id": "Ba6SA7H_vYnT"
      },
      "execution_count": null,
      "outputs": []
    },
    {
      "cell_type": "code",
      "source": [
        "# Apply the append_zero_IDDPTO function to the 'IDDPTO' column of the df2009 DataFrame\n",
        "df2009['IDDPTO'] = df2009['IDDPTO'].apply(append_zero_IDDPTO)"
      ],
      "metadata": {
        "id": "NQCmV0ckvYnT"
      },
      "execution_count": null,
      "outputs": []
    },
    {
      "cell_type": "code",
      "source": [
        "# Display the first few rows of the DataFrame for the year 2009\n",
        "init_notebook_mode(all_interactive=False)\n",
        "df2009.head()"
      ],
      "metadata": {
        "id": "RLBgL1f-mPL9"
      },
      "execution_count": null,
      "outputs": []
    },
    {
      "cell_type": "code",
      "source": [
        "# Get the number of rows in the DataFrame `df2009`\n",
        "len(df2009)"
      ],
      "metadata": {
        "id": "TF6m5CHTvYnU"
      },
      "execution_count": null,
      "outputs": []
    },
    {
      "cell_type": "code",
      "source": [
        "# Group the dataframe by the 'IDDPTO' column, sum the 'CANTIDAD' values for each group, and reset the index\n",
        "df2009_2 = df2009.groupby('IDDPTO')['CANTIDAD'].sum().reset_index()"
      ],
      "metadata": {
        "id": "nEOKYak9vYnU"
      },
      "execution_count": null,
      "outputs": []
    },
    {
      "cell_type": "code",
      "source": [
        "# Rename the 'CANTIDAD' column to 'C_2009' in the dataframe df2009_2\n",
        "df2009_2 = df2009_2.rename(columns={'CANTIDAD': 'C_2009'})"
      ],
      "metadata": {
        "id": "GfSVBRsBvYnU"
      },
      "execution_count": null,
      "outputs": []
    },
    {
      "cell_type": "code",
      "source": [
        "# Display the first few rows of the DataFrame for the year 2009\n",
        "init_notebook_mode(all_interactive=False)\n",
        "df2009_2.head()"
      ],
      "metadata": {
        "id": "18zoEmb-vYnU"
      },
      "execution_count": null,
      "outputs": []
    },
    {
      "cell_type": "code",
      "source": [
        "\n",
        "\n",
        "# Get the number of rows in the DataFrame df2009_2\n",
        "len(df2009_2)"
      ],
      "metadata": {
        "id": "zECUIgMFvYnU"
      },
      "execution_count": null,
      "outputs": []
    },
    {
      "cell_type": "code",
      "source": [
        "# Load the shapefile using geopandas\n",
        "gdf = gpd.read_file(\"pdt/asthma_mortality/data/shp/tma_2001_2022.shp\", encoding='utf-8')"
      ],
      "metadata": {
        "id": "ZA2fJj0RvYnV"
      },
      "execution_count": null,
      "outputs": []
    },
    {
      "cell_type": "code",
      "source": [
        "# Display the first few rows of the GeoDataFrame\n",
        "init_notebook_mode(all_interactive=True)\n",
        "gdf.head()"
      ],
      "metadata": {
        "id": "0sq2TwxCvYnV"
      },
      "execution_count": null,
      "outputs": []
    },
    {
      "cell_type": "code",
      "source": [
        "# Merge the GeoDataFrame with df2009_2 on the 'IDDPTO' column using a left join\n",
        "gdf = gdf.merge(df2009_2, on='IDDPTO', how='left')"
      ],
      "metadata": {
        "id": "0oWPpdE1vYnV"
      },
      "execution_count": null,
      "outputs": []
    },
    {
      "cell_type": "code",
      "source": [
        "# Display information about the GeoDataFrame\n",
        "gdf.info()"
      ],
      "metadata": {
        "id": "86uyP2mPvYnV"
      },
      "execution_count": null,
      "outputs": []
    },
    {
      "cell_type": "code",
      "source": [
        "# Fill missing values in the 'C_2001' column with 0 and convert the column to integer type\n",
        "gdf['C_2009'] = gdf['C_2009'].fillna(0).astype(int)"
      ],
      "metadata": {
        "id": "0KLDo3F2vYnV"
      },
      "execution_count": null,
      "outputs": []
    },
    {
      "cell_type": "code",
      "source": [
        "# Display information about the GeoDataFrame\n",
        "gdf.info()"
      ],
      "metadata": {
        "id": "W9uyv-eLvYnV"
      },
      "execution_count": null,
      "outputs": []
    },
    {
      "cell_type": "code",
      "source": [
        "# calculate the adjusted mortality rate (100,000 inhabitants)\n",
        "gdf['CA_2009'] = round((gdf['C_2009']/gdf['A_2009'])*100000, 2)"
      ],
      "metadata": {
        "id": "g1ajNkMOvYnW"
      },
      "execution_count": null,
      "outputs": []
    },
    {
      "cell_type": "code",
      "source": [
        "# Display summary statistics for the 'CA_2009' column\n",
        "init_notebook_mode(all_interactive=False)\n",
        "gdf['CA_2009'].describe()"
      ],
      "metadata": {
        "id": "7ZsU3VZlvYnW"
      },
      "execution_count": null,
      "outputs": []
    },
    {
      "cell_type": "code",
      "source": [
        "# Save the GeoDataFrame to a shapefile with UTF-8 encoding\n",
        "gdf.to_file(\"pdt/asthma_mortality/data/shp/tma_2001_2022.shp\", encoding='utf-8')"
      ],
      "metadata": {
        "id": "HwcesYsXvYnW"
      },
      "execution_count": null,
      "outputs": []
    },
    {
      "cell_type": "markdown",
      "source": [
        "### 2010"
      ],
      "metadata": {
        "id": "RxUURvtXxO35"
      }
    },
    {
      "cell_type": "code",
      "source": [
        "# Read the CSV file into a DataFrame\n",
        "df = pd.read_csv(\"pdt/asthma_mortality/data/csv/def_asma_2001_2022_clean_02.csv\")"
      ],
      "metadata": {
        "id": "pgQKfBImxO38"
      },
      "execution_count": null,
      "outputs": []
    },
    {
      "cell_type": "code",
      "source": [
        "# Filter the dataframe to include only rows where the 'ANIO' column equals 2010\n",
        "df2010 = df[df['ANIO'] == 2010]"
      ],
      "metadata": {
        "id": "2upQ69S7xO38"
      },
      "execution_count": null,
      "outputs": []
    },
    {
      "cell_type": "code",
      "source": [
        "# Display the first few rows of the DataFrame for the year 2010\n",
        "init_notebook_mode(all_interactive=False)\n",
        "df2010.head()"
      ],
      "metadata": {
        "id": "qZkxepnfxO38"
      },
      "execution_count": null,
      "outputs": []
    },
    {
      "cell_type": "code",
      "source": [
        "# Select only the columns 'ANIO', 'IDDPTO', and 'CANTIDAD' from the DataFrame df2010\n",
        "df2010 = df2010[['ANIO', 'IDDPTO', 'CANTIDAD']]"
      ],
      "metadata": {
        "id": "vXN4RdsXxO39"
      },
      "execution_count": null,
      "outputs": []
    },
    {
      "cell_type": "code",
      "source": [
        "# Display the first few rows of the DataFrame for the year 2010\n",
        "init_notebook_mode(all_interactive=False)\n",
        "df2010.head()"
      ],
      "metadata": {
        "id": "90WEMd18xO39"
      },
      "execution_count": null,
      "outputs": []
    },
    {
      "cell_type": "code",
      "source": [
        "# Add a leading zero to IDDPTO if its length is 4 or less, otherwise return it as a string\n",
        "append_zero_IDDPTO = lambda IDDPTO: \"0\" + str(IDDPTO) if len(str(IDDPTO)) <= 4 else str(IDDPTO) # Convert IDDPTO to string before checking the length and in the output"
      ],
      "metadata": {
        "id": "9cgWFXstxO39"
      },
      "execution_count": null,
      "outputs": []
    },
    {
      "cell_type": "code",
      "source": [
        "# Apply the append_zero_IDDPTO function to the 'IDDPTO' column of the df2010 DataFrame\n",
        "df2010['IDDPTO'] = df2010['IDDPTO'].apply(append_zero_IDDPTO)"
      ],
      "metadata": {
        "id": "zLhb_thKxO39"
      },
      "execution_count": null,
      "outputs": []
    },
    {
      "cell_type": "code",
      "source": [
        "# Display the first few rows of the DataFrame for the year 2010\n",
        "init_notebook_mode(all_interactive=False)\n",
        "df2010.head()"
      ],
      "metadata": {
        "id": "5_KNRvA7o2QQ"
      },
      "execution_count": null,
      "outputs": []
    },
    {
      "cell_type": "code",
      "source": [
        "# Get the number of rows in the DataFrame `df2010`\n",
        "len(df2010)"
      ],
      "metadata": {
        "id": "tO2NtAG3xO39"
      },
      "execution_count": null,
      "outputs": []
    },
    {
      "cell_type": "code",
      "source": [
        "# Group the dataframe by the 'IDDPTO' column, sum the 'CANTIDAD' values for each group, and reset the index\n",
        "df2010_2 = df2010.groupby('IDDPTO')['CANTIDAD'].sum().reset_index()"
      ],
      "metadata": {
        "id": "M2T40EpExO39"
      },
      "execution_count": null,
      "outputs": []
    },
    {
      "cell_type": "code",
      "source": [
        "# Rename the 'CANTIDAD' column to 'C_2010' in the dataframe df2010_2\n",
        "df2010_2 = df2010_2.rename(columns={'CANTIDAD': 'C_2010'})"
      ],
      "metadata": {
        "id": "hTU9DsOkxO39"
      },
      "execution_count": null,
      "outputs": []
    },
    {
      "cell_type": "code",
      "source": [
        "# Display the first few rows of the DataFrame for the year 2010\n",
        "init_notebook_mode(all_interactive=False)\n",
        "df2010_2.head()"
      ],
      "metadata": {
        "id": "kAV2HoSPxO39"
      },
      "execution_count": null,
      "outputs": []
    },
    {
      "cell_type": "code",
      "source": [
        "# Get the number of rows in the DataFrame df2010_2\n",
        "len(df2010_2)"
      ],
      "metadata": {
        "id": "L4C2kUKjxO39"
      },
      "execution_count": null,
      "outputs": []
    },
    {
      "cell_type": "code",
      "source": [
        "# Load the shapefile using geopandas\n",
        "gdf = gpd.read_file(\"pdt/asthma_mortality/data/shp/tma_2001_2022.shp\", encoding='utf-8')"
      ],
      "metadata": {
        "id": "U8_d5rF5xO3-"
      },
      "execution_count": null,
      "outputs": []
    },
    {
      "cell_type": "code",
      "source": [
        "# Display the first few rows of the GeoDataFrame\n",
        "init_notebook_mode(all_interactive=True)\n",
        "gdf.head()"
      ],
      "metadata": {
        "id": "0_HiFEZ-xO3-"
      },
      "execution_count": null,
      "outputs": []
    },
    {
      "cell_type": "code",
      "source": [
        "# Merge the GeoDataFrame with df2010_2 on the 'IDDPTO' column using a left join\n",
        "gdf = gdf.merge(df2010_2, on='IDDPTO', how='left')"
      ],
      "metadata": {
        "id": "r6dkSBbKxO3-"
      },
      "execution_count": null,
      "outputs": []
    },
    {
      "cell_type": "code",
      "source": [
        "# Display information about the GeoDataFrame\n",
        "gdf.info()"
      ],
      "metadata": {
        "id": "GSQR0IMrxO3-"
      },
      "execution_count": null,
      "outputs": []
    },
    {
      "cell_type": "code",
      "source": [
        "# Fill missing values in the 'C_2010' column with 0 and convert the column to integer type\n",
        "gdf['C_2010'] = gdf['C_2010'].fillna(0).astype(int)"
      ],
      "metadata": {
        "id": "7ODL9pG7xO3-"
      },
      "execution_count": null,
      "outputs": []
    },
    {
      "cell_type": "code",
      "source": [
        "# Display information about the GeoDataFrame\n",
        "gdf.info()"
      ],
      "metadata": {
        "id": "jST1R8DExO3-"
      },
      "execution_count": null,
      "outputs": []
    },
    {
      "cell_type": "code",
      "source": [
        "# calculate the adjusted mortality rate (100,000 inhabitants)\n",
        "gdf['CA_2010'] = round((gdf['C_2010']/gdf['A_2010'])*100000, 2)"
      ],
      "metadata": {
        "id": "FY3h4auZxO3-"
      },
      "execution_count": null,
      "outputs": []
    },
    {
      "cell_type": "code",
      "source": [
        "# Display summary statistics for the 'CA_2010' column\n",
        "init_notebook_mode(all_interactive=False)\n",
        "gdf['CA_2010'].describe()"
      ],
      "metadata": {
        "id": "zFiabVKDxO3-"
      },
      "execution_count": null,
      "outputs": []
    },
    {
      "cell_type": "code",
      "source": [
        "# Save the GeoDataFrame to a shapefile with UTF-8 encoding\n",
        "gdf.to_file(\"pdt/asthma_mortality/data/shp/tma_2001_2022.shp\", encoding='utf-8')"
      ],
      "metadata": {
        "id": "Aq4LVSvSxO3_"
      },
      "execution_count": null,
      "outputs": []
    },
    {
      "cell_type": "markdown",
      "source": [
        "### 2011\n",
        "\n"
      ],
      "metadata": {
        "id": "I-2nmTHsapjJ"
      }
    },
    {
      "cell_type": "code",
      "source": [
        "# Read the CSV file into a DataFrame\n",
        "df = pd.read_csv(\"pdt/asthma_mortality/data/csv/def_asma_2001_2022_clean_02.csv\")"
      ],
      "metadata": {
        "id": "nBPFHPPMapjK"
      },
      "execution_count": null,
      "outputs": []
    },
    {
      "cell_type": "code",
      "source": [
        "# Filter the dataframe to include only rows where the 'ANIO' column equals 2011\n",
        "df2011 = df[df['ANIO'] == 2011]"
      ],
      "metadata": {
        "id": "e-FHep06apjK"
      },
      "execution_count": null,
      "outputs": []
    },
    {
      "cell_type": "code",
      "source": [
        "# Display the first few rows of the DataFrame for the year 2011\n",
        "init_notebook_mode(all_interactive=False)\n",
        "df2011.head()"
      ],
      "metadata": {
        "id": "U5YkM3edapjK"
      },
      "execution_count": null,
      "outputs": []
    },
    {
      "cell_type": "code",
      "source": [
        "# Select only the columns 'ANIO', 'IDDPTO', and 'CANTIDAD' from the DataFrame df2011\n",
        "df2011 = df2011[['ANIO', 'IDDPTO', 'CANTIDAD']]"
      ],
      "metadata": {
        "id": "CHOdVD1J4GZi"
      },
      "execution_count": null,
      "outputs": []
    },
    {
      "cell_type": "code",
      "source": [
        "# Display the first few rows of the DataFrame for the year 2011\n",
        "init_notebook_mode(all_interactive=False)\n",
        "df2011.head()"
      ],
      "metadata": {
        "id": "1vv9A7KY4Jch"
      },
      "execution_count": null,
      "outputs": []
    },
    {
      "cell_type": "code",
      "source": [
        "# Add a leading zero to IDDPTO if its length is 4 or less, otherwise return it as a string\n",
        "append_zero_IDDPTO = lambda IDDPTO: \"0\" + str(IDDPTO) if len(str(IDDPTO)) <= 4 else str(IDDPTO) # Convert IDDPTO to string before checking the length and in the output"
      ],
      "metadata": {
        "id": "PBu3IhhhapjK"
      },
      "execution_count": null,
      "outputs": []
    },
    {
      "cell_type": "code",
      "source": [
        "# Apply the append_zero_IDDPTO function to the 'IDDPTO' column of the df2011 DataFrame\n",
        "df2011['IDDPTO'] = df2011['IDDPTO'].apply(append_zero_IDDPTO)"
      ],
      "metadata": {
        "id": "a8H2NeNtapjK"
      },
      "execution_count": null,
      "outputs": []
    },
    {
      "cell_type": "code",
      "source": [
        "# Display the first few rows of the DataFrame for the year 2011\n",
        "init_notebook_mode(all_interactive=False)\n",
        "df2011.head()"
      ],
      "metadata": {
        "id": "XwbPoQICqxhw"
      },
      "execution_count": null,
      "outputs": []
    },
    {
      "cell_type": "code",
      "source": [
        "# Get the number of rows in the DataFrame `df2011`\n",
        "len(df2011)"
      ],
      "metadata": {
        "id": "imQxmLBzapjK"
      },
      "execution_count": null,
      "outputs": []
    },
    {
      "cell_type": "code",
      "source": [
        "# Find rows where IDDPTO is equal to '06466' in df2011\n",
        "lezama_data = df2011[df2011['IDDPTO'] == '06466']\n",
        "\n",
        "# Print the data for Lezama\n",
        "init_notebook_mode(all_interactive=False)\n",
        "lezama_data\n"
      ],
      "metadata": {
        "id": "Q7jAT4uhbN8n"
      },
      "execution_count": null,
      "outputs": []
    },
    {
      "cell_type": "code",
      "source": [
        "# Change the 'IDDPTO' value from '06466' to '06217'\n",
        "df2011.loc[df2011['IDDPTO'] == '06466', 'IDDPTO'] = '06217'"
      ],
      "metadata": {
        "id": "5SYqxC_ccLLO"
      },
      "execution_count": null,
      "outputs": []
    },
    {
      "cell_type": "code",
      "source": [
        "# Find rows where IDDPTO is equal to '06466' in df2011\n",
        "lezama_data = df2011[df2011['IDDPTO'] == '06466']\n",
        "\n",
        "# Print the data for Lezama\n",
        "init_notebook_mode(all_interactive=False)\n",
        "lezama_data"
      ],
      "metadata": {
        "id": "hmWs_z8RddEp"
      },
      "execution_count": null,
      "outputs": []
    },
    {
      "cell_type": "code",
      "source": [
        "# Group the dataframe by the 'IDDPTO' column, sum the 'CANTIDAD' values for each group, and reset the index\n",
        "df2011_2 = df2011.groupby('IDDPTO')['CANTIDAD'].sum().reset_index()"
      ],
      "metadata": {
        "id": "DjoCJ3Q0apjK"
      },
      "execution_count": null,
      "outputs": []
    },
    {
      "cell_type": "code",
      "source": [
        "# Rename the 'CANTIDAD' column to 'C_2011' in the dataframe df2011_2\n",
        "df2011_2 = df2011_2.rename(columns={'CANTIDAD': 'C_2011'})"
      ],
      "metadata": {
        "id": "U11CIA4iapjK"
      },
      "execution_count": null,
      "outputs": []
    },
    {
      "cell_type": "code",
      "source": [
        "# Display the first few rows of the DataFrame for the year 2011\n",
        "init_notebook_mode(all_interactive=False)\n",
        "df2011_2.head()"
      ],
      "metadata": {
        "id": "50f5XDBNapjK"
      },
      "execution_count": null,
      "outputs": []
    },
    {
      "cell_type": "code",
      "source": [
        "# Get the number of rows in the DataFrame df2011_2\n",
        "len(df2011_2)"
      ],
      "metadata": {
        "id": "wvDYy77mapjL"
      },
      "execution_count": null,
      "outputs": []
    },
    {
      "cell_type": "code",
      "source": [
        "# Load the shapefile using geopandas\n",
        "gdf = gpd.read_file(\"pdt/asthma_mortality/data/shp/tma_2001_2022.shp\", encoding='utf-8')"
      ],
      "metadata": {
        "id": "SSplVYiTapjL"
      },
      "execution_count": null,
      "outputs": []
    },
    {
      "cell_type": "code",
      "source": [
        "# Display the first few rows of the GeoDataFrame\n",
        "init_notebook_mode(all_interactive=True)\n",
        "gdf.head()"
      ],
      "metadata": {
        "id": "1NmumAcDapjL"
      },
      "execution_count": null,
      "outputs": []
    },
    {
      "cell_type": "code",
      "source": [
        "# Merge the GeoDataFrame with df2011_2 on the 'IDDPTO' column using a left join\n",
        "gdf = gdf.merge(df2011_2, on='IDDPTO', how='left')"
      ],
      "metadata": {
        "id": "7iqbsLpUapjL"
      },
      "execution_count": null,
      "outputs": []
    },
    {
      "cell_type": "code",
      "source": [
        "# Display information about the GeoDataFrame\n",
        "gdf.info()"
      ],
      "metadata": {
        "id": "cQCFwaN8apjL"
      },
      "execution_count": null,
      "outputs": []
    },
    {
      "cell_type": "code",
      "source": [
        "# Fill missing values in the 'C_2011' column with 0 and convert the column to integer type\n",
        "gdf['C_2011'] = gdf['C_2011'].fillna(0).astype(int)"
      ],
      "metadata": {
        "id": "FYkreIhQapjL"
      },
      "execution_count": null,
      "outputs": []
    },
    {
      "cell_type": "code",
      "source": [
        "# Display information about the GeoDataFrame\n",
        "gdf.info()"
      ],
      "metadata": {
        "id": "OrMaauoDapjL"
      },
      "execution_count": null,
      "outputs": []
    },
    {
      "cell_type": "code",
      "source": [
        "# calculate the adjusted mortality rate (100,000 inhabitants)\n",
        "gdf['CA_2011'] = round((gdf['C_2011']/gdf['A_2011'])*100000, 2)"
      ],
      "metadata": {
        "id": "FxZTSbjFapjL"
      },
      "execution_count": null,
      "outputs": []
    },
    {
      "cell_type": "code",
      "source": [
        "# Display summary statistics for the 'CA_2011' column\n",
        "init_notebook_mode(all_interactive=True)\n",
        "gdf['CA_2011'].describe()"
      ],
      "metadata": {
        "id": "MyXmEqCOapjM"
      },
      "execution_count": null,
      "outputs": []
    },
    {
      "cell_type": "code",
      "source": [
        "# Save the GeoDataFrame to a shapefile with UTF-8 encoding\n",
        "gdf.to_file(\"pdt/asthma_mortality/data/shp/tma_2001_2022.shp\", encoding='utf-8')"
      ],
      "metadata": {
        "id": "KiQbwplsapjM"
      },
      "execution_count": null,
      "outputs": []
    },
    {
      "cell_type": "markdown",
      "source": [
        "### 2012"
      ],
      "metadata": {
        "id": "7h6wzkLj65b_"
      }
    },
    {
      "cell_type": "code",
      "source": [
        "# Read the CSV file into a DataFrame\n",
        "df = pd.read_csv(\"pdt/asthma_mortality/data/csv/def_asma_2001_2022_clean_02.csv\")"
      ],
      "metadata": {
        "id": "z1ddOBdO65b_"
      },
      "execution_count": null,
      "outputs": []
    },
    {
      "cell_type": "code",
      "source": [
        "# Filter the dataframe to include only rows where the 'ANIO' column equals 2012\n",
        "df2012 = df[df['ANIO'] == 2012]"
      ],
      "metadata": {
        "id": "hvwtYZWA65cA"
      },
      "execution_count": null,
      "outputs": []
    },
    {
      "cell_type": "code",
      "source": [
        "# Display the first few rows of the DataFrame for the year 2012\n",
        "init_notebook_mode(all_interactive=False)\n",
        "df2012.head()"
      ],
      "metadata": {
        "id": "ADsl_qKv65cA"
      },
      "execution_count": null,
      "outputs": []
    },
    {
      "cell_type": "code",
      "source": [
        "# Select only the columns 'ANIO', 'IDDPTO', and 'CANTIDAD' from the DataFrame df2012\n",
        "df2012 = df2012[['ANIO', 'IDDPTO', 'CANTIDAD']]"
      ],
      "metadata": {
        "id": "3f8j2V4V65cA"
      },
      "execution_count": null,
      "outputs": []
    },
    {
      "cell_type": "code",
      "source": [
        "# Display the first few rows of the DataFrame for the year 2012\n",
        "init_notebook_mode(all_interactive=False)\n",
        "df2012.head()"
      ],
      "metadata": {
        "id": "ZKG2xPhz65cA"
      },
      "execution_count": null,
      "outputs": []
    },
    {
      "cell_type": "code",
      "source": [
        "# Add a leading zero to IDDPTO if its length is 4 or less, otherwise return it as a string\n",
        "append_zero_IDDPTO = lambda IDDPTO: \"0\" + str(IDDPTO) if len(str(IDDPTO)) <= 4 else str(IDDPTO) # Convert IDDPTO to string before checking the length and in the output"
      ],
      "metadata": {
        "id": "WJjBNiLW65cA"
      },
      "execution_count": null,
      "outputs": []
    },
    {
      "cell_type": "code",
      "source": [
        "# Apply the append_zero_IDDPTO function to the 'IDDPTO' column of the df2011 DataFrame\n",
        "df2012['IDDPTO'] = df2012['IDDPTO'].apply(append_zero_IDDPTO)"
      ],
      "metadata": {
        "id": "Hq42joCG65cA"
      },
      "execution_count": null,
      "outputs": []
    },
    {
      "cell_type": "code",
      "source": [
        "# Display the first few rows of the DataFrame for the year 2012\n",
        "init_notebook_mode(all_interactive=False)\n",
        "df2012.head()"
      ],
      "metadata": {
        "id": "e8znAA4jsx6p"
      },
      "execution_count": null,
      "outputs": []
    },
    {
      "cell_type": "code",
      "source": [
        "# Get the number of rows in the DataFrame `df2012`\n",
        "len(df2012)"
      ],
      "metadata": {
        "id": "4d4zv-1265cA"
      },
      "execution_count": null,
      "outputs": []
    },
    {
      "cell_type": "code",
      "source": [
        "# Group the dataframe by the 'IDDPTO' column, sum the 'CANTIDAD' values for each group, and reset the index\n",
        "df2012_2 = df2012.groupby('IDDPTO')['CANTIDAD'].sum().reset_index()"
      ],
      "metadata": {
        "id": "7KCkV12L65cB"
      },
      "execution_count": null,
      "outputs": []
    },
    {
      "cell_type": "code",
      "source": [
        "# Rename the 'CANTIDAD' column to 'C_2012' in the dataframe df2012_2\n",
        "df2012_2 = df2012_2.rename(columns={'CANTIDAD': 'C_2012'})"
      ],
      "metadata": {
        "id": "Mgq7_VcM65cB"
      },
      "execution_count": null,
      "outputs": []
    },
    {
      "cell_type": "code",
      "source": [
        "# Display the first few rows of the DataFrame for the year 2012\n",
        "init_notebook_mode(all_interactive=False)\n",
        "df2012_2.head()"
      ],
      "metadata": {
        "id": "JPr3pPrK65cB"
      },
      "execution_count": null,
      "outputs": []
    },
    {
      "cell_type": "code",
      "source": [
        "# Get the number of rows in the DataFrame df2012_2\n",
        "len(df2012_2)"
      ],
      "metadata": {
        "id": "FVdaRZ6Y65cB"
      },
      "execution_count": null,
      "outputs": []
    },
    {
      "cell_type": "code",
      "source": [
        "# Load the shapefile using geopandas\n",
        "gdf = gpd.read_file(\"pdt/asthma_mortality/data/shp/tma_2001_2022.shp\", encoding='utf-8')"
      ],
      "metadata": {
        "id": "Ktz8mzSc65cB"
      },
      "execution_count": null,
      "outputs": []
    },
    {
      "cell_type": "code",
      "source": [
        "# Display the first few rows of the GeoDataFrame\n",
        "init_notebook_mode(all_interactive=True)\n",
        "gdf.head()"
      ],
      "metadata": {
        "id": "mLO6w_qI65cB"
      },
      "execution_count": null,
      "outputs": []
    },
    {
      "cell_type": "code",
      "source": [
        "# Merge the GeoDataFrame with df2012_2 on the 'IDDPTO' column using a left join\n",
        "gdf = gdf.merge(df2012_2, on='IDDPTO', how='left')"
      ],
      "metadata": {
        "id": "4rSTHYkh65cB"
      },
      "execution_count": null,
      "outputs": []
    },
    {
      "cell_type": "code",
      "source": [
        "# Display information about the GeoDataFrame\n",
        "gdf.info()"
      ],
      "metadata": {
        "id": "eYhGycRV65cB"
      },
      "execution_count": null,
      "outputs": []
    },
    {
      "cell_type": "code",
      "source": [
        "# Fill missing values in the 'C_2012' column with 0 and convert the column to integer type\n",
        "gdf['C_2012'] = gdf['C_2012'].fillna(0).astype(int)"
      ],
      "metadata": {
        "id": "LA-CgsGm65cC"
      },
      "execution_count": null,
      "outputs": []
    },
    {
      "cell_type": "code",
      "source": [
        "# Display information about the GeoDataFrame\n",
        "gdf.info()"
      ],
      "metadata": {
        "id": "9hjsRLpR65cC"
      },
      "execution_count": null,
      "outputs": []
    },
    {
      "cell_type": "code",
      "source": [
        "# calculate the adjusted mortality rate (100,000 inhabitants)\n",
        "gdf['CA_2012'] = round((gdf['C_2012']/gdf['A_2012'])*100000, 2)"
      ],
      "metadata": {
        "id": "kK3zV6z665cC"
      },
      "execution_count": null,
      "outputs": []
    },
    {
      "cell_type": "code",
      "source": [
        "# Display summary statistics for the 'CA_2012' column\n",
        "init_notebook_mode(all_interactive=False)\n",
        "gdf['CA_2012'].describe()"
      ],
      "metadata": {
        "id": "k_1h6MO065cC"
      },
      "execution_count": null,
      "outputs": []
    },
    {
      "cell_type": "code",
      "source": [
        "# Save the GeoDataFrame to a shapefile with UTF-8 encoding\n",
        "gdf.to_file(\"pdt/asthma_mortality/data/shp/tma_2001_2022.shp\", encoding='utf-8')"
      ],
      "metadata": {
        "id": "k4cuKGR865cC"
      },
      "execution_count": null,
      "outputs": []
    },
    {
      "cell_type": "markdown",
      "source": [
        "### 2013"
      ],
      "metadata": {
        "id": "XB6_YGJ18sy8"
      }
    },
    {
      "cell_type": "code",
      "source": [
        "# Read the CSV file into a DataFrame\n",
        "df = pd.read_csv(\"pdt/asthma_mortality/data/csv/def_asma_2001_2022_clean_02.csv\")"
      ],
      "metadata": {
        "id": "tlYk0b8a8sy8"
      },
      "execution_count": null,
      "outputs": []
    },
    {
      "cell_type": "code",
      "source": [
        "# Filter the dataframe to include only rows where the 'ANIO' column equals 2013\n",
        "df2013 = df[df['ANIO'] == 2013]"
      ],
      "metadata": {
        "id": "HVMSzOJc8sy8"
      },
      "execution_count": null,
      "outputs": []
    },
    {
      "cell_type": "code",
      "source": [
        "# Display the first few rows of the DataFrame for the year 2013\n",
        "init_notebook_mode(all_interactive=False)\n",
        "df2013.head()"
      ],
      "metadata": {
        "id": "6FMck8lB8sy8"
      },
      "execution_count": null,
      "outputs": []
    },
    {
      "cell_type": "code",
      "source": [
        "# Select only the columns 'ANIO', 'IDDPTO', and 'CANTIDAD' from the DataFrame df2013\n",
        "df2013 = df2013[['ANIO', 'IDDPTO', 'CANTIDAD']]"
      ],
      "metadata": {
        "id": "6xR_Mt9F8sy9"
      },
      "execution_count": null,
      "outputs": []
    },
    {
      "cell_type": "code",
      "source": [
        "# Display the first few rows of the DataFrame for the year 2013\n",
        "init_notebook_mode(all_interactive=False)\n",
        "df2013.head()"
      ],
      "metadata": {
        "id": "x67aboFn8sy9"
      },
      "execution_count": null,
      "outputs": []
    },
    {
      "cell_type": "code",
      "source": [
        "# Add a leading zero to IDDPTO if its length is 4 or less, otherwise return it as a string\n",
        "append_zero_IDDPTO = lambda IDDPTO: \"0\" + str(IDDPTO) if len(str(IDDPTO)) <= 4 else str(IDDPTO) # Convert IDDPTO to string before checking the length and in the output"
      ],
      "metadata": {
        "id": "_3NPACXy8sy9"
      },
      "execution_count": null,
      "outputs": []
    },
    {
      "cell_type": "code",
      "source": [
        "# Apply the append_zero_IDDPTO function to the 'IDDPTO' column of the df2001 DataFrame\n",
        "df2013['IDDPTO'] = df2013['IDDPTO'].apply(append_zero_IDDPTO)"
      ],
      "metadata": {
        "id": "9ALA22z38sy9"
      },
      "execution_count": null,
      "outputs": []
    },
    {
      "cell_type": "code",
      "source": [
        "# Display the first few rows of the DataFrame for the year 2013\n",
        "init_notebook_mode(all_interactive=False)\n",
        "df2013.head()"
      ],
      "metadata": {
        "id": "Pe1ANgupuM7x"
      },
      "execution_count": null,
      "outputs": []
    },
    {
      "cell_type": "code",
      "source": [
        "# Get the number of rows in the DataFrame `df2013`\n",
        "len(df2013)"
      ],
      "metadata": {
        "id": "_j3r9k738sy9"
      },
      "execution_count": null,
      "outputs": []
    },
    {
      "cell_type": "code",
      "source": [
        "# Group the dataframe by the 'IDDPTO' column, sum the 'CANTIDAD' values for each group, and reset the index\n",
        "df2013_2 = df2013.groupby('IDDPTO')['CANTIDAD'].sum().reset_index()"
      ],
      "metadata": {
        "id": "MusPSYHl8sy9"
      },
      "execution_count": null,
      "outputs": []
    },
    {
      "cell_type": "code",
      "source": [
        "# Rename the 'CANTIDAD' column to 'C_2013' in the dataframe df2013_2\n",
        "df2013_2 = df2013_2.rename(columns={'CANTIDAD': 'C_2013'})"
      ],
      "metadata": {
        "id": "dn0ZyYeN8sy9"
      },
      "execution_count": null,
      "outputs": []
    },
    {
      "cell_type": "code",
      "source": [
        "# Display the first few rows of the DataFrame for the year 2013\n",
        "init_notebook_mode(all_interactive=False)\n",
        "df2013_2.head()"
      ],
      "metadata": {
        "id": "1PgIUrFs8sy-"
      },
      "execution_count": null,
      "outputs": []
    },
    {
      "cell_type": "code",
      "source": [
        "# Get the number of rows in the DataFrame df2013_2\n",
        "len(df2013_2)"
      ],
      "metadata": {
        "id": "eN_fOS0F8sy-"
      },
      "execution_count": null,
      "outputs": []
    },
    {
      "cell_type": "code",
      "source": [
        "# Load the shapefile using geopandas\n",
        "gdf = gpd.read_file(\"pdt/asthma_mortality/data/shp/tma_2001_2022.shp\", encoding='utf-8')"
      ],
      "metadata": {
        "id": "wZgFThXX8sy-"
      },
      "execution_count": null,
      "outputs": []
    },
    {
      "cell_type": "code",
      "source": [
        "# Display the first few rows of the GeoDataFrame\n",
        "init_notebook_mode(all_interactive=True)\n",
        "gdf.head()"
      ],
      "metadata": {
        "id": "2lCZds1j8sy-"
      },
      "execution_count": null,
      "outputs": []
    },
    {
      "cell_type": "code",
      "source": [
        "# Merge the GeoDataFrame with df2013_2 on the 'IDDPTO' column using a left join\n",
        "gdf = gdf.merge(df2013_2, on='IDDPTO', how='left')"
      ],
      "metadata": {
        "id": "DC5qFO0_8sy-"
      },
      "execution_count": null,
      "outputs": []
    },
    {
      "cell_type": "code",
      "source": [
        "# Display information about the GeoDataFrame\n",
        "gdf.info()"
      ],
      "metadata": {
        "id": "LJlgxPsY8sy-"
      },
      "execution_count": null,
      "outputs": []
    },
    {
      "cell_type": "code",
      "source": [
        "# Fill missing values in the 'C_2013' column with 0 and convert the column to integer type\n",
        "gdf['C_2013'] = gdf['C_2013'].fillna(0).astype(int)"
      ],
      "metadata": {
        "id": "eveEkcwN8sy-"
      },
      "execution_count": null,
      "outputs": []
    },
    {
      "cell_type": "code",
      "source": [
        "# Display information about the GeoDataFrame\n",
        "gdf.info()"
      ],
      "metadata": {
        "id": "76nLwIqe8sy-"
      },
      "execution_count": null,
      "outputs": []
    },
    {
      "cell_type": "code",
      "source": [
        "# calculate the adjusted mortality rate (100,000 inhabitants)\n",
        "gdf['CA_2013'] = round((gdf['C_2013']/gdf['A_2013'])*100000, 2)"
      ],
      "metadata": {
        "id": "gxRWy3ES8sy_"
      },
      "execution_count": null,
      "outputs": []
    },
    {
      "cell_type": "code",
      "source": [
        "# Display summary statistics for the 'CA_2013' column\n",
        "init_notebook_mode(all_interactive=True)\n",
        "gdf['CA_2013'].describe()"
      ],
      "metadata": {
        "id": "2H6mu1M58sy_"
      },
      "execution_count": null,
      "outputs": []
    },
    {
      "cell_type": "code",
      "source": [
        "# Save the GeoDataFrame to a shapefile with UTF-8 encoding\n",
        "gdf.to_file(\"pdt/asthma_mortality/data/shp/tma_2001_2022.shp\", encoding='utf-8')"
      ],
      "metadata": {
        "id": "6qO8Kzyy8sy_"
      },
      "execution_count": null,
      "outputs": []
    },
    {
      "cell_type": "markdown",
      "source": [
        "### 2014"
      ],
      "metadata": {
        "id": "g2G6qiHBe1ek"
      }
    },
    {
      "cell_type": "code",
      "source": [
        "# Read the CSV file into a DataFrame\n",
        "df = pd.read_csv(\"pdt/asthma_mortality/data/csv/def_asma_2001_2022_clean_02.csv\")"
      ],
      "metadata": {
        "id": "qCJqcW9Te1ek"
      },
      "execution_count": null,
      "outputs": []
    },
    {
      "cell_type": "code",
      "source": [
        "# Filter the dataframe to include only rows where the 'ANIO' column equals 2014\n",
        "df2014 = df[df['ANIO'] == 2014]"
      ],
      "metadata": {
        "id": "j9lzU_Wqe1el"
      },
      "execution_count": null,
      "outputs": []
    },
    {
      "cell_type": "code",
      "source": [
        "# Display the first few rows of the DataFrame for the year 2014\n",
        "init_notebook_mode(all_interactive=False)\n",
        "df2014.head()"
      ],
      "metadata": {
        "id": "b4zlhq4se1el"
      },
      "execution_count": null,
      "outputs": []
    },
    {
      "cell_type": "code",
      "source": [
        "# Select only the columns 'ANIO', 'IDDPTO', and 'CANTIDAD' from the DataFrame df2014\n",
        "df2014 = df2014[['ANIO', 'IDDPTO', 'CANTIDAD']]"
      ],
      "metadata": {
        "id": "ivJPEfTEwVNC"
      },
      "execution_count": null,
      "outputs": []
    },
    {
      "cell_type": "code",
      "source": [
        "# Display the first few rows of the DataFrame for the year 2014\n",
        "init_notebook_mode(all_interactive=False)\n",
        "df2014.head()"
      ],
      "metadata": {
        "id": "hsWHpnAcwbaa"
      },
      "execution_count": null,
      "outputs": []
    },
    {
      "cell_type": "code",
      "source": [
        "# Add a leading zero to IDDPTO if its length is 4 or less, otherwise return it as a string\n",
        "append_zero_IDDPTO = lambda IDDPTO: \"0\" + str(IDDPTO) if len(str(IDDPTO)) <= 4 else str(IDDPTO) # Convert IDDPTO to string before checking the length and in the output"
      ],
      "metadata": {
        "id": "ao4P0TPGe1el"
      },
      "execution_count": null,
      "outputs": []
    },
    {
      "cell_type": "code",
      "source": [
        "# Apply the append_zero_IDDPTO function to the 'IDDPTO' column of the df2014 DataFrame\n",
        "df2014['IDDPTO'] = df2014['IDDPTO'].apply(append_zero_IDDPTO)"
      ],
      "metadata": {
        "id": "tXM8WO42e1el"
      },
      "execution_count": null,
      "outputs": []
    },
    {
      "cell_type": "code",
      "source": [
        "# Display the first few rows of the DataFrame for the year 2014\n",
        "init_notebook_mode(all_interactive=False)\n",
        "df2014.head()"
      ],
      "metadata": {
        "id": "dRJq9Uifwo-v"
      },
      "execution_count": null,
      "outputs": []
    },
    {
      "cell_type": "code",
      "source": [
        "# Get the number of rows in the DataFrame `df2014`\n",
        "len(df2014)"
      ],
      "metadata": {
        "id": "XbYEXl3we1el"
      },
      "execution_count": null,
      "outputs": []
    },
    {
      "cell_type": "code",
      "source": [
        "# Find rows where IDDPTO is equal to '06218'\n",
        "chascomus_data = df2014[df2014['IDDPTO'] == '06218']\n",
        "\n",
        "# Print the data\n",
        "init_notebook_mode(all_interactive=False)\n",
        "chascomus_data\n"
      ],
      "metadata": {
        "id": "M6N6x7L7gReG"
      },
      "execution_count": null,
      "outputs": []
    },
    {
      "cell_type": "code",
      "source": [
        "# Change the 'IDDPTO' value from '06218' to '06217'\n",
        "df2014.loc[df2014['IDDPTO'] == '06218', 'IDDPTO'] = '06217'"
      ],
      "metadata": {
        "id": "dS5LbDGogReH"
      },
      "execution_count": null,
      "outputs": []
    },
    {
      "cell_type": "code",
      "source": [
        "# Find rows where IDDPTO is equal to '06218'\n",
        "chascomus_data = df2014[df2014['IDDPTO'] == '06218']\n",
        "\n",
        "# Print the data\n",
        "init_notebook_mode(all_interactive=False)\n",
        "chascomus_data"
      ],
      "metadata": {
        "id": "CpXrktgDgReH"
      },
      "execution_count": null,
      "outputs": []
    },
    {
      "cell_type": "code",
      "source": [
        "# Group the dataframe by the 'IDDPTO' column, sum the 'CANTIDAD' values for each group, and reset the index\n",
        "df2014_2 = df2014.groupby('IDDPTO')['CANTIDAD'].sum().reset_index()"
      ],
      "metadata": {
        "id": "m_lfuPcye1el"
      },
      "execution_count": null,
      "outputs": []
    },
    {
      "cell_type": "code",
      "source": [
        "# Rename the 'CANTIDAD' column to 'C_2014' in the dataframe df2014_2\n",
        "df2014_2 = df2014_2.rename(columns={'CANTIDAD': 'C_2014'})"
      ],
      "metadata": {
        "id": "jHo_HYSwe1el"
      },
      "execution_count": null,
      "outputs": []
    },
    {
      "cell_type": "code",
      "source": [
        "# Display the first few rows of the DataFrame for the year 2014\n",
        "init_notebook_mode(all_interactive=False)\n",
        "df2014_2.head()"
      ],
      "metadata": {
        "id": "Ov8VvOO7e1el"
      },
      "execution_count": null,
      "outputs": []
    },
    {
      "cell_type": "code",
      "source": [
        "# Get the number of rows in the DataFrame df2014_2\n",
        "len(df2014_2)"
      ],
      "metadata": {
        "id": "5d9ZuZoLe1el"
      },
      "execution_count": null,
      "outputs": []
    },
    {
      "cell_type": "code",
      "source": [
        "# Load the shapefile using geopandas\n",
        "gdf = gpd.read_file(\"pdt/asthma_mortality/data/shp/tma_2001_2022.shp\", encoding='utf-8')"
      ],
      "metadata": {
        "id": "4jtlxSBKe1em"
      },
      "execution_count": null,
      "outputs": []
    },
    {
      "cell_type": "code",
      "source": [
        "# Display the first few rows of the GeoDataFrame\n",
        "init_notebook_mode(all_interactive=True)\n",
        "gdf.head()"
      ],
      "metadata": {
        "id": "eYAUd2sYe1em"
      },
      "execution_count": null,
      "outputs": []
    },
    {
      "cell_type": "code",
      "source": [
        "# Merge the GeoDataFrame with df2014_2 on the 'IDDPTO' column using a left join\n",
        "gdf = gdf.merge(df2014_2, on='IDDPTO', how='left')"
      ],
      "metadata": {
        "id": "t7hSEyLHe1em"
      },
      "execution_count": null,
      "outputs": []
    },
    {
      "cell_type": "code",
      "source": [
        "# Display information about the GeoDataFrame\n",
        "gdf.info()"
      ],
      "metadata": {
        "id": "uj1dJiKye1em"
      },
      "execution_count": null,
      "outputs": []
    },
    {
      "cell_type": "code",
      "source": [
        "# Fill missing values in the 'C_2014' column with 0 and convert the column to integer type\n",
        "gdf['C_2014'] = gdf['C_2014'].fillna(0).astype(int)"
      ],
      "metadata": {
        "id": "G1jParAIe1em"
      },
      "execution_count": null,
      "outputs": []
    },
    {
      "cell_type": "code",
      "source": [
        "# Display information about the GeoDataFrame\n",
        "gdf.info()"
      ],
      "metadata": {
        "id": "-C7Y867Ze1em"
      },
      "execution_count": null,
      "outputs": []
    },
    {
      "cell_type": "code",
      "source": [
        "# calculate the adjusted mortality rate (100,000 inhabitants)\n",
        "gdf['CA_2014'] = round((gdf['C_2014']/gdf['A_2014'])*100000, 2)"
      ],
      "metadata": {
        "id": "aCHK8OaEe1em"
      },
      "execution_count": null,
      "outputs": []
    },
    {
      "cell_type": "code",
      "source": [
        "# Display summary statistics for the 'CA_2014' column\n",
        "init_notebook_mode(all_interactive=False)\n",
        "gdf['CA_2014'].describe()"
      ],
      "metadata": {
        "id": "FyR8vT2Qe1em"
      },
      "execution_count": null,
      "outputs": []
    },
    {
      "cell_type": "code",
      "source": [
        "# Save the GeoDataFrame to a shapefile with UTF-8 encoding\n",
        "gdf.to_file(\"pdt/asthma_mortality/data/shp/tma_2001_2022.shp\", encoding='utf-8')"
      ],
      "metadata": {
        "id": "bBGnM2fie1en"
      },
      "execution_count": null,
      "outputs": []
    },
    {
      "cell_type": "markdown",
      "source": [
        "### 2015"
      ],
      "metadata": {
        "id": "f0lIOBwAAQ3O"
      }
    },
    {
      "cell_type": "code",
      "source": [
        "# Read the CSV file into a DataFrame\n",
        "df = pd.read_csv(\"pdt/asthma_mortality/data/csv/def_asma_2001_2022_clean_02.csv\")"
      ],
      "metadata": {
        "id": "LEvDGpcfAQ3O"
      },
      "execution_count": null,
      "outputs": []
    },
    {
      "cell_type": "code",
      "source": [
        "# Filter the dataframe to include only rows where the 'ANIO' column equals 2015\n",
        "df2015 = df[df['ANIO'] == 2015]"
      ],
      "metadata": {
        "id": "s4uaQ320AQ3P"
      },
      "execution_count": null,
      "outputs": []
    },
    {
      "cell_type": "code",
      "source": [
        "# Display the first few rows of the DataFrame for the year 2015\n",
        "init_notebook_mode(all_interactive=False)\n",
        "df2015.head()"
      ],
      "metadata": {
        "id": "AegU0g5FAQ3P"
      },
      "execution_count": null,
      "outputs": []
    },
    {
      "cell_type": "code",
      "source": [
        "# Select only the columns 'ANIO', 'IDDPTO', and 'CANTIDAD' from the DataFrame df2015\n",
        "df2015 = df2015[['ANIO', 'IDDPTO', 'CANTIDAD']]"
      ],
      "metadata": {
        "id": "ftutucmFAQ3P"
      },
      "execution_count": null,
      "outputs": []
    },
    {
      "cell_type": "code",
      "source": [
        "# Display the first few rows of the DataFrame for the year 2015\n",
        "init_notebook_mode(all_interactive=False)\n",
        "df2015.head()"
      ],
      "metadata": {
        "id": "vwa1VU2kAQ3P"
      },
      "execution_count": null,
      "outputs": []
    },
    {
      "cell_type": "code",
      "source": [
        "# Add a leading zero to IDDPTO if its length is 4 or less, otherwise return it as a string\n",
        "append_zero_IDDPTO = lambda IDDPTO: \"0\" + str(IDDPTO) if len(str(IDDPTO)) <= 4 else str(IDDPTO) # Convert IDDPTO to string before checking the length and in the output"
      ],
      "metadata": {
        "id": "xXY54TiiAQ3P"
      },
      "execution_count": null,
      "outputs": []
    },
    {
      "cell_type": "code",
      "source": [
        "# Apply the append_zero_IDDPTO function to the 'IDDPTO' column of the df2015 DataFrame\n",
        "df2015['IDDPTO'] = df2015['IDDPTO'].apply(append_zero_IDDPTO)"
      ],
      "metadata": {
        "id": "ixpdEENAAQ3P"
      },
      "execution_count": null,
      "outputs": []
    },
    {
      "cell_type": "code",
      "source": [
        "# Display the first few rows of the DataFrame for the year 2015\n",
        "init_notebook_mode(all_interactive=False)\n",
        "df2015.head()"
      ],
      "metadata": {
        "id": "JWyOuECq0qyR"
      },
      "execution_count": null,
      "outputs": []
    },
    {
      "cell_type": "code",
      "source": [
        "# Get the number of rows in the DataFrame `df2015`\n",
        "len(df2015)"
      ],
      "metadata": {
        "id": "mEItMJQ8AQ3P"
      },
      "execution_count": null,
      "outputs": []
    },
    {
      "cell_type": "code",
      "source": [
        "# Group the dataframe by the 'IDDPTO' column, sum the 'CANTIDAD' values for each group, and reset the index\n",
        "df2015_2 = df2015.groupby('IDDPTO')['CANTIDAD'].sum().reset_index()"
      ],
      "metadata": {
        "id": "m5MRQMhTAQ3P"
      },
      "execution_count": null,
      "outputs": []
    },
    {
      "cell_type": "code",
      "source": [
        "# Rename the 'CANTIDAD' column to 'C_2015' in the dataframe df2015_2\n",
        "df2015_2 = df2015_2.rename(columns={'CANTIDAD': 'C_2015'})"
      ],
      "metadata": {
        "id": "N7TwQ3PeAQ3Q"
      },
      "execution_count": null,
      "outputs": []
    },
    {
      "cell_type": "code",
      "source": [
        "# Display the first few rows of the DataFrame for the year 2015\n",
        "init_notebook_mode(all_interactive=False)\n",
        "df2015_2.head()"
      ],
      "metadata": {
        "id": "f6MUOFY3AQ3Q"
      },
      "execution_count": null,
      "outputs": []
    },
    {
      "cell_type": "code",
      "source": [
        "# Get the number of rows in the DataFrame df2015_2\n",
        "len(df2015_2)"
      ],
      "metadata": {
        "id": "uwQISUQ4AQ3Q"
      },
      "execution_count": null,
      "outputs": []
    },
    {
      "cell_type": "code",
      "source": [
        "# Load the shapefile using geopandas\n",
        "gdf = gpd.read_file(\"pdt/asthma_mortality/data/shp/tma_2001_2022.shp\", encoding='utf-8')"
      ],
      "metadata": {
        "id": "ku7JJHHwAQ3Q"
      },
      "execution_count": null,
      "outputs": []
    },
    {
      "cell_type": "code",
      "source": [
        "# Display the first few rows of the GeoDataFrame\n",
        "init_notebook_mode(all_interactive=True)\n",
        "gdf.head()"
      ],
      "metadata": {
        "id": "LFTUDfkbAQ3Q"
      },
      "execution_count": null,
      "outputs": []
    },
    {
      "cell_type": "code",
      "source": [
        "# Merge the GeoDataFrame with df2015_2 on the 'IDDPTO' column using a left join\n",
        "gdf = gdf.merge(df2015_2, on='IDDPTO', how='left')"
      ],
      "metadata": {
        "id": "aIBDbIREAQ3Q"
      },
      "execution_count": null,
      "outputs": []
    },
    {
      "cell_type": "code",
      "source": [
        "# Display information about the GeoDataFrame\n",
        "gdf.info()"
      ],
      "metadata": {
        "id": "-O4BUIBGAQ3Q"
      },
      "execution_count": null,
      "outputs": []
    },
    {
      "cell_type": "code",
      "source": [
        "# Fill missing values in the 'C_2015' column with 0 and convert the column to integer type\n",
        "gdf['C_2015'] = gdf['C_2015'].fillna(0).astype(int)"
      ],
      "metadata": {
        "id": "w4mkCY0eAQ3Q"
      },
      "execution_count": null,
      "outputs": []
    },
    {
      "cell_type": "code",
      "source": [
        "# Display information about the GeoDataFrame\n",
        "gdf.info()"
      ],
      "metadata": {
        "id": "TSn3uEgpAQ3Q"
      },
      "execution_count": null,
      "outputs": []
    },
    {
      "cell_type": "code",
      "source": [
        "# calculate the adjusted mortality rate (100,000 inhabitants)\n",
        "gdf['CA_2015'] = round((gdf['C_2015']/gdf['A_2015'])*100000, 2)"
      ],
      "metadata": {
        "id": "JhiegRMOAQ3Q"
      },
      "execution_count": null,
      "outputs": []
    },
    {
      "cell_type": "code",
      "source": [
        "# Display summary statistics for the 'CA_2015' column\n",
        "init_notebook_mode(all_interactive=False)\n",
        "gdf['CA_2015'].describe()"
      ],
      "metadata": {
        "id": "OKT2BwuYAQ3R"
      },
      "execution_count": null,
      "outputs": []
    },
    {
      "cell_type": "code",
      "source": [
        "# Save the GeoDataFrame to a shapefile with UTF-8 encoding\n",
        "gdf.to_file(\"pdt/asthma_mortality/data/shp/tma_2001_2022.shp\", encoding='utf-8')"
      ],
      "metadata": {
        "id": "Mbr5O_R3AQ3R"
      },
      "execution_count": null,
      "outputs": []
    },
    {
      "cell_type": "markdown",
      "source": [
        "### 2016"
      ],
      "metadata": {
        "id": "NdwU671kEdHg"
      }
    },
    {
      "cell_type": "code",
      "source": [
        "# Read the CSV file into a DataFrame\n",
        "df = pd.read_csv(\"pdt/asthma_mortality/data/csv/def_asma_2001_2022_clean_02.csv\")"
      ],
      "metadata": {
        "id": "kv2mbxKUEdHh"
      },
      "execution_count": null,
      "outputs": []
    },
    {
      "cell_type": "code",
      "source": [
        "# Filter the dataframe to include only rows where the 'ANIO' column equals 2016\n",
        "df2016 = df[df['ANIO'] == 2016]"
      ],
      "metadata": {
        "id": "QQ4wgjXeEdHh"
      },
      "execution_count": null,
      "outputs": []
    },
    {
      "cell_type": "code",
      "source": [
        "# Display the first few rows of the DataFrame for the year 2016\n",
        "init_notebook_mode(all_interactive=False)\n",
        "df2016.head()"
      ],
      "metadata": {
        "id": "HJ4lnY9zEdHi"
      },
      "execution_count": null,
      "outputs": []
    },
    {
      "cell_type": "code",
      "source": [
        "# Select only the columns 'ANIO', 'IDDPTO', and 'CANTIDAD' from the DataFrame df2016\n",
        "df2016 = df2016[['ANIO', 'IDDPTO', 'CANTIDAD']]"
      ],
      "metadata": {
        "id": "jGwsxbb3EdHi"
      },
      "execution_count": null,
      "outputs": []
    },
    {
      "cell_type": "code",
      "source": [
        "# Display the first few rows of the DataFrame for the year 2016\n",
        "init_notebook_mode(all_interactive=False)\n",
        "df2016.head()"
      ],
      "metadata": {
        "id": "JpkBPhz5EdHi"
      },
      "execution_count": null,
      "outputs": []
    },
    {
      "cell_type": "code",
      "source": [
        "# Add a leading zero to IDDPTO if its length is 4 or less, otherwise return it as a string\n",
        "append_zero_IDDPTO = lambda IDDPTO: \"0\" + str(IDDPTO) if len(str(IDDPTO)) <= 4 else str(IDDPTO) # Convert IDDPTO to string before checking the length and in the output"
      ],
      "metadata": {
        "id": "j4dz7JYwEdHi"
      },
      "execution_count": null,
      "outputs": []
    },
    {
      "cell_type": "code",
      "source": [
        "# Apply the append_zero_IDDPTO function to the 'IDDPTO' column of the df2016 DataFrame\n",
        "df2016['IDDPTO'] = df2016['IDDPTO'].apply(append_zero_IDDPTO)"
      ],
      "metadata": {
        "id": "B1eHh1AhEdHi"
      },
      "execution_count": null,
      "outputs": []
    },
    {
      "cell_type": "code",
      "source": [
        "# Display the first few rows of the DataFrame for the year 2016\n",
        "init_notebook_mode(all_interactive=False)\n",
        "df2016.head()"
      ],
      "metadata": {
        "id": "84Us9jbNyVdZ"
      },
      "execution_count": null,
      "outputs": []
    },
    {
      "cell_type": "code",
      "source": [
        "# Get the number of rows in the DataFrame `df2016`\n",
        "len(df2016)"
      ],
      "metadata": {
        "id": "Z0GFahuFEdHi"
      },
      "execution_count": null,
      "outputs": []
    },
    {
      "cell_type": "code",
      "source": [
        "# Group the dataframe by the 'IDDPTO' column, sum the 'CANTIDAD' values for each group, and reset the index\n",
        "df2016_2 = df2016.groupby('IDDPTO')['CANTIDAD'].sum().reset_index()"
      ],
      "metadata": {
        "id": "AHMoVoRgEdHj"
      },
      "execution_count": null,
      "outputs": []
    },
    {
      "cell_type": "code",
      "source": [
        "# Rename the 'CANTIDAD' column to 'C_2016' in the dataframe df2016_2\n",
        "df2016_2 = df2016_2.rename(columns={'CANTIDAD': 'C_2016'})"
      ],
      "metadata": {
        "id": "JKDLvY0aEdHj"
      },
      "execution_count": null,
      "outputs": []
    },
    {
      "cell_type": "code",
      "source": [
        "# Display the first few rows of the DataFrame for the year 2016\n",
        "init_notebook_mode(all_interactive=False)\n",
        "df2016_2.head()"
      ],
      "metadata": {
        "id": "eaMchxXvEdHj"
      },
      "execution_count": null,
      "outputs": []
    },
    {
      "cell_type": "code",
      "source": [
        "# Get the number of rows in the DataFrame df2016_2\n",
        "len(df2016_2)"
      ],
      "metadata": {
        "id": "KXAX3MrVEdHj"
      },
      "execution_count": null,
      "outputs": []
    },
    {
      "cell_type": "code",
      "source": [
        "# Load the shapefile using geopandas\n",
        "gdf = gpd.read_file(\"pdt/asthma_mortality/data/shp/tma_2001_2022.shp\", encoding='utf-8')"
      ],
      "metadata": {
        "id": "KN8ynpgeEdHj"
      },
      "execution_count": null,
      "outputs": []
    },
    {
      "cell_type": "code",
      "source": [
        "# Display the first few rows of the GeoDataFrame\n",
        "init_notebook_mode(all_interactive=True)\n",
        "gdf.head()"
      ],
      "metadata": {
        "id": "OAlCILWHEdHj"
      },
      "execution_count": null,
      "outputs": []
    },
    {
      "cell_type": "code",
      "source": [
        "# Merge the GeoDataFrame with df2016_2 on the 'IDDPTO' column using a left join\n",
        "gdf = gdf.merge(df2016_2, on='IDDPTO', how='left')"
      ],
      "metadata": {
        "id": "7GxySDGJEdHj"
      },
      "execution_count": null,
      "outputs": []
    },
    {
      "cell_type": "code",
      "source": [
        "# Display information about the GeoDataFrame\n",
        "gdf.info()"
      ],
      "metadata": {
        "id": "vJiNk418EdHj"
      },
      "execution_count": null,
      "outputs": []
    },
    {
      "cell_type": "code",
      "source": [
        "# Fill missing values in the 'C_2016' column with 0 and convert the column to integer type\n",
        "gdf['C_2016'] = gdf['C_2016'].fillna(0).astype(int)"
      ],
      "metadata": {
        "id": "3sW_FAXPEdHj"
      },
      "execution_count": null,
      "outputs": []
    },
    {
      "cell_type": "code",
      "source": [
        "# Display information about the GeoDataFrame\n",
        "gdf.info()"
      ],
      "metadata": {
        "id": "wTvuauybEdHk"
      },
      "execution_count": null,
      "outputs": []
    },
    {
      "cell_type": "code",
      "source": [
        "# calculate the adjusted mortality rate (100,000 inhabitants)\n",
        "gdf['CA_2016'] = round((gdf['C_2016']/gdf['A_2016'])*100000, 2)"
      ],
      "metadata": {
        "id": "0zQ3v8VWEdHk"
      },
      "execution_count": null,
      "outputs": []
    },
    {
      "cell_type": "code",
      "source": [
        "# Display summary statistics for the 'CA_2016' column\n",
        "init_notebook_mode(all_interactive=False)\n",
        "gdf['CA_2016'].describe()"
      ],
      "metadata": {
        "id": "4PAtNjZnEdHk"
      },
      "execution_count": null,
      "outputs": []
    },
    {
      "cell_type": "code",
      "source": [
        "# Save the GeoDataFrame to a shapefile with UTF-8 encoding\n",
        "gdf.to_file(\"pdt/asthma_mortality/data/shp/tma_2001_2022.shp\", encoding='utf-8')"
      ],
      "metadata": {
        "id": "m-QXdoRPEdHk"
      },
      "execution_count": null,
      "outputs": []
    },
    {
      "cell_type": "markdown",
      "source": [
        "### 2017"
      ],
      "metadata": {
        "id": "47XIAAWkwjdT"
      }
    },
    {
      "cell_type": "code",
      "source": [
        "# Read the CSV file into a DataFrame\n",
        "df = pd.read_csv(\"pdt/asthma_mortality/data/csv/def_asma_2001_2022_clean_02.csv\")"
      ],
      "metadata": {
        "id": "pRWse4TxwjdU"
      },
      "execution_count": null,
      "outputs": []
    },
    {
      "cell_type": "code",
      "source": [
        "# Filter the dataframe to include only rows where the 'ANIO' column equals 2017\n",
        "df2017 = df[df['ANIO'] == 2017]"
      ],
      "metadata": {
        "id": "gzMcQcrMwjdU"
      },
      "execution_count": null,
      "outputs": []
    },
    {
      "cell_type": "code",
      "source": [
        "# Display the first few rows of the DataFrame for the year 2017\n",
        "init_notebook_mode(all_interactive=False)\n",
        "df2017.head()"
      ],
      "metadata": {
        "id": "UGfBic41wjdU"
      },
      "execution_count": null,
      "outputs": []
    },
    {
      "cell_type": "code",
      "source": [
        "# Select only the columns 'ANIO', 'IDDPTO', and 'CANTIDAD' from the DataFrame df2017\n",
        "df2017 = df2017[['ANIO', 'IDDPTO', 'CANTIDAD']]"
      ],
      "metadata": {
        "id": "zE4lhtkPwjdV"
      },
      "execution_count": null,
      "outputs": []
    },
    {
      "cell_type": "code",
      "source": [
        "# Display the first few rows of the DataFrame for the year 2017\n",
        "init_notebook_mode(all_interactive=False)\n",
        "df2017.head()"
      ],
      "metadata": {
        "id": "hjf1aWexwjdV"
      },
      "execution_count": null,
      "outputs": []
    },
    {
      "cell_type": "code",
      "source": [
        "# Add a leading zero to IDDPTO if its length is 4 or less, otherwise return it as a string\n",
        "append_zero_IDDPTO = lambda IDDPTO: \"0\" + str(IDDPTO) if len(str(IDDPTO)) <= 4 else str(IDDPTO) # Convert IDDPTO to string before checking the length and in the output"
      ],
      "metadata": {
        "id": "91d4900TwjdV"
      },
      "execution_count": null,
      "outputs": []
    },
    {
      "cell_type": "code",
      "source": [
        "# Apply the append_zero_IDDPTO function to the 'IDDPTO' column of the df2017 DataFrame\n",
        "df2017['IDDPTO'] = df2017['IDDPTO'].apply(append_zero_IDDPTO)"
      ],
      "metadata": {
        "id": "dY4BRlc0wjdV"
      },
      "execution_count": null,
      "outputs": []
    },
    {
      "cell_type": "code",
      "source": [
        "# Display the first few rows of the DataFrame for the year 2017\n",
        "init_notebook_mode(all_interactive=False)\n",
        "df2017.head()"
      ],
      "metadata": {
        "id": "OZDnO8jg2nKJ"
      },
      "execution_count": null,
      "outputs": []
    },
    {
      "cell_type": "code",
      "source": [
        "# Get the number of rows in the DataFrame `df2017`\n",
        "len(df2017)"
      ],
      "metadata": {
        "id": "xMtDKx67wjdV"
      },
      "execution_count": null,
      "outputs": []
    },
    {
      "cell_type": "code",
      "source": [
        "# Group the dataframe by the 'IDDPTO' column, sum the 'CANTIDAD' values for each group, and reset the index\n",
        "df2017_2 = df2017.groupby('IDDPTO')['CANTIDAD'].sum().reset_index()"
      ],
      "metadata": {
        "id": "4Ob-VR1cwjdV"
      },
      "execution_count": null,
      "outputs": []
    },
    {
      "cell_type": "code",
      "source": [
        "# Rename the 'CANTIDAD' column to 'C_2017' in the dataframe df2017_2\n",
        "df2017_2 = df2017_2.rename(columns={'CANTIDAD': 'C_2017'})"
      ],
      "metadata": {
        "id": "g5AlJ5GowjdV"
      },
      "execution_count": null,
      "outputs": []
    },
    {
      "cell_type": "code",
      "source": [
        "# Display the first few rows of the DataFrame for the year 2017\n",
        "init_notebook_mode(all_interactive=False)\n",
        "df2017_2.head()"
      ],
      "metadata": {
        "id": "ukxOL6mwwjdV"
      },
      "execution_count": null,
      "outputs": []
    },
    {
      "cell_type": "code",
      "source": [
        "# Get the number of rows in the DataFrame df2017_2\n",
        "len(df2017_2)"
      ],
      "metadata": {
        "id": "x21vbKlCwjdV"
      },
      "execution_count": null,
      "outputs": []
    },
    {
      "cell_type": "code",
      "source": [
        "# Load the shapefile using geopandas\n",
        "gdf = gpd.read_file(\"pdt/asthma_mortality/data/shp/tma_2001_2022.shp\", encoding='utf-8')"
      ],
      "metadata": {
        "id": "1dg2bzjLwjdW"
      },
      "execution_count": null,
      "outputs": []
    },
    {
      "cell_type": "code",
      "source": [
        "# Display the first few rows of the GeoDataFrame\n",
        "init_notebook_mode(all_interactive=True)\n",
        "gdf.head()"
      ],
      "metadata": {
        "id": "Ic0nI3E9wjdW"
      },
      "execution_count": null,
      "outputs": []
    },
    {
      "cell_type": "code",
      "source": [
        "# Merge the GeoDataFrame with df2017_2 on the 'IDDPTO' column using a left join\n",
        "gdf = gdf.merge(df2017_2, on='IDDPTO', how='left')"
      ],
      "metadata": {
        "id": "jShI5e-dwjdW"
      },
      "execution_count": null,
      "outputs": []
    },
    {
      "cell_type": "code",
      "source": [
        "# Display information about the GeoDataFrame\n",
        "gdf.info()"
      ],
      "metadata": {
        "id": "Zza8WVRKwjdW"
      },
      "execution_count": null,
      "outputs": []
    },
    {
      "cell_type": "code",
      "source": [
        "# Fill missing values in the 'C_2016' column with 0 and convert the column to integer type\n",
        "gdf['C_2017'] = gdf['C_2017'].fillna(0).astype(int)"
      ],
      "metadata": {
        "id": "lfmnyVuFwjdW"
      },
      "execution_count": null,
      "outputs": []
    },
    {
      "cell_type": "code",
      "source": [
        "# Display information about the GeoDataFrame\n",
        "gdf.info()"
      ],
      "metadata": {
        "id": "UUGHV1A9wjdW"
      },
      "execution_count": null,
      "outputs": []
    },
    {
      "cell_type": "code",
      "source": [
        "# calculate the adjusted mortality rate (100,000 inhabitants)\n",
        "gdf['CA_2017'] = round((gdf['C_2017']/gdf['A_2017'])*100000, 2)"
      ],
      "metadata": {
        "id": "rPJo-DGrwjdW"
      },
      "execution_count": null,
      "outputs": []
    },
    {
      "cell_type": "code",
      "source": [
        "# Display summary statistics for the 'CA_2017' column\n",
        "init_notebook_mode(all_interactive=False)\n",
        "gdf['CA_2017'].describe()"
      ],
      "metadata": {
        "id": "rZG1N_3UwjdW"
      },
      "execution_count": null,
      "outputs": []
    },
    {
      "cell_type": "code",
      "source": [
        "# Save the GeoDataFrame to a shapefile with UTF-8 encoding\n",
        "gdf.to_file(\"pdt/asthma_mortality/data/shp/tma_2001_2022.shp\", encoding='utf-8')"
      ],
      "metadata": {
        "id": "1Lx8ge4JwjdX"
      },
      "execution_count": null,
      "outputs": []
    },
    {
      "cell_type": "markdown",
      "source": [
        "### 2018"
      ],
      "metadata": {
        "id": "EGqtZUuViiCR"
      }
    },
    {
      "cell_type": "code",
      "source": [
        "# Read the CSV file into a DataFrame\n",
        "df = pd.read_csv(\"pdt/asthma_mortality/data/csv/def_asma_2001_2022_clean_02.csv\")"
      ],
      "metadata": {
        "id": "RrcXFY1SiiCR"
      },
      "execution_count": null,
      "outputs": []
    },
    {
      "cell_type": "code",
      "source": [
        "# Filter the dataframe to include only rows where the 'ANIO' column equals 2018\n",
        "df2018 = df[df['ANIO'] == 2018]"
      ],
      "metadata": {
        "id": "2YzMbWOsiiCR"
      },
      "execution_count": null,
      "outputs": []
    },
    {
      "cell_type": "code",
      "source": [
        "# Display the first few rows of the DataFrame for the year 2018\n",
        "init_notebook_mode(all_interactive=False)\n",
        "df2018.head()"
      ],
      "metadata": {
        "id": "Z60lmOktiiCR"
      },
      "execution_count": null,
      "outputs": []
    },
    {
      "cell_type": "code",
      "source": [
        "# Select only the columns 'ANIO', 'IDDPTO', and 'CANTIDAD' from the DataFrame df2018\n",
        "df2018 = df2018[['ANIO', 'IDDPTO', 'CANTIDAD']]"
      ],
      "metadata": {
        "id": "iewNQXLc12t-"
      },
      "execution_count": null,
      "outputs": []
    },
    {
      "cell_type": "code",
      "source": [
        "# Display the first few rows of the DataFrame for the year 2018\n",
        "init_notebook_mode(all_interactive=False)\n",
        "df2018.head()"
      ],
      "metadata": {
        "id": "ubSPwRth15W8"
      },
      "execution_count": null,
      "outputs": []
    },
    {
      "cell_type": "code",
      "source": [
        "# Add a leading zero to IDDPTO if its length is 4 or less, otherwise return it as a string\n",
        "append_zero_IDDPTO = lambda IDDPTO: \"0\" + str(IDDPTO) if len(str(IDDPTO)) <= 4 else str(IDDPTO) # Convert IDDPTO to string before checking the length and in the output"
      ],
      "metadata": {
        "id": "01YErjTgiiCR"
      },
      "execution_count": null,
      "outputs": []
    },
    {
      "cell_type": "code",
      "source": [
        "# Apply the append_zero_IDDPTO function to the 'IDDPTO' column of the df2018 DataFrame\n",
        "df2018['IDDPTO'] = df2018['IDDPTO'].apply(append_zero_IDDPTO)"
      ],
      "metadata": {
        "id": "C6WgVAtmiiCR"
      },
      "execution_count": null,
      "outputs": []
    },
    {
      "cell_type": "code",
      "source": [
        "# Display the first few rows of the DataFrame for the year 2018\n",
        "init_notebook_mode(all_interactive=False)\n",
        "df2018.head()"
      ],
      "metadata": {
        "id": "yXtabBBE3_qc"
      },
      "execution_count": null,
      "outputs": []
    },
    {
      "cell_type": "code",
      "source": [
        "# Get the number of rows in the DataFrame df2018\n",
        "len(df2018)"
      ],
      "metadata": {
        "id": "rclBS-ApiiCR"
      },
      "execution_count": null,
      "outputs": []
    },
    {
      "cell_type": "code",
      "source": [
        "# Find rows where IDDPTO is equal to '06218'\n",
        "chascomus_data = df2018[df2018['IDDPTO'] == '06218']\n",
        "\n",
        "# Print the data\n",
        "init_notebook_mode(all_interactive=False)\n",
        "chascomus_data"
      ],
      "metadata": {
        "id": "bhTTmYHmjWX4"
      },
      "execution_count": null,
      "outputs": []
    },
    {
      "cell_type": "code",
      "source": [
        "# Change the 'IDDPTO' value from '06218' to '06217'\n",
        "df2018.loc[df2018['IDDPTO'] == '06218', 'IDDPTO'] = '06217'"
      ],
      "metadata": {
        "id": "TzF0qG_cjRpx"
      },
      "execution_count": null,
      "outputs": []
    },
    {
      "cell_type": "code",
      "source": [
        "# Find rows where IDDPTO is equal to '06218'\n",
        "chascomus_data = df2018[df2018['IDDPTO'] == '06218']\n",
        "\n",
        "# Print the data\n",
        "init_notebook_mode(all_interactive=False)\n",
        "chascomus_data"
      ],
      "metadata": {
        "id": "9Tr_Bl6wjeOw"
      },
      "execution_count": null,
      "outputs": []
    },
    {
      "cell_type": "code",
      "source": [
        "# Group the dataframe by the 'IDDPTO' column, sum the 'CANTIDAD' values for each group, and reset the index\n",
        "df2018_2 = df2018.groupby('IDDPTO')['CANTIDAD'].sum().reset_index()"
      ],
      "metadata": {
        "id": "grarf8IsiiCS"
      },
      "execution_count": null,
      "outputs": []
    },
    {
      "cell_type": "code",
      "source": [
        "# Rename the 'CANTIDAD' column to 'C_2018' in the dataframe df2018_2\n",
        "df2018_2 = df2018_2.rename(columns={'CANTIDAD': 'C_2018'})"
      ],
      "metadata": {
        "id": "NReEFR6kiiCS"
      },
      "execution_count": null,
      "outputs": []
    },
    {
      "cell_type": "code",
      "source": [
        "# Display the first few rows of the DataFrame for the year 2018\n",
        "init_notebook_mode(all_interactive=False)\n",
        "df2018_2.head()"
      ],
      "metadata": {
        "id": "O6KD1DcFiiCS"
      },
      "execution_count": null,
      "outputs": []
    },
    {
      "cell_type": "code",
      "source": [
        "# Get the number of rows in the DataFrame df2018_2\n",
        "len(df2018_2)"
      ],
      "metadata": {
        "id": "7fq07zibiiCS"
      },
      "execution_count": null,
      "outputs": []
    },
    {
      "cell_type": "code",
      "source": [
        "# Load the shapefile using geopandas\n",
        "gdf = gpd.read_file(\"pdt/asthma_mortality/data/shp/tma_2001_2022.shp\", encoding='utf-8')"
      ],
      "metadata": {
        "id": "meaTOO6xiiCS"
      },
      "execution_count": null,
      "outputs": []
    },
    {
      "cell_type": "code",
      "source": [
        "# Display the first few rows of the GeoDataFrame\n",
        "init_notebook_mode(all_interactive=True)\n",
        "gdf.head()"
      ],
      "metadata": {
        "id": "ISlnWya0iiCS"
      },
      "execution_count": null,
      "outputs": []
    },
    {
      "cell_type": "code",
      "source": [
        "# Merge the GeoDataFrame with df2018_2 on the 'IDDPTO' column using a left join\n",
        "gdf = gdf.merge(df2018_2, on='IDDPTO', how='left')"
      ],
      "metadata": {
        "id": "8yET1r3miiCS"
      },
      "execution_count": null,
      "outputs": []
    },
    {
      "cell_type": "code",
      "source": [
        "# Display information about the GeoDataFrame\n",
        "gdf.info()"
      ],
      "metadata": {
        "id": "KT-do_K4iiCS"
      },
      "execution_count": null,
      "outputs": []
    },
    {
      "cell_type": "code",
      "source": [
        "# Fill missing values in the 'C_2018' column with 0 and convert the column to integer type\n",
        "gdf['C_2018'] = gdf['C_2018'].fillna(0).astype(int)"
      ],
      "metadata": {
        "id": "6rFHfYbQiiCT"
      },
      "execution_count": null,
      "outputs": []
    },
    {
      "cell_type": "code",
      "source": [
        "# Display information about the GeoDataFrame\n",
        "gdf.info()"
      ],
      "metadata": {
        "id": "d138Vo4qiiCT"
      },
      "execution_count": null,
      "outputs": []
    },
    {
      "cell_type": "code",
      "source": [
        "# calculate the adjusted mortality rate (100,000 inhabitants)\n",
        "gdf['CA_2018'] = round((gdf['C_2018']/gdf['A_2018'])*100000, 2)"
      ],
      "metadata": {
        "id": "Sk7Wc80OiiCT"
      },
      "execution_count": null,
      "outputs": []
    },
    {
      "cell_type": "code",
      "source": [
        "# Display summary statistics for the 'CA_2018' column\n",
        "init_notebook_mode(all_interactive=False)\n",
        "gdf['CA_2018'].describe()"
      ],
      "metadata": {
        "id": "nwddlSdBiiCT"
      },
      "execution_count": null,
      "outputs": []
    },
    {
      "cell_type": "code",
      "source": [
        "# Save the GeoDataFrame to a shapefile with UTF-8 encoding\n",
        "gdf.to_file(\"pdt/asthma_mortality/data/shp/tma_2001_2022.shp\", encoding='utf-8')"
      ],
      "metadata": {
        "id": "_xkT1qHJiiCT"
      },
      "execution_count": null,
      "outputs": []
    },
    {
      "cell_type": "markdown",
      "source": [
        "### 2019"
      ],
      "metadata": {
        "id": "OjoRJdt47O4K"
      }
    },
    {
      "cell_type": "code",
      "source": [
        "# Read the CSV file into a DataFrame\n",
        "df = pd.read_csv(\"pdt/asthma_mortality/data/csv/def_asma_2001_2022_clean_02.csv\")"
      ],
      "metadata": {
        "id": "lPooncWe7O4K"
      },
      "execution_count": null,
      "outputs": []
    },
    {
      "cell_type": "code",
      "source": [
        "# Filter the dataframe to include only rows where the 'ANIO' column equals 2019\n",
        "df2019 = df[df['ANIO'] == 2019]"
      ],
      "metadata": {
        "id": "R8KKkxys7O4L"
      },
      "execution_count": null,
      "outputs": []
    },
    {
      "cell_type": "code",
      "source": [
        "# Display the first few rows of the DataFrame for the year 2019\n",
        "init_notebook_mode(all_interactive=False)\n",
        "df2019.head()"
      ],
      "metadata": {
        "id": "W6olESwy7O4L"
      },
      "execution_count": null,
      "outputs": []
    },
    {
      "cell_type": "code",
      "source": [
        "# Select only the columns 'ANIO', 'IDDPTO', and 'CANTIDAD' from the DataFrame df2019\n",
        "df2019 = df2019[['ANIO', 'IDDPTO', 'CANTIDAD']]"
      ],
      "metadata": {
        "id": "CkvyYNmV7O4L"
      },
      "execution_count": null,
      "outputs": []
    },
    {
      "cell_type": "code",
      "source": [
        "# Display the first few rows of the DataFrame for the year 2019\n",
        "init_notebook_mode(all_interactive=False)\n",
        "df2019.head()"
      ],
      "metadata": {
        "id": "yPjeJ1Jm7O4L"
      },
      "execution_count": null,
      "outputs": []
    },
    {
      "cell_type": "code",
      "source": [
        "# Add a leading zero to IDDPTO if its length is 4 or less, otherwise return it as a string\n",
        "append_zero_IDDPTO = lambda IDDPTO: \"0\" + str(IDDPTO) if len(str(IDDPTO)) <= 4 else str(IDDPTO) # Convert IDDPTO to string before checking the length and in the output"
      ],
      "metadata": {
        "id": "YcsXxXl07O4L"
      },
      "execution_count": null,
      "outputs": []
    },
    {
      "cell_type": "code",
      "source": [
        "# Apply the append_zero_IDDPTO function to the 'IDDPTO' column of the df2019 DataFrame\n",
        "df2019['IDDPTO'] = df2019['IDDPTO'].apply(append_zero_IDDPTO)"
      ],
      "metadata": {
        "id": "XcZDvPY67O4M"
      },
      "execution_count": null,
      "outputs": []
    },
    {
      "cell_type": "code",
      "source": [
        "# Display the first few rows of the DataFrame for the year 2019\n",
        "init_notebook_mode(all_interactive=False)\n",
        "df2019.head()"
      ],
      "metadata": {
        "id": "J20xpOOR5kEh"
      },
      "execution_count": null,
      "outputs": []
    },
    {
      "cell_type": "code",
      "source": [
        "# Get the number of rows in the DataFrame `df2019`\n",
        "len(df2019)"
      ],
      "metadata": {
        "id": "A8hPbnSN7O4M"
      },
      "execution_count": null,
      "outputs": []
    },
    {
      "cell_type": "code",
      "source": [
        "# Group the dataframe by the 'IDDPTO' column, sum the 'CANTIDAD' values for each group, and reset the index\n",
        "df2019_2 = df2019.groupby('IDDPTO')['CANTIDAD'].sum().reset_index()"
      ],
      "metadata": {
        "id": "hNFdkL6N7O4M"
      },
      "execution_count": null,
      "outputs": []
    },
    {
      "cell_type": "code",
      "source": [
        "# Rename the 'CANTIDAD' column to 'C_2019' in the dataframe df2019_2\n",
        "df2019_2 = df2019_2.rename(columns={'CANTIDAD': 'C_2019'})"
      ],
      "metadata": {
        "id": "pBucQ0mp7O4M"
      },
      "execution_count": null,
      "outputs": []
    },
    {
      "cell_type": "code",
      "source": [
        "# Display the first few rows of the DataFrame for the year 2019\n",
        "init_notebook_mode(all_interactive=False)\n",
        "df2019_2.head()"
      ],
      "metadata": {
        "id": "PpqM12Mo7O4M"
      },
      "execution_count": null,
      "outputs": []
    },
    {
      "cell_type": "code",
      "source": [
        "# Get the number of rows in the DataFrame df2019_2\n",
        "len(df2019_2)"
      ],
      "metadata": {
        "id": "ULbgv3_J7O4M"
      },
      "execution_count": null,
      "outputs": []
    },
    {
      "cell_type": "code",
      "source": [
        "# Load the shapefile using geopandas\n",
        "gdf = gpd.read_file(\"pdt/asthma_mortality/data/shp/tma_2001_2022.shp\", encoding='utf-8')"
      ],
      "metadata": {
        "id": "v6lH0EwA7O4N"
      },
      "execution_count": null,
      "outputs": []
    },
    {
      "cell_type": "code",
      "source": [
        "# Display the first few rows of the GeoDataFrame\n",
        "init_notebook_mode(all_interactive=True)\n",
        "gdf.head()"
      ],
      "metadata": {
        "id": "UqQzXi-P7O4N"
      },
      "execution_count": null,
      "outputs": []
    },
    {
      "cell_type": "code",
      "source": [
        "# Merge the GeoDataFrame with df2019_2 on the 'IDDPTO' column using a left join\n",
        "gdf = gdf.merge(df2019_2, on='IDDPTO', how='left')"
      ],
      "metadata": {
        "id": "59-IaU387O4N"
      },
      "execution_count": null,
      "outputs": []
    },
    {
      "cell_type": "code",
      "source": [
        "# Display information about the GeoDataFrame\n",
        "gdf.info()"
      ],
      "metadata": {
        "id": "YvangQeU7O4N"
      },
      "execution_count": null,
      "outputs": []
    },
    {
      "cell_type": "code",
      "source": [
        "# Fill missing values in the 'C_2019' column with 0 and convert the column to integer type\n",
        "gdf['C_2019'] = gdf['C_2019'].fillna(0).astype(int)"
      ],
      "metadata": {
        "id": "6xsnt-F67O4N"
      },
      "execution_count": null,
      "outputs": []
    },
    {
      "cell_type": "code",
      "source": [
        "# Display information about the GeoDataFrame\n",
        "gdf.info()"
      ],
      "metadata": {
        "id": "V58beqNY7O4O"
      },
      "execution_count": null,
      "outputs": []
    },
    {
      "cell_type": "code",
      "source": [
        "# calculate the adjusted mortality rate (100,000 inhabitants)\n",
        "gdf['CA_2019'] = round((gdf['C_2019']/gdf['A_2019'])*100000, 2)"
      ],
      "metadata": {
        "id": "Q_3j6qkI7O4O"
      },
      "execution_count": null,
      "outputs": []
    },
    {
      "cell_type": "code",
      "source": [
        "# Display summary statistics for the 'CA_2019' column\n",
        "init_notebook_mode(all_interactive=False)\n",
        "gdf['CA_2019'].describe()"
      ],
      "metadata": {
        "id": "ChsJ6POZ7O4O"
      },
      "execution_count": null,
      "outputs": []
    },
    {
      "cell_type": "code",
      "source": [
        "# Save the GeoDataFrame to a shapefile with UTF-8 encoding\n",
        "gdf.to_file(\"pdt/asthma_mortality/data/shp/tma_2001_2022.shp\", encoding='utf-8')"
      ],
      "metadata": {
        "id": "qqwRt7lp7O4O"
      },
      "execution_count": null,
      "outputs": []
    },
    {
      "cell_type": "markdown",
      "source": [
        "### 2020"
      ],
      "metadata": {
        "id": "YkcptMwk8qK1"
      }
    },
    {
      "cell_type": "code",
      "source": [
        "# Read the CSV file into a DataFrame\n",
        "df = pd.read_csv(\"pdt/asthma_mortality/data/csv/def_asma_2001_2022_clean_02.csv\")"
      ],
      "metadata": {
        "id": "hz1WXojS8qK1"
      },
      "execution_count": null,
      "outputs": []
    },
    {
      "cell_type": "code",
      "source": [
        "# Filter the dataframe to include only rows where the 'ANIO' column equals 2020\n",
        "df2020 = df[df['ANIO'] == 2020]"
      ],
      "metadata": {
        "id": "g0o0C0Xk8qK1"
      },
      "execution_count": null,
      "outputs": []
    },
    {
      "cell_type": "code",
      "source": [
        "# Display the first few rows of the DataFrame for the year 2020\n",
        "init_notebook_mode(all_interactive=False)\n",
        "df2020.head()"
      ],
      "metadata": {
        "id": "BTxoze3a8qK1"
      },
      "execution_count": null,
      "outputs": []
    },
    {
      "cell_type": "code",
      "source": [
        "# Select only the columns 'ANIO', 'IDDPTO', and 'CANTIDAD' from the DataFrame df2020\n",
        "df2020 = df2020[['ANIO', 'IDDPTO', 'CANTIDAD']]"
      ],
      "metadata": {
        "id": "ZP5vHGQG8qK1"
      },
      "execution_count": null,
      "outputs": []
    },
    {
      "cell_type": "code",
      "source": [
        "# Display the first few rows of the DataFrame for the year 2020\n",
        "init_notebook_mode(all_interactive=False)\n",
        "df2020.head()"
      ],
      "metadata": {
        "id": "eTDEazoA8qK2"
      },
      "execution_count": null,
      "outputs": []
    },
    {
      "cell_type": "code",
      "source": [
        "# Add a leading zero to IDDPTO if its length is 4 or less, otherwise return it as a string\n",
        "append_zero_IDDPTO = lambda IDDPTO: \"0\" + str(IDDPTO) if len(str(IDDPTO)) <= 4 else str(IDDPTO) # Convert IDDPTO to string before checking the length and in the output"
      ],
      "metadata": {
        "id": "9Sd76Nbl8qK2"
      },
      "execution_count": null,
      "outputs": []
    },
    {
      "cell_type": "code",
      "source": [
        "# Apply the append_zero_IDDPTO function to the 'IDDPTO' column of the df2020 DataFrame\n",
        "df2020['IDDPTO'] = df2020['IDDPTO'].apply(append_zero_IDDPTO)"
      ],
      "metadata": {
        "id": "jK1FIs-S8qK2"
      },
      "execution_count": null,
      "outputs": []
    },
    {
      "cell_type": "code",
      "source": [
        "# Display the first few rows of the DataFrame for the year 2020\n",
        "init_notebook_mode(all_interactive=False)\n",
        "df2020.head()"
      ],
      "metadata": {
        "id": "GOr0mEzH632b"
      },
      "execution_count": null,
      "outputs": []
    },
    {
      "cell_type": "code",
      "source": [
        "# Get the number of rows in the DataFrame `df2020`\n",
        "len(df2020)"
      ],
      "metadata": {
        "id": "aAGplGRE8qK3"
      },
      "execution_count": null,
      "outputs": []
    },
    {
      "cell_type": "code",
      "source": [
        "# Group the dataframe by the 'IDDPTO' column, sum the 'CANTIDAD' values for each group, and reset the index\n",
        "df2020_2 = df2020.groupby('IDDPTO')['CANTIDAD'].sum().reset_index()"
      ],
      "metadata": {
        "id": "5Aj8-lDG8qK3"
      },
      "execution_count": null,
      "outputs": []
    },
    {
      "cell_type": "code",
      "source": [
        "# Rename the 'CANTIDAD' column to 'C_2020' in the dataframe df2020_2\n",
        "df2020_2 = df2020_2.rename(columns={'CANTIDAD': 'C_2020'})"
      ],
      "metadata": {
        "id": "rF4PY9WJ8qK3"
      },
      "execution_count": null,
      "outputs": []
    },
    {
      "cell_type": "code",
      "source": [
        "# Display the first few rows of the DataFrame for the year 2020\n",
        "init_notebook_mode(all_interactive=False)\n",
        "df2020_2.head()"
      ],
      "metadata": {
        "id": "dJ-cPM6v8qK3"
      },
      "execution_count": null,
      "outputs": []
    },
    {
      "cell_type": "code",
      "source": [
        "# Get the number of rows in the DataFrame df2020_2\n",
        "len(df2020_2)"
      ],
      "metadata": {
        "id": "VY7qmRRb8qK3"
      },
      "execution_count": null,
      "outputs": []
    },
    {
      "cell_type": "code",
      "source": [
        "# Load the shapefile using geopandas\n",
        "gdf = gpd.read_file(\"pdt/asthma_mortality/data/shp/tma_2001_2022.shp\", encoding='utf-8')"
      ],
      "metadata": {
        "id": "FDeOxZOS8qK4"
      },
      "execution_count": null,
      "outputs": []
    },
    {
      "cell_type": "code",
      "source": [
        "# Display the first few rows of the GeoDataFrame\n",
        "init_notebook_mode(all_interactive=True)\n",
        "gdf.head()"
      ],
      "metadata": {
        "id": "eW8RzZ2F8qK4"
      },
      "execution_count": null,
      "outputs": []
    },
    {
      "cell_type": "code",
      "source": [
        "# Merge the GeoDataFrame with df2020_2 on the 'IDDPTO' column using a left join\n",
        "gdf = gdf.merge(df2020_2, on='IDDPTO', how='left')"
      ],
      "metadata": {
        "id": "INMceFOV8qK4"
      },
      "execution_count": null,
      "outputs": []
    },
    {
      "cell_type": "code",
      "source": [
        "# Display information about the GeoDataFrame\n",
        "gdf.info()"
      ],
      "metadata": {
        "id": "p82wpdZQ8qK4"
      },
      "execution_count": null,
      "outputs": []
    },
    {
      "cell_type": "code",
      "source": [
        "# Fill missing values in the 'C_2020' column with 0 and convert the column to integer type\n",
        "gdf['C_2020'] = gdf['C_2020'].fillna(0).astype(int)"
      ],
      "metadata": {
        "id": "D8tJCRpL8qK4"
      },
      "execution_count": null,
      "outputs": []
    },
    {
      "cell_type": "code",
      "source": [
        "# Display information about the GeoDataFrame\n",
        "gdf.info()"
      ],
      "metadata": {
        "id": "HBiyIz0O8qK4"
      },
      "execution_count": null,
      "outputs": []
    },
    {
      "cell_type": "code",
      "source": [
        "# calculate the adjusted mortality rate (100,000 inhabitants)\n",
        "gdf['CA_2020'] = round((gdf['C_2020']/gdf['A_2020'])*100000, 2)"
      ],
      "metadata": {
        "id": "dfCzWtQF8qK4"
      },
      "execution_count": null,
      "outputs": []
    },
    {
      "cell_type": "code",
      "source": [
        "# Display summary statistics for the 'CA_2020' column\n",
        "init_notebook_mode(all_interactive=False)\n",
        "gdf['CA_2020'].describe()"
      ],
      "metadata": {
        "id": "GCppPvFT8qK5"
      },
      "execution_count": null,
      "outputs": []
    },
    {
      "cell_type": "code",
      "source": [
        "# Save the GeoDataFrame to a shapefile with UTF-8 encoding\n",
        "gdf.to_file(\"pdt/asthma_mortality/data/shp/tma_2001_2022.shp\", encoding='utf-8')"
      ],
      "metadata": {
        "id": "XkVwdhRo8qK5"
      },
      "execution_count": null,
      "outputs": []
    },
    {
      "cell_type": "markdown",
      "source": [
        "###2021"
      ],
      "metadata": {
        "id": "5ufm6Qtd_Wzd"
      }
    },
    {
      "cell_type": "code",
      "source": [
        "# Read the CSV file into a DataFrame\n",
        "df = pd.read_csv(\"pdt/asthma_mortality/data/csv/def_asma_2001_2022_clean_02.csv\")"
      ],
      "metadata": {
        "id": "Gtmm3-Yel4t0"
      },
      "execution_count": null,
      "outputs": []
    },
    {
      "cell_type": "code",
      "source": [
        "# Filter the dataframe to include only rows where the 'ANIO' column equals 2021\n",
        "df2021 = df[df['ANIO'] == 2021]"
      ],
      "metadata": {
        "id": "ykNQGjSMl4t1"
      },
      "execution_count": null,
      "outputs": []
    },
    {
      "cell_type": "code",
      "source": [
        "# Display the first few rows of the DataFrame for the year 2021\n",
        "init_notebook_mode(all_interactive=False)\n",
        "df2021.head()"
      ],
      "metadata": {
        "id": "cRze20D5l4t1"
      },
      "execution_count": null,
      "outputs": []
    },
    {
      "cell_type": "code",
      "source": [
        "# Select only the columns 'ANIO', 'IDDPTO', and 'CANTIDAD' from the DataFrame df2021\n",
        "df2021 = df2021[['ANIO', 'IDDPTO', 'CANTIDAD']]"
      ],
      "metadata": {
        "id": "H0nPRXQ38Efb"
      },
      "execution_count": null,
      "outputs": []
    },
    {
      "cell_type": "code",
      "source": [
        "# Display the first few rows of the DataFrame for the year 2021\n",
        "init_notebook_mode(all_interactive=False)\n",
        "df2021.head()"
      ],
      "metadata": {
        "id": "7y2g1TZV8J_8"
      },
      "execution_count": null,
      "outputs": []
    },
    {
      "cell_type": "code",
      "source": [
        "# Add a leading zero to IDDPTO if its length is 4 or less, otherwise return it as a string\n",
        "append_zero_IDDPTO = lambda IDDPTO: \"0\" + str(IDDPTO) if len(str(IDDPTO)) <= 4 else str(IDDPTO) # Convert IDDPTO to string before checking the length and in the output"
      ],
      "metadata": {
        "id": "uu0tpZ5sl4t2"
      },
      "execution_count": null,
      "outputs": []
    },
    {
      "cell_type": "code",
      "source": [
        "# Apply the append_zero_IDDPTO function to the 'IDDPTO' column of the df2021 DataFrame\n",
        "df2021['IDDPTO'] = df2021['IDDPTO'].apply(append_zero_IDDPTO)"
      ],
      "metadata": {
        "id": "OFdx1pm7l4t2"
      },
      "execution_count": null,
      "outputs": []
    },
    {
      "cell_type": "code",
      "source": [
        "# Display the first few rows of the DataFrame for the year 2021\n",
        "init_notebook_mode(all_interactive=False)\n",
        "df2021.head()"
      ],
      "metadata": {
        "id": "Ad4rzgIC8mu9"
      },
      "execution_count": null,
      "outputs": []
    },
    {
      "cell_type": "code",
      "source": [
        "# Get the number of rows in the DataFrame `df2021`\n",
        "len(df2021)"
      ],
      "metadata": {
        "id": "2tbdxCmul4t3"
      },
      "execution_count": null,
      "outputs": []
    },
    {
      "cell_type": "code",
      "source": [
        "# Find rows where IDDPTO is equal to '06218'\n",
        "chascomus_data = df2021[df2021['IDDPTO'] == '06218']\n",
        "\n",
        "# Print the data\n",
        "init_notebook_mode(all_interactive=False)\n",
        "chascomus_data"
      ],
      "metadata": {
        "id": "s8SZqtFdmI5y"
      },
      "execution_count": null,
      "outputs": []
    },
    {
      "cell_type": "code",
      "source": [
        "# Change the 'IDDPTO' value from '06218' to '06217'\n",
        "df2021.loc[df2021['IDDPTO'] == '06218', 'IDDPTO'] = '06217'"
      ],
      "metadata": {
        "id": "AfxjcKpSmI5z"
      },
      "execution_count": null,
      "outputs": []
    },
    {
      "cell_type": "code",
      "source": [
        "# Find rows where IDDPTO is equal to '06218'\n",
        "chascomus_data = df2021[df2021['IDDPTO'] == '06218']\n",
        "\n",
        "# Print the data\n",
        "init_notebook_mode(all_interactive=False)\n",
        "chascomus_data"
      ],
      "metadata": {
        "id": "AgFuGrI6mI50"
      },
      "execution_count": null,
      "outputs": []
    },
    {
      "cell_type": "code",
      "source": [
        "# Group the dataframe by the 'IDDPTO' column, sum the 'CANTIDAD' values for each group, and reset the index\n",
        "df2021_2 = df2021.groupby('IDDPTO')['CANTIDAD'].sum().reset_index()"
      ],
      "metadata": {
        "id": "P_rR5egzl4t4"
      },
      "execution_count": null,
      "outputs": []
    },
    {
      "cell_type": "code",
      "source": [
        "# Rename the 'CANTIDAD' column to 'C_2021' in the dataframe df2021_2\n",
        "df2021_2 = df2021_2.rename(columns={'CANTIDAD': 'C_2021'})"
      ],
      "metadata": {
        "id": "lEGx2ZUtl4t4"
      },
      "execution_count": null,
      "outputs": []
    },
    {
      "cell_type": "code",
      "source": [
        "# Display the first few rows of the DataFrame for the year 2021\n",
        "init_notebook_mode(all_interactive=False)\n",
        "df2021_2.head()"
      ],
      "metadata": {
        "id": "vqxksS59l4t5"
      },
      "execution_count": null,
      "outputs": []
    },
    {
      "cell_type": "code",
      "source": [
        "# Get the number of rows in the DataFrame df2021_2\n",
        "len(df2021_2)"
      ],
      "metadata": {
        "id": "_22MDikBl4t5"
      },
      "execution_count": null,
      "outputs": []
    },
    {
      "cell_type": "code",
      "source": [
        "# Load the shapefile using geopandas\n",
        "gdf = gpd.read_file(\"pdt/asthma_mortality/data/shp/tma_2001_2022.shp\", encoding='utf-8')"
      ],
      "metadata": {
        "id": "d-MAI-GGl4t6"
      },
      "execution_count": null,
      "outputs": []
    },
    {
      "cell_type": "code",
      "source": [
        "# Display the first few rows of the GeoDataFrame\n",
        "init_notebook_mode(all_interactive=True)\n",
        "gdf.head()"
      ],
      "metadata": {
        "id": "aen7MTuDl4t6"
      },
      "execution_count": null,
      "outputs": []
    },
    {
      "cell_type": "code",
      "source": [
        "# Merge the GeoDataFrame with df2021_2 on the 'IDDPTO' column using a left join\n",
        "gdf = gdf.merge(df2021_2, on='IDDPTO', how='left')"
      ],
      "metadata": {
        "id": "whp8C63ml4t7"
      },
      "execution_count": null,
      "outputs": []
    },
    {
      "cell_type": "code",
      "source": [
        "# Display information about the GeoDataFrame\n",
        "gdf.info()"
      ],
      "metadata": {
        "id": "g0QIP3Sbl4t8"
      },
      "execution_count": null,
      "outputs": []
    },
    {
      "cell_type": "code",
      "source": [
        "# Fill missing values in the 'C_2021' column with 0 and convert the column to integer type\n",
        "gdf['C_2021'] = gdf['C_2021'].fillna(0).astype(int)"
      ],
      "metadata": {
        "id": "XwUUgZdpl4t9"
      },
      "execution_count": null,
      "outputs": []
    },
    {
      "cell_type": "code",
      "source": [
        "# Display information about the GeoDataFrame\n",
        "gdf.info()"
      ],
      "metadata": {
        "id": "CmvD3lv4l4t9"
      },
      "execution_count": null,
      "outputs": []
    },
    {
      "cell_type": "code",
      "source": [
        "# calculate the adjusted mortality rate (100,000 inhabitants)\n",
        "gdf['CA_2021'] = round((gdf['C_2021']/gdf['A_2021'])*100000, 2)"
      ],
      "metadata": {
        "id": "-VmpVU46l4t-"
      },
      "execution_count": null,
      "outputs": []
    },
    {
      "cell_type": "code",
      "source": [
        "# Display summary statistics for the 'CA_2021' column\n",
        "init_notebook_mode(all_interactive=False)\n",
        "gdf['CA_2021'].describe()"
      ],
      "metadata": {
        "id": "wzy9xHwcl4t-"
      },
      "execution_count": null,
      "outputs": []
    },
    {
      "cell_type": "code",
      "source": [
        "# Save the GeoDataFrame to a shapefile with UTF-8 encoding\n",
        "gdf.to_file(\"pdt/asthma_mortality/data/shp/tma_2001_2022.shp\", encoding='utf-8')"
      ],
      "metadata": {
        "id": "dyOGMIAtl4uA"
      },
      "execution_count": null,
      "outputs": []
    },
    {
      "cell_type": "markdown",
      "source": [
        "###2022"
      ],
      "metadata": {
        "id": "r9ZXF9vOEmjY"
      }
    },
    {
      "cell_type": "code",
      "source": [
        "# Read the CSV file into a DataFrame\n",
        "df = pd.read_csv(\"pdt/asthma_mortality/data/csv/def_asma_2001_2022_clean_02.csv\")"
      ],
      "metadata": {
        "id": "AUKf3ayWpJ52"
      },
      "execution_count": null,
      "outputs": []
    },
    {
      "cell_type": "code",
      "source": [
        "# Filter the dataframe to include only rows where the 'ANIO' column equals 2022\n",
        "df2022 = df[df['ANIO'] == 2022]"
      ],
      "metadata": {
        "id": "xUJ_LRXOpJ52"
      },
      "execution_count": null,
      "outputs": []
    },
    {
      "cell_type": "code",
      "source": [
        "# Display the first few rows of the DataFrame for the year 2022\n",
        "init_notebook_mode(all_interactive=False)\n",
        "df2022.head()"
      ],
      "metadata": {
        "id": "YSCffiUlpJ52"
      },
      "execution_count": null,
      "outputs": []
    },
    {
      "cell_type": "code",
      "source": [
        "# Select only the columns 'ANIO', 'IDDPTO', and 'CANTIDAD' from the DataFrame df2022\n",
        "df2022 = df2022[['ANIO', 'IDDPTO', 'CANTIDAD']]"
      ],
      "metadata": {
        "id": "vkH84QyZ-3ru"
      },
      "execution_count": null,
      "outputs": []
    },
    {
      "cell_type": "code",
      "source": [
        "# Display the first few rows of the DataFrame for the year 2022\n",
        "init_notebook_mode(all_interactive=False)\n",
        "df2022.head()"
      ],
      "metadata": {
        "id": "yCJ07GqL-9Yr"
      },
      "execution_count": null,
      "outputs": []
    },
    {
      "cell_type": "code",
      "source": [
        "# Add a leading zero to IDDPTO if its length is 4 or less, otherwise return it as a string\n",
        "append_zero_IDDPTO = lambda IDDPTO: \"0\" + str(IDDPTO) if len(str(IDDPTO)) <= 4 else str(IDDPTO) # Convert IDDPTO to string before checking the length and in the output"
      ],
      "metadata": {
        "id": "sGhvjddppJ52"
      },
      "execution_count": null,
      "outputs": []
    },
    {
      "cell_type": "code",
      "source": [
        "# Apply the append_zero_IDDPTO function to the 'IDDPTO' column of the df2001 DataFrame\n",
        "df2022['IDDPTO'] = df2022['IDDPTO'].apply(append_zero_IDDPTO)"
      ],
      "metadata": {
        "id": "OA-GIJkzpJ52"
      },
      "execution_count": null,
      "outputs": []
    },
    {
      "cell_type": "code",
      "source": [
        "# Display the first few rows of the DataFrame for the year 2022\n",
        "init_notebook_mode(all_interactive=False)\n",
        "df2022.head()"
      ],
      "metadata": {
        "id": "8PKM8tPeRjyI"
      },
      "execution_count": null,
      "outputs": []
    },
    {
      "cell_type": "code",
      "source": [
        "# Get the number of rows in the DataFrame `df2022`\n",
        "len(df2022)"
      ],
      "metadata": {
        "id": "lknsHaSfpJ52"
      },
      "execution_count": null,
      "outputs": []
    },
    {
      "cell_type": "code",
      "source": [
        "# Find rows where IDDPTO is equal to '06218'\n",
        "chascomus_data = df2022[df2022['IDDPTO'] == '06218']\n",
        "\n",
        "# Print the data\n",
        "init_notebook_mode(all_interactive=False)\n",
        "chascomus_data"
      ],
      "metadata": {
        "id": "XJJuIFvEpYNd"
      },
      "execution_count": null,
      "outputs": []
    },
    {
      "cell_type": "code",
      "source": [
        "# Change the 'IDDPTO' value from '06218' to '06217'\n",
        "df2022.loc[df2022['IDDPTO'] == '06218', 'IDDPTO'] = '06217'"
      ],
      "metadata": {
        "id": "QQjIY3RMpYNd"
      },
      "execution_count": null,
      "outputs": []
    },
    {
      "cell_type": "code",
      "source": [
        "# Find rows where IDDPTO is equal to '06218'\n",
        "chascomus_data = df2022[df2022['IDDPTO'] == '06218']\n",
        "\n",
        "# Print the data\n",
        "init_notebook_mode(all_interactive=False)\n",
        "chascomus_data"
      ],
      "metadata": {
        "id": "QNl_vhY-pYNd"
      },
      "execution_count": null,
      "outputs": []
    },
    {
      "cell_type": "code",
      "source": [
        "# Group the dataframe by the 'IDDPTO' column, sum the 'CANTIDAD' values for each group, and reset the index\n",
        "df2022_2 = df2022.groupby('IDDPTO')['CANTIDAD'].sum().reset_index()"
      ],
      "metadata": {
        "id": "fFDMOjWtpJ53"
      },
      "execution_count": null,
      "outputs": []
    },
    {
      "cell_type": "code",
      "source": [
        "# Rename the 'CANTIDAD' column to 'C_2022' in the dataframe df2022_2\n",
        "df2022_2 = df2022_2.rename(columns={'CANTIDAD': 'C_2022'})"
      ],
      "metadata": {
        "id": "gLRn4pE4pJ53"
      },
      "execution_count": null,
      "outputs": []
    },
    {
      "cell_type": "code",
      "source": [
        "# Display the first few rows of the DataFrame for the year 2022\n",
        "init_notebook_mode(all_interactive=False)\n",
        "df2022_2.head()"
      ],
      "metadata": {
        "id": "nlsR26u8pJ53"
      },
      "execution_count": null,
      "outputs": []
    },
    {
      "cell_type": "code",
      "source": [
        "# Get the number of rows in the DataFrame df2022_2\n",
        "len(df2022_2)"
      ],
      "metadata": {
        "id": "eiUdJmFvpJ53"
      },
      "execution_count": null,
      "outputs": []
    },
    {
      "cell_type": "code",
      "source": [
        "# Load the shapefile using geopandas\n",
        "gdf = gpd.read_file(\"pdt/asthma_mortality/data/shp/tma_2001_2022.shp\", encoding='utf-8')"
      ],
      "metadata": {
        "id": "11Afz2lUpJ53"
      },
      "execution_count": null,
      "outputs": []
    },
    {
      "cell_type": "code",
      "source": [
        "# Display the first few rows of the GeoDataFrame\n",
        "init_notebook_mode(all_interactive=True)\n",
        "gdf.head()"
      ],
      "metadata": {
        "id": "2U83oS9BpJ53"
      },
      "execution_count": null,
      "outputs": []
    },
    {
      "cell_type": "code",
      "source": [
        "# Merge the GeoDataFrame with df2022_2 on the 'IDDPTO' column using a left join\n",
        "gdf = gdf.merge(df2022_2, on='IDDPTO', how='left')"
      ],
      "metadata": {
        "id": "QYEBbUZhpJ53"
      },
      "execution_count": null,
      "outputs": []
    },
    {
      "cell_type": "code",
      "source": [
        "# Display information about the GeoDataFrame\n",
        "gdf.info()"
      ],
      "metadata": {
        "id": "evR8apU1pJ53"
      },
      "execution_count": null,
      "outputs": []
    },
    {
      "cell_type": "code",
      "source": [
        "# Fill missing values in the 'C_2022' column with 0 and convert the column to integer type\n",
        "gdf['C_2022'] = gdf['C_2022'].fillna(0).astype(int)"
      ],
      "metadata": {
        "id": "G_SidlF9pJ54"
      },
      "execution_count": null,
      "outputs": []
    },
    {
      "cell_type": "code",
      "source": [
        "\n",
        "# Display information about the GeoDataFrame\n",
        "gdf.info()"
      ],
      "metadata": {
        "id": "R9KSpNAGpJ54"
      },
      "execution_count": null,
      "outputs": []
    },
    {
      "cell_type": "code",
      "source": [
        "# calculate the adjusted mortality rate (100,000 inhabitants)\n",
        "gdf['CA_2022'] = round((gdf['C_2022']/gdf['A_2022'])*100000, 2)"
      ],
      "metadata": {
        "id": "pDtUzahnpJ54"
      },
      "execution_count": null,
      "outputs": []
    },
    {
      "cell_type": "code",
      "source": [
        "# Display summary statistics for the 'CA_2022' column\n",
        "init_notebook_mode(all_interactive=False)\n",
        "gdf['CA_2022'].describe()"
      ],
      "metadata": {
        "id": "qPF-cDq0pJ54"
      },
      "execution_count": null,
      "outputs": []
    },
    {
      "cell_type": "code",
      "source": [
        "# Save the GeoDataFrame to a shapefile with UTF-8 encoding\n",
        "gdf.to_file(\"pdt/asthma_mortality/data/shp/tma_2001_2022.shp\", encoding='utf-8')"
      ],
      "metadata": {
        "id": "aVjTfdUUpJ54"
      },
      "execution_count": null,
      "outputs": []
    }
  ]
}
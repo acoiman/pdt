{
  "nbformat": 4,
  "nbformat_minor": 0,
  "metadata": {
    "colab": {
      "provenance": [],
      "toc_visible": true,
      "authorship_tag": "ABX9TyPaRoyMcxA9W0dCMw1aNniG",
      "include_colab_link": true
    },
    "kernelspec": {
      "name": "python3",
      "display_name": "Python 3"
    },
    "language_info": {
      "name": "python"
    }
  },
  "cells": [
    {
      "cell_type": "markdown",
      "metadata": {
        "id": "view-in-github",
        "colab_type": "text"
      },
      "source": [
        "<a href=\"https://colab.research.google.com/github/acoiman/pdt/blob/main/asthma_mortality/notebooks/colab/01_Asthma_Mortality_EDA_01.ipynb\" target=\"_parent\"><img src=\"https://colab.research.google.com/assets/colab-badge.svg\" alt=\"Open In Colab\"/></a>"
      ]
    },
    {
      "cell_type": "markdown",
      "source": [
        "# Asthma Mortality Data Preprocessing (Part 1)\n",
        "\n",
        "In Part 1 of the data preprocessing, we will clean the asthma mortality data. The processing will consist of: i) Missing data handling; ii) Duplicate removal; and iii) Data validation."
      ],
      "metadata": {
        "id": "MBYCwGGIwyPO"
      }
    },
    {
      "cell_type": "markdown",
      "source": [
        "## Load libraries\n",
        "\n",
        "Libraries required for the analysis will be loaded"
      ],
      "metadata": {
        "id": "aja7CzZzjQth"
      }
    },
    {
      "cell_type": "code",
      "source": [
        "# DataFrame libraries\n",
        "import pandas as pd\n",
        "from pandas.api.types import CategoricalDtype\n",
        "\n",
        "# other libraries\n",
        "import csv\n"
      ],
      "metadata": {
        "id": "k4VaPq1vw5-E"
      },
      "execution_count": 1,
      "outputs": []
    },
    {
      "cell_type": "markdown",
      "source": [
        "## Load data\n",
        "\n",
        "The data on asthma mortality will be loaded and displayed for preprocessing and analysis."
      ],
      "metadata": {
        "id": "khJgh4nzjOQY"
      }
    },
    {
      "cell_type": "code",
      "source": [
        "#  Read an Excel file into a pandas DataFrame\n",
        "df = pd.read_excel(\"pdt/asthma_mortality/data/xls/def_asma_2001_2023.xlsx\")"
      ],
      "metadata": {
        "id": "72nLQiEa8aA4"
      },
      "execution_count": 8,
      "outputs": []
    },
    {
      "cell_type": "code",
      "source": [
        "# Display the first few rows of the DataFrame\n",
        "df.head()"
      ],
      "metadata": {
        "colab": {
          "base_uri": "https://localhost:8080/",
          "height": 206
        },
        "outputId": "5cd209ac-e8f9-4a88-8c30-17346ef9c357",
        "id": "T518SfF78aA4"
      },
      "execution_count": 9,
      "outputs": [
        {
          "output_type": "execute_result",
          "data": {
            "text/plain": [
              "    Año  Prov_resid  Dep_Resid  Sexo     Grupedad  Cantidad\n",
              "0  2001           2        999     2   03.45 a 64         1\n",
              "1  2001           2        999     2  05.75 y más         1\n",
              "2  2001           2        999     1   04.65 a 74         1\n",
              "3  2001           2        999     1   04.65 a 74         1\n",
              "4  2001           2        999     2  05.75 y más         1"
            ],
            "text/html": [
              "<div>\n",
              "<style scoped>\n",
              "    .dataframe tbody tr th:only-of-type {\n",
              "        vertical-align: middle;\n",
              "    }\n",
              "\n",
              "    .dataframe tbody tr th {\n",
              "        vertical-align: top;\n",
              "    }\n",
              "\n",
              "    .dataframe thead th {\n",
              "        text-align: right;\n",
              "    }\n",
              "</style>\n",
              "<table border=\"1\" class=\"dataframe\">\n",
              "  <thead>\n",
              "    <tr style=\"text-align: right;\">\n",
              "      <th></th>\n",
              "      <th>Año</th>\n",
              "      <th>Prov_resid</th>\n",
              "      <th>Dep_Resid</th>\n",
              "      <th>Sexo</th>\n",
              "      <th>Grupedad</th>\n",
              "      <th>Cantidad</th>\n",
              "    </tr>\n",
              "  </thead>\n",
              "  <tbody>\n",
              "    <tr>\n",
              "      <th>0</th>\n",
              "      <td>2001</td>\n",
              "      <td>2</td>\n",
              "      <td>999</td>\n",
              "      <td>2</td>\n",
              "      <td>03.45 a 64</td>\n",
              "      <td>1</td>\n",
              "    </tr>\n",
              "    <tr>\n",
              "      <th>1</th>\n",
              "      <td>2001</td>\n",
              "      <td>2</td>\n",
              "      <td>999</td>\n",
              "      <td>2</td>\n",
              "      <td>05.75 y más</td>\n",
              "      <td>1</td>\n",
              "    </tr>\n",
              "    <tr>\n",
              "      <th>2</th>\n",
              "      <td>2001</td>\n",
              "      <td>2</td>\n",
              "      <td>999</td>\n",
              "      <td>1</td>\n",
              "      <td>04.65 a 74</td>\n",
              "      <td>1</td>\n",
              "    </tr>\n",
              "    <tr>\n",
              "      <th>3</th>\n",
              "      <td>2001</td>\n",
              "      <td>2</td>\n",
              "      <td>999</td>\n",
              "      <td>1</td>\n",
              "      <td>04.65 a 74</td>\n",
              "      <td>1</td>\n",
              "    </tr>\n",
              "    <tr>\n",
              "      <th>4</th>\n",
              "      <td>2001</td>\n",
              "      <td>2</td>\n",
              "      <td>999</td>\n",
              "      <td>2</td>\n",
              "      <td>05.75 y más</td>\n",
              "      <td>1</td>\n",
              "    </tr>\n",
              "  </tbody>\n",
              "</table>\n",
              "</div>"
            ]
          },
          "metadata": {},
          "execution_count": 9
        }
      ]
    },
    {
      "cell_type": "code",
      "source": [
        "# Return the number of rows in the DataFrame.\n",
        "len(df)"
      ],
      "metadata": {
        "colab": {
          "base_uri": "https://localhost:8080/"
        },
        "outputId": "162861ce-6be6-4763-db00-a11ea2d1e953",
        "id": "SSjw8oh08aA4"
      },
      "execution_count": 10,
      "outputs": [
        {
          "output_type": "execute_result",
          "data": {
            "text/plain": [
              "8404"
            ]
          },
          "metadata": {},
          "execution_count": 10
        }
      ]
    },
    {
      "cell_type": "code",
      "source": [
        "# Filter the DataFrame `df` to exclude rows where the value in the 'Año' column is equal to 2023.\n",
        "df = df[df['Año'] != 2023]"
      ],
      "metadata": {
        "id": "tjVLBz2QUQX3"
      },
      "execution_count": 11,
      "outputs": []
    },
    {
      "cell_type": "code",
      "source": [
        "# Return unique values in the \"Año\" column of a DataFrame\n",
        "df[\"Año\"].unique()"
      ],
      "metadata": {
        "colab": {
          "base_uri": "https://localhost:8080/"
        },
        "id": "aAbfq3IrUtev",
        "outputId": "ab0ce1b6-750d-4add-8a56-869b0b99d64f"
      },
      "execution_count": 12,
      "outputs": [
        {
          "output_type": "execute_result",
          "data": {
            "text/plain": [
              "array([2001, 2002, 2003, 2004, 2005, 2006, 2007, 2008, 2009, 2010, 2011,\n",
              "       2012, 2013, 2014, 2015, 2016, 2017, 2018, 2019, 2020, 2021, 2022])"
            ]
          },
          "metadata": {},
          "execution_count": 12
        }
      ]
    },
    {
      "cell_type": "code",
      "source": [
        "# Return the number of rows in the DataFrame.\n",
        "len(df)"
      ],
      "metadata": {
        "colab": {
          "base_uri": "https://localhost:8080/"
        },
        "id": "hsAhDyF2UoOv",
        "outputId": "9e099f1d-6d39-4887-f912-a3d2f9dc80ac"
      },
      "execution_count": 13,
      "outputs": [
        {
          "output_type": "execute_result",
          "data": {
            "text/plain": [
              "8178"
            ]
          },
          "metadata": {},
          "execution_count": 13
        }
      ]
    },
    {
      "cell_type": "code",
      "source": [
        "# difference in length of dataframe\n",
        "8404-8178"
      ],
      "metadata": {
        "colab": {
          "base_uri": "https://localhost:8080/"
        },
        "id": "7e0oVacMU41p",
        "outputId": "878211e5-d210-4963-a157-a506f2c8e3ec"
      },
      "execution_count": 14,
      "outputs": [
        {
          "output_type": "execute_result",
          "data": {
            "text/plain": [
              "226"
            ]
          },
          "metadata": {},
          "execution_count": 14
        }
      ]
    },
    {
      "cell_type": "markdown",
      "source": [
        "226 (8404-8178) samples corresponding to the year 2023 were excluded"
      ],
      "metadata": {
        "id": "2kJ2Ga1uU-qT"
      }
    },
    {
      "cell_type": "markdown",
      "source": [
        "## Misssing values\n",
        "\n",
        "Missing values ​​will be identified from each column\n"
      ],
      "metadata": {
        "id": "9scZoKjJingO"
      }
    },
    {
      "cell_type": "code",
      "source": [
        "# Display a concise summary of a DataFrame including the index dtype and column dtypes, non-null values, and memory usage.\n",
        "df.info()"
      ],
      "metadata": {
        "colab": {
          "base_uri": "https://localhost:8080/"
        },
        "id": "fPencpuqiuGB",
        "outputId": "3c4735a1-1e7a-4336-f8c1-7102ff537d9d"
      },
      "execution_count": 16,
      "outputs": [
        {
          "output_type": "stream",
          "name": "stdout",
          "text": [
            "<class 'pandas.core.frame.DataFrame'>\n",
            "Index: 8178 entries, 0 to 8177\n",
            "Data columns (total 6 columns):\n",
            " #   Column      Non-Null Count  Dtype \n",
            "---  ------      --------------  ----- \n",
            " 0   Año         8178 non-null   int64 \n",
            " 1   Prov_resid  8178 non-null   int64 \n",
            " 2   Dep_Resid   8178 non-null   int64 \n",
            " 3   Sexo        8178 non-null   int64 \n",
            " 4   Grupedad    8178 non-null   object\n",
            " 5   Cantidad    8178 non-null   int64 \n",
            "dtypes: int64(5), object(1)\n",
            "memory usage: 447.2+ KB\n"
          ]
        }
      ]
    },
    {
      "cell_type": "markdown",
      "source": [
        "## Duplicate values\n",
        "For this dataset it is not necessary to remove duplicate values"
      ],
      "metadata": {
        "id": "QguFIkpl9_0w"
      }
    },
    {
      "cell_type": "markdown",
      "source": [
        "## Data validation\n",
        "Data validation involves verifying and modifying data so that its values ​​are consistent with its corresponding classes. The following operations will be performed:\n",
        "\n",
        "* Generate a column for department ID (IDDPTO) to match Argentina's official administrative divisions.\n",
        "\n",
        "* Check column sex values ​​(e.g., \"Male,\" \"Female,\" \"Other/Unknown\").\n",
        "\n",
        "* Verify that age group categories are consistent (e.g., \"0-4\", \"5-14\", \"15-24\", etc.)\n",
        "\n",
        "* Verify that the death toll is not negative.\n",
        "\n",
        "\n",
        "\n"
      ],
      "metadata": {
        "id": "qjbs-mmq-slL"
      }
    },
    {
      "cell_type": "markdown",
      "source": [
        "### Creating a column for department ID(IDDPTO)\n",
        "\n"
      ],
      "metadata": {
        "id": "iXCmEimVo51q"
      }
    },
    {
      "cell_type": "markdown",
      "source": [
        "Samples with undefined provinces and departments will be eliminated"
      ],
      "metadata": {
        "id": "Pi_FtbRePayh"
      }
    },
    {
      "cell_type": "code",
      "source": [
        "# Filter a DataFrame to exclude rows where the 'Prov_resid' column is equal to 98 or 99.\n",
        "df = df[(df['Prov_resid'] != 98) & (df['Prov_resid'] != 99)]"
      ],
      "metadata": {
        "id": "rVpZH1eUBQRn"
      },
      "execution_count": 17,
      "outputs": []
    },
    {
      "cell_type": "code",
      "source": [
        "# Return the number of rows in the DataFrame.\n",
        "len(df)"
      ],
      "metadata": {
        "colab": {
          "base_uri": "https://localhost:8080/"
        },
        "id": "zgEWPAOYBm0i",
        "outputId": "a4e8b756-32ec-4b87-a5fe-dfb0f633b0fe"
      },
      "execution_count": 18,
      "outputs": [
        {
          "output_type": "execute_result",
          "data": {
            "text/plain": [
              "8155"
            ]
          },
          "metadata": {},
          "execution_count": 18
        }
      ]
    },
    {
      "cell_type": "code",
      "source": [
        "# difference in length of dataframe\n",
        "8178-8155"
      ],
      "metadata": {
        "colab": {
          "base_uri": "https://localhost:8080/"
        },
        "id": "5QHFtelJBs7n",
        "outputId": "2ae43334-1ecf-4a8b-e14e-a8f08a67250c"
      },
      "execution_count": 20,
      "outputs": [
        {
          "output_type": "execute_result",
          "data": {
            "text/plain": [
              "23"
            ]
          },
          "metadata": {},
          "execution_count": 20
        }
      ]
    },
    {
      "cell_type": "markdown",
      "source": [
        "23 (8178-8155) records belonging to other countries and unspecified provinces were eliminated"
      ],
      "metadata": {
        "id": "eNYRd6clBq4q"
      }
    },
    {
      "cell_type": "markdown",
      "source": [
        "To ensure that department IDs matches the official administrative divisions in Argentina, two functions will be created: 1) adding 0 to digits less than 10 in the \"Prov_resid\" column; 2) adding 0 to digits less than 100 in the \"Dep_Resid\" column."
      ],
      "metadata": {
        "id": "3-rMgyuKA60u"
      }
    },
    {
      "cell_type": "code",
      "source": [
        "# for df['Prov_resid'] append 0 to digts  less than 10\n",
        "\n",
        "# Convert 'Prov_resid' to string type to allow string operations\n",
        "df['Prov_resid'] = df['Prov_resid'].astype(str)\n",
        "\n",
        "# Function to append '0' if the number is less than 10\n",
        "def append_zero(prov):\n",
        "    if len(prov) < 2:  # Check if the string length is less than 2.\n",
        "      return \"0\" + prov\n",
        "    return prov"
      ],
      "metadata": {
        "id": "orLH6ogHAtoC"
      },
      "execution_count": null,
      "outputs": []
    },
    {
      "cell_type": "code",
      "source": [
        "# Apply the function to the 'PROVRE' column\n",
        "df['Prov_resid'] = df['Prov_resid'].apply(append_zero)"
      ],
      "metadata": {
        "id": "Tm8U4AAGB0eQ"
      },
      "execution_count": null,
      "outputs": []
    },
    {
      "cell_type": "code",
      "source": [
        "# Return unique values of the 'Prov_resid' column in the DataFrame 'df'\n",
        "df['Prov_resid'].unique()"
      ],
      "metadata": {
        "colab": {
          "base_uri": "https://localhost:8080/"
        },
        "id": "E4H83bk0B63s",
        "outputId": "a3fa40da-e314-4f4c-ef44-b8c29f0fb196"
      },
      "execution_count": 24,
      "outputs": [
        {
          "output_type": "execute_result",
          "data": {
            "text/plain": [
              "array(['02', '06', '10', '14', '18', '22', '30', '34', '38', '42', '46',\n",
              "       '50', '54', '58', '62', '66', '74', '82', '86', '90', '94', '26',\n",
              "       '70', '78'], dtype=object)"
            ]
          },
          "metadata": {},
          "execution_count": 24
        }
      ]
    },
    {
      "cell_type": "markdown",
      "source": [
        "DEIS (Dirección de Estadísticas e Información de la Salud) considered the City of Buenos Aires (CABA) as a single geographic. The subdivision of the City of Buenos Aires (CABA) was not homogeneous throughout the requested period (2001–2022). Therefore, the City of Buenos Aires (CABA) will be treated as a single department, assigning '000' value to all its polygons in the 'Dep_Resid' column."
      ],
      "metadata": {
        "id": "G-9zk3nCC8F7"
      }
    },
    {
      "cell_type": "code",
      "source": [
        "# for Dep_Resid == 02 assign  000 for IDDPTO\n",
        "\n",
        "# Convert 'Dep_Resid' to string type if it's not already\n",
        "df['Prov_resid'] = df['Prov_resid'].astype(str)\n",
        "\n",
        "# Create a boolean mask where Dep_Resid is '02'\n",
        "mask = df['Prov_resid'] == '02'\n",
        "\n",
        "# Assign '02000' to Dep_Resid where the mask is True\n",
        "df.loc[mask, 'Dep_Resid'] = '000'"
      ],
      "metadata": {
        "id": "wpH7tvnHCID_"
      },
      "execution_count": null,
      "outputs": []
    },
    {
      "cell_type": "code",
      "source": [
        "# Display the first few rows of the DataFrame.\n",
        "df.head()"
      ],
      "metadata": {
        "colab": {
          "base_uri": "https://localhost:8080/",
          "height": 206
        },
        "id": "uaj727ktCIOW",
        "outputId": "ee8ae973-c0f1-41a8-d134-d2836f6ff8d9"
      },
      "execution_count": 27,
      "outputs": [
        {
          "output_type": "execute_result",
          "data": {
            "text/plain": [
              "    Año Prov_resid Dep_Resid  Sexo     Grupedad  Cantidad\n",
              "0  2001         02       000     2   03.45 a 64         1\n",
              "1  2001         02       000     2  05.75 y más         1\n",
              "2  2001         02       000     1   04.65 a 74         1\n",
              "3  2001         02       000     1   04.65 a 74         1\n",
              "4  2001         02       000     2  05.75 y más         1"
            ],
            "text/html": [
              "<div>\n",
              "<style scoped>\n",
              "    .dataframe tbody tr th:only-of-type {\n",
              "        vertical-align: middle;\n",
              "    }\n",
              "\n",
              "    .dataframe tbody tr th {\n",
              "        vertical-align: top;\n",
              "    }\n",
              "\n",
              "    .dataframe thead th {\n",
              "        text-align: right;\n",
              "    }\n",
              "</style>\n",
              "<table border=\"1\" class=\"dataframe\">\n",
              "  <thead>\n",
              "    <tr style=\"text-align: right;\">\n",
              "      <th></th>\n",
              "      <th>Año</th>\n",
              "      <th>Prov_resid</th>\n",
              "      <th>Dep_Resid</th>\n",
              "      <th>Sexo</th>\n",
              "      <th>Grupedad</th>\n",
              "      <th>Cantidad</th>\n",
              "    </tr>\n",
              "  </thead>\n",
              "  <tbody>\n",
              "    <tr>\n",
              "      <th>0</th>\n",
              "      <td>2001</td>\n",
              "      <td>02</td>\n",
              "      <td>000</td>\n",
              "      <td>2</td>\n",
              "      <td>03.45 a 64</td>\n",
              "      <td>1</td>\n",
              "    </tr>\n",
              "    <tr>\n",
              "      <th>1</th>\n",
              "      <td>2001</td>\n",
              "      <td>02</td>\n",
              "      <td>000</td>\n",
              "      <td>2</td>\n",
              "      <td>05.75 y más</td>\n",
              "      <td>1</td>\n",
              "    </tr>\n",
              "    <tr>\n",
              "      <th>2</th>\n",
              "      <td>2001</td>\n",
              "      <td>02</td>\n",
              "      <td>000</td>\n",
              "      <td>1</td>\n",
              "      <td>04.65 a 74</td>\n",
              "      <td>1</td>\n",
              "    </tr>\n",
              "    <tr>\n",
              "      <th>3</th>\n",
              "      <td>2001</td>\n",
              "      <td>02</td>\n",
              "      <td>000</td>\n",
              "      <td>1</td>\n",
              "      <td>04.65 a 74</td>\n",
              "      <td>1</td>\n",
              "    </tr>\n",
              "    <tr>\n",
              "      <th>4</th>\n",
              "      <td>2001</td>\n",
              "      <td>02</td>\n",
              "      <td>000</td>\n",
              "      <td>2</td>\n",
              "      <td>05.75 y más</td>\n",
              "      <td>1</td>\n",
              "    </tr>\n",
              "  </tbody>\n",
              "</table>\n",
              "</div>"
            ]
          },
          "metadata": {},
          "execution_count": 27
        }
      ]
    },
    {
      "cell_type": "code",
      "source": [
        "# Return unique values of the 'Dep_Resid' column in the DataFrame 'df'\n",
        "df['Dep_Resid'].unique()"
      ],
      "metadata": {
        "colab": {
          "base_uri": "https://localhost:8080/"
        },
        "id": "EDD71aKpCIUv",
        "outputId": "ba7d2b60-ff1a-4a62-aeb8-1f560c5c1846"
      },
      "execution_count": 28,
      "outputs": [
        {
          "output_type": "execute_result",
          "data": {
            "text/plain": [
              "array(['000', 28, 35, 91, 126, 196, 203, 217, 252, 260, 270, 274, 322,\n",
              "       357, 371, 410, 412, 413, 427, 441, 462, 505, 539, 568, 595, 638,\n",
              "       644, 658, 707, 714, 760, 833, 840, 999, 49, 14, 21, 42, 63, 84, 98,\n",
              "       105, 112, 119, 140, 147, 7, 70, 77, 161, 15, 113, 56, 210, 238,\n",
              "       408, 420, 434, 455, 490, 511, 515, 532, 560, 581, 623, 651, 749,\n",
              "       756, 805, 861, 133, 294, 497, 648, 665, 672, 770, 826, 182, 8, 175,\n",
              "       189, 336, 525, 700, 728, 735, 778, 791, 847, 854, 134, 231, 266,\n",
              "       277, 655, 763, 798, 43, 385, 469, 609, 882, 88, 364, 588, 693, 819,\n",
              "       154, 168, 36, 476, 686, 875, 301, 280, 483, 784, 547, 630, 245,\n",
              "       315, 518, 39, 287, 392, 574, 351, 868, 679, 812, 224, 616, 721,\n",
              "       602, 742, 406, 466, 399, 218, 448, 94, 329, 343, 553], dtype=object)"
            ]
          },
          "metadata": {},
          "execution_count": 28
        }
      ]
    },
    {
      "cell_type": "code",
      "source": [
        "# select all samples where Dep_Resid == 999\n",
        "selected_samples = df[df['Dep_Resid'] == 999]\n",
        "selected_samples"
      ],
      "metadata": {
        "colab": {
          "base_uri": "https://localhost:8080/",
          "height": 424
        },
        "id": "YZAfyIHXCIYA",
        "outputId": "d76fbfb0-0103-4082-f601-e134d2b8f4ed"
      },
      "execution_count": 29,
      "outputs": [
        {
          "output_type": "execute_result",
          "data": {
            "text/plain": [
              "       Año Prov_resid Dep_Resid  Sexo    Grupedad  Cantidad\n",
              "50    2001         06       999     2  04.65 a 74         1\n",
              "314   2001         18       999     2  04.65 a 74         1\n",
              "350   2001         62       999     2  03.45 a 64         1\n",
              "483   2001         66       999     2  03.45 a 64         1\n",
              "484   2001         66       999     2  04.65 a 74         1\n",
              "...    ...        ...       ...   ...         ...       ...\n",
              "7254  2019         30       999     2  03.45 a 64         1\n",
              "7319  2019         86       999     2  03.45 a 64         1\n",
              "7357  2020         06       999     1  04.65 a 74         1\n",
              "7928  2022         78       999     2  04.65 a 74         1\n",
              "8058  2022         06       999     2  02.20 a 44         1\n",
              "\n",
              "[85 rows x 6 columns]"
            ],
            "text/html": [
              "<div>\n",
              "<style scoped>\n",
              "    .dataframe tbody tr th:only-of-type {\n",
              "        vertical-align: middle;\n",
              "    }\n",
              "\n",
              "    .dataframe tbody tr th {\n",
              "        vertical-align: top;\n",
              "    }\n",
              "\n",
              "    .dataframe thead th {\n",
              "        text-align: right;\n",
              "    }\n",
              "</style>\n",
              "<table border=\"1\" class=\"dataframe\">\n",
              "  <thead>\n",
              "    <tr style=\"text-align: right;\">\n",
              "      <th></th>\n",
              "      <th>Año</th>\n",
              "      <th>Prov_resid</th>\n",
              "      <th>Dep_Resid</th>\n",
              "      <th>Sexo</th>\n",
              "      <th>Grupedad</th>\n",
              "      <th>Cantidad</th>\n",
              "    </tr>\n",
              "  </thead>\n",
              "  <tbody>\n",
              "    <tr>\n",
              "      <th>50</th>\n",
              "      <td>2001</td>\n",
              "      <td>06</td>\n",
              "      <td>999</td>\n",
              "      <td>2</td>\n",
              "      <td>04.65 a 74</td>\n",
              "      <td>1</td>\n",
              "    </tr>\n",
              "    <tr>\n",
              "      <th>314</th>\n",
              "      <td>2001</td>\n",
              "      <td>18</td>\n",
              "      <td>999</td>\n",
              "      <td>2</td>\n",
              "      <td>04.65 a 74</td>\n",
              "      <td>1</td>\n",
              "    </tr>\n",
              "    <tr>\n",
              "      <th>350</th>\n",
              "      <td>2001</td>\n",
              "      <td>62</td>\n",
              "      <td>999</td>\n",
              "      <td>2</td>\n",
              "      <td>03.45 a 64</td>\n",
              "      <td>1</td>\n",
              "    </tr>\n",
              "    <tr>\n",
              "      <th>483</th>\n",
              "      <td>2001</td>\n",
              "      <td>66</td>\n",
              "      <td>999</td>\n",
              "      <td>2</td>\n",
              "      <td>03.45 a 64</td>\n",
              "      <td>1</td>\n",
              "    </tr>\n",
              "    <tr>\n",
              "      <th>484</th>\n",
              "      <td>2001</td>\n",
              "      <td>66</td>\n",
              "      <td>999</td>\n",
              "      <td>2</td>\n",
              "      <td>04.65 a 74</td>\n",
              "      <td>1</td>\n",
              "    </tr>\n",
              "    <tr>\n",
              "      <th>...</th>\n",
              "      <td>...</td>\n",
              "      <td>...</td>\n",
              "      <td>...</td>\n",
              "      <td>...</td>\n",
              "      <td>...</td>\n",
              "      <td>...</td>\n",
              "    </tr>\n",
              "    <tr>\n",
              "      <th>7254</th>\n",
              "      <td>2019</td>\n",
              "      <td>30</td>\n",
              "      <td>999</td>\n",
              "      <td>2</td>\n",
              "      <td>03.45 a 64</td>\n",
              "      <td>1</td>\n",
              "    </tr>\n",
              "    <tr>\n",
              "      <th>7319</th>\n",
              "      <td>2019</td>\n",
              "      <td>86</td>\n",
              "      <td>999</td>\n",
              "      <td>2</td>\n",
              "      <td>03.45 a 64</td>\n",
              "      <td>1</td>\n",
              "    </tr>\n",
              "    <tr>\n",
              "      <th>7357</th>\n",
              "      <td>2020</td>\n",
              "      <td>06</td>\n",
              "      <td>999</td>\n",
              "      <td>1</td>\n",
              "      <td>04.65 a 74</td>\n",
              "      <td>1</td>\n",
              "    </tr>\n",
              "    <tr>\n",
              "      <th>7928</th>\n",
              "      <td>2022</td>\n",
              "      <td>78</td>\n",
              "      <td>999</td>\n",
              "      <td>2</td>\n",
              "      <td>04.65 a 74</td>\n",
              "      <td>1</td>\n",
              "    </tr>\n",
              "    <tr>\n",
              "      <th>8058</th>\n",
              "      <td>2022</td>\n",
              "      <td>06</td>\n",
              "      <td>999</td>\n",
              "      <td>2</td>\n",
              "      <td>02.20 a 44</td>\n",
              "      <td>1</td>\n",
              "    </tr>\n",
              "  </tbody>\n",
              "</table>\n",
              "<p>85 rows × 6 columns</p>\n",
              "</div>"
            ]
          },
          "metadata": {},
          "execution_count": 29
        }
      ]
    },
    {
      "cell_type": "code",
      "source": [
        "# delete 999 (sin especificar) for 'Dep_Resid'\n",
        "df = df[(df['Dep_Resid'] != 999)]"
      ],
      "metadata": {
        "id": "MhBBXDZHGhwi"
      },
      "execution_count": null,
      "outputs": []
    },
    {
      "cell_type": "code",
      "source": [
        "# Return unique values of the 'Dep_Resid' column in the DataFrame 'df'\n",
        "df['Dep_Resid'].unique()"
      ],
      "metadata": {
        "colab": {
          "base_uri": "https://localhost:8080/"
        },
        "id": "9_REhk4nGhz2",
        "outputId": "bc25f4ad-c388-4ac5-8be6-051debc50b09"
      },
      "execution_count": 30,
      "outputs": [
        {
          "output_type": "execute_result",
          "data": {
            "text/plain": [
              "array(['000', 28, 35, 91, 126, 196, 203, 217, 252, 260, 270, 274, 322,\n",
              "       357, 371, 410, 412, 413, 427, 441, 462, 505, 539, 568, 595, 638,\n",
              "       644, 658, 707, 714, 760, 833, 840, 999, 49, 14, 21, 42, 63, 84, 98,\n",
              "       105, 112, 119, 140, 147, 7, 70, 77, 161, 15, 113, 56, 210, 238,\n",
              "       408, 420, 434, 455, 490, 511, 515, 532, 560, 581, 623, 651, 749,\n",
              "       756, 805, 861, 133, 294, 497, 648, 665, 672, 770, 826, 182, 8, 175,\n",
              "       189, 336, 525, 700, 728, 735, 778, 791, 847, 854, 134, 231, 266,\n",
              "       277, 655, 763, 798, 43, 385, 469, 609, 882, 88, 364, 588, 693, 819,\n",
              "       154, 168, 36, 476, 686, 875, 301, 280, 483, 784, 547, 630, 245,\n",
              "       315, 518, 39, 287, 392, 574, 351, 868, 679, 812, 224, 616, 721,\n",
              "       602, 742, 406, 466, 399, 218, 448, 94, 329, 343, 553], dtype=object)"
            ]
          },
          "metadata": {},
          "execution_count": 30
        }
      ]
    },
    {
      "cell_type": "code",
      "source": [
        "# Return the number of rows in the DataFrame.\n",
        "len(df)"
      ],
      "metadata": {
        "colab": {
          "base_uri": "https://localhost:8080/"
        },
        "id": "os-raPj4Gh2u",
        "outputId": "7da43082-7e78-4190-d4fb-54e22bff5cc4"
      },
      "execution_count": 31,
      "outputs": [
        {
          "output_type": "execute_result",
          "data": {
            "text/plain": [
              "8155"
            ]
          },
          "metadata": {},
          "execution_count": 31
        }
      ]
    },
    {
      "cell_type": "code",
      "source": [
        "# difference in length of dataframe\n",
        "8155-8070"
      ],
      "metadata": {
        "colab": {
          "base_uri": "https://localhost:8080/"
        },
        "id": "Qt_1UA7jGh5h",
        "outputId": "aed57693-d1ba-4b3a-d5a1-ad3bf3dfb2a8"
      },
      "execution_count": 32,
      "outputs": [
        {
          "output_type": "execute_result",
          "data": {
            "text/plain": [
              "85"
            ]
          },
          "metadata": {},
          "execution_count": 32
        }
      ]
    },
    {
      "cell_type": "markdown",
      "source": [
        "85 (8155-8070) records belonging to unspecified departments were deleted"
      ],
      "metadata": {
        "id": "sgHMfXWwHM1l"
      }
    },
    {
      "cell_type": "code",
      "source": [
        "# for df['Dep_Resid'] append 0 to digts  less than 100\n",
        "\n",
        "# Convert 'Dep_Resid' to string type to allow string operations\n",
        "df['Dep_Resid'] = df['Dep_Resid'].astype(str)\n",
        "\n",
        "# Function to append '0' if the number is less than 100\n",
        "def append_zero(prov):\n",
        "    if len(prov) < 2:  # Check if the string length is less than 2.\n",
        "      return \"00\" + prov\n",
        "    else:\n",
        "      if len(prov) < 3:\n",
        "        return \"0\" + prov\n",
        "    return prov"
      ],
      "metadata": {
        "id": "NDyseBvUHE2h"
      },
      "execution_count": null,
      "outputs": []
    },
    {
      "cell_type": "code",
      "source": [
        "# Apply the function to the 'PROVRE' column\n",
        "df['Dep_Resid'] = df['Dep_Resid'].apply(append_zero)"
      ],
      "metadata": {
        "id": "YaMvIo_5HE5b"
      },
      "execution_count": null,
      "outputs": []
    },
    {
      "cell_type": "code",
      "source": [
        "# Return unique values of the 'Dep_Resid' column in the DataFrame 'df'\n",
        "df['Dep_Resid'].unique()"
      ],
      "metadata": {
        "colab": {
          "base_uri": "https://localhost:8080/"
        },
        "id": "LyTklt89HE8q",
        "outputId": "214a8dd5-662f-4d7b-bbdc-1fcc1bb1be45"
      },
      "execution_count": 37,
      "outputs": [
        {
          "output_type": "execute_result",
          "data": {
            "text/plain": [
              "array(['000', '028', '035', '091', '126', '196', '203', '217', '252',\n",
              "       '260', '270', '274', '322', '357', '371', '410', '412', '413',\n",
              "       '427', '441', '462', '505', '539', '568', '595', '638', '644',\n",
              "       '658', '707', '714', '760', '833', '840', '999', '049', '014',\n",
              "       '021', '042', '063', '084', '098', '105', '112', '119', '140',\n",
              "       '147', '007', '070', '077', '161', '015', '113', '056', '210',\n",
              "       '238', '408', '420', '434', '455', '490', '511', '515', '532',\n",
              "       '560', '581', '623', '651', '749', '756', '805', '861', '133',\n",
              "       '294', '497', '648', '665', '672', '770', '826', '182', '008',\n",
              "       '175', '189', '336', '525', '700', '728', '735', '778', '791',\n",
              "       '847', '854', '134', '231', '266', '277', '655', '763', '798',\n",
              "       '043', '385', '469', '609', '882', '088', '364', '588', '693',\n",
              "       '819', '154', '168', '036', '476', '686', '875', '301', '280',\n",
              "       '483', '784', '547', '630', '245', '315', '518', '039', '287',\n",
              "       '392', '574', '351', '868', '679', '812', '224', '616', '721',\n",
              "       '602', '742', '406', '466', '399', '218', '448', '094', '329',\n",
              "       '343', '553'], dtype=object)"
            ]
          },
          "metadata": {},
          "execution_count": 37
        }
      ]
    },
    {
      "cell_type": "markdown",
      "source": [
        "Create a unique department identification (IDDPTO) based on \"Prov_resid\" + \"Dep_Resid\" according to INDEC (Instituto Nacional de Estadística y Censos) geographic codes (https://www.indec.gob.ar/indec/web/Nivel3-Tema-1-39)."
      ],
      "metadata": {
        "id": "RodrYmhEP8tP"
      }
    },
    {
      "cell_type": "code",
      "source": [
        "# Add two columns 'Prov_resid' and 'Dep_Resid' from a DataFrame and assign the sum to a new column 'IDDPTO'.\n",
        "df['IDDPTO'] = df['Prov_resid'] + df['Dep_Resid']"
      ],
      "metadata": {
        "id": "VTlTU8ZaHE_q",
        "collapsed": true
      },
      "execution_count": null,
      "outputs": []
    },
    {
      "cell_type": "code",
      "source": [
        "# Convert the 'IDDPTO' column in the DataFrame 'df' to a string data type.\n",
        "df['IDDPTO'] = df['IDDPTO'].astype(str)"
      ],
      "metadata": {
        "id": "lMAir73_PgWl",
        "colab": {
          "base_uri": "https://localhost:8080/"
        },
        "outputId": "a3c6a580-5015-4d5c-b624-28354b7af6fb"
      },
      "execution_count": 39,
      "outputs": [
        {
          "output_type": "stream",
          "name": "stderr",
          "text": [
            "/tmp/ipykernel_9/3642154441.py:2: SettingWithCopyWarning: \n",
            "A value is trying to be set on a copy of a slice from a DataFrame.\n",
            "Try using .loc[row_indexer,col_indexer] = value instead\n",
            "\n",
            "See the caveats in the documentation: https://pandas.pydata.org/pandas-docs/stable/user_guide/indexing.html#returning-a-view-versus-a-copy\n",
            "  df['IDDPTO'] = df['IDDPTO'].astype(str)\n"
          ]
        }
      ]
    },
    {
      "cell_type": "code",
      "source": [
        "# Display the first few rows of the DataFrame\n",
        "df.head()"
      ],
      "metadata": {
        "colab": {
          "base_uri": "https://localhost:8080/",
          "height": 206
        },
        "id": "jUWksF4aPgZN",
        "outputId": "87de3704-cf10-45bd-ca44-616f0739740a"
      },
      "execution_count": 40,
      "outputs": [
        {
          "output_type": "execute_result",
          "data": {
            "text/plain": [
              "    Año Prov_resid Dep_Resid  Sexo     Grupedad  Cantidad IDDPTO\n",
              "0  2001         02       000     2   03.45 a 64         1  02000\n",
              "1  2001         02       000     2  05.75 y más         1  02000\n",
              "2  2001         02       000     1   04.65 a 74         1  02000\n",
              "3  2001         02       000     1   04.65 a 74         1  02000\n",
              "4  2001         02       000     2  05.75 y más         1  02000"
            ],
            "text/html": [
              "<div>\n",
              "<style scoped>\n",
              "    .dataframe tbody tr th:only-of-type {\n",
              "        vertical-align: middle;\n",
              "    }\n",
              "\n",
              "    .dataframe tbody tr th {\n",
              "        vertical-align: top;\n",
              "    }\n",
              "\n",
              "    .dataframe thead th {\n",
              "        text-align: right;\n",
              "    }\n",
              "</style>\n",
              "<table border=\"1\" class=\"dataframe\">\n",
              "  <thead>\n",
              "    <tr style=\"text-align: right;\">\n",
              "      <th></th>\n",
              "      <th>Año</th>\n",
              "      <th>Prov_resid</th>\n",
              "      <th>Dep_Resid</th>\n",
              "      <th>Sexo</th>\n",
              "      <th>Grupedad</th>\n",
              "      <th>Cantidad</th>\n",
              "      <th>IDDPTO</th>\n",
              "    </tr>\n",
              "  </thead>\n",
              "  <tbody>\n",
              "    <tr>\n",
              "      <th>0</th>\n",
              "      <td>2001</td>\n",
              "      <td>02</td>\n",
              "      <td>000</td>\n",
              "      <td>2</td>\n",
              "      <td>03.45 a 64</td>\n",
              "      <td>1</td>\n",
              "      <td>02000</td>\n",
              "    </tr>\n",
              "    <tr>\n",
              "      <th>1</th>\n",
              "      <td>2001</td>\n",
              "      <td>02</td>\n",
              "      <td>000</td>\n",
              "      <td>2</td>\n",
              "      <td>05.75 y más</td>\n",
              "      <td>1</td>\n",
              "      <td>02000</td>\n",
              "    </tr>\n",
              "    <tr>\n",
              "      <th>2</th>\n",
              "      <td>2001</td>\n",
              "      <td>02</td>\n",
              "      <td>000</td>\n",
              "      <td>1</td>\n",
              "      <td>04.65 a 74</td>\n",
              "      <td>1</td>\n",
              "      <td>02000</td>\n",
              "    </tr>\n",
              "    <tr>\n",
              "      <th>3</th>\n",
              "      <td>2001</td>\n",
              "      <td>02</td>\n",
              "      <td>000</td>\n",
              "      <td>1</td>\n",
              "      <td>04.65 a 74</td>\n",
              "      <td>1</td>\n",
              "      <td>02000</td>\n",
              "    </tr>\n",
              "    <tr>\n",
              "      <th>4</th>\n",
              "      <td>2001</td>\n",
              "      <td>02</td>\n",
              "      <td>000</td>\n",
              "      <td>2</td>\n",
              "      <td>05.75 y más</td>\n",
              "      <td>1</td>\n",
              "      <td>02000</td>\n",
              "    </tr>\n",
              "  </tbody>\n",
              "</table>\n",
              "</div>"
            ]
          },
          "metadata": {},
          "execution_count": 40
        }
      ]
    },
    {
      "cell_type": "code",
      "source": [
        "# Rename the columns of a DataFrame.\n",
        "df = df.rename(columns={'Año': 'ANIO', \"Sexo\": \"SEXO\", \"Grupedad\": \"GRUPEDAD\", \"Cantidad\": \"CANTIDAD\"})"
      ],
      "metadata": {
        "id": "vaLs8fkVPgcf"
      },
      "execution_count": 41,
      "outputs": []
    },
    {
      "cell_type": "code",
      "source": [
        "# Select specific columns from a DataFrame.\n",
        "df = df[['ANIO', 'IDDPTO', 'SEXO', 'GRUPEDAD', 'CANTIDAD']]"
      ],
      "metadata": {
        "id": "dgaTIXJrQdb6"
      },
      "execution_count": 42,
      "outputs": []
    },
    {
      "cell_type": "code",
      "source": [
        "# Display the first few rows of the DataFrame\n",
        "df.head()"
      ],
      "metadata": {
        "colab": {
          "base_uri": "https://localhost:8080/",
          "height": 206
        },
        "id": "W0LkEinpQdfJ",
        "outputId": "64b680c8-ad7f-46e4-beb8-2ea1de643b00"
      },
      "execution_count": 43,
      "outputs": [
        {
          "output_type": "execute_result",
          "data": {
            "text/plain": [
              "   ANIO IDDPTO  SEXO     GRUPEDAD  CANTIDAD\n",
              "0  2001  02000     2   03.45 a 64         1\n",
              "1  2001  02000     2  05.75 y más         1\n",
              "2  2001  02000     1   04.65 a 74         1\n",
              "3  2001  02000     1   04.65 a 74         1\n",
              "4  2001  02000     2  05.75 y más         1"
            ],
            "text/html": [
              "<div>\n",
              "<style scoped>\n",
              "    .dataframe tbody tr th:only-of-type {\n",
              "        vertical-align: middle;\n",
              "    }\n",
              "\n",
              "    .dataframe tbody tr th {\n",
              "        vertical-align: top;\n",
              "    }\n",
              "\n",
              "    .dataframe thead th {\n",
              "        text-align: right;\n",
              "    }\n",
              "</style>\n",
              "<table border=\"1\" class=\"dataframe\">\n",
              "  <thead>\n",
              "    <tr style=\"text-align: right;\">\n",
              "      <th></th>\n",
              "      <th>ANIO</th>\n",
              "      <th>IDDPTO</th>\n",
              "      <th>SEXO</th>\n",
              "      <th>GRUPEDAD</th>\n",
              "      <th>CANTIDAD</th>\n",
              "    </tr>\n",
              "  </thead>\n",
              "  <tbody>\n",
              "    <tr>\n",
              "      <th>0</th>\n",
              "      <td>2001</td>\n",
              "      <td>02000</td>\n",
              "      <td>2</td>\n",
              "      <td>03.45 a 64</td>\n",
              "      <td>1</td>\n",
              "    </tr>\n",
              "    <tr>\n",
              "      <th>1</th>\n",
              "      <td>2001</td>\n",
              "      <td>02000</td>\n",
              "      <td>2</td>\n",
              "      <td>05.75 y más</td>\n",
              "      <td>1</td>\n",
              "    </tr>\n",
              "    <tr>\n",
              "      <th>2</th>\n",
              "      <td>2001</td>\n",
              "      <td>02000</td>\n",
              "      <td>1</td>\n",
              "      <td>04.65 a 74</td>\n",
              "      <td>1</td>\n",
              "    </tr>\n",
              "    <tr>\n",
              "      <th>3</th>\n",
              "      <td>2001</td>\n",
              "      <td>02000</td>\n",
              "      <td>1</td>\n",
              "      <td>04.65 a 74</td>\n",
              "      <td>1</td>\n",
              "    </tr>\n",
              "    <tr>\n",
              "      <th>4</th>\n",
              "      <td>2001</td>\n",
              "      <td>02000</td>\n",
              "      <td>2</td>\n",
              "      <td>05.75 y más</td>\n",
              "      <td>1</td>\n",
              "    </tr>\n",
              "  </tbody>\n",
              "</table>\n",
              "</div>"
            ]
          },
          "metadata": {},
          "execution_count": 43
        }
      ]
    },
    {
      "cell_type": "code",
      "source": [
        "# Save the DataFrame to a CSV file without including the index.\n",
        "df.to_csv(\"pdt/asthma_mortality/data/csv/def_asma_2001_2022_clean_01.csv\", index=False)"
      ],
      "metadata": {
        "id": "lu-0SIZ7QdiJ"
      },
      "execution_count": null,
      "outputs": []
    },
    {
      "cell_type": "markdown",
      "source": [
        "### Verificar los valores de sexo"
      ],
      "metadata": {
        "id": "YvP12s1eaTjR"
      }
    },
    {
      "cell_type": "code",
      "source": [
        "# Read a CSV file into a pandas DataFrame\n",
        "df = pd.read_csv(\"pdt/asthma_mortality/data/csv/def_asma_2001_2022_clean_01.csv\")"
      ],
      "metadata": {
        "id": "1dAcspVaQdna"
      },
      "execution_count": 44,
      "outputs": []
    },
    {
      "cell_type": "code",
      "source": [
        "# Display the first few rows of the DataFrame\n",
        "df.head()"
      ],
      "metadata": {
        "colab": {
          "base_uri": "https://localhost:8080/",
          "height": 206
        },
        "id": "2U_znHBWPgfa",
        "outputId": "ed259b16-af8d-4711-ddc8-9e72dfdc1af3"
      },
      "execution_count": 45,
      "outputs": [
        {
          "output_type": "execute_result",
          "data": {
            "text/plain": [
              "   ANIO  IDDPTO  SEXO     GRUPEDAD  CANTIDAD\n",
              "0  2001    2000     2   03.45 a 64         1\n",
              "1  2001    2000     2  05.75 y más         1\n",
              "2  2001    2000     1   04.65 a 74         1\n",
              "3  2001    2000     1   04.65 a 74         1\n",
              "4  2001    2000     2  05.75 y más         1"
            ],
            "text/html": [
              "<div>\n",
              "<style scoped>\n",
              "    .dataframe tbody tr th:only-of-type {\n",
              "        vertical-align: middle;\n",
              "    }\n",
              "\n",
              "    .dataframe tbody tr th {\n",
              "        vertical-align: top;\n",
              "    }\n",
              "\n",
              "    .dataframe thead th {\n",
              "        text-align: right;\n",
              "    }\n",
              "</style>\n",
              "<table border=\"1\" class=\"dataframe\">\n",
              "  <thead>\n",
              "    <tr style=\"text-align: right;\">\n",
              "      <th></th>\n",
              "      <th>ANIO</th>\n",
              "      <th>IDDPTO</th>\n",
              "      <th>SEXO</th>\n",
              "      <th>GRUPEDAD</th>\n",
              "      <th>CANTIDAD</th>\n",
              "    </tr>\n",
              "  </thead>\n",
              "  <tbody>\n",
              "    <tr>\n",
              "      <th>0</th>\n",
              "      <td>2001</td>\n",
              "      <td>2000</td>\n",
              "      <td>2</td>\n",
              "      <td>03.45 a 64</td>\n",
              "      <td>1</td>\n",
              "    </tr>\n",
              "    <tr>\n",
              "      <th>1</th>\n",
              "      <td>2001</td>\n",
              "      <td>2000</td>\n",
              "      <td>2</td>\n",
              "      <td>05.75 y más</td>\n",
              "      <td>1</td>\n",
              "    </tr>\n",
              "    <tr>\n",
              "      <th>2</th>\n",
              "      <td>2001</td>\n",
              "      <td>2000</td>\n",
              "      <td>1</td>\n",
              "      <td>04.65 a 74</td>\n",
              "      <td>1</td>\n",
              "    </tr>\n",
              "    <tr>\n",
              "      <th>3</th>\n",
              "      <td>2001</td>\n",
              "      <td>2000</td>\n",
              "      <td>1</td>\n",
              "      <td>04.65 a 74</td>\n",
              "      <td>1</td>\n",
              "    </tr>\n",
              "    <tr>\n",
              "      <th>4</th>\n",
              "      <td>2001</td>\n",
              "      <td>2000</td>\n",
              "      <td>2</td>\n",
              "      <td>05.75 y más</td>\n",
              "      <td>1</td>\n",
              "    </tr>\n",
              "  </tbody>\n",
              "</table>\n",
              "</div>"
            ]
          },
          "metadata": {},
          "execution_count": 45
        }
      ]
    },
    {
      "cell_type": "code",
      "source": [
        "# Return the number of rows in the DataFrame.\n",
        "len(df)"
      ],
      "metadata": {
        "colab": {
          "base_uri": "https://localhost:8080/"
        },
        "id": "o_HIuRdeVFf3",
        "outputId": "ff219501-4745-408d-d8e0-082d94ed74a9"
      },
      "execution_count": 46,
      "outputs": [
        {
          "output_type": "execute_result",
          "data": {
            "text/plain": [
              "8070"
            ]
          },
          "metadata": {},
          "execution_count": 46
        }
      ]
    },
    {
      "cell_type": "code",
      "source": [
        "# Return unique values in the 'SEXO' column of the DataFrame 'df'\n",
        "df['SEXO'].unique()"
      ],
      "metadata": {
        "colab": {
          "base_uri": "https://localhost:8080/"
        },
        "id": "oplGYaO7HFC8",
        "outputId": "79ba7686-2010-437b-c9f2-0438455f4531"
      },
      "execution_count": 47,
      "outputs": [
        {
          "output_type": "execute_result",
          "data": {
            "text/plain": [
              "array([2, 1, 9])"
            ]
          },
          "metadata": {},
          "execution_count": 47
        }
      ]
    },
    {
      "cell_type": "code",
      "source": [
        "# Filter the DataFrame `df` to exclude rows where the 'SEXO' column has a value of 9.\n",
        "df = df[df['SEXO'] != 9]"
      ],
      "metadata": {
        "id": "wL0bSa9LU00-"
      },
      "execution_count": 48,
      "outputs": []
    },
    {
      "cell_type": "code",
      "source": [
        "# Return unique values in the 'SEXO' column of the DataFrame 'df'\n",
        "df['SEXO'].unique()"
      ],
      "metadata": {
        "colab": {
          "base_uri": "https://localhost:8080/"
        },
        "id": "EVoh0OfFlIEq",
        "outputId": "b49d8e1f-f14f-4474-f91f-6b3f9a62fbad"
      },
      "execution_count": 49,
      "outputs": [
        {
          "output_type": "execute_result",
          "data": {
            "text/plain": [
              "array([2, 1])"
            ]
          },
          "metadata": {},
          "execution_count": 49
        }
      ]
    },
    {
      "cell_type": "code",
      "source": [
        "# Return the number of rows in the DataFrame.\n",
        "len(df)"
      ],
      "metadata": {
        "colab": {
          "base_uri": "https://localhost:8080/"
        },
        "id": "nR1pLJrfVBHQ",
        "outputId": "0d970570-baf0-4505-bdba-5f107a13d016"
      },
      "execution_count": 50,
      "outputs": [
        {
          "output_type": "execute_result",
          "data": {
            "text/plain": [
              "8057"
            ]
          },
          "metadata": {},
          "execution_count": 50
        }
      ]
    },
    {
      "cell_type": "code",
      "source": [
        "# difference in length of dataframe\n",
        "8070-8057"
      ],
      "metadata": {
        "colab": {
          "base_uri": "https://localhost:8080/"
        },
        "id": "aMujyyL9VD6Q",
        "outputId": "f4760f62-ca92-4687-ac27-f583b6a82a56"
      },
      "execution_count": 51,
      "outputs": [
        {
          "output_type": "execute_result",
          "data": {
            "text/plain": [
              "13"
            ]
          },
          "metadata": {},
          "execution_count": 51
        }
      ]
    },
    {
      "cell_type": "markdown",
      "source": [
        "13 records (8070-8057) with undefined sex were eliminated"
      ],
      "metadata": {
        "id": "DA0Ecif6WJf8"
      }
    },
    {
      "cell_type": "code",
      "source": [
        "# Convert the 'SEXO' column in a pandas DataFrame to a categorical data type.\n",
        "df['SEXO'] = pd.Categorical(df['SEXO'])"
      ],
      "metadata": {
        "id": "TATegjZKkwls"
      },
      "execution_count": 52,
      "outputs": []
    },
    {
      "cell_type": "code",
      "source": [
        "# Return unique values in the 'SEXO' column of the DataFrame 'df'\n",
        "df['SEXO'].unique()"
      ],
      "metadata": {
        "colab": {
          "base_uri": "https://localhost:8080/"
        },
        "id": "cOgFowSSlFO5",
        "outputId": "c5665112-82ac-4fce-c724-91aa8fc0f718"
      },
      "execution_count": 53,
      "outputs": [
        {
          "output_type": "execute_result",
          "data": {
            "text/plain": [
              "[2, 1]\n",
              "Categories (2, int64): [1, 2]"
            ]
          },
          "metadata": {},
          "execution_count": 53
        }
      ]
    },
    {
      "cell_type": "markdown",
      "source": [
        "### Check age group categories"
      ],
      "metadata": {
        "id": "K2hB6QFtcfWE"
      }
    },
    {
      "cell_type": "code",
      "source": [
        "# Return unique values in the 'GRUPEDAD' column of the DataFrame 'df'.\n",
        "df['GRUPEDAD'].unique()"
      ],
      "metadata": {
        "colab": {
          "base_uri": "https://localhost:8080/"
        },
        "id": "FkZHTV0HphdN",
        "outputId": "8a0170ed-e628-4fb8-eb9b-7b3e291582c5"
      },
      "execution_count": 54,
      "outputs": [
        {
          "output_type": "execute_result",
          "data": {
            "text/plain": [
              "array(['03.45 a 64', '05.75 y más', '04.65 a 74', '02.20 a 44',\n",
              "       '01.5 a 19', '00.0 a 4', '10.Sin esp'], dtype=object)"
            ]
          },
          "metadata": {},
          "execution_count": 54
        }
      ]
    },
    {
      "cell_type": "code",
      "source": [
        "# Filter the DataFrame to exclude rows where the 'GRUPEDAD' column is equal to '10.Sin esp'.\n",
        "df = df[df['GRUPEDAD'] != '10.Sin esp']"
      ],
      "metadata": {
        "id": "r7VQE1FZlNqI"
      },
      "execution_count": 55,
      "outputs": []
    },
    {
      "cell_type": "code",
      "source": [
        "# Return the number of rows in the DataFrame\n",
        "len(df)"
      ],
      "metadata": {
        "colab": {
          "base_uri": "https://localhost:8080/"
        },
        "id": "oQYh_XualaX5",
        "outputId": "fb9bfc5e-ff19-4c65-c596-4d6f7936e406"
      },
      "execution_count": 56,
      "outputs": [
        {
          "output_type": "execute_result",
          "data": {
            "text/plain": [
              "8028"
            ]
          },
          "metadata": {},
          "execution_count": 56
        }
      ]
    },
    {
      "cell_type": "code",
      "source": [
        "# difference in length of dataframe\n",
        "8057-8028"
      ],
      "metadata": {
        "colab": {
          "base_uri": "https://localhost:8080/"
        },
        "id": "CxwOU6LKlj1G",
        "outputId": "c4d2b19d-33a9-4c7f-a3fb-847966bc7bc2"
      },
      "execution_count": 57,
      "outputs": [
        {
          "output_type": "execute_result",
          "data": {
            "text/plain": [
              "29"
            ]
          },
          "metadata": {},
          "execution_count": 57
        }
      ]
    },
    {
      "cell_type": "markdown",
      "source": [
        "29 records (8057-8028) were deleted with unspecified GROUPEDAD"
      ],
      "metadata": {
        "id": "WEOrgi9YXBI_"
      }
    },
    {
      "cell_type": "markdown",
      "source": [
        "Rename values ​​in GROUPEDAD column\n"
      ],
      "metadata": {
        "id": "Mja82WT2qXiB"
      }
    },
    {
      "cell_type": "code",
      "source": [
        "# Replace specific values in the 'GRUPEDAD' column of a DataFrame with more readable ranges\n",
        "df['GRUPEDAD'] = df['GRUPEDAD'].replace('00.0 a 4', '0-4')\n",
        "df['GRUPEDAD'] = df['GRUPEDAD'].replace('01.5 a 19', '5-19')\n",
        "df['GRUPEDAD'] = df['GRUPEDAD'].replace('02.20 a 44', '20-44')\n",
        "df['GRUPEDAD'] = df['GRUPEDAD'].replace('03.45 a 64', '45-64')\n",
        "df['GRUPEDAD'] = df['GRUPEDAD'].replace('04.65 a 74', '65-74')\n",
        "df['GRUPEDAD'] = df['GRUPEDAD'].replace('05.75 y más', '>= 75')"
      ],
      "metadata": {
        "id": "WlTZ_fHxrrlf"
      },
      "execution_count": 58,
      "outputs": []
    },
    {
      "cell_type": "code",
      "source": [
        "# Return unique values in the 'GRUPEDAD' column of the DataFrame 'df'.\n",
        "df['GRUPEDAD'].unique()"
      ],
      "metadata": {
        "colab": {
          "base_uri": "https://localhost:8080/"
        },
        "id": "SA9INPyPdvrJ",
        "outputId": "1b0d0f20-6756-4303-9e54-d75b61366fac"
      },
      "execution_count": 59,
      "outputs": [
        {
          "output_type": "execute_result",
          "data": {
            "text/plain": [
              "array(['45-64', '>= 75', '65-74', '20-44', '5-19', '0-4'], dtype=object)"
            ]
          },
          "metadata": {},
          "execution_count": 59
        }
      ]
    },
    {
      "cell_type": "code",
      "source": [
        "# Convert 'GRUPEDAD' to ordinal data\n",
        "\n",
        "# Define the desired order of categories\n",
        "categories = ['0-4', '5-19', '20-44', '45-64', '65-74', '>= 75']\n",
        "\n",
        "# Create a categorical data type with the specified order\n",
        "cat_type = CategoricalDtype(categories=categories, ordered=True)\n",
        "\n",
        "# Convert the 'GRUPEDAD' column to the ordinal categorical type\n",
        "df['GRUPEDAD'] = df['GRUPEDAD'].astype(cat_type)\n"
      ],
      "metadata": {
        "id": "y-WxxEEEjuv5"
      },
      "execution_count": 60,
      "outputs": []
    },
    {
      "cell_type": "code",
      "source": [
        "# Return unique values in the 'GRUPEDAD' column of the DataFrame 'df'.\n",
        "df['GRUPEDAD'].unique()"
      ],
      "metadata": {
        "colab": {
          "base_uri": "https://localhost:8080/"
        },
        "id": "A1X0eN-ylroL",
        "outputId": "7103139f-5122-4ea6-ee7d-f7bcdab7ff1b"
      },
      "execution_count": 61,
      "outputs": [
        {
          "output_type": "execute_result",
          "data": {
            "text/plain": [
              "['45-64', '>= 75', '65-74', '20-44', '5-19', '0-4']\n",
              "Categories (6, object): ['0-4' < '5-19' < '20-44' < '45-64' < '65-74' < '>= 75']"
            ]
          },
          "metadata": {},
          "execution_count": 61
        }
      ]
    },
    {
      "cell_type": "markdown",
      "source": [
        "### Check that the death toll is not negative."
      ],
      "metadata": {
        "id": "AvcMNpmXeh7r"
      }
    },
    {
      "cell_type": "code",
      "source": [
        " # Return unique values in the 'CANTIDAD' column of the DataFrame 'df'\n",
        "df['CANTIDAD'].unique()"
      ],
      "metadata": {
        "colab": {
          "base_uri": "https://localhost:8080/"
        },
        "id": "ADVKlgkveFMP",
        "outputId": "070acf81-6b26-46f3-828d-b4bdb140e1b6"
      },
      "execution_count": 62,
      "outputs": [
        {
          "output_type": "execute_result",
          "data": {
            "text/plain": [
              "array([ 1,  2,  3,  5,  4,  7, 13,  6,  8, 10,  9, 11, 12, 16, 14, 15])"
            ]
          },
          "metadata": {},
          "execution_count": 62
        }
      ]
    },
    {
      "cell_type": "code",
      "source": [
        "# Display a concise summary of a DataFrame including the index dtype and column dtypes, non-null values, and memory usage.\n",
        "df.info()"
      ],
      "metadata": {
        "id": "K2oHSQmoaYRy",
        "colab": {
          "base_uri": "https://localhost:8080/"
        },
        "outputId": "6ec4517a-1588-48e3-d38b-307185606c1c"
      },
      "execution_count": 63,
      "outputs": [
        {
          "output_type": "stream",
          "name": "stdout",
          "text": [
            "<class 'pandas.core.frame.DataFrame'>\n",
            "Index: 8028 entries, 0 to 8069\n",
            "Data columns (total 5 columns):\n",
            " #   Column    Non-Null Count  Dtype   \n",
            "---  ------    --------------  -----   \n",
            " 0   ANIO      8028 non-null   int64   \n",
            " 1   IDDPTO    8028 non-null   int64   \n",
            " 2   SEXO      8028 non-null   category\n",
            " 3   GRUPEDAD  8028 non-null   category\n",
            " 4   CANTIDAD  8028 non-null   int64   \n",
            "dtypes: category(2), int64(3)\n",
            "memory usage: 266.9 KB\n"
          ]
        }
      ]
    },
    {
      "cell_type": "code",
      "source": [
        "# Save the DataFrame to a CSV file without including the index.\n",
        "df.to_csv(\"pdt/asthma_mortality/data/csv/def_asma_2001_2022_clean_02.csv\", index=False)"
      ],
      "metadata": {
        "id": "HyxmDA2ahEfA"
      },
      "execution_count": null,
      "outputs": []
    }
  ]
}
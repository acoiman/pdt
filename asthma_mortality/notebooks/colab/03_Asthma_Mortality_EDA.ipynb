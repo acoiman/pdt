{
  "nbformat": 4,
  "nbformat_minor": 0,
  "metadata": {
    "colab": {
      "provenance": [],
      "toc_visible": true,
      "include_colab_link": true
    },
    "kernelspec": {
      "name": "python3",
      "display_name": "Python 3"
    },
    "language_info": {
      "name": "python"
    }
  },
  "cells": [
    {
      "cell_type": "markdown",
      "metadata": {
        "id": "view-in-github",
        "colab_type": "text"
      },
      "source": [
        "<a href=\"https://colab.research.google.com/github/acoiman/pdt/blob/main/asthma_mortality/notebooks/colab/03_Asthma_Mortality_EDA.ipynb\" target=\"_parent\"><img src=\"https://colab.research.google.com/assets/colab-badge.svg\" alt=\"Open In Colab\"/></a>"
      ]
    },
    {
      "cell_type": "markdown",
      "source": [
        "#📊 Exploratory Data Analysis (EDA) of Asthma Mortality."
      ],
      "metadata": {
        "id": "YMkLqFkxnWCG"
      }
    },
    {
      "cell_type": "markdown",
      "source": [
        "The main goal of Exploratory Data Analysis (EDA) of asthma mortality is to discover patterns, trends, and associations between variables that guide the implementation of the methodology to accept or reject our research hypotheses.\n",
        "Our asthma mortality EDA includes:\n",
        "\n",
        "* Descriptive statistics\n",
        "* Temporal analysis\n",
        "* Demographic analysis\n",
        "* Geospatial analysis\n",
        "* Outlier detection"
      ],
      "metadata": {
        "id": "XHt1uA2QUuJX"
      }
    },
    {
      "cell_type": "markdown",
      "source": [
        "## 🤖 Load libraries\n",
        "\n",
        "The libraries required for the analysis will be loaded"
      ],
      "metadata": {
        "id": "AnlXfpkknkx_"
      }
    },
    {
      "cell_type": "code",
      "source": [
        "# dataframe libraries\n",
        "import pandas as pd\n",
        "\n",
        "# geospatial libraries\n",
        "import geopandas as gpd\n",
        "import pysal\n",
        "import mapclassify\n",
        "\n",
        "# numpy\n",
        "import numpy as np\n",
        "\n",
        "# plot libraries\n",
        "import matplotlib.pyplot as plt\n",
        "import matplotlib.colors as mcolors\n",
        "import seaborn as sns\n",
        "import plotly.express as px\n",
        "from matplotlib.ticker import MaxNLocator\n",
        "\n",
        "# picture libraries\n",
        "from IPython.display import Image\n",
        "import imageio.v2 as imageio\n",
        "\n",
        "# other libraries\n",
        "from scipy.stats import poisson\n",
        "import os\n",
        "from itables import init_notebook_mode"
      ],
      "metadata": {
        "id": "KY4rT4z7ng37"
      },
      "execution_count": null,
      "outputs": []
    },
    {
      "cell_type": "markdown",
      "source": [
        "## 💾 Load dataset"
      ],
      "metadata": {
        "id": "4_DuhY7Kn_qz"
      }
    },
    {
      "cell_type": "markdown",
      "source": [
        "The dataset resulting from the preprocessing will be loaded."
      ],
      "metadata": {
        "id": "0a2m35m-0Tyw"
      }
    },
    {
      "cell_type": "code",
      "source": [
        "# change directory to work folder (at the begining docker container enter into /home/jovyan/)\n",
        "%cd work"
      ],
      "metadata": {
        "id": "2xEQ_1GGP2I0"
      },
      "execution_count": null,
      "outputs": []
    },
    {
      "cell_type": "code",
      "source": [
        "# Load the cleaned asthma mortality dataset from 2001 to 2022\n",
        "df = pd.read_csv('pdt/asthma_mortality/data/csv/def_asma_2001_2022_clean_02.csv',  dtype={'IDDPTO': str})"
      ],
      "metadata": {
        "id": "300Tgqmkn3x9"
      },
      "execution_count": null,
      "outputs": []
    },
    {
      "cell_type": "code",
      "source": [
        "# Display the first few rows of the DataFrame\n",
        "init_notebook_mode(all_interactive=False)\n",
        "df.head()"
      ],
      "metadata": {
        "id": "oTjOxpVkojBa"
      },
      "execution_count": null,
      "outputs": []
    },
    {
      "cell_type": "markdown",
      "source": [
        "## 📈 Descriptive statistics\n",
        "\n",
        "In this EDA, descriptive statistics will allow us to systematically summarize and contextualize asthma mortality data to discover useful preliminary information about its temporal, demographic, and spatial behavior."
      ],
      "metadata": {
        "id": "USAxDek4mOcu"
      }
    },
    {
      "cell_type": "markdown",
      "source": [
        "### Temporal trends\n",
        "Through EDA temporal trends, we will understand how asthma mortality evolves over time to identify patterns."
      ],
      "metadata": {
        "id": "1lguGbAcmZc9"
      }
    },
    {
      "cell_type": "markdown",
      "source": [
        "#### Number of deaths from asthma in Argentina (2001-2022)"
      ],
      "metadata": {
        "id": "VURm8Kc7ptZW"
      }
    },
    {
      "cell_type": "code",
      "source": [
        "# Grouping the data by year and summing the 'CANTIDAD' column\n",
        "df_mpa = df.groupby('ANIO')['CANTIDAD'].sum().reset_index()"
      ],
      "metadata": {
        "id": "I_oYe_lqozpK"
      },
      "execution_count": null,
      "outputs": []
    },
    {
      "cell_type": "code",
      "source": [
        "# Display the first few rows of the DataFrame\n",
        "init_notebook_mode(all_interactive=False)\n",
        "df_mpa.head()"
      ],
      "metadata": {
        "id": "5ck2t-PEpxfh"
      },
      "execution_count": null,
      "outputs": []
    },
    {
      "cell_type": "code",
      "source": [
        "# Create figure\n",
        "plt.figure(figsize=(12, 6))\n",
        "\n",
        "# Create line plot\n",
        "plt.plot(df_mpa['ANIO'], df_mpa['CANTIDAD'],\n",
        "         marker='o',\n",
        "         linestyle='-',\n",
        "         color='#2c7bb6',\n",
        "         linewidth=2.5,\n",
        "         markersize=8)\n",
        "\n",
        "# Formatting\n",
        "plt.title('Number of deaths from asthma in Argentina (2001-2022)', fontsize=14, pad=20)\n",
        "plt.xlabel('Year', fontsize=12)\n",
        "plt.ylabel('Number of deaths', fontsize=12)\n",
        "plt.grid(True, alpha=0.3)\n",
        "plt.xticks(df_mpa['ANIO'][::2], rotation=45)  # Show every other year\n",
        "plt.xlim(2000.5, 2022.5)  # Add buffer on x-axis\n",
        "\n",
        "# Improve tick formatting\n",
        "plt.gca().xaxis.set_major_locator(plt.MultipleLocator(2))\n",
        "plt.gca().xaxis.set_minor_locator(plt.MultipleLocator(1))\n",
        "\n",
        "plt.tight_layout()\n",
        "plt.show();"
      ],
      "metadata": {
        "id": "c52tLwX8py-Q"
      },
      "execution_count": null,
      "outputs": []
    },
    {
      "cell_type": "markdown",
      "source": [
        "#### Number of deaths by sex and age group"
      ],
      "metadata": {
        "id": "sCuUOxNxwH4r"
      }
    },
    {
      "cell_type": "code",
      "source": [
        "# Load the cleaned asthma mortality dataset from 2001 to 2022\n",
        "df = pd.read_csv('pdt/asthma_mortality/data/csv/def_asma_2001_2022_clean_02.csv', dtype={'IDDPTO': str})"
      ],
      "metadata": {
        "id": "jtYoaVF0WUbJ"
      },
      "execution_count": null,
      "outputs": []
    },
    {
      "cell_type": "code",
      "source": [
        "# Display the first few rows of the DataFrame\n",
        "init_notebook_mode(all_interactive=False)\n",
        "df.head()"
      ],
      "metadata": {
        "id": "ecuNhYmNWV9n"
      },
      "execution_count": null,
      "outputs": []
    },
    {
      "cell_type": "code",
      "source": [
        "# Map the 'SEXO' column values to their corresponding labels using the sex_map dictionary\n",
        "sex_map = {1: 'Masculino', 2: 'Femenino'}\n",
        "df['SEXO'] = df['SEXO'].map(sex_map)"
      ],
      "metadata": {
        "id": "jPLU72AJfGK4"
      },
      "execution_count": null,
      "outputs": []
    },
    {
      "cell_type": "code",
      "source": [
        "# Display the first few rows of the DataFrame\n",
        "init_notebook_mode(all_interactive=False)\n",
        "df.head()"
      ],
      "metadata": {
        "id": "C4G5L9-HfJSq"
      },
      "execution_count": null,
      "outputs": []
    },
    {
      "cell_type": "code",
      "source": [
        "# Custom order of age groups\n",
        "age_order = ['0-4', '5-19', '20-44', '45-64', '65-74', '>= 75']"
      ],
      "metadata": {
        "id": "JesGLlNhh7B6"
      },
      "execution_count": null,
      "outputs": []
    },
    {
      "cell_type": "code",
      "source": [
        "# Convert the 'GRUPEDAD' column to a categorical type with a specific order\n",
        "df['GRUPEDAD'] = pd.Categorical(df['GRUPEDAD'], categories=age_order, ordered=True)"
      ],
      "metadata": {
        "id": "AzubrFe9iYCZ"
      },
      "execution_count": null,
      "outputs": []
    },
    {
      "cell_type": "code",
      "source": [
        "# Display the first few rows of the DataFrame\n",
        "init_notebook_mode(all_interactive=False)\n",
        "df.head()"
      ],
      "metadata": {
        "id": "mNyTakvcikyz"
      },
      "execution_count": null,
      "outputs": []
    },
    {
      "cell_type": "code",
      "source": [
        "# Group the DataFrame by 'GRUPEDAD', 'SEXO', and 'ANIO', summing the 'CANTIDAD' column\n",
        "df_agg = df.groupby(['GRUPEDAD', 'SEXO', 'ANIO'], as_index=False, observed=True)['CANTIDAD'].sum()"
      ],
      "metadata": {
        "id": "_JKzpie7fJV0"
      },
      "execution_count": null,
      "outputs": []
    },
    {
      "cell_type": "code",
      "source": [
        "# Display the first few rows of the DataFrame\n",
        "init_notebook_mode(all_interactive=False)\n",
        "df_agg.head()"
      ],
      "metadata": {
        "id": "Haiiw4SSfJZ0"
      },
      "execution_count": null,
      "outputs": []
    },
    {
      "cell_type": "markdown",
      "source": [
        "Line graphs will be created showing annual asthma deaths by sex and age group (2001–2022)"
      ],
      "metadata": {
        "id": "hg0tNqE3LTtf"
      }
    },
    {
      "cell_type": "code",
      "source": [
        "# Set style\n",
        "sns.set(style=\"whitegrid\")\n",
        "\n",
        "# Create the FacetGrid: one plot per sex\n",
        "g = sns.FacetGrid(df_agg, col=\"SEXO\", height=5, aspect=1.4, sharey=False)\n",
        "\n",
        "# Plot lines: deaths over year, color by age_group\n",
        "g.map_dataframe(sns.lineplot, x=\"ANIO\", y=\"CANTIDAD\", hue=\"GRUPEDAD\", marker=\"o\")\n",
        "\n",
        "# Extract legend handles and labels\n",
        "handles, labels = g.axes[0][0].get_legend_handles_labels()\n",
        "\n",
        "# Define your custom order\n",
        "custom_order = ['0-4', '5-19', '20-44', '45-64', '65-74', '>= 75']\n",
        "\n",
        "# Sort handles and labels based on custom order\n",
        "sorted_pairs = sorted(zip(labels, handles), key=lambda x: custom_order.index(x[0]))\n",
        "sorted_labels, sorted_handles = zip(*sorted_pairs)\n",
        "\n",
        "\n",
        "# Add legend\n",
        "g.fig.legend(\n",
        "    handles=sorted_handles,\n",
        "    labels=sorted_labels,\n",
        "    title=\"Age group\",\n",
        "    loc='center left',\n",
        "    bbox_to_anchor=(0.91, 0.67),\n",
        "    borderaxespad=0.\n",
        ")\n",
        "\n",
        "# for tiles chane Femenino to female and Masculino to Male\n",
        "g.set_titles(col_template=\"{col_name}\")\n",
        "for ax in g.axes.flat:\n",
        "    if ax.get_title() == \"Masculino\":\n",
        "        ax.set_title(\"Male\")\n",
        "    elif ax.get_title() == \"Femenino\":\n",
        "        ax.set_title(\"Female\")\n",
        "\n",
        "g.fig.suptitle(\"Annual deaths from asthma by sex and age group (2001–2022)\", fontsize=16, y=1.05)\n",
        "\n",
        "# Force integer ticks on y-axis\n",
        "for ax in g.axes.flat:\n",
        "    ax.yaxis.set_major_locator(MaxNLocator(integer=True))\n",
        "\n",
        "# change x and y labels\n",
        "g.set_xlabels(\"Year\")\n",
        "g.set_ylabels(\"Number of deaths\")\n",
        "\n",
        "# Ensure that subplots fit into the figure area properly\n",
        "plt.tight_layout()\n",
        "\n",
        "plt.show();"
      ],
      "metadata": {
        "id": "A40DOynsfJdK"
      },
      "execution_count": null,
      "outputs": []
    },
    {
      "cell_type": "markdown",
      "source": [
        "### Demographic information\n",
        "\n",
        "Demographic EDA will allow us to discover disparities in asthma mortality according to age and sex."
      ],
      "metadata": {
        "id": "i4y5RdRunD5Z"
      }
    },
    {
      "cell_type": "markdown",
      "source": [
        "#### Deaths by sex and age group"
      ],
      "metadata": {
        "id": "d_PP20funUWN"
      }
    },
    {
      "cell_type": "code",
      "source": [
        "# Load the cleaned asthma mortality dataset from 2001 to 2022\n",
        "df = pd.read_csv('pdt/asthma_mortality/data/csv/def_asma_2001_2022_clean_02.csv', dtype={'IDDPTO': str})"
      ],
      "metadata": {
        "id": "ZeuAPgFmnhA8"
      },
      "execution_count": null,
      "outputs": []
    },
    {
      "cell_type": "code",
      "source": [
        "# Display the first few rows of the DataFrame\n",
        "init_notebook_mode(all_interactive=False)\n",
        "df.head()"
      ],
      "metadata": {
        "id": "v5i7nhnanmdk"
      },
      "execution_count": null,
      "outputs": []
    },
    {
      "cell_type": "code",
      "source": [
        "# Map the 'SEXO' column values to their corresponding labels using the sex_map dictionary\n",
        "sex_map = {1: 'Masculino', 2: 'Femenino'}\n",
        "df['SEXO'] = df['SEXO'].map(sex_map)"
      ],
      "metadata": {
        "id": "pK58hRU1oOcu"
      },
      "execution_count": null,
      "outputs": []
    },
    {
      "cell_type": "code",
      "source": [
        "# Grouping the data by 'SEXO' (sex) and summing up the 'CANTIDAD' (quantity) column\n",
        "deaths_by_sex = df.groupby('SEXO')['CANTIDAD'].sum().reset_index()\n",
        "\n",
        "# change  Femenino to Female and Masculino to male\n",
        "deaths_by_sex['SEXO'] = deaths_by_sex['SEXO'].replace({'Femenino': 'Female', 'Masculino': 'Male'})\n",
        "\n",
        "# Grouping the data by 'GRUPEDAD' (age group) and summing up the 'CANTIDAD' (quantity) column\n",
        "deaths_by_age_group = df.groupby('GRUPEDAD')['CANTIDAD'].sum().reset_index()"
      ],
      "metadata": {
        "id": "LGYkQ49WgcwS"
      },
      "execution_count": null,
      "outputs": []
    },
    {
      "cell_type": "code",
      "source": [
        "# Sorting DataFrame by Age Group\n",
        "age_order = ['0-4', '5-19', '20-44', '45-64', '65-74', '>= 75']\n",
        "deaths_by_age_group['GRUPEDAD'] = pd.Categorical(deaths_by_age_group['GRUPEDAD'], categories=age_order, ordered=True)\n",
        "deaths_by_age_group = deaths_by_age_group.sort_values('GRUPEDAD')"
      ],
      "metadata": {
        "id": "aE4WCoDWgczT"
      },
      "execution_count": null,
      "outputs": []
    },
    {
      "cell_type": "markdown",
      "source": [
        "Create a pie chart showing the distribution of deaths by sex, and a bar chart showing deaths by age group."
      ],
      "metadata": {
        "id": "4maYezKVLtUG"
      }
    },
    {
      "cell_type": "code",
      "source": [
        "# Set style\n",
        "sns.set(style=\"whitegrid\")\n",
        "\n",
        "# Create figure\n",
        "fig, axes = plt.subplots(1, 2, figsize=(14, 6))\n",
        "\n",
        "# pie chart\n",
        "axes[0].pie(\n",
        "    deaths_by_sex['CANTIDAD'],\n",
        "    labels=deaths_by_sex['SEXO'],\n",
        "    autopct='%1.1f%%',\n",
        "    startangle=90,\n",
        "    colors=['#1f77b4', '#d62728']\n",
        ")\n",
        "axes[0].set_title('Distribution of deaths by sex (2001-2022)')\n",
        "\n",
        "# bar chart\n",
        "sns.barplot(\n",
        "    data=deaths_by_age_group,\n",
        "    x='GRUPEDAD',\n",
        "    y='CANTIDAD',\n",
        "    ax=axes[1],\n",
        "    palette='viridis',\n",
        "    hue='GRUPEDAD',\n",
        "    legend=False,\n",
        "    order=age_order\n",
        ")\n",
        "\n",
        "# Add values above the bars\n",
        "# for p in axes[1].patches:\n",
        "#     axes[1].annotate(f'{p.get_height()}', (p.get_x() + p.get_width() / 2., p.get_height()),\n",
        "#                    ha='center', va='center', fontsize=10, color='black', xytext=(0, 5),\n",
        "#                    textcoords='offset points')\n",
        "\n",
        "# set titles and labels\n",
        "axes[1].set_title('Deaths by age group (2001-2022)')\n",
        "axes[1].set_xlabel('Age group')\n",
        "axes[1].set_ylabel('Number of deaths')\n",
        "axes[1].tick_params(axis='x', rotation=45)\n",
        "\n",
        "# final adjustments\n",
        "plt.tight_layout()\n",
        "plt.show();"
      ],
      "metadata": {
        "id": "F1QdgWoegc2f"
      },
      "execution_count": null,
      "outputs": []
    },
    {
      "cell_type": "markdown",
      "source": [
        "#### Age pyramid by sex – Deaths from asthma"
      ],
      "metadata": {
        "id": "dlaH8TcCs5PV"
      }
    },
    {
      "cell_type": "code",
      "source": [
        "# load data from a CSV file containing asthma mortality data from 2001 to 2022\n",
        "df = pd.read_csv('pdt/asthma_mortality/data/csv/def_asma_2001_2022_clean_02.csv', dtype={'IDDPTO': str})"
      ],
      "metadata": {
        "id": "FNuMxFt7tkTm"
      },
      "execution_count": null,
      "outputs": []
    },
    {
      "cell_type": "code",
      "source": [
        "# Display the first few rows of the DataFrame\n",
        "init_notebook_mode(all_interactive=False)\n",
        "df.head()"
      ],
      "metadata": {
        "id": "zYXA5hNYvLqh"
      },
      "execution_count": null,
      "outputs": []
    },
    {
      "cell_type": "code",
      "source": [
        "# Map the 'SEXO' column values to their corresponding labels using the sex_map dictionary\n",
        "sex_map = {1: 'Masculino', 2: 'Femenino'}\n",
        "df['SEXO'] = df['SEXO'].map(sex_map)"
      ],
      "metadata": {
        "id": "m0DwT5VxuUDh"
      },
      "execution_count": null,
      "outputs": []
    },
    {
      "cell_type": "code",
      "source": [
        "# group data by age group ('GRUPEDAD') and gender ('SEXO'), and calculate the total count ('CANTIDAD')\n",
        "pyramid_df = df.groupby(['GRUPEDAD', 'SEXO'])['CANTIDAD'].sum().reset_index()"
      ],
      "metadata": {
        "id": "LE9liGz7gc8E"
      },
      "execution_count": null,
      "outputs": []
    },
    {
      "cell_type": "code",
      "source": [
        "# Sorting DataFrame (pyramid_df ) by Age Group\n",
        "age_order = ['0-4', '5-19', '20-44', '45-64', '65-74', '>= 75']\n",
        "pyramid_df['GRUPEDAD'] = pd.Categorical(pyramid_df['GRUPEDAD'], categories=age_order, ordered=True)\n",
        "pyramid_df = pyramid_df.sort_values('GRUPEDAD')"
      ],
      "metadata": {
        "id": "b_H0o7wegc_R"
      },
      "execution_count": null,
      "outputs": []
    },
    {
      "cell_type": "code",
      "source": [
        "# Convert male deaths to negative to get a pyramid efect\n",
        "pyramid_df['CANTIDAD'] = pyramid_df.apply(\n",
        "    lambda row: -row['CANTIDAD'] if row['SEXO'] == 'Masculino' else row['CANTIDAD'], axis=1\n",
        ")"
      ],
      "metadata": {
        "id": "h2fBqVrkWvtX"
      },
      "execution_count": null,
      "outputs": []
    },
    {
      "cell_type": "markdown",
      "source": [
        "Crear gráfico de barras horizontales que muestre la pirámide de edad por sexopara defunciones por asma"
      ],
      "metadata": {
        "id": "a9vp9Zx4MX3i"
      }
    },
    {
      "cell_type": "code",
      "source": [
        "# Create horizontal bar chart\n",
        "plt.figure(figsize=(10, 6))\n",
        "for sex, color in zip(['Masculino', 'Femenino'], ['#1f77b4', '#d62728']):\n",
        "    subset = pyramid_df[pyramid_df['SEXO'] == sex]\n",
        "    # Change labels here before plotting\n",
        "    label = \"Male\" if sex == \"Masculino\" else \"Female\"\n",
        "    plt.barh(subset['GRUPEDAD'], subset['CANTIDAD'], color=color, label=label)\n",
        "\n",
        "# Aesthetics of the graph\n",
        "plt.axvline(0, color='black', linewidth=0.5)\n",
        "plt.xlabel('Number of deaths')\n",
        "plt.ylabel('Age group')\n",
        "plt.title('Age pyramid by sex – Deaths from asthma')\n",
        "plt.legend(loc='lower right')\n",
        "\n",
        "# Make all x-tick labels positive\n",
        "xticks = plt.xticks()[0]  # Get current x-tick locations\n",
        "plt.xticks(xticks, [abs(int(x)) for x in xticks])  # Replace labels with absolute values\n",
        "\n",
        "# final adjustments\n",
        "plt.tight_layout()\n",
        "plt.show()"
      ],
      "metadata": {
        "id": "rfkwG4XLWvwV"
      },
      "execution_count": null,
      "outputs": []
    },
    {
      "cell_type": "markdown",
      "source": [
        "### Geospatial patterns"
      ],
      "metadata": {
        "id": "J0gWYED9bSbD"
      }
    },
    {
      "cell_type": "markdown",
      "source": [
        "Exploratory Spatial Data Analysis (ESDA) will allow us to detect regional (departmental) and temporal variations in asthma mortality."
      ],
      "metadata": {
        "id": "3uf1vB2vOs7d"
      }
    },
    {
      "cell_type": "markdown",
      "source": [
        "#### Mortality map by department (choropleth map)\n",
        "\n",
        "We will create choropleth maps in as faceted mapas with the asthma mortality rate per 100,000 inhabitants for each department and by year of study (2001-2022)."
      ],
      "metadata": {
        "id": "W4CALphbO1HH"
      }
    },
    {
      "cell_type": "code",
      "source": [
        "# Load  `gdf`  from a shapefile containing asthma mortality data from 2001 to 2022.\n",
        "gdf = gpd.read_file(\"pdt/asthma_mortality/data/shp/tma_2001_2022.shp\", encoding='utf-8')"
      ],
      "metadata": {
        "id": "Z5EdcaDtWvzV"
      },
      "execution_count": null,
      "outputs": []
    },
    {
      "cell_type": "code",
      "source": [
        "# Display the first few rows of the DataFrame\n",
        "init_notebook_mode(all_interactive=True)\n",
        "gdf.head()"
      ],
      "metadata": {
        "id": "5XRRP2HP_vbG"
      },
      "execution_count": null,
      "outputs": []
    },
    {
      "cell_type": "code",
      "source": [
        "# Determine the number of rows in the GeoDataFrame.\n",
        "len(gdf)"
      ],
      "metadata": {
        "id": "l6IfvQaeWv2O"
      },
      "execution_count": null,
      "outputs": []
    },
    {
      "cell_type": "markdown",
      "source": [
        "We will use [Pysal](https://pysal.org/)'s [mapclassify](https://pysal.org/mapclassify/index.html) library to determine the best classifier for the choropleth map.\n",
        "\n",
        "Weq will use the map classifier with the best ACDM (mean Absolute Deviation Around the class Median). In Pysal, ACDM refers to the mean absolute deviation around the class median. It is a measure of a classifier's fit to the data, specifically by evaluating the average distance between each data point and the median value of the assigned class."
      ],
      "metadata": {
        "id": "Ak8o5prx_5dG"
      }
    },
    {
      "cell_type": "code",
      "source": [
        "# Select columns corresponding to normalized mortality rate  from 2001 to 2022\n",
        "selected_data_2001_2022 = gdf.loc[:,[\"CA_2001\", \"CA_2002\", \"CA_2003\", \"CA_2004\", \"CA_2005\", \"CA_2006\", \"CA_2007\", \"CA_2008\", \"CA_2009\", \"CA_2010\",\n",
        "                                     \"CA_2011\", \"CA_2012\", \"CA_2013\", \"CA_2014\", \"CA_2015\", \"CA_2016\", \"CA_2017\", \"CA_2018\", \"CA_2019\", \"CA_2020\",\n",
        "                                     \"CA_2021\", \"CA_2022\"]]"
      ],
      "metadata": {
        "id": "DruPfS-b-gT1"
      },
      "execution_count": null,
      "outputs": []
    },
    {
      "cell_type": "code",
      "source": [
        "# Classify the data into 5 quantile groups\n",
        "q5 = mapclassify.Quantiles(selected_data_2001_2022, k=5)\n",
        "q5"
      ],
      "metadata": {
        "id": "mPy3NyMA-mcz"
      },
      "execution_count": null,
      "outputs": []
    },
    {
      "cell_type": "code",
      "source": [
        "# Equal Interval Classification\n",
        "ei5 = mapclassify.EqualInterval(selected_data_2001_2022, k=5)\n",
        "ei5"
      ],
      "metadata": {
        "id": "ZYOGZwqE-mgR"
      },
      "execution_count": null,
      "outputs": []
    },
    {
      "cell_type": "code",
      "source": [
        "# Classify the data into groups based on the head/tail breaks algorithm\n",
        "ht = mapclassify.HeadTailBreaks(selected_data_2001_2022)\n",
        "ht"
      ],
      "metadata": {
        "id": "ZdSaQb-N-mkQ"
      },
      "execution_count": null,
      "outputs": []
    },
    {
      "cell_type": "code",
      "source": [
        "# MaximumBreaks classification method\n",
        "mb5 = mapclassify.MaximumBreaks(selected_data_2001_2022, k=5)\n",
        "mb5"
      ],
      "metadata": {
        "id": "2NtP_s41FIay"
      },
      "execution_count": null,
      "outputs": []
    },
    {
      "cell_type": "code",
      "source": [
        "# Apply the Standard Deviation and Mean classification method to the selected data.\n",
        "msd = mapclassify.StdMean(selected_data_2001_2022)\n",
        "msd"
      ],
      "metadata": {
        "id": "cLyn6OrEFId5"
      },
      "execution_count": null,
      "outputs": []
    },
    {
      "cell_type": "code",
      "source": [
        "# Apply Fisher-Jenks classification with 5 classes\n",
        "fj5 = mapclassify.FisherJenks(selected_data_2001_2022, k=5)\n",
        "fj5"
      ],
      "metadata": {
        "id": "7oNz0lc8G8Qu"
      },
      "execution_count": null,
      "outputs": []
    },
    {
      "cell_type": "markdown",
      "source": [
        "ACDM(mean Absolute Deviation Around the class Median) visualization"
      ],
      "metadata": {
        "id": "umQ-3FECNNXz"
      }
    },
    {
      "cell_type": "code",
      "source": [
        "# Bunch classifier objects\n",
        "class5 = q5, ei5, ht, mb5, msd, fj5\n",
        "# Collect ADCM for each classifier\n",
        "fits = np.array([c.adcm for c in class5])\n",
        "# Convert ADCM scores to a DataFrame\n",
        "adcms = pd.DataFrame(fits)\n",
        "# Add classifier names\n",
        "adcms[\"classifier\"] = [c.name for c in class5]\n",
        "# Add column names to the ADCM\n",
        "adcms.columns = [\"ADCM\", \"Classifier\"]\n",
        "ax = sns.barplot(\n",
        "    y=\"Classifier\", x=\"ADCM\", data=adcms, hue= adcms[\"Classifier\"],  legend=False\n",
        ")"
      ],
      "metadata": {
        "id": "2ksylA_zG8VN"
      },
      "execution_count": null,
      "outputs": []
    },
    {
      "cell_type": "markdown",
      "source": [
        "Two classifiers have the lowest ACDM: FisherJenks and HeadTailBreaks. We'll select FisherJenks as the classifier to create the choropleth maps."
      ],
      "metadata": {
        "id": "H1zSnciWHzM0"
      }
    },
    {
      "cell_type": "code",
      "source": [
        "# Convert the bins to a list for further processing\n",
        "bins = fj5.bins.tolist()\n",
        "bins"
      ],
      "metadata": {
        "id": "SAdX-6RtG8YB"
      },
      "execution_count": null,
      "outputs": []
    },
    {
      "cell_type": "code",
      "source": [
        "# insert 0 at 0 position\n",
        "bins.insert(0, 0.0)\n",
        "bins"
      ],
      "metadata": {
        "id": "BkuRqLF8G8bW"
      },
      "execution_count": null,
      "outputs": []
    },
    {
      "cell_type": "code",
      "source": [
        "# round and transform to integer\n",
        "bins = [int(round(num, 0)) for num in bins]\n",
        "# fix last value\n",
        "bins[-1]=193\n",
        "bins"
      ],
      "metadata": {
        "id": "JsxQ2BwRFIiM"
      },
      "execution_count": null,
      "outputs": []
    },
    {
      "cell_type": "markdown",
      "source": [
        "We will create a function to set a custom classification scheme based on FisherJenks"
      ],
      "metadata": {
        "id": "mTpBjQURKJJT"
      }
    },
    {
      "cell_type": "code",
      "source": [
        "def maptma(colname, title, row, col):\n",
        "    # Create a custom classification using UserDefined\n",
        "    classification = mapclassify.UserDefined(gdf[colname], bins)\n",
        "\n",
        "    classification.plot(\n",
        "          gdf,  # GeoDataFrame containing the data to be plotted\n",
        "          legend=True,  # Enable the legend for the plot\n",
        "          legend_kwds={\n",
        "                \"fmt\": \"{:.0f}\",  # Format the legend labels as integers\n",
        "                \"loc\": \"upper right\",  # Position the legend in the upper right corner\n",
        "                \"bbox_to_anchor\": (1.1, 0.4),  # Adjust the legend's position\n",
        "                \"fontsize\": 8,  # Set the font size of the legend\n",
        "                \"labels\": [\"0\", \"0-2\", \"2-7\", \"7-22\", \"22-71\", \"71-193\"],  # Use the custom legend labels\n",
        "          },\n",
        "          axis_on=False,  # Disable the axis display\n",
        "          border_color='black',  # Set the border color of the plot\n",
        "          cmap=\"viridis_r\",  # Use the reversed Viridis colormap\n",
        "          ax=axes[row, col]  # Specify the subplot to draw the plot on\n",
        "     )\n",
        "\n",
        "    # Set the title for the current axis\n",
        "    axes[row, col].set_title(title)"
      ],
      "metadata": {
        "id": "m_ICDmR7FIl-"
      },
      "execution_count": null,
      "outputs": []
    },
    {
      "cell_type": "code",
      "source": [
        "# Create a 5x5 grid of subplots with a figure size of 20x20\n",
        "fig, axes = plt.subplots(5, 5, figsize=(20, 20))\n",
        "# Add a title to the entire figure with specific font size and position\n",
        "plt.suptitle('Normalized Asthma Mortality Rate 2001-2022', fontsize=14, y=1)\n",
        "\n",
        "# row 0\n",
        "maptma(\"CA_2001\", \"2001\", 0, 0)  # Map data for 2001 in row 0, column 0\n",
        "maptma(\"CA_2002\", \"2002\", 0, 1)  # Map data for 2002 in row 0, column 1\n",
        "maptma(\"CA_2003\", \"2003\", 0, 2)  # Map data for 2003 in row 0, column 2\n",
        "maptma(\"CA_2004\", \"2004\", 0, 3)  # Map data for 2004 in row 0, column 3\n",
        "maptma(\"CA_2005\", \"2005\", 0, 4)  # Map data for 2005 in row 0, column 4\n",
        "\n",
        "# row 1\n",
        "maptma(\"CA_2006\", \"2006\", 1, 0)  # Map data for 2006 in row 1, column 0\n",
        "maptma(\"CA_2007\", \"2007\", 1, 1)  # Map data for 2007 in row 1, column 1\n",
        "maptma(\"CA_2008\", \"2008\", 1, 2)  # Map data for 2008 in row 1, column 2\n",
        "maptma(\"CA_2009\", \"2009\", 1, 3)  # Map data for 2009 in row 1, column 3\n",
        "maptma(\"CA_2010\", \"2010\", 1, 4)  # Map data for 2010 in row 1, column 4\n",
        "\n",
        "# row 2\n",
        "maptma(\"CA_2011\", \"2011\", 2, 0)  # Map data for 2011 in row 2, column 0\n",
        "maptma(\"CA_2012\", \"2012\", 2, 1)  # Map data for 2012 in row 2, column 1\n",
        "maptma(\"CA_2013\", \"2013\", 2, 2)  # Map data for 2013 in row 2, column 2\n",
        "maptma(\"CA_2014\", \"2014\", 2, 3)  # Map data for 2014 in row 2, column 3\n",
        "maptma(\"CA_2015\", \"2015\", 2, 4)  # Map data for 2015 in row 2, column 4\n",
        "\n",
        "# row 3\n",
        "maptma(\"CA_2016\", \"2016\", 3, 0)  # Map data for 2016 in row 3, column 0\n",
        "maptma(\"CA_2017\", \"2017\", 3, 1)  # Map data for 2017 in row 3, column 1\n",
        "maptma(\"CA_2018\", \"2018\", 3, 2)  # Map data for 2018 in row 3, column 2\n",
        "maptma(\"CA_2019\", \"2019\", 3, 3)  # Map data for 2019 in row 3, column 3\n",
        "maptma(\"CA_2020\", \"2020\", 3, 4)  # Map data for 2020 in row 3, column 4\n",
        "\n",
        "# row 4\n",
        "maptma(\"CA_2021\", \"2021\", 4, 0)  # Map data for 2021 in row 4, column 0\n",
        "maptma(\"CA_2022\", \"2022\", 4, 1)  # Map data for 2022 in row 4, column 1\n",
        "\n",
        "axes[4,2].axis('off')  # Turn off axis for row 4, column 2\n",
        "axes[4,3].axis('off')  # Turn off axis for row 4, column 3\n",
        "axes[4,4].axis('off')  # Turn off axis for row 4, column 4\n",
        "\n",
        "plt.tight_layout()  # Adjust layout to prevent overlap\n",
        "plt.show();  # Display the plot"
      ],
      "metadata": {
        "id": "_q7G9inmOKQH"
      },
      "execution_count": null,
      "outputs": []
    },
    {
      "cell_type": "markdown",
      "source": [
        "Creating an animated GIF showing the mortality rate by year"
      ],
      "metadata": {
        "id": "wqRPwmmyfe6c"
      }
    },
    {
      "cell_type": "code",
      "source": [
        "# This function generates a map for a specific year and saves it as an image for use in a GIF.\n",
        "def plot_map_for_gif(colname, year, bins, gdf, output_folder=\"pdt/asthma_mortality/data/images/gif\"):\n",
        "    # Create a figure and axis for the plot\n",
        "    fig, ax = plt.subplots(figsize=(4, 4))\n",
        "\n",
        "    # Classify the data using user-defined bins\n",
        "    classification = mapclassify.UserDefined(gdf[colname], bins)\n",
        "\n",
        "    # Plot the classified data with custom legend and styling\n",
        "    classification.plot(\n",
        "        gdf,\n",
        "        legend=True,\n",
        "        legend_kwds={\n",
        "            \"fmt\": \"{:.0f}\",  # Format legend labels as integers\n",
        "            \"loc\": \"upper right\",  # Place legend in the upper right\n",
        "            \"bbox_to_anchor\": (1.1, 0.4),  # Adjust legend position\n",
        "            \"fontsize\": 8,  # Set legend font size\n",
        "            \"labels\": [\"0\", \"0-2\", \"2-7\", \"7-22\", \"22-71\", \"71-193\"]  # Custom labels for bins\n",
        "        },\n",
        "        axis_on=False,  # Turn off axis\n",
        "        border_color='black',  # Set border color\n",
        "        cmap=\"viridis_r\",  # Use reversed Viridis colormap\n",
        "        ax=ax  # Plot on the created axis\n",
        "    )\n",
        "\n",
        "    # Set the title for the map\n",
        "    ax.set_title(f\"Normalized Asthma Mortality Rate - {year}\", fontsize=12)\n",
        "    # Turn off axis display\n",
        "    ax.axis('off')\n",
        "\n",
        "    # Create the output folder if it doesn't exist\n",
        "    if not os.path.exists(output_folder):\n",
        "        os.makedirs(output_folder)\n",
        "\n",
        "    # Define the file path for saving the image\n",
        "    filepath = os.path.join(output_folder, f\"asthma_{year}.png\")\n",
        "    # Save the plot as a PNG file\n",
        "    plt.savefig(filepath, bbox_inches=\"tight\", dpi=150)\n",
        "    # Close the plot to free up memory\n",
        "    plt.close()"
      ],
      "metadata": {
        "id": "N-21xNaMUJil"
      },
      "execution_count": null,
      "outputs": []
    },
    {
      "cell_type": "code",
      "source": [
        "bins = [0, 2, 7, 22, 71, 193]  # Define the bin ranges for categorizing data\n",
        "years = list(range(2001, 2023))  # Create a list of years from 2001 to 2022\n",
        "\n",
        "for year in years:  # Iterate through each year in the list\n",
        "    colname = f\"CA_{year}\"  # Generate a column name based on the year\n",
        "    plot_map_for_gif(colname, year, bins, gdf)  # Call the function to plot the map for the given year and bins\n"
      ],
      "metadata": {
        "id": "Xib-IAIcUJmi"
      },
      "execution_count": null,
      "outputs": []
    },
    {
      "cell_type": "code",
      "source": [
        "def create_gif_from_maps(image_folder=\"pdt/asthma_mortality/data/images/gif\", gif_name=\"pdt/asthma_mortality/data/images/gif/asthma_mortality.gif\"):\n",
        "    # Initialize an empty list to store images\n",
        "    images = []\n",
        "    # Loop through the years 2001 to 2022\n",
        "    for year in range(2001, 2023):\n",
        "        # Construct the filename for each year's image\n",
        "        filename = f\"asthma_{year}.png\"\n",
        "        # Create the full file path by joining the folder and filename\n",
        "        filepath = os.path.join(image_folder, filename)\n",
        "        # Read the image and append it to the images list\n",
        "        images.append(imageio.imread(filepath))\n",
        "\n",
        "    # Save the images as an animated GIF with 1 frame per second\n",
        "    imageio.mimsave(gif_name, images, fps=1)\n"
      ],
      "metadata": {
        "id": "c_yFNWS8V-W8"
      },
      "execution_count": null,
      "outputs": []
    },
    {
      "cell_type": "code",
      "source": [
        "# apply create_gif_from_maps function\n",
        "create_gif_from_maps()"
      ],
      "metadata": {
        "id": "Sf0-DSSyV-aX"
      },
      "execution_count": null,
      "outputs": []
    },
    {
      "cell_type": "code",
      "source": [
        "# Displaying an image of asthma mortality\n",
        "Image(filename=\"pdt/asthma_mortality/data/images/gif/asthma_mortality.gif\")"
      ],
      "metadata": {
        "id": "YC9FaCOoV-eS"
      },
      "execution_count": null,
      "outputs": []
    },
    {
      "cell_type": "markdown",
      "source": [
        "#### Departments with persistent asthama mortality rate (> 0) from 2001 to 2022"
      ],
      "metadata": {
        "id": "oeB9huHAgmCM"
      }
    },
    {
      "cell_type": "code",
      "source": [
        "# Load  `gdf`  from a shapefile containing asthma mortality data from 2001 to 2022\n",
        "gdf = gpd.read_file(\"pdt/asthma_mortality/data/shp/tma_2001_2022.shp\", encoding='utf-8')"
      ],
      "metadata": {
        "id": "Hm3pwVHSuVFm"
      },
      "execution_count": null,
      "outputs": []
    },
    {
      "cell_type": "markdown",
      "source": [
        "## 🐕‍🦺 Outlier Detection\n",
        "\n",
        "ESDA showed departments with with unusually high/low asthama mortality rate. In this section we will  focus on outlier detection and removal using statistical methods  "
      ],
      "metadata": {
        "id": "irA-sku4LiZE"
      }
    },
    {
      "cell_type": "markdown",
      "source": [
        "### Load dataset"
      ],
      "metadata": {
        "id": "PeN1yL962OmR"
      }
    },
    {
      "cell_type": "code",
      "source": [
        "# Load  `gdf`  from a shapefile containing only asthma mortality rate from 2001 to 2022\n",
        "gdf = gpd.read_file(\"pdt/asthma_mortality/data/shp/tma_2001_2022.shp\", encoding='utf-8')"
      ],
      "metadata": {
        "id": "4h4F3A5pLlZ4"
      },
      "execution_count": null,
      "outputs": []
    },
    {
      "cell_type": "code",
      "source": [
        "# Display the first few rows of the DataFrame\n",
        "init_notebook_mode(all_interactive=True)\n",
        "gdf.head()"
      ],
      "metadata": {
        "id": "51DQ7Zs8kRhu"
      },
      "execution_count": null,
      "outputs": []
    },
    {
      "cell_type": "markdown",
      "source": [
        "### Statistical summary and distribution analysis"
      ],
      "metadata": {
        "id": "w8lwLPJA2hHe"
      }
    },
    {
      "cell_type": "code",
      "source": [
        "# Filter asthma mortality rate columns\n",
        "mortality_cols = [col for col in gdf.columns if col.startswith('CA_')]\n",
        "mortality_df = gdf[mortality_cols].copy()"
      ],
      "metadata": {
        "id": "E8-V6lYnlLQG"
      },
      "execution_count": null,
      "outputs": []
    },
    {
      "cell_type": "code",
      "source": [
        "# Summary statistics and initial distribution plots\n",
        "init_notebook_mode(all_interactive=False)\n",
        "mortality_df.describe().T"
      ],
      "metadata": {
        "id": "JqckpLMoqy_X"
      },
      "execution_count": null,
      "outputs": []
    },
    {
      "cell_type": "code",
      "source": [
        "# Plot boxplots for each year\n",
        "plt.figure(figsize=(16, 6))\n",
        "sns.boxplot(data=mortality_df, orient='h')\n",
        "plt.title(\"Boxplots of Normalized Asthma Mortality Rates (2001–2022)\")\n",
        "plt.show()"
      ],
      "metadata": {
        "id": "f6Z-G1hqq02q"
      },
      "execution_count": null,
      "outputs": []
    },
    {
      "cell_type": "markdown",
      "source": [
        "We observed that the asthma mortality rate in the Lihuel Calel department is unusually high (192 deaths per 100,000 inhabitants). To investigate potential environmental causes, we conducted an online search for relevant events in the area. However, no significant or widely documented environmental incidents were recorded in Lihuel Calel during 2001. According to the national census, the department's population in 2001 was only 520 inhabitants—a 12.16% decrease from the 1991 census, which reported 592 inhabitants. Therefore, the elevated mortality rate is primarily due to the very small population size in the department, which amplifies the impact of even a few recorded deaths"
      ],
      "metadata": {
        "id": "jnTXTINP3Aqd"
      }
    },
    {
      "cell_type": "code",
      "source": [
        "# filer data of Lihuel Calel department\n",
        "init_notebook_mode(all_interactive=True)\n",
        "filtered_gdf = gdf[gdf['CA_2001'] == 192.31]\n",
        "filtered_gdf"
      ],
      "metadata": {
        "id": "NfAgCX2Cs6mT"
      },
      "execution_count": null,
      "outputs": []
    },
    {
      "cell_type": "markdown",
      "source": [
        "### Outlier detection  and removal"
      ],
      "metadata": {
        "id": "RW1_tAfIla3t"
      }
    },
    {
      "cell_type": "markdown",
      "source": [
        "This effect is denominated small counts problem in epidemiology, and refers to the statistical challenges that arise when analyzing rare events or diseases in small populations, leading to unstable or unreliable estimates of rates, risks, or associations<sup>1</sup>.\n",
        "\n",
        "\n",
        "The limitations of small population sizes and low death numbers significantly impact the accuracy of asthma mortality rate estimates by introducing variability and potential biases in the data. Small populations may not capture the full spectrum of mortality events, leading to unreliable age-specific mortality rates. Additionally, low death counts can result in statistical fluctuations, making it difficult to discern true trends and patterns in asthma-related mortality, ultimately compromising the validity of the estimates derived from such data<sup>2,3</sup>."
      ],
      "metadata": {
        "id": "6bgwAsCXmAfW"
      }
    },
    {
      "cell_type": "markdown",
      "source": [
        "To deal with outliers coming from low-populated and  with low mortality rate departments, we figured out the following solution based on<sup>4</sup> :\n",
        "\n",
        "* Flag as statistically unstable those departments with population < 5,000, deaths < 5, and relative CI (Confidence Interval) width > 2.0.\n",
        "\n",
        "* The normalized mortality rate for those departments will be 0.\n",
        "\n",
        "To flag departments according to these condition,s we will execute the following function:"
      ],
      "metadata": {
        "id": "8AcDQBj9m74q"
      }
    },
    {
      "cell_type": "code",
      "source": [
        "def flag_and_correct_unstable_rates_efficient(gdf, start_year=2001, end_year=2022):\n",
        "    all_ci_dfs = []  # List to collect CI and flag DataFrames for each year\n",
        "\n",
        "    # Loop through each year in the specified range\n",
        "    for year in range(start_year, end_year + 1):\n",
        "        pop_col    = f\"A_{year}\"    # Population column for the year\n",
        "        deaths_col = f\"C_{year}\"    # Deaths count column for the year\n",
        "        rate_col   = f\"CA_{year}\"   # Mortality rate column for the year\n",
        "\n",
        "        # Skip processing if any of the required columns are missing\n",
        "        if not {pop_col, deaths_col, rate_col}.issubset(gdf.columns):\n",
        "            continue  # Move to next year if columns are not found\n",
        "\n",
        "        # Extract the relevant series for calculations\n",
        "        pop    = gdf[pop_col]       # Population data\n",
        "        deaths = gdf[deaths_col]    # Death counts\n",
        "        rate   = gdf[rate_col]      # Mortality rate\n",
        "\n",
        "        # Compute the 95% Poisson confidence interval for deaths\n",
        "        ci_low   = poisson.ppf(0.025, deaths) / pop * 100000   # Lower bound per 100k\n",
        "        ci_high  = poisson.ppf(0.975, deaths) / pop * 100000   # Upper bound per 100k\n",
        "        ci_width = ci_high - ci_low                            # Absolute CI width\n",
        "        rel_w    = ci_width / rate.replace(0, pd.NA)           # Relative CI width (avoid divide-by-zero)\n",
        "\n",
        "        # Flag as unstable when all conditions are met:\n",
        "        # 1) population < 5000\n",
        "        # 2) deaths < 5\n",
        "        # 3) relative CI width > 2.0\n",
        "        unstable = (pop < 5000) & (deaths < 5) & (rel_w > 2.0)\n",
        "\n",
        "        # Overwrite the original rate with zero for unstable entries\n",
        "        gdf.loc[unstable, rate_col] = 0\n",
        "\n",
        "        # Create a temporary DataFrame with CI and flag columns\n",
        "        ci_df = pd.DataFrame({\n",
        "            f\"ci_low_{year}\"      : ci_low,\n",
        "            f\"ci_high_{year}\"     : ci_high,\n",
        "            f\"ci_width_{year}\"    : ci_width,\n",
        "            f\"rel_ci_width_{year}\": rel_w,\n",
        "            f\"unstable_{year}\"    : unstable\n",
        "        }, index=gdf.index)\n",
        "\n",
        "        # Append this year's CI DataFrame to the list\n",
        "        all_ci_dfs.append(ci_df)\n",
        "\n",
        "        # Log the result\n",
        "        num_unstable = ci_df[f'unstable_{year}'].sum()\n",
        "        print(f\"Year {year}: {num_unstable} unstable departments flagged.\")\n",
        "\n",
        "    # After looping, concatenate all CI/flag DataFrames alongside the original GeoDataFrame\n",
        "    if all_ci_dfs:\n",
        "        gdf = pd.concat([gdf] + all_ci_dfs, axis=1)\n",
        "\n",
        "    return gdf  # Return the updated GeoDataFrame with CI and flag columns added\n"
      ],
      "metadata": {
        "id": "GvFk7UgjhIkT"
      },
      "execution_count": null,
      "outputs": []
    },
    {
      "cell_type": "code",
      "source": [
        "# apply the function\n",
        "gdf2 = flag_and_correct_unstable_rates_efficient(gdf)"
      ],
      "metadata": {
        "id": "3Xd521I9hInZ"
      },
      "execution_count": null,
      "outputs": []
    },
    {
      "cell_type": "markdown",
      "source": [
        "The number of departaments flagged as statistically unstable per year is as follows:\n",
        "\n",
        "* Year 2001: 4 unstable departments flagged.\n",
        "* Year 2002: 0 unstable departments flagged.\n",
        "* Year 2003: 5 unstable departments flagged.\n",
        "* Year 2004: 0 unstable departments flagged.\n",
        "* Year 2005: 1 unstable departments flagged.\n",
        "* Year 2006: 3 unstable departments flagged.\n",
        "* Year 2007: 1 unstable departments flagged.\n",
        "* Year 2008: 1 unstable departments flagged.\n",
        "* Year 2009: 3 unstable departments flagged.\n",
        "* Year 2010: 0 unstable departments flagged.\n",
        "* Year 2011: 0 unstable departments flagged.\n",
        "* Year 2012: 0 unstable departments flagged.\n",
        "* Year 2013: 2 unstable departments flagged.\n",
        "* Year 2014: 1 unstable departments flagged.\n",
        "* Year 2015: 2 unstable departments flagged.\n",
        "* Year 2016: 0 unstable departments flagged.\n",
        "* Year 2017: 1 unstable departments flagged.\n",
        "* Year 2018: 0 unstable departments flagged.\n",
        "* Year 2019: 1 unstable departments flagged.\n",
        "* Year 2020: 0 unstable departments flagged.\n",
        "* Year 2021: 0 unstable departments flagged.\n",
        "* Year 2022: 0 unstable departments flagged.\n",
        "\n",
        "\n"
      ],
      "metadata": {
        "id": "_fOfkfPwU9kS"
      }
    },
    {
      "cell_type": "code",
      "source": [
        "# Display the first few rows of the DataFrame\n",
        "init_notebook_mode(all_interactive=True)\n",
        "gdf2.head()"
      ],
      "metadata": {
        "id": "xs6NkZK3hIql"
      },
      "execution_count": null,
      "outputs": []
    },
    {
      "cell_type": "code",
      "source": [
        "# select the same columns as the original gdf\n",
        "gdf2 = gdf2[list(gdf.columns)]"
      ],
      "metadata": {
        "id": "fAMKOT-MZ2Eb"
      },
      "execution_count": null,
      "outputs": []
    },
    {
      "cell_type": "code",
      "source": [
        "# Display the first few rows of the DataFrame\n",
        "init_notebook_mode(all_interactive=True)\n",
        "gdf2.head()"
      ],
      "metadata": {
        "id": "CtYG9JLPZ2Hi"
      },
      "execution_count": null,
      "outputs": []
    },
    {
      "cell_type": "markdown",
      "source": [
        "### Visual Confirmation"
      ],
      "metadata": {
        "id": "3mPt2WA5nPUA"
      }
    },
    {
      "cell_type": "code",
      "source": [
        "# Filter asthma mortality rate columns\n",
        "mortality_cols = [col for col in gdf2.columns if col.startswith('CA_')]\n",
        "mortality_df = gdf2[mortality_cols].copy()"
      ],
      "metadata": {
        "id": "ZHFePLs0Z2KZ"
      },
      "execution_count": null,
      "outputs": []
    },
    {
      "cell_type": "code",
      "source": [
        "# Plot boxplots for each year\n",
        "plt.figure(figsize=(16, 6))\n",
        "sns.boxplot(data=mortality_df, orient='h')\n",
        "plt.title(\"Boxplots of Normalized Asthma Mortality Rates (2001–2022)\")\n",
        "plt.show()"
      ],
      "metadata": {
        "id": "C41XhMwJZ2NE"
      },
      "execution_count": null,
      "outputs": []
    },
    {
      "cell_type": "code",
      "source": [
        "# export gdf as a shapefile\n",
        "gdf2.to_file(\"pdt/asthma_mortality/data/shp/tma_2001_2022_2.shp\", encoding='utf-8')"
      ],
      "metadata": {
        "id": "lwKNr1bAnUd8"
      },
      "execution_count": null,
      "outputs": []
    },
    {
      "cell_type": "markdown",
      "source": [
        "## References\n",
        "\n",
        "\n",
        "1. Andresen EM, Diehr PH, Luke DA. Public Health Surveillance of Low-Frequency Populations. Annual Review of Public Health. 2004;25(Volume 25, 2004):25-52. doi:10.1146/annurev.publhealth.25.101802.123111\n",
        "\n",
        "2. Kostaki A, and Zafeiris KN. Dealing with limitations of empirical mortality data in small populations. Communications in Statistics: Case Studies, Data Analysis and Applications. 2019;5(1):39-45. doi:10.1080/23737484.2019.1578706\n",
        "\n",
        "3. Berrill WT. Is the death rate from asthma exaggerated? Evidence from west Cumbria. BMJ. 1993;306(6871):193-194. doi:10.1136/bmj.306.6871.193\n",
        "\n",
        "4. Washington State Department of Health. Guidelines for using confidence intervals for public health assessment. Published online 2012. https://doh.wa.gov/sites/default/files/legacy/Documents/1500/ConfIntGuide.pdf\n",
        "\n",
        "\n",
        "\n",
        "\n"
      ],
      "metadata": {
        "id": "r2B7auLIqY7g"
      }
    }
  ]
}
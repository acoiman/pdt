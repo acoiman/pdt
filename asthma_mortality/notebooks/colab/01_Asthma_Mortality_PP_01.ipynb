{
  "nbformat": 4,
  "nbformat_minor": 0,
  "metadata": {
    "colab": {
      "provenance": [],
      "toc_visible": true,
      "authorship_tag": "ABX9TyNOz9ldJQj4JW2wBSVyobDD",
      "include_colab_link": true
    },
    "kernelspec": {
      "name": "python3",
      "display_name": "Python 3"
    },
    "language_info": {
      "name": "python"
    }
  },
  "cells": [
    {
      "cell_type": "markdown",
      "metadata": {
        "id": "view-in-github",
        "colab_type": "text"
      },
      "source": [
        "<a href=\"https://colab.research.google.com/github/acoiman/pdt/blob/main/asthma_mortality/notebooks/colab/01_Asthma_Mortality_PP_01.ipynb\" target=\"_parent\"><img src=\"https://colab.research.google.com/assets/colab-badge.svg\" alt=\"Open In Colab\"/></a>"
      ]
    },
    {
      "cell_type": "markdown",
      "source": [
        "# Asthma Mortality Data Preprocessing (Part 1)\n",
        "\n",
        "In Part 1 of the data preprocessing, we will clean the asthma mortality data. The processing will consist of: i) Missing data handling; ii) Duplicate removal; and iii) Data validation."
      ],
      "metadata": {
        "id": "MBYCwGGIwyPO"
      }
    },
    {
      "cell_type": "markdown",
      "source": [
        "## Load libraries\n",
        "\n",
        "Libraries required for the analysis will be loaded"
      ],
      "metadata": {
        "id": "aja7CzZzjQth"
      }
    },
    {
      "cell_type": "code",
      "source": [
        "# DataFrame libraries\n",
        "import pandas as pd\n",
        "from pandas.api.types import CategoricalDtype\n",
        "\n",
        "# other libraries\n",
        "import csv"
      ],
      "metadata": {
        "id": "k4VaPq1vw5-E"
      },
      "execution_count": 1,
      "outputs": []
    },
    {
      "cell_type": "markdown",
      "source": [
        "## Load data\n",
        "\n",
        "The data on asthma mortality will be loaded and displayed for preprocessing and analysis."
      ],
      "metadata": {
        "id": "khJgh4nzjOQY"
      }
    },
    {
      "cell_type": "code",
      "source": [
        "# change directory to work folder (at the begining docker container enter into /home/jovyan/)\n",
        "%cd work"
      ],
      "metadata": {
        "colab": {
          "base_uri": "https://localhost:8080/"
        },
        "id": "EbkO65H-Itzc",
        "outputId": "3ee9ac95-ed24-42c7-eea4-e988a178f3ca"
      },
      "execution_count": 2,
      "outputs": [
        {
          "output_type": "stream",
          "name": "stdout",
          "text": [
            "/home/jovyan/work\n"
          ]
        }
      ]
    },
    {
      "cell_type": "code",
      "source": [
        "#  Read an Excel file into a pandas DataFrame\n",
        "df = pd.read_excel(\"pdt/asthma_mortality/data/xls/def_asma_2001_2023.xlsx\")"
      ],
      "metadata": {
        "id": "72nLQiEa8aA4"
      },
      "execution_count": 3,
      "outputs": []
    },
    {
      "cell_type": "code",
      "source": [
        "# Display the first few rows of the DataFrame\n",
        "df.head()"
      ],
      "metadata": {
        "id": "T518SfF78aA4"
      },
      "execution_count": null,
      "outputs": []
    },
    {
      "cell_type": "code",
      "source": [
        "# Return the number of rows in the DataFrame.\n",
        "len(df)"
      ],
      "metadata": {
        "id": "SSjw8oh08aA4"
      },
      "execution_count": null,
      "outputs": []
    },
    {
      "cell_type": "code",
      "source": [
        "# Filter the DataFrame `df` to exclude rows where the value in the 'Año' column is equal to 2023.\n",
        "df = df[df['Año'] != 2023]"
      ],
      "metadata": {
        "id": "tjVLBz2QUQX3"
      },
      "execution_count": null,
      "outputs": []
    },
    {
      "cell_type": "code",
      "source": [
        "# Return unique values in the \"Año\" column of a DataFrame\n",
        "df[\"Año\"].unique()"
      ],
      "metadata": {
        "id": "aAbfq3IrUtev"
      },
      "execution_count": null,
      "outputs": []
    },
    {
      "cell_type": "code",
      "source": [
        "# Return the number of rows in the DataFrame.\n",
        "len(df)"
      ],
      "metadata": {
        "id": "hsAhDyF2UoOv"
      },
      "execution_count": null,
      "outputs": []
    },
    {
      "cell_type": "code",
      "source": [
        "# difference in length of dataframe\n",
        "8404-8178"
      ],
      "metadata": {
        "id": "7e0oVacMU41p"
      },
      "execution_count": null,
      "outputs": []
    },
    {
      "cell_type": "markdown",
      "source": [
        "226 (8404-8178) samples corresponding to the year 2023 were excluded"
      ],
      "metadata": {
        "id": "2kJ2Ga1uU-qT"
      }
    },
    {
      "cell_type": "markdown",
      "source": [
        "## Misssing values\n",
        "\n",
        "Missing values ​​will be identified from each column\n"
      ],
      "metadata": {
        "id": "9scZoKjJingO"
      }
    },
    {
      "cell_type": "code",
      "source": [
        "# Display a concise summary of a DataFrame including the index dtype and column dtypes, non-null values, and memory usage.\n",
        "df.info()"
      ],
      "metadata": {
        "id": "fPencpuqiuGB"
      },
      "execution_count": null,
      "outputs": []
    },
    {
      "cell_type": "markdown",
      "source": [
        "## Duplicate values\n",
        "For this dataset it is not necessary to remove duplicate values"
      ],
      "metadata": {
        "id": "QguFIkpl9_0w"
      }
    },
    {
      "cell_type": "markdown",
      "source": [
        "## Data validation\n",
        "Data validation involves verifying and modifying data so that its values ​​are consistent with its corresponding classes. The following operations will be performed:\n",
        "\n",
        "* Generate a column for department ID (IDDPTO) to match Argentina's official administrative divisions.\n",
        "\n",
        "* Check column sex values ​​(e.g., \"Male,\" \"Female,\" \"Other/Unknown\").\n",
        "\n",
        "* Verify that age group categories are consistent (e.g., \"0-4\", \"5-14\", \"15-24\", etc.)\n",
        "\n",
        "* Verify that the death toll is not negative.\n",
        "\n",
        "\n",
        "\n"
      ],
      "metadata": {
        "id": "qjbs-mmq-slL"
      }
    },
    {
      "cell_type": "markdown",
      "source": [
        "### Creating a column for department ID(IDDPTO)\n",
        "\n"
      ],
      "metadata": {
        "id": "iXCmEimVo51q"
      }
    },
    {
      "cell_type": "markdown",
      "source": [
        "Samples with undefined provinces and departments will be eliminated"
      ],
      "metadata": {
        "id": "Pi_FtbRePayh"
      }
    },
    {
      "cell_type": "code",
      "source": [
        "# Filter a DataFrame to exclude rows where the 'Prov_resid' column is equal to 98 or 99.\n",
        "df = df[(df['Prov_resid'] != 98) & (df['Prov_resid'] != 99)]"
      ],
      "metadata": {
        "id": "rVpZH1eUBQRn"
      },
      "execution_count": null,
      "outputs": []
    },
    {
      "cell_type": "code",
      "source": [
        "# Return the number of rows in the DataFrame.\n",
        "len(df)"
      ],
      "metadata": {
        "id": "zgEWPAOYBm0i"
      },
      "execution_count": null,
      "outputs": []
    },
    {
      "cell_type": "code",
      "source": [
        "# difference in length of dataframe\n",
        "8178-8155"
      ],
      "metadata": {
        "id": "5QHFtelJBs7n"
      },
      "execution_count": null,
      "outputs": []
    },
    {
      "cell_type": "markdown",
      "source": [
        "23 (8178-8155) records belonging to other countries and unspecified provinces were eliminated"
      ],
      "metadata": {
        "id": "eNYRd6clBq4q"
      }
    },
    {
      "cell_type": "markdown",
      "source": [
        "To ensure that department IDs matches the official administrative divisions in Argentina, two functions will be created: 1) adding 0 to digits less than 10 in the \"Prov_resid\" column; 2) adding 0 to digits less than 100 in the \"Dep_Resid\" column."
      ],
      "metadata": {
        "id": "3-rMgyuKA60u"
      }
    },
    {
      "cell_type": "code",
      "source": [
        "# for df['Prov_resid'] append 0 to digts  less than 10\n",
        "\n",
        "# Convert 'Prov_resid' to string type to allow string operations\n",
        "df['Prov_resid'] = df['Prov_resid'].astype(str)\n",
        "\n",
        "# Function to append '0' if the number is less than 10\n",
        "def append_zero(prov):\n",
        "    if len(prov) < 2:  # Check if the string length is less than 2.\n",
        "      return \"0\" + prov\n",
        "    return prov"
      ],
      "metadata": {
        "id": "orLH6ogHAtoC"
      },
      "execution_count": null,
      "outputs": []
    },
    {
      "cell_type": "code",
      "source": [
        "# Apply the function to the 'PROVRE' column\n",
        "df['Prov_resid'] = df['Prov_resid'].apply(append_zero)"
      ],
      "metadata": {
        "id": "Tm8U4AAGB0eQ"
      },
      "execution_count": null,
      "outputs": []
    },
    {
      "cell_type": "code",
      "source": [
        "# Return unique values of the 'Prov_resid' column in the DataFrame 'df'\n",
        "df['Prov_resid'].unique()"
      ],
      "metadata": {
        "id": "E4H83bk0B63s"
      },
      "execution_count": null,
      "outputs": []
    },
    {
      "cell_type": "markdown",
      "source": [
        "DEIS (Dirección de Estadísticas e Información de la Salud) considered the City of Buenos Aires (CABA) as a single geographic. The subdivision of the City of Buenos Aires (CABA) was not homogeneous throughout the requested period (2001–2022). Therefore, the City of Buenos Aires (CABA) will be treated as a single department, assigning '000' value to all its polygons in the 'Dep_Resid' column."
      ],
      "metadata": {
        "id": "G-9zk3nCC8F7"
      }
    },
    {
      "cell_type": "code",
      "source": [
        "# for Dep_Resid == 02 assign  000 for IDDPTO\n",
        "\n",
        "# Convert 'Dep_Resid' to string type if it's not already\n",
        "df['Prov_resid'] = df['Prov_resid'].astype(str)\n",
        "\n",
        "# Create a boolean mask where Dep_Resid is '02'\n",
        "mask = df['Prov_resid'] == '02'\n",
        "\n",
        "# Assign '02000' to Dep_Resid where the mask is True\n",
        "df.loc[mask, 'Dep_Resid'] = '000'"
      ],
      "metadata": {
        "id": "wpH7tvnHCID_"
      },
      "execution_count": null,
      "outputs": []
    },
    {
      "cell_type": "code",
      "source": [
        "# Display the first few rows of the DataFrame.\n",
        "df.head()"
      ],
      "metadata": {
        "id": "uaj727ktCIOW"
      },
      "execution_count": null,
      "outputs": []
    },
    {
      "cell_type": "code",
      "source": [
        "# Return unique values of the 'Dep_Resid' column in the DataFrame 'df'\n",
        "df['Dep_Resid'].unique()"
      ],
      "metadata": {
        "id": "EDD71aKpCIUv"
      },
      "execution_count": null,
      "outputs": []
    },
    {
      "cell_type": "code",
      "source": [
        "# select all samples where Dep_Resid == 999\n",
        "selected_samples = df[df['Dep_Resid'] == 999]\n",
        "selected_samples"
      ],
      "metadata": {
        "id": "YZAfyIHXCIYA"
      },
      "execution_count": null,
      "outputs": []
    },
    {
      "cell_type": "code",
      "source": [
        "# delete 999 (sin especificar) for 'Dep_Resid'\n",
        "df = df[(df['Dep_Resid'] != 999)]"
      ],
      "metadata": {
        "id": "MhBBXDZHGhwi"
      },
      "execution_count": null,
      "outputs": []
    },
    {
      "cell_type": "code",
      "source": [
        "# Return unique values of the 'Dep_Resid' column in the DataFrame 'df'\n",
        "df['Dep_Resid'].unique()"
      ],
      "metadata": {
        "id": "9_REhk4nGhz2"
      },
      "execution_count": null,
      "outputs": []
    },
    {
      "cell_type": "code",
      "source": [
        "# Return the number of rows in the DataFrame.\n",
        "len(df)"
      ],
      "metadata": {
        "id": "os-raPj4Gh2u"
      },
      "execution_count": null,
      "outputs": []
    },
    {
      "cell_type": "code",
      "source": [
        "# difference in length of dataframe\n",
        "8155-8070"
      ],
      "metadata": {
        "id": "Qt_1UA7jGh5h"
      },
      "execution_count": null,
      "outputs": []
    },
    {
      "cell_type": "markdown",
      "source": [
        "85 (8155-8070) records belonging to unspecified departments were deleted"
      ],
      "metadata": {
        "id": "sgHMfXWwHM1l"
      }
    },
    {
      "cell_type": "code",
      "source": [
        "# for df['Dep_Resid'] append 0 to digts  less than 100\n",
        "\n",
        "# Convert 'Dep_Resid' to string type to allow string operations\n",
        "df['Dep_Resid'] = df['Dep_Resid'].astype(str)\n",
        "\n",
        "# Function to append '0' if the number is less than 100\n",
        "def append_zero(prov):\n",
        "    if len(prov) < 2:  # Check if the string length is less than 2.\n",
        "      return \"00\" + prov\n",
        "    else:\n",
        "      if len(prov) < 3:\n",
        "        return \"0\" + prov\n",
        "    return prov"
      ],
      "metadata": {
        "id": "NDyseBvUHE2h"
      },
      "execution_count": null,
      "outputs": []
    },
    {
      "cell_type": "code",
      "source": [
        "# Apply the function to the 'PROVRE' column\n",
        "df['Dep_Resid'] = df['Dep_Resid'].apply(append_zero)"
      ],
      "metadata": {
        "id": "YaMvIo_5HE5b"
      },
      "execution_count": null,
      "outputs": []
    },
    {
      "cell_type": "code",
      "source": [
        "# Return unique values of the 'Dep_Resid' column in the DataFrame 'df'\n",
        "df['Dep_Resid'].unique()"
      ],
      "metadata": {
        "id": "LyTklt89HE8q"
      },
      "execution_count": null,
      "outputs": []
    },
    {
      "cell_type": "markdown",
      "source": [
        "Create a unique department identification (IDDPTO) based on \"Prov_resid\" + \"Dep_Resid\" according to INDEC (Instituto Nacional de Estadística y Censos) geographic codes (https://www.indec.gob.ar/indec/web/Nivel3-Tema-1-39)."
      ],
      "metadata": {
        "id": "RodrYmhEP8tP"
      }
    },
    {
      "cell_type": "code",
      "source": [
        "# Add two columns 'Prov_resid' and 'Dep_Resid' from a DataFrame and assign the sum to a new column 'IDDPTO'.\n",
        "df['IDDPTO'] = df['Prov_resid'] + df['Dep_Resid']"
      ],
      "metadata": {
        "id": "VTlTU8ZaHE_q",
        "collapsed": true
      },
      "execution_count": null,
      "outputs": []
    },
    {
      "cell_type": "code",
      "source": [
        "# Convert the 'IDDPTO' column in the DataFrame 'df' to a string data type.\n",
        "df['IDDPTO'] = df['IDDPTO'].astype(str)"
      ],
      "metadata": {
        "id": "lMAir73_PgWl"
      },
      "execution_count": null,
      "outputs": []
    },
    {
      "cell_type": "code",
      "source": [
        "# Display the first few rows of the DataFrame\n",
        "df.head()"
      ],
      "metadata": {
        "id": "jUWksF4aPgZN"
      },
      "execution_count": null,
      "outputs": []
    },
    {
      "cell_type": "code",
      "source": [
        "# Rename the columns of a DataFrame.\n",
        "df = df.rename(columns={'Año': 'ANIO', \"Sexo\": \"SEXO\", \"Grupedad\": \"GRUPEDAD\", \"Cantidad\": \"CANTIDAD\"})"
      ],
      "metadata": {
        "id": "vaLs8fkVPgcf"
      },
      "execution_count": null,
      "outputs": []
    },
    {
      "cell_type": "code",
      "source": [
        "# Select specific columns from a DataFrame.\n",
        "df = df[['ANIO', 'IDDPTO', 'SEXO', 'GRUPEDAD', 'CANTIDAD']]"
      ],
      "metadata": {
        "id": "dgaTIXJrQdb6"
      },
      "execution_count": null,
      "outputs": []
    },
    {
      "cell_type": "code",
      "source": [
        "# Display the first few rows of the DataFrame\n",
        "df.head()"
      ],
      "metadata": {
        "id": "W0LkEinpQdfJ"
      },
      "execution_count": null,
      "outputs": []
    },
    {
      "cell_type": "code",
      "source": [
        "# Save the DataFrame to a CSV file without including the index.\n",
        "df.to_csv(\"pdt/asthma_mortality/data/csv/def_asma_2001_2022_clean_01.csv\", index=False)"
      ],
      "metadata": {
        "id": "lu-0SIZ7QdiJ"
      },
      "execution_count": null,
      "outputs": []
    },
    {
      "cell_type": "markdown",
      "source": [
        "### Verificar los valores de sexo"
      ],
      "metadata": {
        "id": "YvP12s1eaTjR"
      }
    },
    {
      "cell_type": "code",
      "source": [
        "# Read a CSV file into a pandas DataFrame\n",
        "df = pd.read_csv(\"pdt/asthma_mortality/data/csv/def_asma_2001_2022_clean_01.csv\")"
      ],
      "metadata": {
        "id": "1dAcspVaQdna"
      },
      "execution_count": null,
      "outputs": []
    },
    {
      "cell_type": "code",
      "source": [
        "# Display the first few rows of the DataFrame\n",
        "df.head()"
      ],
      "metadata": {
        "id": "2U_znHBWPgfa"
      },
      "execution_count": null,
      "outputs": []
    },
    {
      "cell_type": "code",
      "source": [
        "# Return the number of rows in the DataFrame.\n",
        "len(df)"
      ],
      "metadata": {
        "id": "o_HIuRdeVFf3"
      },
      "execution_count": null,
      "outputs": []
    },
    {
      "cell_type": "code",
      "source": [
        "# Return unique values in the 'SEXO' column of the DataFrame 'df'\n",
        "df['SEXO'].unique()"
      ],
      "metadata": {
        "id": "oplGYaO7HFC8"
      },
      "execution_count": null,
      "outputs": []
    },
    {
      "cell_type": "code",
      "source": [
        "# Filter the DataFrame `df` to exclude rows where the 'SEXO' column has a value of 9.\n",
        "df = df[df['SEXO'] != 9]"
      ],
      "metadata": {
        "id": "wL0bSa9LU00-"
      },
      "execution_count": null,
      "outputs": []
    },
    {
      "cell_type": "code",
      "source": [
        "# Return unique values in the 'SEXO' column of the DataFrame 'df'\n",
        "df['SEXO'].unique()"
      ],
      "metadata": {
        "id": "EVoh0OfFlIEq"
      },
      "execution_count": null,
      "outputs": []
    },
    {
      "cell_type": "code",
      "source": [
        "# Return the number of rows in the DataFrame.\n",
        "len(df)"
      ],
      "metadata": {
        "id": "nR1pLJrfVBHQ"
      },
      "execution_count": null,
      "outputs": []
    },
    {
      "cell_type": "code",
      "source": [
        "# difference in length of dataframe\n",
        "8070-8057"
      ],
      "metadata": {
        "id": "aMujyyL9VD6Q"
      },
      "execution_count": null,
      "outputs": []
    },
    {
      "cell_type": "markdown",
      "source": [
        "13 records (8070-8057) with undefined sex were eliminated"
      ],
      "metadata": {
        "id": "DA0Ecif6WJf8"
      }
    },
    {
      "cell_type": "code",
      "source": [
        "# Convert the 'SEXO' column in a pandas DataFrame to a categorical data type.\n",
        "df['SEXO'] = pd.Categorical(df['SEXO'])"
      ],
      "metadata": {
        "id": "TATegjZKkwls"
      },
      "execution_count": null,
      "outputs": []
    },
    {
      "cell_type": "code",
      "source": [
        "# Return unique values in the 'SEXO' column of the DataFrame 'df'\n",
        "df['SEXO'].unique()"
      ],
      "metadata": {
        "id": "cOgFowSSlFO5"
      },
      "execution_count": null,
      "outputs": []
    },
    {
      "cell_type": "markdown",
      "source": [
        "### Check age group categories"
      ],
      "metadata": {
        "id": "K2hB6QFtcfWE"
      }
    },
    {
      "cell_type": "code",
      "source": [
        "# Return unique values in the 'GRUPEDAD' column of the DataFrame 'df'.\n",
        "df['GRUPEDAD'].unique()"
      ],
      "metadata": {
        "id": "FkZHTV0HphdN"
      },
      "execution_count": null,
      "outputs": []
    },
    {
      "cell_type": "code",
      "source": [
        "# Filter the DataFrame to exclude rows where the 'GRUPEDAD' column is equal to '10.Sin esp'.\n",
        "df = df[df['GRUPEDAD'] != '10.Sin esp']"
      ],
      "metadata": {
        "id": "r7VQE1FZlNqI"
      },
      "execution_count": null,
      "outputs": []
    },
    {
      "cell_type": "code",
      "source": [
        "# Return the number of rows in the DataFrame\n",
        "len(df)"
      ],
      "metadata": {
        "id": "oQYh_XualaX5"
      },
      "execution_count": null,
      "outputs": []
    },
    {
      "cell_type": "code",
      "source": [
        "# difference in length of dataframe\n",
        "8057-8028"
      ],
      "metadata": {
        "id": "CxwOU6LKlj1G"
      },
      "execution_count": null,
      "outputs": []
    },
    {
      "cell_type": "markdown",
      "source": [
        "29 records (8057-8028) were deleted with unspecified GROUPEDAD"
      ],
      "metadata": {
        "id": "WEOrgi9YXBI_"
      }
    },
    {
      "cell_type": "markdown",
      "source": [
        "Rename values ​​in GROUPEDAD column\n"
      ],
      "metadata": {
        "id": "Mja82WT2qXiB"
      }
    },
    {
      "cell_type": "code",
      "source": [
        "# Replace specific values in the 'GRUPEDAD' column of a DataFrame with more readable ranges\n",
        "df['GRUPEDAD'] = df['GRUPEDAD'].replace('00.0 a 4', '0-4')\n",
        "df['GRUPEDAD'] = df['GRUPEDAD'].replace('01.5 a 19', '5-19')\n",
        "df['GRUPEDAD'] = df['GRUPEDAD'].replace('02.20 a 44', '20-44')\n",
        "df['GRUPEDAD'] = df['GRUPEDAD'].replace('03.45 a 64', '45-64')\n",
        "df['GRUPEDAD'] = df['GRUPEDAD'].replace('04.65 a 74', '65-74')\n",
        "df['GRUPEDAD'] = df['GRUPEDAD'].replace('05.75 y más', '>= 75')"
      ],
      "metadata": {
        "id": "WlTZ_fHxrrlf"
      },
      "execution_count": null,
      "outputs": []
    },
    {
      "cell_type": "code",
      "source": [
        "# Return unique values in the 'GRUPEDAD' column of the DataFrame 'df'.\n",
        "df['GRUPEDAD'].unique()"
      ],
      "metadata": {
        "id": "SA9INPyPdvrJ"
      },
      "execution_count": null,
      "outputs": []
    },
    {
      "cell_type": "code",
      "source": [
        "# Convert 'GRUPEDAD' to ordinal data\n",
        "\n",
        "# Define the desired order of categories\n",
        "categories = ['0-4', '5-19', '20-44', '45-64', '65-74', '>= 75']\n",
        "\n",
        "# Create a categorical data type with the specified order\n",
        "cat_type = CategoricalDtype(categories=categories, ordered=True)\n",
        "\n",
        "# Convert the 'GRUPEDAD' column to the ordinal categorical type\n",
        "df['GRUPEDAD'] = df['GRUPEDAD'].astype(cat_type)\n"
      ],
      "metadata": {
        "id": "y-WxxEEEjuv5"
      },
      "execution_count": null,
      "outputs": []
    },
    {
      "cell_type": "code",
      "source": [
        "# Return unique values in the 'GRUPEDAD' column of the DataFrame 'df'.\n",
        "df['GRUPEDAD'].unique()"
      ],
      "metadata": {
        "id": "A1X0eN-ylroL"
      },
      "execution_count": null,
      "outputs": []
    },
    {
      "cell_type": "markdown",
      "source": [
        "### Check that the death toll is not negative."
      ],
      "metadata": {
        "id": "AvcMNpmXeh7r"
      }
    },
    {
      "cell_type": "code",
      "source": [
        " # Return unique values in the 'CANTIDAD' column of the DataFrame 'df'\n",
        "df['CANTIDAD'].unique()"
      ],
      "metadata": {
        "id": "ADVKlgkveFMP"
      },
      "execution_count": null,
      "outputs": []
    },
    {
      "cell_type": "code",
      "source": [
        "# Display a concise summary of a DataFrame including the index dtype and column dtypes, non-null values, and memory usage.\n",
        "df.info()"
      ],
      "metadata": {
        "id": "K2oHSQmoaYRy"
      },
      "execution_count": null,
      "outputs": []
    },
    {
      "cell_type": "code",
      "source": [
        "# Save the DataFrame to a CSV file without including the index.\n",
        "df.to_csv(\"pdt/asthma_mortality/data/csv/def_asma_2001_2022_clean_02.csv\", index=False)"
      ],
      "metadata": {
        "id": "HyxmDA2ahEfA"
      },
      "execution_count": null,
      "outputs": []
    }
  ]
}
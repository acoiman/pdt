version https://git-lfs.github.com/spec/v1
oid sha256:6f48554293420e86b168503795c1c5b1c250f15e92e3895f1d5d02b73e8f6ac8
size 24663

{
  "nbformat": 4,
  "nbformat_minor": 0,
  "metadata": {
    "colab": {
      "provenance": [],
      "authorship_tag": "ABX9TyPagTWt780zeQa7LVNebZCN",
      "include_colab_link": true
    },
    "kernelspec": {
      "name": "python3",
      "display_name": "Python 3"
    },
    "language_info": {
      "name": "python"
    }
  },
  "cells": [
    {
      "cell_type": "markdown",
      "metadata": {
        "id": "view-in-github",
        "colab_type": "text"
      },
      "source": [
        "<a href=\"https://colab.research.google.com/github/acoiman/pdt/blob/main/asthma_mortality/notebooks/colab/06_Asthma_Mortality_PD.ipynb\" target=\"_parent\"><img src=\"https://colab.research.google.com/assets/colab-badge.svg\" alt=\"Open In Colab\"/></a>"
      ]
    },
    {
      "cell_type": "markdown",
      "source": [
        "# 👨‍👩‍👧‍👦 Population Density (PD)"
      ],
      "metadata": {
        "id": "tRCJh0jHgY2B"
      }
    },
    {
      "cell_type": "markdown",
      "source": [
        "In this notebook we will  calculate the **population density (PD)** for each department in the study area from 2001 to 2022 based on our  annual population estimates and the area of each department."
      ],
      "metadata": {
        "id": "PJM9JlhCheZm"
      }
    },
    {
      "cell_type": "markdown",
      "source": [
        "##📦 Import Required Libraries"
      ],
      "metadata": {
        "id": "0I5lPTI8hgU-"
      }
    },
    {
      "cell_type": "code",
      "source": [
        "# geospatial data handling\n",
        "import geopandas as gpd\n",
        "\n",
        "\n",
        "from itables import init_notebook_mode"
      ],
      "metadata": {
        "id": "82npWhk8hfQG"
      },
      "execution_count": 5,
      "outputs": []
    },
    {
      "cell_type": "markdown",
      "source": [
        "##🗂 Load Dataset"
      ],
      "metadata": {
        "id": "-IB4I9rfpc0h"
      }
    },
    {
      "cell_type": "code",
      "source": [
        "# change to my computer home directory\n",
        "%cd work"
      ],
      "metadata": {
        "colab": {
          "base_uri": "https://localhost:8080/"
        },
        "id": "oW6ZqRb0iWAB",
        "outputId": "6ddb33aa-da48-469f-c53a-15da43426892"
      },
      "execution_count": 1,
      "outputs": [
        {
          "output_type": "stream",
          "name": "stdout",
          "text": [
            "/home/jovyan/work\n"
          ]
        }
      ]
    },
    {
      "cell_type": "code",
      "execution_count": 4,
      "metadata": {
        "id": "ocKXVfnggI42"
      },
      "outputs": [],
      "source": [
        "# Load dataset with data per department\n",
        "gdf = gpd.read_file(\"pdt/asthma_mortality/data/gpkg/tma_pm25_ba_2001_2022.gpkg\")"
      ]
    },
    {
      "cell_type": "code",
      "source": [
        "init_notebook_mode(all_interactive=True)\n",
        "gdf.head()"
      ],
      "metadata": {
        "id": "q9o5ci9YgYn2"
      },
      "execution_count": null,
      "outputs": []
    },
    {
      "cell_type": "markdown",
      "source": [
        "## 🧮 Define Function to Calculate Population Density"
      ],
      "metadata": {
        "id": "ftIYZVyUpoNg"
      }
    },
    {
      "cell_type": "code",
      "source": [
        "def add_population_density(gdf):\n",
        "    \"\"\"\n",
        "    Adds population density columns to a GeoDataFrame.\n",
        "\n",
        "    Parameters:\n",
        "    - gdf: GeoDataFrame in EPSG:4326 with population columns like 'A_2001', 'A_2002', ...\n",
        "\n",
        "    Returns:\n",
        "    - GeoDataFrame with new columns 'PD_2001', 'PD_2002', ... (people per km²)\n",
        "    \"\"\"\n",
        "    # Project to EPSG:6933 (Equal Area projection)\n",
        "    gdf_proj = gdf.to_crs(epsg=6933)\n",
        "\n",
        "    # Calculate area in square kilometers\n",
        "    gdf_proj[\"area_km2\"] = gdf_proj.geometry.area / 1e6\n",
        "\n",
        "    # Identify population columns\n",
        "    pop_cols = [col for col in gdf.columns if col.startswith(\"A_\") and col[2:].isdigit()]\n",
        "\n",
        "    # Add population density columns\n",
        "    for col in pop_cols:\n",
        "        year = col.split(\"_\")[1]\n",
        "        gdf_proj[f\"PD_{year}\"] = round(gdf_proj[col] / gdf_proj[\"area_km2\"], 2)\n",
        "\n",
        "    # Drop intermediate area column if not needed\n",
        "    gdf_proj = gdf_proj.drop(columns=[\"area_km2\"])\n",
        "\n",
        "    # Reproject back to EPSG:4326\n",
        "    gdf_final = gdf_proj.to_crs(epsg=4326)\n",
        "\n",
        "    return gdf_final"
      ],
      "metadata": {
        "id": "1XFq3aYZgvPd"
      },
      "execution_count": 12,
      "outputs": []
    },
    {
      "cell_type": "markdown",
      "source": [
        "## ➕ Apply Population Density Function\n"
      ],
      "metadata": {
        "id": "BOmSsWw6pxq3"
      }
    },
    {
      "cell_type": "code",
      "source": [
        "# Add population density\n",
        "gdf_with_density = add_population_density(gdf)"
      ],
      "metadata": {
        "id": "r2-GDSm0kwvp"
      },
      "execution_count": 13,
      "outputs": []
    },
    {
      "cell_type": "markdown",
      "source": [
        "##👁 Preview Resulting GeoDataFrame and save results"
      ],
      "metadata": {
        "id": "V7T1NFDzp8FN"
      }
    },
    {
      "cell_type": "code",
      "source": [
        "init_notebook_mode(all_interactive=True)\n",
        "gdf_with_density.head()"
      ],
      "metadata": {
        "id": "f2KqjhQhlEkr"
      },
      "execution_count": null,
      "outputs": []
    },
    {
      "cell_type": "code",
      "source": [
        "# Save the GeoDataFrame to a GeoPackage file\n",
        "gdf_with_density.to_file(\"pdt/asthma_mortality/data/gpkg/tma_pm25_ba_pd_2001_2022.gpkg\", driver=\"GPKG\")"
      ],
      "metadata": {
        "id": "Or7e8UxdlIey"
      },
      "execution_count": 15,
      "outputs": []
    }
  ]
}
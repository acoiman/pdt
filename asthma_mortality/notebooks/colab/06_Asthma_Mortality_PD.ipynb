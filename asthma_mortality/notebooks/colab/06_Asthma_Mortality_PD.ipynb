{
  "nbformat": 4,
  "nbformat_minor": 0,
  "metadata": {
    "colab": {
      "provenance": [],
      "authorship_tag": "ABX9TyMOVovHU8q5AlNgtEk2m2b5",
      "include_colab_link": true
    },
    "kernelspec": {
      "name": "python3",
      "display_name": "Python 3"
    },
    "language_info": {
      "name": "python"
    }
  },
  "cells": [
    {
      "cell_type": "markdown",
      "metadata": {
        "id": "view-in-github",
        "colab_type": "text"
      },
      "source": [
        "<a href=\"https://colab.research.google.com/github/acoiman/pdt/blob/main/asthma_mortality/notebooks/colab/06_Asthma_Mortality_PD.ipynb\" target=\"_parent\"><img src=\"https://colab.research.google.com/assets/colab-badge.svg\" alt=\"Open In Colab\"/></a>"
      ]
    },
    {
      "cell_type": "markdown",
      "source": [
        "# 👨‍👩‍👧‍👦 Population Density (PD)"
      ],
      "metadata": {
        "id": "tRCJh0jHgY2B"
      }
    },
    {
      "cell_type": "markdown",
      "source": [
        "In this notebook we will  calculate the **population density (PD)** and the **multiplication of PD and PM2.5** for each department in the study area from 2001 to 2022 based on our  annual population estimates, the area of each department,  and the annual concentration of PM2.5."
      ],
      "metadata": {
        "id": "PJM9JlhCheZm"
      }
    },
    {
      "cell_type": "markdown",
      "source": [
        "##📦 Import Required Libraries"
      ],
      "metadata": {
        "id": "0I5lPTI8hgU-"
      }
    },
    {
      "cell_type": "code",
      "source": [
        "# geospatial data handling\n",
        "import geopandas as gpd\n",
        "\n",
        "# other libraries\n",
        "from itables import init_notebook_mode"
      ],
      "metadata": {
        "id": "82npWhk8hfQG"
      },
      "execution_count": null,
      "outputs": []
    },
    {
      "cell_type": "markdown",
      "source": [
        "##🗂 Load Dataset"
      ],
      "metadata": {
        "id": "-IB4I9rfpc0h"
      }
    },
    {
      "cell_type": "code",
      "source": [
        "# change to my computer home directory\n",
        "%cd work"
      ],
      "metadata": {
        "id": "oW6ZqRb0iWAB"
      },
      "execution_count": null,
      "outputs": []
    },
    {
      "cell_type": "code",
      "execution_count": null,
      "metadata": {
        "id": "ocKXVfnggI42"
      },
      "outputs": [],
      "source": [
        "# Load dataset with data per department\n",
        "# gdf = gpd.read_file(\"pdt/asthma_mortality/data/gpkg/tma_pm25_ba_2001_2022.gpkg\")"
      ]
    },
    {
      "cell_type": "code",
      "source": [
        "# Load dataset with data per department with BA calculated from 500 m MODIS data with 500 m spatial resolution\n",
        "gdf = gpd.read_file(\"pdt/asthma_mortality/data/gpkg/tma_pm25_ba_2001_2022_2.gpkg\")"
      ],
      "metadata": {
        "id": "3cqMA-LdiDNd"
      },
      "execution_count": null,
      "outputs": []
    },
    {
      "cell_type": "code",
      "source": [
        "init_notebook_mode(all_interactive=True)\n",
        "gdf.head()"
      ],
      "metadata": {
        "id": "q9o5ci9YgYn2"
      },
      "execution_count": null,
      "outputs": []
    },
    {
      "cell_type": "markdown",
      "source": [
        "## 👪 Calculate Population Density"
      ],
      "metadata": {
        "id": "ftIYZVyUpoNg"
      }
    },
    {
      "cell_type": "code",
      "source": [
        "def add_population_density(gdf):\n",
        "    \"\"\"\n",
        "    Adds population density columns to a GeoDataFrame.\n",
        "\n",
        "    Parameters:\n",
        "    - gdf: GeoDataFrame in EPSG:4326 with population columns like 'A_2001', 'A_2002', ...\n",
        "\n",
        "    Returns:\n",
        "    - GeoDataFrame with new columns 'PD_2001', 'PD_2002', ... (people per km²)\n",
        "    \"\"\"\n",
        "    # Project to EPSG:6933 (Equal Area projection)\n",
        "    gdf_proj = gdf.to_crs(epsg=6933)\n",
        "\n",
        "    # Calculate area in square kilometers\n",
        "    gdf_proj[\"area_km2\"] = gdf_proj.geometry.area / 1e6\n",
        "\n",
        "    # Identify population columns\n",
        "    pop_cols = [col for col in gdf.columns if col.startswith(\"A_\") and col[2:].isdigit()]\n",
        "\n",
        "    # Add population density columns\n",
        "    for col in pop_cols:\n",
        "        year = col.split(\"_\")[1]\n",
        "        gdf_proj[f\"PD_{year}\"] = round(gdf_proj[col] / gdf_proj[\"area_km2\"], 2)\n",
        "\n",
        "    # Drop intermediate area column if not needed\n",
        "    gdf_proj = gdf_proj.drop(columns=[\"area_km2\"])\n",
        "\n",
        "    # Reproject back to EPSG:4326\n",
        "    gdf_final = gdf_proj.to_crs(epsg=4326)\n",
        "\n",
        "    return gdf_final"
      ],
      "metadata": {
        "id": "1XFq3aYZgvPd"
      },
      "execution_count": null,
      "outputs": []
    },
    {
      "cell_type": "markdown",
      "source": [
        "### Apply Population Density Function\n"
      ],
      "metadata": {
        "id": "BOmSsWw6pxq3"
      }
    },
    {
      "cell_type": "code",
      "source": [
        "# Add population density\n",
        "gdf_with_density = add_population_density(gdf)"
      ],
      "metadata": {
        "id": "r2-GDSm0kwvp"
      },
      "execution_count": null,
      "outputs": []
    },
    {
      "cell_type": "markdown",
      "source": [
        "### Preview Resulting GeoDataFrame and save results"
      ],
      "metadata": {
        "id": "V7T1NFDzp8FN"
      }
    },
    {
      "cell_type": "code",
      "source": [
        "# Display the first few rows of the DataFrame\n",
        "init_notebook_mode(all_interactive=True)\n",
        "gdf_with_density.head()"
      ],
      "metadata": {
        "id": "f2KqjhQhlEkr"
      },
      "execution_count": null,
      "outputs": []
    },
    {
      "cell_type": "code",
      "source": [
        "# Save the GeoDataFrame to a GeopackeoPackage file\n",
        "# gdf_with_density.to_file(\"pdt/asthma_mortality/data/gpkg/tma_pm25_ba_pd_2001_2022.gpkg\", driver=\"GPKG\")"
      ],
      "metadata": {
        "id": "Or7e8UxdlIey"
      },
      "execution_count": null,
      "outputs": []
    },
    {
      "cell_type": "code",
      "source": [
        "# Save the GeoDataFrame to a GeopackeoPackage file\n",
        "gdf_with_density.to_file(\"pdt/asthma_mortality/data/gpkg/tma_pm25_ba_pd_2001_2022_2.gpkg\", driver=\"GPKG\")"
      ],
      "metadata": {
        "id": "GgCmUJnJkSD5"
      },
      "execution_count": null,
      "outputs": []
    },
    {
      "cell_type": "markdown",
      "source": [
        "## 👪 🏭 Calculate PD * PM25"
      ],
      "metadata": {
        "id": "GMN3wnMadqka"
      }
    },
    {
      "cell_type": "code",
      "source": [
        "# Load dataset with data per department\n",
        "gdf = gpd.read_file(\"pdt/asthma_mortality/data/gpkg/tma_pm25_ba_pd_2001_2022_2.gpkg\")"
      ],
      "metadata": {
        "id": "0DlCBPgvdp7x"
      },
      "execution_count": null,
      "outputs": []
    },
    {
      "cell_type": "code",
      "source": [
        "init_notebook_mode(all_interactive=True)\n",
        "gdf.head()"
      ],
      "metadata": {
        "id": "a1WmyuIweQff"
      },
      "execution_count": null,
      "outputs": []
    },
    {
      "cell_type": "code",
      "source": [
        "def add_pdpm25(gdf):\n",
        "    \"\"\"\n",
        "    Adds PDPM25_year = PD_year * PM25_year for each year where both columns exist.\n",
        "\n",
        "    Parameters:\n",
        "    - gdf: GeoDataFrame with columns like 'PD_2001', 'PM25_2001', ...\n",
        "\n",
        "    Returns:\n",
        "    - GeoDataFrame with new columns: 'PDPM25_YYYY'\n",
        "    \"\"\"\n",
        "    # Work on a copy to avoid modifying the original dataframe\n",
        "    gdf_copy = gdf.copy()\n",
        "\n",
        "    # Identify PD columns\n",
        "    pd_cols = [col for col in gdf_copy.columns if col.startswith(\"PD_\") and col[4:].isdigit()]\n",
        "\n",
        "    for pd_col in pd_cols:\n",
        "        year = pd_col.split(\"_\")[1]\n",
        "        pm25_col = f\"PM25_{year}\"\n",
        "\n",
        "        if pm25_col in gdf_copy.columns:\n",
        "            gdf_copy[f\"PDPM25_{year}\"] = gdf_copy[pd_col] * gdf_copy[pm25_col]\n",
        "\n",
        "    return gdf_copy\n"
      ],
      "metadata": {
        "id": "raJ4R5BcfDoR"
      },
      "execution_count": null,
      "outputs": []
    },
    {
      "cell_type": "markdown",
      "source": [
        "### Apply Population Density Function\n"
      ],
      "metadata": {
        "id": "N-xwftMifcdq"
      }
    },
    {
      "cell_type": "code",
      "source": [
        "# Add PD * PM25 (PDPM25)\n",
        "gdf_with_pdpm25 = add_pdpm25(gdf)"
      ],
      "metadata": {
        "id": "ytoC_AqRfcdr"
      },
      "execution_count": null,
      "outputs": []
    },
    {
      "cell_type": "markdown",
      "source": [
        "### Preview Resulting GeoDataFrame and save results"
      ],
      "metadata": {
        "id": "TiqGJlBNfxk0"
      }
    },
    {
      "cell_type": "code",
      "source": [
        "# Display the first few rows of the DataFrame\n",
        "init_notebook_mode(all_interactive=True)\n",
        "gdf_with_pdpm25.head()"
      ],
      "metadata": {
        "id": "bwRaINjpfxk1"
      },
      "execution_count": null,
      "outputs": []
    },
    {
      "cell_type": "code",
      "source": [
        "# Save the GeoDataFrame to a GeopackeoPackage file\n",
        "# gdf_with_pdpm25.to_file(\"pdt/asthma_mortality/data/gpkg/tma_pm25_ba_pd_pdpm25_2001_2022.gpkg\", driver=\"GPKG\")"
      ],
      "metadata": {
        "id": "gfEtUT9Xfxk1"
      },
      "execution_count": null,
      "outputs": []
    },
    {
      "cell_type": "code",
      "source": [
        "# Save the GeoDataFrame to a GeopackeoPackage file\n",
        "gdf_with_pdpm25.to_file(\"pdt/asthma_mortality/data/gpkg/tma_pm25_ba_pd_pdpm25_2001_2022_2.gpkg\", driver=\"GPKG\")"
      ],
      "metadata": {
        "id": "obZK7eFRken4"
      },
      "execution_count": null,
      "outputs": []
    }
  ]
}
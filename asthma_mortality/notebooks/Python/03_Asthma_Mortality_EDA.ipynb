{
  "nbformat": 4,
  "nbformat_minor": 0,
  "metadata": {
    "colab": {
      "provenance": [],
      "toc_visible": true,
      "include_colab_link": true
    },
    "kernelspec": {
      "name": "python3",
      "display_name": "Python 3"
    },
    "language_info": {
      "name": "python"
    }
  },
  "cells": [
    {
      "cell_type": "markdown",
      "metadata": {
        "id": "view-in-github",
        "colab_type": "text"
      },
      "source": [
        "<a href=\"https://colab.research.google.com/github/acoiman/pdt/blob/main/asthma_mortality/notebooks/Python/03_Asthma_Mortality_EDA.ipynb\" target=\"_parent\"><img src=\"https://colab.research.google.com/assets/colab-badge.svg\" alt=\"Open In Colab\"/></a>"
      ]
    },
    {
      "cell_type": "markdown",
      "source": [
        "#📊 Exploratory Data Analysis (EDA) of Asthma Mortality."
      ],
      "metadata": {
        "id": "YMkLqFkxnWCG"
      }
    },
    {
      "cell_type": "markdown",
      "source": [
        "The main goal of Exploratory Data Analysis (EDA) is to discover patterns, trends, and associations between variables that guide the implementation of the methodology to  model asthma mortality. For our asthma mortality EDA we will perform the follwing analysis is divided into two parts:\n",
        "\n",
        "**Part 1 Non-geospatial data**\n",
        "\n",
        "* Descriptive statistics\n",
        "* Demographic Breakdown\n",
        "\n",
        "**Part 2 Geospatial data**\n",
        "* Outlier Detection\n",
        "* Geospatial Analysis\n",
        "* Temporal Analysis"
      ],
      "metadata": {
        "id": "XHt1uA2QUuJX"
      }
    },
    {
      "cell_type": "markdown",
      "source": [
        "## 🤖 Load libraries\n",
        "\n",
        "The libraries required for the analysis will be loaded"
      ],
      "metadata": {
        "id": "AnlXfpkknkx_"
      }
    },
    {
      "cell_type": "code",
      "source": [
        "# dataframe libraries\n",
        "import pandas as pd\n",
        "\n",
        "# geospatial libraries\n",
        "import geopandas as gpd\n",
        "\n",
        "# geostatistical libraries\n",
        "import pysal\n",
        "import mapclassify\n",
        "from libpysal.weights import Queen\n",
        "from pysal.lib import weights\n",
        "import esda\n",
        "from esda.moran import Moran\n",
        "from esda.moran import Moran_Local\n",
        "\n",
        "\n",
        "\n",
        "# numpy\n",
        "import numpy as np\n",
        "\n",
        "# plot libraries\n",
        "import matplotlib.pyplot as plt\n",
        "import matplotlib.colors as mcolors\n",
        "from matplotlib.ticker import MaxNLocator\n",
        "import matplotlib.patches as patches\n",
        "import seaborn as sns\n",
        "import plotly.express as px\n",
        "from splot import esda as esdaplot\n",
        "\n",
        "# time-series libraries\n",
        "from statsmodels.tsa.seasonal import seasonal_decompose\n",
        "from statsmodels.graphics.tsaplots import plot_acf, plot_pacf\n",
        "from statsmodels.tsa.stattools import adfuller\n",
        "\n",
        "# picture libraries\n",
        "from IPython.display import Image\n",
        "import imageio.v2 as imageio\n",
        "\n",
        "# other libraries\n",
        "from scipy.stats import poisson\n",
        "import os\n",
        "from itables import init_notebook_mode, show"
      ],
      "metadata": {
        "id": "KY4rT4z7ng37"
      },
      "execution_count": null,
      "outputs": []
    },
    {
      "cell_type": "code",
      "source": [
        "# Set the PROJ_LIB path\n",
        "os.environ['PROJ_LIB'] = \"/opt/conda/envs/gds/share/proj\""
      ],
      "metadata": {
        "id": "I_wJT-MnAZrv"
      },
      "execution_count": null,
      "outputs": []
    },
    {
      "cell_type": "code",
      "source": [
        "# change directory to work folder (at the begining docker container enter into /home/jovyan/)\n",
        "%cd work"
      ],
      "metadata": {
        "id": "2xEQ_1GGP2I0"
      },
      "execution_count": null,
      "outputs": []
    },
    {
      "cell_type": "markdown",
      "source": [
        "## 📈 Part 1 Non-geospatial data\n",
        "\n",
        "In this section we will perform EDA on sex, age group and time features of our asthma mortality dataset"
      ],
      "metadata": {
        "id": "Va5BfSF8xzUH"
      }
    },
    {
      "cell_type": "code",
      "source": [
        "# Load the cleaned asthma mortality dataset from 2001 to 2022 containing categorical clases\n",
        "# for sex and age group (resulting from the preprocessing)\n",
        "df = pd.read_csv('pdt/asthma_mortality/data/csv/def_asma_2001_2022_clean_02.csv',  dtype={'IDDPTO': str})"
      ],
      "metadata": {
        "id": "300Tgqmkn3x9"
      },
      "execution_count": null,
      "outputs": []
    },
    {
      "cell_type": "markdown",
      "source": [
        "### Descriptive statistics\n",
        "\n"
      ],
      "metadata": {
        "id": "USAxDek4mOcu"
      }
    },
    {
      "cell_type": "code",
      "source": [
        "# Check data types and missing values\n",
        "print(df.info())"
      ],
      "metadata": {
        "id": "hTgKc1PI62NS"
      },
      "execution_count": null,
      "outputs": []
    },
    {
      "cell_type": "code",
      "source": [
        "print(\"\\nMissing values:\\n\", df.isnull().sum())"
      ],
      "metadata": {
        "id": "D3ZKb0Vt-PYu"
      },
      "execution_count": null,
      "outputs": []
    },
    {
      "cell_type": "code",
      "source": [
        "# Summary statistics for number of deaths\n",
        "print(\"\\nDescriptive statistics for CANTIDAD columns:\\n\")\n",
        "print(df.CANTIDAD.describe())"
      ],
      "metadata": {
        "id": "vT2A9KshXzx3"
      },
      "execution_count": null,
      "outputs": []
    },
    {
      "cell_type": "code",
      "source": [
        "# Number of deaths per year\n",
        "# Grouping the data by year and summing the 'CANTIDAD' column\n",
        "df_mpa = df.groupby('ANIO')['CANTIDAD'].sum().reset_index()"
      ],
      "metadata": {
        "id": "I_oYe_lqozpK"
      },
      "execution_count": null,
      "outputs": []
    },
    {
      "cell_type": "code",
      "source": [
        "# Display the first few rows of the DataFrame\n",
        "init_notebook_mode(all_interactive=False)\n",
        "df_mpa.head()"
      ],
      "metadata": {
        "id": "5ck2t-PEpxfh"
      },
      "execution_count": null,
      "outputs": []
    },
    {
      "cell_type": "code",
      "source": [
        "# Plot number of deaths from asthma in Argentina\n",
        "# Create figure\n",
        "plt.figure(figsize=(12, 6))\n",
        "\n",
        "# Create line plot\n",
        "plt.plot(df_mpa['ANIO'], df_mpa['CANTIDAD'],\n",
        "         marker='o',\n",
        "         linestyle='-',\n",
        "         color='#2c7bb6',\n",
        "         linewidth=2.5,\n",
        "         markersize=8)\n",
        "\n",
        "# Formatting\n",
        "plt.title('Number of Deaths from Asthma in Argentina (2001-2022)', fontsize=14, pad=20)\n",
        "plt.xlabel('Year', fontsize=12)\n",
        "plt.ylabel('Number of deaths', fontsize=12)\n",
        "plt.grid(True, alpha=0.3)\n",
        "plt.xticks(df_mpa['ANIO'][::2], rotation=45)  # Show every other year\n",
        "plt.xlim(2000.5, 2022.5)  # Add buffer on x-axis\n",
        "\n",
        "# Improve tick formatting\n",
        "plt.gca().xaxis.set_major_locator(plt.MultipleLocator(2))\n",
        "plt.gca().xaxis.set_minor_locator(plt.MultipleLocator(1))\n",
        "\n",
        "plt.tight_layout()\n",
        "plt.show();"
      ],
      "metadata": {
        "id": "c52tLwX8py-Q"
      },
      "execution_count": null,
      "outputs": []
    },
    {
      "cell_type": "markdown",
      "source": [
        "### Demographic Breakdown"
      ],
      "metadata": {
        "id": "sCuUOxNxwH4r"
      }
    },
    {
      "cell_type": "markdown",
      "source": [
        "#### Asthma Deaths over Time by Sex and Age Group"
      ],
      "metadata": {
        "id": "DhyruxmK1QEx"
      }
    },
    {
      "cell_type": "code",
      "source": [
        "# Load the cleaned asthma mortality dataset from 2001 to 2022\n",
        "df = pd.read_csv('pdt/asthma_mortality/data/csv/def_asma_2001_2022_clean_02.csv', dtype={'IDDPTO': str})"
      ],
      "metadata": {
        "id": "jtYoaVF0WUbJ"
      },
      "execution_count": null,
      "outputs": []
    },
    {
      "cell_type": "code",
      "source": [
        "# Display the first few rows of the DataFrame\n",
        "init_notebook_mode(all_interactive=False)\n",
        "df.head()"
      ],
      "metadata": {
        "id": "ecuNhYmNWV9n"
      },
      "execution_count": null,
      "outputs": []
    },
    {
      "cell_type": "code",
      "source": [
        "# Map the 'SEXO' column values to their corresponding labels using the sex_map dictionary\n",
        "sex_map = {1: 'Masculino', 2: 'Femenino'}\n",
        "df['SEXO'] = df['SEXO'].map(sex_map)"
      ],
      "metadata": {
        "id": "jPLU72AJfGK4"
      },
      "execution_count": null,
      "outputs": []
    },
    {
      "cell_type": "code",
      "source": [
        "# Display the first few rows of the DataFrame\n",
        "init_notebook_mode(all_interactive=False)\n",
        "df.head()"
      ],
      "metadata": {
        "id": "C4G5L9-HfJSq"
      },
      "execution_count": null,
      "outputs": []
    },
    {
      "cell_type": "code",
      "source": [
        "# Custom order of age groups\n",
        "age_order = ['0-4', '5-19', '20-44', '45-64', '65-74', '>= 75']"
      ],
      "metadata": {
        "id": "JesGLlNhh7B6"
      },
      "execution_count": null,
      "outputs": []
    },
    {
      "cell_type": "code",
      "source": [
        "# Convert the 'GRUPEDAD' column to a categorical type with a specific order\n",
        "df['GRUPEDAD'] = pd.Categorical(df['GRUPEDAD'], categories=age_order, ordered=True)"
      ],
      "metadata": {
        "id": "AzubrFe9iYCZ"
      },
      "execution_count": null,
      "outputs": []
    },
    {
      "cell_type": "code",
      "source": [
        "# Display the first few rows of the DataFrame\n",
        "init_notebook_mode(all_interactive=False)\n",
        "df.head()"
      ],
      "metadata": {
        "id": "mNyTakvcikyz"
      },
      "execution_count": null,
      "outputs": []
    },
    {
      "cell_type": "code",
      "source": [
        "# Group the DataFrame by 'GRUPEDAD', 'SEXO', and 'ANIO', summing the 'CANTIDAD' column\n",
        "df_agg = df.groupby(['GRUPEDAD', 'SEXO', 'ANIO'], as_index=False, observed=True)['CANTIDAD'].sum()"
      ],
      "metadata": {
        "id": "_JKzpie7fJV0"
      },
      "execution_count": null,
      "outputs": []
    },
    {
      "cell_type": "code",
      "source": [
        "# Display the first few rows of the DataFrame\n",
        "init_notebook_mode(all_interactive=False)\n",
        "df_agg.head()"
      ],
      "metadata": {
        "id": "Haiiw4SSfJZ0"
      },
      "execution_count": null,
      "outputs": []
    },
    {
      "cell_type": "code",
      "source": [
        "# Plot age group trend over years\n",
        "# Group data by year and sex, then sum the 'CANTIDAD' column; reshape the result and fill missing values with 0\n",
        "sex_time = df.groupby(['ANIO', 'SEXO'])['CANTIDAD'].sum().unstack().fillna(0)\n",
        "# Plot the data with markers\n",
        "sex_time.plot(marker='o')\n",
        "# Add a title to the plot\n",
        "plt.title(\"Asthma Deaths over Time by Sex\")\n",
        "# Label the x-axis\n",
        "plt.xlabel(\"Year\")\n",
        "# Label the y-axis\n",
        "plt.ylabel(\"Total Deaths\")\n",
        "# Add a legend with a title\n",
        "plt.legend(title='SEXO')\n",
        "# Adjust layout to prevent overlapping elements\n",
        "plt.tight_layout()\n",
        "# Display the plot\n",
        "plt.show();"
      ],
      "metadata": {
        "id": "fzjgcPpojdE0"
      },
      "execution_count": null,
      "outputs": []
    },
    {
      "cell_type": "code",
      "source": [
        "# Plot Asthma Deaths over Time by Age Group\n",
        "# Group the data by year ('ANIO') and age group ('GRUPEDAD'), then sum the 'CANTIDAD' column\n",
        "age_time = df.groupby(['ANIO', 'GRUPEDAD'])['CANTIDAD'].sum().unstack().fillna(0)\n",
        "# Plot the grouped data with markers for better visualization\n",
        "age_time.plot(marker='o')\n",
        "# Add a title to the plot\n",
        "plt.title(\"Asthma Deaths over Time by Age Group\")\n",
        "# Label the x-axis as 'Year'\n",
        "plt.xlabel(\"Year\")\n",
        "# Label the y-axis as 'Total Deaths'\n",
        "plt.ylabel(\"Total Deaths\")\n",
        "# Add a legend with the title 'Age Group' and position it outside the plot\n",
        "plt.legend(title='Age Group', bbox_to_anchor=(1.0, 1.02))\n",
        "# Rotate the x-axis labels for better readability\n",
        "plt.xticks(rotation=45)\n",
        "# Adjust the layout to prevent overlapping elements\n",
        "plt.tight_layout()\n",
        "# Display the plot\n",
        "plt.show()"
      ],
      "metadata": {
        "id": "Eu2vWxZ5qnvJ"
      },
      "execution_count": null,
      "outputs": []
    },
    {
      "cell_type": "code",
      "source": [
        "# Plot Line charts  showing annual asthma deaths by sex and age group (2001–2022)\n",
        "sns.set(style=\"whitegrid\")\n",
        "\n",
        "# Create the FacetGrid: one plot per sex\n",
        "g = sns.FacetGrid(df_agg, col=\"SEXO\", height=5, aspect=1.4, sharey=False)\n",
        "\n",
        "# Plot lines: deaths over year, color by age_group\n",
        "g.map_dataframe(sns.lineplot, x=\"ANIO\", y=\"CANTIDAD\", hue=\"GRUPEDAD\", marker=\"o\")\n",
        "\n",
        "# Extract legend handles and labels\n",
        "handles, labels = g.axes[0][0].get_legend_handles_labels()\n",
        "\n",
        "# Define your custom order\n",
        "custom_order = ['0-4', '5-19', '20-44', '45-64', '65-74', '>= 75']\n",
        "\n",
        "# Sort handles and labels based on custom order\n",
        "sorted_pairs = sorted(zip(labels, handles), key=lambda x: custom_order.index(x[0]))\n",
        "sorted_labels, sorted_handles = zip(*sorted_pairs)\n",
        "\n",
        "\n",
        "# Add legend\n",
        "g.fig.legend(\n",
        "    handles=sorted_handles,\n",
        "    labels=sorted_labels,\n",
        "    title=\"Age group\",\n",
        "    loc='center left',\n",
        "    bbox_to_anchor=(0.91, 0.67),\n",
        "    borderaxespad=0.\n",
        ")\n",
        "\n",
        "# for tiles chane Femenino to female and Masculino to Male\n",
        "g.set_titles(col_template=\"{col_name}\")\n",
        "for ax in g.axes.flat:\n",
        "    if ax.get_title() == \"Masculino\":\n",
        "        ax.set_title(\"Male\")\n",
        "    elif ax.get_title() == \"Femenino\":\n",
        "        ax.set_title(\"Female\")\n",
        "\n",
        "g.fig.suptitle(\"Asthma Deaths over Time by Sex and Age Group\", fontsize=16, y=1.05)\n",
        "\n",
        "# Force integer ticks on y-axis\n",
        "for ax in g.axes.flat:\n",
        "    ax.yaxis.set_major_locator(MaxNLocator(integer=True))\n",
        "\n",
        "# change x and y labels\n",
        "g.set_xlabels(\"Year\")\n",
        "g.set_ylabels(\"Number of deaths\")\n",
        "\n",
        "# Ensure that subplots fit into the figure area properly\n",
        "plt.tight_layout()\n",
        "\n",
        "plt.show();"
      ],
      "metadata": {
        "id": "A40DOynsfJdK"
      },
      "execution_count": null,
      "outputs": []
    },
    {
      "cell_type": "markdown",
      "source": [
        "#### Asthma Deaths by Sex and Age Groups"
      ],
      "metadata": {
        "id": "1Sy_17J81hYP"
      }
    },
    {
      "cell_type": "code",
      "source": [
        "# Load the cleaned asthma mortality dataset from 2001 to 2022\n",
        "df = pd.read_csv('pdt/asthma_mortality/data/csv/def_asma_2001_2022_clean_02.csv', dtype={'IDDPTO': str})"
      ],
      "metadata": {
        "id": "ZeuAPgFmnhA8"
      },
      "execution_count": null,
      "outputs": []
    },
    {
      "cell_type": "code",
      "source": [
        "# Display the first few rows of the DataFrame\n",
        "init_notebook_mode(all_interactive=False)\n",
        "df.head()"
      ],
      "metadata": {
        "id": "v5i7nhnanmdk"
      },
      "execution_count": null,
      "outputs": []
    },
    {
      "cell_type": "code",
      "source": [
        "# Map the 'SEXO' column values to their corresponding labels using the sex_map dictionary\n",
        "sex_map = {1: 'Masculino', 2: 'Femenino'}\n",
        "df['SEXO'] = df['SEXO'].map(sex_map)"
      ],
      "metadata": {
        "id": "pK58hRU1oOcu"
      },
      "execution_count": null,
      "outputs": []
    },
    {
      "cell_type": "code",
      "source": [
        "# Grouping the data by 'SEXO' (sex) and summing up the 'CANTIDAD' (quantity) column\n",
        "deaths_by_sex = df.groupby('SEXO')['CANTIDAD'].sum().reset_index()\n",
        "\n",
        "# change  Femenino to Female and Masculino to male\n",
        "deaths_by_sex['SEXO'] = deaths_by_sex['SEXO'].replace({'Femenino': 'Female', 'Masculino': 'Male'})\n",
        "\n",
        "# Grouping the data by 'GRUPEDAD' (age group) and summing up the 'CANTIDAD' (quantity) column\n",
        "deaths_by_age_group = df.groupby('GRUPEDAD')['CANTIDAD'].sum().reset_index()"
      ],
      "metadata": {
        "id": "LGYkQ49WgcwS"
      },
      "execution_count": null,
      "outputs": []
    },
    {
      "cell_type": "code",
      "source": [
        "# Sorting DataFrame by Age Group\n",
        "age_order = ['0-4', '5-19', '20-44', '45-64', '65-74', '>= 75']\n",
        "deaths_by_age_group['GRUPEDAD'] = pd.Categorical(deaths_by_age_group['GRUPEDAD'], categories=age_order, ordered=True)\n",
        "deaths_by_age_group = deaths_by_age_group.sort_values('GRUPEDAD')"
      ],
      "metadata": {
        "id": "aE4WCoDWgczT"
      },
      "execution_count": null,
      "outputs": []
    },
    {
      "cell_type": "code",
      "source": [
        "# Set style\n",
        "sns.set(style=\"whitegrid\")\n",
        "\n",
        "# Create figure\n",
        "fig, axes = plt.subplots(1, 2, figsize=(14, 6))\n",
        "\n",
        "# Plot pie chart showing the percentage of deaths by sex\n",
        "axes[0].pie(\n",
        "    deaths_by_sex['CANTIDAD'],\n",
        "    labels=deaths_by_sex['SEXO'],\n",
        "    autopct='%1.1f%%',\n",
        "    startangle=90,\n",
        "    colors=['#1f77b4', '#d62728']\n",
        ")\n",
        "axes[0].set_title('Percentage of Asthma Deaths by Sex')\n",
        "\n",
        "\n",
        "# Plot stacked bar chart (Sex x Age Group)\n",
        "deaths_pivot = df.groupby(['SEXO', 'GRUPEDAD'])['CANTIDAD'].sum().unstack().fillna(0)\n",
        "deaths_pivot.index = deaths_pivot.index.map({'Femenino': 'Female', 'Masculino': 'Male'})\n",
        "deaths_pivot.T.plot(kind='bar', stacked=True, ax=axes[1])\n",
        "axes[1].set_title(\"Deaths by Age Group and Sex\")\n",
        "axes[1].set_ylabel(\"Total Deaths\")\n",
        "axes[1].set_xlabel(\"Age Group\")\n",
        "axes[1].legend(title='SEXO')\n",
        "axes[1].tick_params(axis='x', rotation=45) #\n",
        "\n",
        "# final adjustments\n",
        "plt.tight_layout()\n",
        "plt.show();"
      ],
      "metadata": {
        "id": "ny49Hr10nmQq"
      },
      "execution_count": null,
      "outputs": []
    },
    {
      "cell_type": "code",
      "source": [
        "# load data from a CSV file containing asthma mortality data from 2001 to 2022\n",
        "df = pd.read_csv('pdt/asthma_mortality/data/csv/def_asma_2001_2022_clean_02.csv', dtype={'IDDPTO': str})"
      ],
      "metadata": {
        "id": "FNuMxFt7tkTm"
      },
      "execution_count": null,
      "outputs": []
    },
    {
      "cell_type": "code",
      "source": [
        "# Display the first few rows of the DataFrame\n",
        "init_notebook_mode(all_interactive=False)\n",
        "df.head()"
      ],
      "metadata": {
        "id": "zYXA5hNYvLqh"
      },
      "execution_count": null,
      "outputs": []
    },
    {
      "cell_type": "code",
      "source": [
        "# Map the 'SEXO' column values to their corresponding labels using the sex_map dictionary\n",
        "sex_map = {1: 'Masculino', 2: 'Femenino'}\n",
        "df['SEXO'] = df['SEXO'].map(sex_map)"
      ],
      "metadata": {
        "id": "m0DwT5VxuUDh"
      },
      "execution_count": null,
      "outputs": []
    },
    {
      "cell_type": "code",
      "source": [
        "# group data by age group ('GRUPEDAD') and gender ('SEXO'), and calculate the total count ('CANTIDAD')\n",
        "pyramid_df = df.groupby(['GRUPEDAD', 'SEXO'])['CANTIDAD'].sum().reset_index()"
      ],
      "metadata": {
        "id": "LE9liGz7gc8E"
      },
      "execution_count": null,
      "outputs": []
    },
    {
      "cell_type": "code",
      "source": [
        "# Sorting DataFrame (pyramid_df ) by Age Group\n",
        "age_order = ['0-4', '5-19', '20-44', '45-64', '65-74', '>= 75']\n",
        "pyramid_df['GRUPEDAD'] = pd.Categorical(pyramid_df['GRUPEDAD'], categories=age_order, ordered=True)\n",
        "pyramid_df = pyramid_df.sort_values('GRUPEDAD')"
      ],
      "metadata": {
        "id": "b_H0o7wegc_R"
      },
      "execution_count": null,
      "outputs": []
    },
    {
      "cell_type": "code",
      "source": [
        "# Convert male deaths to negative to get a pyramid efect\n",
        "pyramid_df['CANTIDAD'] = pyramid_df.apply(\n",
        "    lambda row: -row['CANTIDAD'] if row['SEXO'] == 'Masculino' else row['CANTIDAD'], axis=1\n",
        ")"
      ],
      "metadata": {
        "id": "h2fBqVrkWvtX"
      },
      "execution_count": null,
      "outputs": []
    },
    {
      "cell_type": "code",
      "source": [
        "# Age pyramid by sex and deaths from asthma\n",
        "plt.figure(figsize=(10, 6))\n",
        "for sex, color in zip(['Masculino', 'Femenino'], ['#1f77b4', '#d62728']):\n",
        "    subset = pyramid_df[pyramid_df['SEXO'] == sex]\n",
        "    # Change labels here before plotting\n",
        "    label = \"Male\" if sex == \"Masculino\" else \"Female\"\n",
        "    plt.barh(subset['GRUPEDAD'], subset['CANTIDAD'], color=color, label=label)\n",
        "\n",
        "# Aesthetics of the graph\n",
        "plt.axvline(0, color='black', linewidth=0.5)\n",
        "plt.xlabel('Number of deaths')\n",
        "plt.ylabel('Age group')\n",
        "plt.title('Age pyramid by sex – Deaths from asthma')\n",
        "plt.legend(loc='lower right')\n",
        "\n",
        "# Make all x-tick labels positive\n",
        "xticks = plt.xticks()[0]  # Get current x-tick locations\n",
        "plt.xticks(xticks, [abs(int(x)) for x in xticks])  # Replace labels with absolute values\n",
        "\n",
        "# final adjustments\n",
        "plt.tight_layout()\n",
        "plt.show()"
      ],
      "metadata": {
        "id": "rfkwG4XLWvwV"
      },
      "execution_count": null,
      "outputs": []
    },
    {
      "cell_type": "markdown",
      "source": [
        "#### Tables of Asthma Deaths by Sex and Age Group"
      ],
      "metadata": {
        "id": "Hj-ty4qb17a0"
      }
    },
    {
      "cell_type": "code",
      "source": [
        "# load data from a CSV file containing asthma mortality data from 2001 to 2022\n",
        "df = pd.read_csv('pdt/asthma_mortality/data/csv/def_asma_2001_2022_clean_02.csv', dtype={'IDDPTO': str})"
      ],
      "metadata": {
        "id": "ypYO8t32dwl5"
      },
      "execution_count": null,
      "outputs": []
    },
    {
      "cell_type": "code",
      "source": [
        "# Proportion of deaths by age group and sex\n",
        "cross_age_sex = pd.crosstab(df['GRUPEDAD'], df['SEXO'], values=df['CANTIDAD'], aggfunc='sum', normalize='index')"
      ],
      "metadata": {
        "id": "4DIUDQFwYvcj"
      },
      "execution_count": null,
      "outputs": []
    },
    {
      "cell_type": "code",
      "source": [
        "# display dataframe\n",
        "cross_age_sex"
      ],
      "metadata": {
        "id": "Wk0-VMaGbiCc"
      },
      "execution_count": null,
      "outputs": []
    },
    {
      "cell_type": "code",
      "source": [
        "# Total deaths by sex\n",
        "deaths_by_sex = df.groupby('SEXO')['CANTIDAD'].sum()"
      ],
      "metadata": {
        "id": "nyhS_0qfaRLe"
      },
      "execution_count": null,
      "outputs": []
    },
    {
      "cell_type": "code",
      "source": [
        "# visualize table\n",
        "deaths_by_sex"
      ],
      "metadata": {
        "id": "EyFMhaFfcPLk"
      },
      "execution_count": null,
      "outputs": []
    },
    {
      "cell_type": "code",
      "source": [
        "# Pivot table of deaths by year and age group\n",
        "pivot = pd.pivot_table(df, values='CANTIDAD', index='ANIO', columns='GRUPEDAD', aggfunc='sum', fill_value=0)"
      ],
      "metadata": {
        "id": "oTOvHVBea9iK"
      },
      "execution_count": null,
      "outputs": []
    },
    {
      "cell_type": "code",
      "source": [
        "# visualize pivot table\n",
        "pivot"
      ],
      "metadata": {
        "id": "5rr14tn2cn9Y"
      },
      "execution_count": null,
      "outputs": []
    },
    {
      "cell_type": "markdown",
      "source": [
        "## 🌎 Part 2 Geospatial data\n",
        "\n",
        "In this section, we perform Exploratory Spatial Data Analysis (ESDA) on the Normalized Asthma Mortality Rate (NAMR) and time-related features of the asthma mortality dataset. The goal of this analysis is to identify and understand spatial and temporal patterns of asthma mortality at the departmental level. ESDA enables us to detect regional disparities and temporal trends, providing insights into the geographic and seasonal variation in asthma-related deaths across Argentina."
      ],
      "metadata": {
        "id": "QH71XL2B2VTq"
      }
    },
    {
      "cell_type": "markdown",
      "source": [
        "### Outlier Detection\n",
        "\n",
        "During the data preprocessing phase, we observed unusually high values in the Normalized Asthma Mortality Rate (NAMR). For example, in 2004, the NAMR reached a maximum value of 192.31, which is substantially higher than typical values observed across the dataset. Such extreme values may distort the performance of predictive models and hinder meaningful interpretation. Therefore, in this section, we focus on the detection and treatment of outliers using statistical methods to ensure data consistency and improve model robustness."
      ],
      "metadata": {
        "id": "irA-sku4LiZE"
      }
    },
    {
      "cell_type": "markdown",
      "source": [
        "#### Load dataset"
      ],
      "metadata": {
        "id": "PeN1yL962OmR"
      }
    },
    {
      "cell_type": "code",
      "source": [
        "# Load  `gdf`  from a shapefile containing only asthma mortality rate from 2001 to 2022\n",
        "gdf = gpd.read_file(\"pdt/asthma_mortality/data/shp/tma_2001_2022.shp\", encoding='utf-8')"
      ],
      "metadata": {
        "id": "4h4F3A5pLlZ4"
      },
      "execution_count": null,
      "outputs": []
    },
    {
      "cell_type": "code",
      "source": [
        "# Display the first few rows of the DataFrame\n",
        "init_notebook_mode(all_interactive=True)\n",
        "gdf.head()"
      ],
      "metadata": {
        "id": "51DQ7Zs8kRhu"
      },
      "execution_count": null,
      "outputs": []
    },
    {
      "cell_type": "markdown",
      "source": [
        "#### Statistical summary and distribution analysis"
      ],
      "metadata": {
        "id": "w8lwLPJA2hHe"
      }
    },
    {
      "cell_type": "code",
      "source": [
        "# Filter asthma mortality rate columns\n",
        "mortality_cols = [col for col in gdf.columns if col.startswith('CA_')]\n",
        "mortality_df = gdf[mortality_cols].copy()"
      ],
      "metadata": {
        "id": "E8-V6lYnlLQG"
      },
      "execution_count": null,
      "outputs": []
    },
    {
      "cell_type": "code",
      "source": [
        "# Summary statistics and initial distribution plots\n",
        "init_notebook_mode(all_interactive=True)\n",
        "mortality_df.describe().T"
      ],
      "metadata": {
        "id": "JqckpLMoqy_X"
      },
      "execution_count": null,
      "outputs": []
    },
    {
      "cell_type": "code",
      "source": [
        "# Plot boxplots for each year\n",
        "plt.figure(figsize=(16, 6))\n",
        "sns.boxplot(data=mortality_df, orient='h')\n",
        "plt.title(\"Boxplots of Normalized Asthma Mortality Rates (2001–2022)\")\n",
        "plt.show()"
      ],
      "metadata": {
        "id": "f6Z-G1hqq02q"
      },
      "execution_count": null,
      "outputs": []
    },
    {
      "cell_type": "markdown",
      "source": [
        "We observed that the asthma mortality rate in the Lihuel Calel department is unusually high (192 deaths per 100,000 inhabitants). To investigate potential environmental causes, we conducted an online search for relevant events in the area. However, no significant or widely documented environmental incidents were recorded in Lihuel Calel during 2001. According to the national census, the department's population in 2001 was only 520 inhabitants—a 12.16% decrease from the 1991 census, which reported 592 inhabitants. Therefore, the elevated mortality rate is primarily due to the very small population size in the department, which amplifies the impact of even a few recorded deaths"
      ],
      "metadata": {
        "id": "jnTXTINP3Aqd"
      }
    },
    {
      "cell_type": "code",
      "source": [
        "# filter data of Lihuel Calel department\n",
        "init_notebook_mode(all_interactive=True)\n",
        "filtered_gdf = gdf[gdf['CA_2001'] == 192.31]\n",
        "filtered_gdf"
      ],
      "metadata": {
        "id": "NfAgCX2Cs6mT"
      },
      "execution_count": null,
      "outputs": []
    },
    {
      "cell_type": "markdown",
      "source": [
        "#### Outlier detection  and removal"
      ],
      "metadata": {
        "id": "RW1_tAfIla3t"
      }
    },
    {
      "cell_type": "markdown",
      "source": [
        "This effect is denominated small counts problem in epidemiology, and refers to the statistical challenges that arise when analyzing rare events or diseases in small populations, leading to unstable or unreliable estimates of rates, risks, or associations<sup>1</sup>.\n",
        "\n",
        "\n",
        "The limitations of small population sizes and low death numbers significantly impact the accuracy of asthma mortality rate estimates by introducing variability and potential biases in the data. Small populations may not capture the full spectrum of mortality events, leading to unreliable age-specific mortality rates. Additionally, low death counts can result in statistical fluctuations, making it difficult to discern true trends and patterns in asthma-related mortality, ultimately compromising the validity of the estimates derived from such data<sup>2,3</sup>."
      ],
      "metadata": {
        "id": "6bgwAsCXmAfW"
      }
    },
    {
      "cell_type": "markdown",
      "source": [
        "To deal with outliers coming from low-populated and  with low mortality rate departments, we figured out the following solution based on<sup>4</sup> :\n",
        "\n",
        "* Flag as statistically unstable those departments with population < 5,000, deaths < 5, and relative CI (Confidence Interval) width > 2.0.\n",
        "\n",
        "* The normalized mortality rate for those departments will be 0.\n",
        "\n",
        "To flag departments according to these condition,s we will execute the following function:"
      ],
      "metadata": {
        "id": "8AcDQBj9m74q"
      }
    },
    {
      "cell_type": "code",
      "source": [
        "def flag_and_correct_unstable_rates_efficient(gdf, start_year=2001, end_year=2022):\n",
        "    all_ci_dfs = []  # List to collect CI and flag DataFrames for each year\n",
        "\n",
        "    # Loop through each year in the specified range\n",
        "    for year in range(start_year, end_year + 1):\n",
        "        pop_col    = f\"A_{year}\"    # Population column for the year\n",
        "        deaths_col = f\"C_{year}\"    # Deaths count column for the year\n",
        "        rate_col   = f\"CA_{year}\"   # Mortality rate column for the year\n",
        "\n",
        "        # Skip processing if any of the required columns are missing\n",
        "        if not {pop_col, deaths_col, rate_col}.issubset(gdf.columns):\n",
        "            continue  # Move to next year if columns are not found\n",
        "\n",
        "        # Extract the relevant series for calculations\n",
        "        pop    = gdf[pop_col]       # Population data\n",
        "        deaths = gdf[deaths_col]    # Death counts\n",
        "        rate   = gdf[rate_col]      # Mortality rate\n",
        "\n",
        "        # Compute the 95% Poisson confidence interval for deaths\n",
        "        ci_low   = poisson.ppf(0.025, deaths) / pop * 100000   # Lower bound per 100k\n",
        "        ci_high  = poisson.ppf(0.975, deaths) / pop * 100000   # Upper bound per 100k\n",
        "        ci_width = ci_high - ci_low                            # Absolute CI width\n",
        "        rel_w    = ci_width / rate.replace(0, pd.NA)           # Relative CI width (avoid divide-by-zero)\n",
        "\n",
        "        # Flag as unstable when all conditions are met:\n",
        "        # 1) population < 5000\n",
        "        # 2) deaths < 5\n",
        "        # 3) relative CI width > 2.0\n",
        "        unstable = (pop < 5000) & (deaths < 5) & (rel_w > 2.0)\n",
        "\n",
        "        # Overwrite the original rate with zero for unstable entries\n",
        "        gdf.loc[unstable, rate_col] = 0\n",
        "\n",
        "        # Create a temporary DataFrame with CI and flag columns\n",
        "        ci_df = pd.DataFrame({\n",
        "            f\"ci_low_{year}\"      : ci_low,\n",
        "            f\"ci_high_{year}\"     : ci_high,\n",
        "            f\"ci_width_{year}\"    : ci_width,\n",
        "            f\"rel_ci_width_{year}\": rel_w,\n",
        "            f\"unstable_{year}\"    : unstable\n",
        "        }, index=gdf.index)\n",
        "\n",
        "        # Append this year's CI DataFrame to the list\n",
        "        all_ci_dfs.append(ci_df)\n",
        "\n",
        "        # Log the result\n",
        "        num_unstable = ci_df[f'unstable_{year}'].sum()\n",
        "        print(f\"Year {year}: {num_unstable} unstable departments flagged.\")\n",
        "\n",
        "    # After looping, concatenate all CI/flag DataFrames alongside the original GeoDataFrame\n",
        "    if all_ci_dfs:\n",
        "        gdf = pd.concat([gdf] + all_ci_dfs, axis=1)\n",
        "\n",
        "    return gdf  # Return the updated GeoDataFrame with CI and flag columns added\n"
      ],
      "metadata": {
        "id": "GvFk7UgjhIkT"
      },
      "execution_count": null,
      "outputs": []
    },
    {
      "cell_type": "code",
      "source": [
        "# apply the function\n",
        "gdf2 = flag_and_correct_unstable_rates_efficient(gdf)"
      ],
      "metadata": {
        "id": "3Xd521I9hInZ"
      },
      "execution_count": null,
      "outputs": []
    },
    {
      "cell_type": "code",
      "source": [
        "# visualize rows where the number of departements flagged as unstable was larger (2003)\n",
        "init_notebook_mode(all_interactive=True)\n",
        "gdf2[gdf2['unstable_2003'] == True]"
      ],
      "metadata": {
        "id": "Cvip2PdHfhfm"
      },
      "execution_count": null,
      "outputs": []
    },
    {
      "cell_type": "code",
      "source": [
        "# select the same columns as the original gdf\n",
        "gdf2 = gdf2[list(gdf.columns)]"
      ],
      "metadata": {
        "id": "fAMKOT-MZ2Eb"
      },
      "execution_count": null,
      "outputs": []
    },
    {
      "cell_type": "code",
      "source": [
        "# Display the first few rows of the DataFrame\n",
        "init_notebook_mode(all_interactive=True)\n",
        "gdf2.head()"
      ],
      "metadata": {
        "id": "CtYG9JLPZ2Hi"
      },
      "execution_count": null,
      "outputs": []
    },
    {
      "cell_type": "markdown",
      "source": [
        "#### Visual Confirmation"
      ],
      "metadata": {
        "id": "3mPt2WA5nPUA"
      }
    },
    {
      "cell_type": "code",
      "source": [
        "# Filter asthma mortality rate columns\n",
        "mortality_cols = [col for col in gdf2.columns if col.startswith('CA_')]\n",
        "mortality_df = gdf2[mortality_cols].copy()"
      ],
      "metadata": {
        "id": "ZHFePLs0Z2KZ"
      },
      "execution_count": null,
      "outputs": []
    },
    {
      "cell_type": "code",
      "source": [
        "# Plot boxplots for each year\n",
        "plt.figure(figsize=(16, 6))\n",
        "sns.boxplot(data=mortality_df, orient='h')\n",
        "plt.title(\"Boxplots of Normalized Asthma Mortality Rates (2001–2022)\")\n",
        "plt.show()"
      ],
      "metadata": {
        "id": "C41XhMwJZ2NE"
      },
      "execution_count": null,
      "outputs": []
    },
    {
      "cell_type": "code",
      "source": [
        "# export gdf as a shapefile\n",
        "# this shapefile was subject to outlier removal\n",
        "gdf2.to_file(\"pdt/asthma_mortality/data/shp/tma_2001_2022_2.shp\", encoding='utf-8')"
      ],
      "metadata": {
        "id": "lwKNr1bAnUd8"
      },
      "execution_count": null,
      "outputs": []
    },
    {
      "cell_type": "code",
      "source": [
        "# export gdf as a gpkg file\n",
        "# this shapefile was subject to outlier removal\n",
        "gdf2.to_file(\"pdt/asthma_mortality/data/gpkg/tma_2001_2022_2.gpkg\", driver='GPKG', encoding='utf-8')"
      ],
      "metadata": {
        "id": "a5_3x327invQ"
      },
      "execution_count": null,
      "outputs": []
    },
    {
      "cell_type": "markdown",
      "source": [
        "### Geospatial Analysis\n",
        "\n",
        "In this section, we map and assess the spatial distribution and clustering of key metrics, such as the Normalized Asthma Mortality Rate (NAMR). We create choropleth maps to visualize spatial patterns, apply spatial autocorrelation measures (e.g., Global Moran’s I and Local Indicators of Spatial Association – LISA) to detect statistically significant clusters, and identify spatial outliers to determine where extreme values are concentrated.\n",
        "\n"
      ],
      "metadata": {
        "id": "J0gWYED9bSbD"
      }
    },
    {
      "cell_type": "markdown",
      "source": [
        "#### Map NAMR by department (choropleth map)\n",
        "\n",
        "We will create choropleth maps in as faceted maps with the asthma mortality rate per 100,000 inhabitants for each department and by year of study (2001-2022)."
      ],
      "metadata": {
        "id": "W4CALphbO1HH"
      }
    },
    {
      "cell_type": "code",
      "source": [
        "# Load  `gdf`  from a shapefile containing asthma mortality data from 2001 to 2022.\n",
        "gdf = gpd.read_file(\"pdt/asthma_mortality/data/shp/tma_2001_2022_2.shp\", encoding='utf-8')"
      ],
      "metadata": {
        "id": "Z5EdcaDtWvzV"
      },
      "execution_count": null,
      "outputs": []
    },
    {
      "cell_type": "code",
      "source": [
        "# Display the first few rows of the DataFrame\n",
        "init_notebook_mode(all_interactive=True)\n",
        "gdf.head()"
      ],
      "metadata": {
        "id": "5XRRP2HP_vbG"
      },
      "execution_count": null,
      "outputs": []
    },
    {
      "cell_type": "code",
      "source": [
        "# Determine the number of rows in the GeoDataFrame.\n",
        "len(gdf)"
      ],
      "metadata": {
        "id": "l6IfvQaeWv2O"
      },
      "execution_count": null,
      "outputs": []
    },
    {
      "cell_type": "markdown",
      "source": [
        "We will use [Pysal](https://pysal.org/)'s [mapclassify](https://pysal.org/mapclassify/index.html) library to determine the best classifier for the choropleth map.\n",
        "\n",
        "Weq will use the map classifier with the best ACDM (mean Absolute Deviation Around the class Median). In Pysal, ACDM refers to the mean absolute deviation around the class median. It is a measure of a classifier's fit to the data, specifically by evaluating the average distance between each data point and the median value of the assigned class."
      ],
      "metadata": {
        "id": "Ak8o5prx_5dG"
      }
    },
    {
      "cell_type": "code",
      "source": [
        "# Select columns corresponding to normalized mortality rate  from 2001 to 2022\n",
        "selected_data_2001_2022 = gdf.loc[:,[\"CA_2001\", \"CA_2002\", \"CA_2003\", \"CA_2004\", \"CA_2005\", \"CA_2006\", \"CA_2007\", \"CA_2008\", \"CA_2009\", \"CA_2010\",\n",
        "                                     \"CA_2011\", \"CA_2012\", \"CA_2013\", \"CA_2014\", \"CA_2015\", \"CA_2016\", \"CA_2017\", \"CA_2018\", \"CA_2019\", \"CA_2020\",\n",
        "                                     \"CA_2021\", \"CA_2022\"]]"
      ],
      "metadata": {
        "id": "DruPfS-b-gT1"
      },
      "execution_count": null,
      "outputs": []
    },
    {
      "cell_type": "code",
      "source": [
        "# Classify the data into 5 quantile groups\n",
        "q5 = mapclassify.Quantiles(selected_data_2001_2022, k=5)\n",
        "q5"
      ],
      "metadata": {
        "id": "mPy3NyMA-mcz"
      },
      "execution_count": null,
      "outputs": []
    },
    {
      "cell_type": "code",
      "source": [
        "# Equal Interval Classification\n",
        "ei5 = mapclassify.EqualInterval(selected_data_2001_2022, k=5)\n",
        "ei5"
      ],
      "metadata": {
        "id": "ZYOGZwqE-mgR"
      },
      "execution_count": null,
      "outputs": []
    },
    {
      "cell_type": "code",
      "source": [
        "# Classify the data into groups based on the head/tail breaks algorithm\n",
        "ht = mapclassify.HeadTailBreaks(selected_data_2001_2022)\n",
        "ht"
      ],
      "metadata": {
        "id": "ZdSaQb-N-mkQ"
      },
      "execution_count": null,
      "outputs": []
    },
    {
      "cell_type": "code",
      "source": [
        "# MaximumBreaks classification method\n",
        "mb5 = mapclassify.MaximumBreaks(selected_data_2001_2022, k=5)\n",
        "mb5"
      ],
      "metadata": {
        "id": "2NtP_s41FIay"
      },
      "execution_count": null,
      "outputs": []
    },
    {
      "cell_type": "code",
      "source": [
        "# Apply the Standard Deviation and Mean classification method to the selected data.\n",
        "msd = mapclassify.StdMean(selected_data_2001_2022)\n",
        "msd"
      ],
      "metadata": {
        "id": "cLyn6OrEFId5"
      },
      "execution_count": null,
      "outputs": []
    },
    {
      "cell_type": "code",
      "source": [
        "# Apply Fisher-Jenks classification with 5 classes\n",
        "fj5 = mapclassify.FisherJenks(selected_data_2001_2022, k=5)\n",
        "fj5"
      ],
      "metadata": {
        "id": "7oNz0lc8G8Qu"
      },
      "execution_count": null,
      "outputs": []
    },
    {
      "cell_type": "markdown",
      "source": [
        "ACDM(mean Absolute Deviation Around the class Median) visualization"
      ],
      "metadata": {
        "id": "umQ-3FECNNXz"
      }
    },
    {
      "cell_type": "code",
      "source": [
        "# Bunch classifier objects\n",
        "class5 = q5, ei5, ht, mb5, msd, fj5\n",
        "# Collect ADCM for each classifier\n",
        "fits = np.array([c.adcm for c in class5])\n",
        "# Convert ADCM scores to a DataFrame\n",
        "adcms = pd.DataFrame(fits)\n",
        "# Add classifier names\n",
        "adcms[\"classifier\"] = [c.name for c in class5]\n",
        "# Add column names to the ADCM\n",
        "adcms.columns = [\"ADCM\", \"Classifier\"]\n",
        "ax = sns.barplot(\n",
        "    y=\"Classifier\", x=\"ADCM\", data=adcms, hue= adcms[\"Classifier\"],  legend=False\n",
        ")"
      ],
      "metadata": {
        "id": "2ksylA_zG8VN"
      },
      "execution_count": null,
      "outputs": []
    },
    {
      "cell_type": "markdown",
      "source": [
        "Two classifiers have the lowest ACDM: FisherJenks and HeadTailBreaks. We'll select FisherJenks as the classifier to create the choropleth maps."
      ],
      "metadata": {
        "id": "H1zSnciWHzM0"
      }
    },
    {
      "cell_type": "code",
      "source": [
        "# Convert the bins to a list for further processing\n",
        "bins = fj5.bins.tolist()\n",
        "bins"
      ],
      "metadata": {
        "id": "SAdX-6RtG8YB"
      },
      "execution_count": null,
      "outputs": []
    },
    {
      "cell_type": "code",
      "source": [
        "# insert 0 at 0 position\n",
        "bins.insert(0, 0.0)\n",
        "bins"
      ],
      "metadata": {
        "id": "BkuRqLF8G8bW"
      },
      "execution_count": null,
      "outputs": []
    },
    {
      "cell_type": "code",
      "source": [
        "# round and transform to integer\n",
        "# bins = [int(round(num, 0)) for num in bins]\n",
        "# fix last value\n",
        "# bins[-1]=193\n",
        "# bins"
      ],
      "metadata": {
        "id": "JsxQ2BwRFIiM"
      },
      "execution_count": null,
      "outputs": []
    },
    {
      "cell_type": "markdown",
      "source": [
        "We will create a function to set a custom classification scheme based on FisherJenks"
      ],
      "metadata": {
        "id": "mTpBjQURKJJT"
      }
    },
    {
      "cell_type": "code",
      "source": [
        "def maptma(colname, title, row, col):\n",
        "    # Create a custom classification using UserDefined\n",
        "    classification = mapclassify.UserDefined(gdf[colname], bins)\n",
        "\n",
        "    classification.plot(\n",
        "          gdf,  # GeoDataFrame containing the data to be plotted\n",
        "          legend=True,  # Enable the legend for the plot\n",
        "          legend_kwds={\n",
        "                \"fmt\": \"{:.0f}\",  # Format the legend labels as integers\n",
        "                # \"loc\": \"upper right\",  # Position the legend in the upper right corner\n",
        "                \"bbox_to_anchor\": (1.2, 0.4),  # Adjust the legend's position\n",
        "                \"fontsize\": 8,  # Set the font size of the legend\n",
        "                \"labels\": [\"0.0\", \"0.0-1.15\", \"1.15-3.83\", \"3.83-7.97\", \"7.97-14.81\", \"14.81-39.02\"],  # Use the custom legend labels\n",
        "          },\n",
        "          axis_on=False,  # Disable the axis display\n",
        "          border_color='black',  # Set the border color of the plot\n",
        "          cmap=\"viridis_r\",  # Use the reversed Viridis colormap\n",
        "          ax=axes[row, col]  # Specify the subplot to draw the plot on\n",
        "     )\n",
        "\n",
        "    # Set the title for the current axis\n",
        "    axes[row, col].set_title(title)"
      ],
      "metadata": {
        "id": "m_ICDmR7FIl-"
      },
      "execution_count": null,
      "outputs": []
    },
    {
      "cell_type": "code",
      "source": [
        "# Create a 5x5 grid of subplots with a figure size of 20x20\n",
        "fig, axes = plt.subplots(5, 5, figsize=(20, 20))\n",
        "# Add a title to the entire figure with specific font size and position\n",
        "plt.suptitle('Normalized Asthma Mortality Rate 2001-2022', fontsize=14, y=1)\n",
        "\n",
        "# row 0\n",
        "maptma(\"CA_2001\", \"2001\", 0, 0)  # Map data for 2001 in row 0, column 0\n",
        "maptma(\"CA_2002\", \"2002\", 0, 1)  # Map data for 2002 in row 0, column 1\n",
        "maptma(\"CA_2003\", \"2003\", 0, 2)  # Map data for 2003 in row 0, column 2\n",
        "maptma(\"CA_2004\", \"2004\", 0, 3)  # Map data for 2004 in row 0, column 3\n",
        "maptma(\"CA_2005\", \"2005\", 0, 4)  # Map data for 2005 in row 0, column 4\n",
        "\n",
        "# row 1\n",
        "maptma(\"CA_2006\", \"2006\", 1, 0)  # Map data for 2006 in row 1, column 0\n",
        "maptma(\"CA_2007\", \"2007\", 1, 1)  # Map data for 2007 in row 1, column 1\n",
        "maptma(\"CA_2008\", \"2008\", 1, 2)  # Map data for 2008 in row 1, column 2\n",
        "maptma(\"CA_2009\", \"2009\", 1, 3)  # Map data for 2009 in row 1, column 3\n",
        "maptma(\"CA_2010\", \"2010\", 1, 4)  # Map data for 2010 in row 1, column 4\n",
        "\n",
        "# row 2\n",
        "maptma(\"CA_2011\", \"2011\", 2, 0)  # Map data for 2011 in row 2, column 0\n",
        "maptma(\"CA_2012\", \"2012\", 2, 1)  # Map data for 2012 in row 2, column 1\n",
        "maptma(\"CA_2013\", \"2013\", 2, 2)  # Map data for 2013 in row 2, column 2\n",
        "maptma(\"CA_2014\", \"2014\", 2, 3)  # Map data for 2014 in row 2, column 3\n",
        "maptma(\"CA_2015\", \"2015\", 2, 4)  # Map data for 2015 in row 2, column 4\n",
        "\n",
        "# row 3\n",
        "maptma(\"CA_2016\", \"2016\", 3, 0)  # Map data for 2016 in row 3, column 0\n",
        "maptma(\"CA_2017\", \"2017\", 3, 1)  # Map data for 2017 in row 3, column 1\n",
        "maptma(\"CA_2018\", \"2018\", 3, 2)  # Map data for 2018 in row 3, column 2\n",
        "maptma(\"CA_2019\", \"2019\", 3, 3)  # Map data for 2019 in row 3, column 3\n",
        "maptma(\"CA_2020\", \"2020\", 3, 4)  # Map data for 2020 in row 3, column 4\n",
        "\n",
        "# row 4\n",
        "maptma(\"CA_2021\", \"2021\", 4, 0)  # Map data for 2021 in row 4, column 0\n",
        "maptma(\"CA_2022\", \"2022\", 4, 1)  # Map data for 2022 in row 4, column 1\n",
        "\n",
        "axes[4,2].axis('off')  # Turn off axis for row 4, column 2\n",
        "axes[4,3].axis('off')  # Turn off axis for row 4, column 3\n",
        "axes[4,4].axis('off')  # Turn off axis for row 4, column 4\n",
        "\n",
        "plt.tight_layout()  # Adjust layout to prevent overlap\n",
        "plt.show();  # Display the plot"
      ],
      "metadata": {
        "id": "_q7G9inmOKQH"
      },
      "execution_count": null,
      "outputs": []
    },
    {
      "cell_type": "markdown",
      "source": [
        "Creating an animated GIF showing the mortality rate by year"
      ],
      "metadata": {
        "id": "wqRPwmmyfe6c"
      }
    },
    {
      "cell_type": "code",
      "source": [
        "# This function generates a map for a specific year and saves it as an image for use in a GIF.\n",
        "def plot_map_for_gif(colname, year, bins, gdf, output_folder=\"pdt/asthma_mortality/data/images/gif\"):\n",
        "    # Create a figure and axis for the plot\n",
        "    fig, ax = plt.subplots(figsize=(4, 4))\n",
        "\n",
        "    # Classify the data using user-defined bins\n",
        "    classification = mapclassify.UserDefined(gdf[colname], bins)\n",
        "\n",
        "    # Plot the classified data with custom legend and styling\n",
        "    classification.plot(\n",
        "        gdf,\n",
        "        legend=True,\n",
        "        legend_kwds={\n",
        "            \"fmt\": \"{:.0f}\",  # Format legend labels as integers\n",
        "            \"loc\": \"upper right\",  # Place legend in the upper right\n",
        "            \"bbox_to_anchor\": (1.2, 0.4),  # Adjust legend position\n",
        "            \"fontsize\": 6,  # Set legend font size\n",
        "            \"labels\": [\"0.0\", \"0.0-1.15\", \"1.15-3.83\", \"3.83-7.97\", \"7.97-14.81\", \"14.81-39.02\"]  # Custom labels for bins\n",
        "        },\n",
        "        axis_on=False,  # Turn off axis\n",
        "        border_color='black',  # Set border color\n",
        "        cmap=\"viridis_r\",  # Use reversed Viridis colormap\n",
        "        ax=ax  # Plot on the created axis\n",
        "    )\n",
        "\n",
        "    # Set the title for the map\n",
        "    ax.set_title(f\"Normalized Asthma Mortality Rate - {year}\", fontsize=12)\n",
        "    # Turn off axis display\n",
        "    ax.axis('off')\n",
        "\n",
        "    # Create the output folder if it doesn't exist\n",
        "    if not os.path.exists(output_folder):\n",
        "        os.makedirs(output_folder)\n",
        "\n",
        "    # Define the file path for saving the image\n",
        "    filepath = os.path.join(output_folder, f\"asthma_{year}.png\")\n",
        "    # Save the plot as a PNG file\n",
        "    plt.savefig(filepath, bbox_inches=\"tight\", dpi=150)\n",
        "    # Close the plot to free up memory\n",
        "    plt.close()"
      ],
      "metadata": {
        "id": "N-21xNaMUJil"
      },
      "execution_count": null,
      "outputs": []
    },
    {
      "cell_type": "code",
      "source": [
        "bins = [0.0, 1.15, 3.83, 7.97, 14.81, 39.02] # Define the bin ranges for categorizing data\n",
        "years = list(range(2001, 2023))  # Create a list of years from 2001 to 2022\n",
        "\n",
        "for year in years:  # Iterate through each year in the list\n",
        "    colname = f\"CA_{year}\"  # Generate a column name based on the year\n",
        "    plot_map_for_gif(colname, year, bins, gdf)  # Call the function to plot the map for the given year and bins\n"
      ],
      "metadata": {
        "id": "Xib-IAIcUJmi"
      },
      "execution_count": null,
      "outputs": []
    },
    {
      "cell_type": "code",
      "source": [
        "def create_gif_from_maps(image_folder=\"pdt/asthma_mortality/data/images/gif\", gif_name=\"pdt/asthma_mortality/data/images/gif/asthma_mortality.gif\"):\n",
        "    # Initialize an empty list to store images\n",
        "    images = []\n",
        "    # Loop through the years 2001 to 2022\n",
        "    for year in range(2001, 2023):\n",
        "        # Construct the filename for each year's image\n",
        "        filename = f\"asthma_{year}.png\"\n",
        "        # Create the full file path by joining the folder and filename\n",
        "        filepath = os.path.join(image_folder, filename)\n",
        "        # Read the image and append it to the images list\n",
        "        images.append(imageio.imread(filepath))\n",
        "\n",
        "    # Save the images as an animated GIF with 1 frame per second\n",
        "    imageio.mimsave(gif_name, images, fps=1)\n"
      ],
      "metadata": {
        "id": "c_yFNWS8V-W8"
      },
      "execution_count": null,
      "outputs": []
    },
    {
      "cell_type": "code",
      "source": [
        "# apply create_gif_from_maps function\n",
        "create_gif_from_maps()"
      ],
      "metadata": {
        "id": "Sf0-DSSyV-aX"
      },
      "execution_count": null,
      "outputs": []
    },
    {
      "cell_type": "code",
      "source": [
        "# Displaying an image of asthma mortality\n",
        "Image(filename=\"pdt/asthma_mortality/data/images/gif/asthma_mortality.gif\")"
      ],
      "metadata": {
        "id": "YC9FaCOoV-eS"
      },
      "execution_count": null,
      "outputs": []
    },
    {
      "cell_type": "markdown",
      "source": [
        "#### Binary visualization of  NAMR"
      ],
      "metadata": {
        "id": "oeB9huHAgmCM"
      }
    },
    {
      "cell_type": "code",
      "source": [
        "# Load  `gdf`  from a shapefile containing asthma mortality data from 2001 to 2022\n",
        "gdf = gpd.read_file(\"pdt/asthma_mortality/data/shp/tma_2001_2022_2.shp\", encoding='utf-8')"
      ],
      "metadata": {
        "id": "Hm3pwVHSuVFm"
      },
      "execution_count": null,
      "outputs": []
    },
    {
      "cell_type": "code",
      "source": [
        "# Filter rows where all columns matching the regex pattern have a value of 0\n",
        "# samples where motality rate was 0 for the whole period (2001-2022)\n",
        "gdf_CA_0 = gdf[gdf.filter(regex='CA_20(0[1-9]|1[0-9]|2[0-2])$').eq(0).all(axis=1)]"
      ],
      "metadata": {
        "id": "oK2gu0t2p67Y"
      },
      "execution_count": null,
      "outputs": []
    },
    {
      "cell_type": "code",
      "source": [
        "len(gdf_CA_0)"
      ],
      "metadata": {
        "id": "Z3tQ_z5yp8U7"
      },
      "execution_count": null,
      "outputs": []
    },
    {
      "cell_type": "markdown",
      "source": [
        "72 departments have NAMR equal to 0 in all years from 2001 to 2022"
      ],
      "metadata": {
        "id": "9zvNOlcVqa6Y"
      }
    },
    {
      "cell_type": "code",
      "source": [
        "# from gdf select rows that are not  in gdf_CA_0\n",
        "# samples where motality rate was not 0 for the whole period (2001-2022)\n",
        "gdf_CA_1 = gdf[~gdf.index.isin(gdf_CA_0.index)]"
      ],
      "metadata": {
        "id": "_33mBoRbp8X7"
      },
      "execution_count": null,
      "outputs": []
    },
    {
      "cell_type": "code",
      "source": [
        "len(gdf_CA_1)"
      ],
      "metadata": {
        "id": "DlC9PDT1p8bU"
      },
      "execution_count": null,
      "outputs": []
    },
    {
      "cell_type": "markdown",
      "source": [
        "439 departments have NAMR greather than 0 in any year from 2001 to 2022"
      ],
      "metadata": {
        "id": "cXK6eCw-rAvc"
      }
    },
    {
      "cell_type": "code",
      "source": [
        "# create a copy of gdf called gdf_bin, for each CA_ column-CA_2001, CA_2002,... CA_2022-\n",
        "# create a column named CA_BIN_ followed by year, for example, for 2001, it should be CA_BIN_2001.\n",
        "# Set in the columns, binary values: if CA > 0, set 1; otherwise, set 0. For examample if CA_2001 == 1.2, then CA_BIN_2001 == 1\n",
        "\n",
        "gdf_bin = gdf.copy()\n",
        "for year in range(2001, 2023):\n",
        "  ca_col = f'CA_{year}'\n",
        "  ca_bin_col = f'CA_BIN_{year}'\n",
        "  gdf_bin[ca_bin_col] = (gdf_bin[ca_col] > 0).astype(int)\n"
      ],
      "metadata": {
        "id": "buL7NfKlrbyc"
      },
      "execution_count": null,
      "outputs": []
    },
    {
      "cell_type": "code",
      "source": [
        "init_notebook_mode(all_interactive=True)\n",
        "show(gdf_bin.head())"
      ],
      "metadata": {
        "id": "u--mWQhSt5Wm"
      },
      "execution_count": null,
      "outputs": []
    },
    {
      "cell_type": "code",
      "source": [
        "# create faceted map for CA_BIN_ like columns,\n",
        "\n",
        "# Get the list of binary columns\n",
        "bin_cols = [col for col in gdf_bin.columns if col.startswith('CA_BIN_')]\n",
        "\n",
        "# Determine grid size\n",
        "n_cols = 5\n",
        "n_rows = (len(bin_cols) + n_cols - 1) // n_cols\n",
        "\n",
        "# Create subplots\n",
        "fig, axes = plt.subplots(n_rows, n_cols, figsize=(20, 4 * n_rows))\n",
        "axes = axes.flatten() # Flatten the axes array for easy iteration\n",
        "\n",
        "# Custom colormap for binary data (0 or 1)\n",
        "cmap = mcolors.ListedColormap(['#ffffbf', '#fc8d59'])\n",
        "bounds = [-0.5, 0.5, 1.5] # Boundaries for the colormap\n",
        "norm = mcolors.BoundaryNorm(bounds, cmap.N)\n",
        "\n",
        "for i, col in enumerate(bin_cols):\n",
        "    ax = axes[i]\n",
        "    year = col.split('_')[-1]\n",
        "    gdf_bin.plot(\n",
        "        column=col,\n",
        "        ax=ax,\n",
        "        cmap=cmap,\n",
        "        norm=norm,\n",
        "        legend=False,  # Disable legend on individual subplots\n",
        "        edgecolor='black',\n",
        "        linewidth=0.2\n",
        "    )\n",
        "    ax.set_title(f'{year}')\n",
        "    ax.set_axis_off()\n",
        "\n",
        "# Remove unused subplots\n",
        "for j in range(i + 1, len(axes)):\n",
        "    fig.delaxes(axes[j])\n",
        "\n",
        "# Add a single legend to the figure\n",
        "# Create a legend handle for each class (0 and 1)\n",
        "legend_elements = [\n",
        "    patches.Patch(facecolor='#ffffbf', edgecolor='black', label='NAMR = 0'), # Use patches.Patch\n",
        "    patches.Patch(facecolor='#fc8d59', edgecolor='black', label='NAMR > 0') # Use patches.Patch\n",
        "]\n",
        "\n",
        "fig.legend(handles=legend_elements, loc='lower right', bbox_to_anchor=(0.1, -0.05), ncol=2, title=\"Asthma Mortality Rate (NAMR)\")\n",
        "\n",
        "\n",
        "plt.suptitle('Binary Visualization of Normalized Asthma Mortality Rate (2001-2022)', fontsize=16, y=1.02)\n",
        "plt.tight_layout(rect=[0, 0, 1, 0.98]) # Adjust layout to make space for suptitle\n",
        "plt.show()"
      ],
      "metadata": {
        "id": "ploRIqo3rb1G"
      },
      "execution_count": null,
      "outputs": []
    },
    {
      "cell_type": "markdown",
      "source": [
        "#### Spatial Autocorrelation"
      ],
      "metadata": {
        "id": "u4pLzxyhFmPf"
      }
    },
    {
      "cell_type": "code",
      "source": [
        "# Load  `gdf`  from a shapefile containing asthma mortality data from 2001 to 2022\n",
        "gdf = gpd.read_file(\"pdt/asthma_mortality/data/shp/tma_2001_2022_2.shp\", encoding='utf-8')"
      ],
      "metadata": {
        "id": "7F765cOHrb4o"
      },
      "execution_count": null,
      "outputs": []
    },
    {
      "cell_type": "markdown",
      "source": [
        "##### Evaluate spatial weights methods"
      ],
      "metadata": {
        "id": "nYB2kB8m7-Ye"
      }
    },
    {
      "cell_type": "code",
      "source": [
        "# project gdf to 3395\n",
        "gdf_pj = gdf.to_crs(3395)"
      ],
      "metadata": {
        "id": "deW715rz1cNA"
      },
      "execution_count": null,
      "outputs": []
    },
    {
      "cell_type": "code",
      "source": [
        "# Queen contiguity\n",
        "gdf_queen = weights.contiguity.Queen.from_dataframe(gdf_pj, use_index=True)"
      ],
      "metadata": {
        "id": "HlDnljfItvYY"
      },
      "execution_count": null,
      "outputs": []
    },
    {
      "cell_type": "code",
      "source": [
        "# K-NN with four nearest neighbors\n",
        "gdf_knn4 = weights.KNN.from_dataframe(gdf_pj, k=5)"
      ],
      "metadata": {
        "id": "ZNC8V73fwBLn"
      },
      "execution_count": null,
      "outputs": []
    },
    {
      "cell_type": "code",
      "source": [
        "# Block weights\n",
        "gdf_bw = weights.util.block_weights(gdf_pj.IDPROV.values)"
      ],
      "metadata": {
        "id": "eWdSltidwBOf"
      },
      "execution_count": null,
      "outputs": []
    },
    {
      "cell_type": "code",
      "source": [
        "# combination of block and Queen matrices\n",
        "gdf_union = weights.set_operations.w_union(gdf_bw, gdf_queen)"
      ],
      "metadata": {
        "id": "6JEVpkUswBRj"
      },
      "execution_count": null,
      "outputs": []
    },
    {
      "cell_type": "code",
      "source": [
        "# Set up figure and axis\n",
        "f, axs = plt.subplots(2, 2, figsize=(9, 9))\n",
        "\n",
        "# Contiguity\n",
        "ax = axs[0, 0]\n",
        "gdf_pj.plot(ax=ax)\n",
        "gdf_queen.plot(\n",
        "    gdf_pj,\n",
        "    edge_kws=dict(linewidth=1, color=\"orangered\"),\n",
        "    node_kws=dict(marker=\"*\"),\n",
        "    ax=ax,\n",
        ")\n",
        "ax.set_axis_off()\n",
        "ax.set_title(\"Queen\")\n",
        "\n",
        "# KNN\n",
        "ax = axs[0, 1]\n",
        "gdf_pj.plot(ax=ax)\n",
        "gdf_knn4.plot(\n",
        "    gdf_pj,\n",
        "    edge_kws=dict(linewidth=1, color=\"orangered\"),\n",
        "    node_kws=dict(marker=\"*\"),\n",
        "    ax=ax,\n",
        ")\n",
        "ax.set_axis_off()\n",
        "ax.set_title(\"$K$-NN 4\")\n",
        "\n",
        "# Block\n",
        "ax = axs[1, 0]\n",
        "gdf_pj.plot(column=\"IDPROV\", categorical=True, cmap=\"Pastel2\", ax=ax)\n",
        "gdf_bw.plot(\n",
        "    gdf_pj,\n",
        "    edge_kws=dict(linewidth=1, color=\"orangered\"),\n",
        "    node_kws=dict(marker=\"*\"),\n",
        "    ax=ax,\n",
        ")\n",
        "ax.set_axis_off()\n",
        "ax.set_title(\"Block weights\")\n",
        "\n",
        "# Union\n",
        "ax = axs[1, 1]\n",
        "gdf_pj.plot(column=\"IDPROV\", categorical=True, cmap=\"Pastel2\", ax=ax)\n",
        "gdf_union.plot(\n",
        "    gdf_pj,\n",
        "    edge_kws=dict(linewidth=1, color=\"orangered\"),\n",
        "    node_kws=dict(marker=\"*\"),\n",
        "    ax=ax,\n",
        ")\n",
        "ax.set_axis_off()\n",
        "ax.set_title(\"Queen + Block\")\n",
        "f.tight_layout()\n",
        "plt.show()"
      ],
      "metadata": {
        "id": "l-FKbG_gwBW6"
      },
      "execution_count": null,
      "outputs": []
    },
    {
      "cell_type": "code",
      "source": [
        "# visualize percentage of non-zero weights (connections)\n",
        "pct_nonzero_data = {\n",
        "    'Weight Type': ['Queen', 'KNN (k=4)', 'Distance Band', 'Union'],\n",
        "    'pct_nonzero': [\n",
        "        gdf_queen.pct_nonzero,\n",
        "        gdf_knn4.pct_nonzero,\n",
        "        gdf_bw.pct_nonzero,\n",
        "        gdf_union.pct_nonzero\n",
        "    ]\n",
        "}\n",
        "\n",
        "df_weights = pd.DataFrame(pct_nonzero_data)"
      ],
      "metadata": {
        "id": "MrRJbCMc8k8-"
      },
      "execution_count": null,
      "outputs": []
    },
    {
      "cell_type": "code",
      "source": [
        "# Display the DataFrame\n",
        "init_notebook_mode(all_interactive=False)\n",
        "df_weights"
      ],
      "metadata": {
        "id": "HGO_Aqjh85Bv"
      },
      "execution_count": null,
      "outputs": []
    },
    {
      "cell_type": "markdown",
      "source": [
        "Based on the results, we selected the Queen contiguity spatial weights matrix, as its percentage of non-zero elements (pct_nonzero) falls between 0.5% and 2%.  In our case, only 1.07% of all possible spatial relationships between units are non-zero.This indicates a sparse network structure that emphasizes local spatial influence. Given our objective to detect departmental clustering and neighborhood effects in asthma mortality patterns, the use of sparse matrices—such as Queen contiguity or K-nearest neighbors (KNN)—is appropriate for capturing localized spatial dependencies without over-smoothing the spatial relationships. We also observe  a Bell-shaped distribution for the number of neighbors (cardinality) that each spatial unit (e.g., department) has under the Queen contiguity matrix, indicating a well-connected, balanced geography."
      ],
      "metadata": {
        "id": "QR0DuCYD6S77"
      }
    },
    {
      "cell_type": "code",
      "source": [
        "pd.Series(gdf_queen.cardinalities).plot.hist(color=\"k\");"
      ],
      "metadata": {
        "id": "-ilK8RKhEo7a"
      },
      "execution_count": null,
      "outputs": []
    },
    {
      "cell_type": "markdown",
      "source": [
        "##### Global Spatial Autocorrelation"
      ],
      "metadata": {
        "id": "FR_dNEhg-Hgs"
      }
    },
    {
      "cell_type": "markdown",
      "source": [
        "###### Global Spatial Autocorrelation Individual Years"
      ],
      "metadata": {
        "id": "x7aDC-BQLrf-"
      }
    },
    {
      "cell_type": "code",
      "source": [
        "# Create spatial weights\n",
        "w = Queen.from_dataframe(gdf, use_index=True)\n",
        "w.transform = 'r'  # Row-standardize weights"
      ],
      "metadata": {
        "id": "DM58e1E0Kc9e"
      },
      "execution_count": null,
      "outputs": []
    },
    {
      "cell_type": "code",
      "source": [
        "# create empty dictionaries to store Moran's I values\n",
        "moran_i_results = {}\n",
        "moran_p_sim_results = {}"
      ],
      "metadata": {
        "id": "KMeFwVdVN9PQ"
      },
      "execution_count": null,
      "outputs": []
    },
    {
      "cell_type": "code",
      "source": [
        "# Calculate Global Moran's I for each year and store in dictionaries\n",
        "for year in range(2001, 2023):\n",
        "    ca_col = f'CA_{year}'\n",
        "    moran_col_i = f'moran_global.I_{year}'\n",
        "    moran_col_p = f'moran_global.p_sim_{year}'\n",
        "\n",
        "    # Calculate Global Moran's I\n",
        "    moran = esda.moran.Moran(gdf[ca_col], w)\n",
        "\n",
        "    # Store results in dictionaries\n",
        "    moran_i_results[moran_col_i] = moran.I\n",
        "    moran_p_sim_results[moran_col_p] = moran.p_sim"
      ],
      "metadata": {
        "id": "EwRY9LJop7DO"
      },
      "execution_count": null,
      "outputs": []
    },
    {
      "cell_type": "code",
      "source": [
        "# Create a dataframe  from moran_i_results dictionary\n",
        "df_sac = pd.DataFrame({\n",
        "    'year': [year for year in range(2001, 2023)],\n",
        "    'moran_global.I': [moran_i_results[f'moran_global.I_{year}'] for year in range(2001, 2023)]\n",
        "})"
      ],
      "metadata": {
        "id": "3QakFnu2RL5U"
      },
      "execution_count": null,
      "outputs": []
    },
    {
      "cell_type": "code",
      "source": [
        "# add moran_p_sim_results dictionary to df_sac\n",
        "df_sac['moran_global.p_sim'] = [moran_p_sim_results[f'moran_global.p_sim_{year}'] for year in range(2001, 2023)]"
      ],
      "metadata": {
        "id": "JPXVTC46T7z8"
      },
      "execution_count": null,
      "outputs": []
    },
    {
      "cell_type": "code",
      "source": [
        "# visualize dataframe\n",
        "df_sac"
      ],
      "metadata": {
        "id": "QmyqgfVxSeCj"
      },
      "execution_count": null,
      "outputs": []
    },
    {
      "cell_type": "code",
      "source": [
        "# create point chart depicting moran_global.I and moran_global.p_sim, year on x axis set a dashed horizontal line setting p < 0.05\n",
        "\n",
        "# Create the plot\n",
        "plt.figure(figsize=(10, 6))\n",
        "plt.scatter(df_sac['year'], df_sac['moran_global.I'], label='Moran\\'s I', marker='o')\n",
        "plt.scatter(df_sac['year'], df_sac['moran_global.p_sim'], label='p-value (Simulation)', marker='x')\n",
        "\n",
        "# Add a dashed horizontal line at y=0.05 for p-value\n",
        "plt.axhline(y=0.05, color='r', linestyle='--', label='p < 0.05 significance')\n",
        "\n",
        "# Add title and labels\n",
        "plt.title(\"Global Moran's I and p-value over Time\")\n",
        "plt.xlabel(\"Year\")\n",
        "plt.ylabel(\"Value\")\n",
        "plt.xticks(df_sac['year'][::2], rotation=45) # Show every other year\n",
        "\n",
        "# Add legend\n",
        "plt.legend()\n",
        "\n",
        "# Improve tick formatting\n",
        "plt.gca().xaxis.set_major_locator(plt.MultipleLocator(2))\n",
        "plt.gca().xaxis.set_minor_locator(plt.MultipleLocator(1))\n",
        "\n",
        "plt.grid(True, alpha=0.3)\n",
        "plt.tight_layout()\n",
        "plt.show()"
      ],
      "metadata": {
        "id": "nRUl72y5F65l"
      },
      "execution_count": null,
      "outputs": []
    },
    {
      "cell_type": "markdown",
      "source": [
        "In 10 out of the 22 years analyzed (2001, 2004, 2006, 2007, 2012, 2014, 2016, 2017, 2020, and 2021), there was insufficient evidence to reject the null hypothesis of complete spatial randomness (CSR) in the distribution of NAMR. This suggests that, during these years, asthma mortality may not exhibit significant spatial clustering. Consequently, to better understand the spatial patterns of asthma mortality, we proceed to test for spatial autocorrelation and clustering using the mean NAMR values across the entire study period."
      ],
      "metadata": {
        "id": "6JoGIqN3hozn"
      }
    },
    {
      "cell_type": "markdown",
      "source": [
        "###### Global Spatial Autocorrelation Mean NAMR"
      ],
      "metadata": {
        "id": "HArocaHXL8Aq"
      }
    },
    {
      "cell_type": "code",
      "source": [
        "# Calcualte the mean for CA from 2001–2022\n",
        "gdf['CA_MEAN'] = gdf[[f\"CA_{y}\" for y in range(2001, 2022)]].mean(axis=1)"
      ],
      "metadata": {
        "id": "4GRJokwLlDJW"
      },
      "execution_count": null,
      "outputs": []
    },
    {
      "cell_type": "code",
      "source": [
        "# visualize the gdf\n",
        "init_notebook_mode(all_interactive=True)\n",
        "gdf.head()"
      ],
      "metadata": {
        "id": "IF4ZO9rOlDNV"
      },
      "execution_count": null,
      "outputs": []
    },
    {
      "cell_type": "code",
      "source": [
        "# Create spatial weights\n",
        "w = Queen.from_dataframe(gdf, use_index=True)\n",
        "w.transform = 'r'  # Row-standardize weights"
      ],
      "metadata": {
        "id": "vuTovyXblDQV"
      },
      "execution_count": null,
      "outputs": []
    },
    {
      "cell_type": "code",
      "source": [
        "# Compute Moran's I for mean NAMR\n",
        "moran = esda.moran.Moran(gdf['CA_MEAN'], w)"
      ],
      "metadata": {
        "id": "bqydZmwPlbfl"
      },
      "execution_count": null,
      "outputs": []
    },
    {
      "cell_type": "code",
      "source": [
        "# print results of Moran's I test\n",
        "print (f'Moran_I: {round(moran.I, 2)}, Moran_p_sim: {moran.p_sim}')"
      ],
      "metadata": {
        "id": "ZSUwiysWlblH"
      },
      "execution_count": null,
      "outputs": []
    },
    {
      "cell_type": "markdown",
      "source": [
        "* Moran’s I values are moderate-good positive spatial autocorrelation.\n",
        "\n",
        "* p-value = 0.001 → The result is statistically significant (reject the null hypothesis of spatial randomness).\n",
        "\n",
        "* Conclusion: Neighboring departments tend to have similar mean mortality rates. This justifies grouping in clusters"
      ],
      "metadata": {
        "id": "5Pg3WH0uoax0"
      }
    },
    {
      "cell_type": "markdown",
      "source": [
        "Why does the Spatial Autocorrelation of individual years show small max values (0.1), and 10 out of 22 years have the Spatial Autocorrelation that is not statistically significant, while the mean mortality rate across the years shows Moran_I: 0.32, Moran_p_sim: 0.001?\n",
        "\n",
        "The low and often non-significant spatial autocorrelation in individual years is likely due to high year-to-year variability in mortality patterns, influenced by fluctuating environmental, demographic, or policy factors that weaken spatial clustering. In contrast, the mean mortality rate over multiple years smooths out these short-term fluctuations, revealing persistent spatial patterns and chronic inequalities, which results in a stronger and statistically significant Moran’s I. Additionally, yearly data may be sparse or unevenly distributed, reducing the statistical power of Moran's I tests in some years. Finally, spatial clustering may not be consistent annually, with hotspots shifting over time rather than remaining fixed.\n"
      ],
      "metadata": {
        "id": "G8SII6n0rIfG"
      }
    },
    {
      "cell_type": "markdown",
      "source": [
        "###### Global Spatial Autocorrelation TS Data (Long Format)"
      ],
      "metadata": {
        "id": "4e0-zSG4MJ96"
      }
    },
    {
      "cell_type": "code",
      "source": [
        "# Reshape gdf to long format\n",
        "years = range(2001, 2023)\n",
        "records = []"
      ],
      "metadata": {
        "id": "MBqI1CbGs6KZ"
      },
      "execution_count": null,
      "outputs": []
    },
    {
      "cell_type": "code",
      "source": [
        "for _, row in gdf.iterrows():\n",
        "    iddpto = row[\"IDDPTO\"]\n",
        "    geometry = row[\"geometry\"]\n",
        "    for year in years:\n",
        "        records.append({\n",
        "            \"IDDPTO\": iddpto,\n",
        "            \"YEAR\": year,\n",
        "            \"CA\": row.get(f\"CA_{year}\", np.nan),\n",
        "            \"geometry\": geometry # Add geometry\n",
        "            })"
      ],
      "metadata": {
        "id": "0U9Wwbsts6NZ"
      },
      "execution_count": null,
      "outputs": []
    },
    {
      "cell_type": "code",
      "source": [
        "# create new df from list and sort\n",
        "panel_gdf = pd.DataFrame(records)"
      ],
      "metadata": {
        "id": "MvnG4dn4uSxe"
      },
      "execution_count": null,
      "outputs": []
    },
    {
      "cell_type": "code",
      "source": [
        "init_notebook_mode(all_interactive=True)\n",
        "show(panel_gdf)"
      ],
      "metadata": {
        "id": "5-W5OgahuS5i"
      },
      "execution_count": null,
      "outputs": []
    },
    {
      "cell_type": "code",
      "source": [
        "# Create spatial weights\n",
        "w = Queen.from_dataframe(panel_gdf, use_index=True)\n",
        "w.transform = 'r'  # Row-standardize weights"
      ],
      "metadata": {
        "id": "rC-kfXjF_o4Z"
      },
      "execution_count": null,
      "outputs": []
    },
    {
      "cell_type": "code",
      "source": [
        "# Calculate Global Moran's I\n",
        "moran = esda.moran.Moran(panel_gdf[\"CA\"], w)"
      ],
      "metadata": {
        "id": "Ft0oo-ixEZbx"
      },
      "execution_count": null,
      "outputs": []
    },
    {
      "cell_type": "code",
      "source": [
        "# print results of Moran's I test\n",
        "print (f'Moran_I: {round(moran.I, 2)}, Moran_p_sim: {moran.p_sim}')"
      ],
      "metadata": {
        "id": "NLnwk_Fz_o62"
      },
      "execution_count": null,
      "outputs": []
    },
    {
      "cell_type": "markdown",
      "source": [
        "For the time series data in long format, spatial autocorrelation was found to be statistically significant but very weak. This suggests that the long format may not be suitable for analyzing spatial relationships between departments."
      ],
      "metadata": {
        "id": "z1od-vW_OqcQ"
      }
    },
    {
      "cell_type": "markdown",
      "source": [
        "##### Local Spatial Autocorrelation\n",
        "In this section, we compute the Local Moran’s I statistic using Local Indicators of Spatial Association (LISA) to detect spatial clusters/outliers"
      ],
      "metadata": {
        "id": "aOWUtI-ZSteZ"
      }
    },
    {
      "cell_type": "code",
      "source": [
        "# Clone original GeoDataFrame\n",
        "db = gdf.copy()"
      ],
      "metadata": {
        "id": "7FD8onhNvMit"
      },
      "execution_count": null,
      "outputs": []
    },
    {
      "cell_type": "code",
      "source": [
        " # Spatial weights\n",
        "w = Queen.from_dataframe(db, use_index=True)\n",
        "w.transform = 'r'"
      ],
      "metadata": {
        "id": "LSdl5MuEvVRQ"
      },
      "execution_count": null,
      "outputs": []
    },
    {
      "cell_type": "code",
      "source": [
        "# Set up plot grid\n",
        "fig, axes = plt.subplots(nrows=5, ncols=5, figsize=(20, 20))\n",
        "axes = axes.flatten()\n",
        "\n",
        "# Define range of years\n",
        "years = list(range(2001, 2023))  # 2001–2022\n",
        "total_maps = len(years)\n",
        "\n",
        "# Loop through each year and generate LISA maps\n",
        "for i, year in enumerate(years):\n",
        "    col = f\"CA_{year}\"\n",
        "\n",
        "    # LISA computation\n",
        "    lisa = esda.moran.Moran_Local(db[col], w)\n",
        "\n",
        "    # Plot LISA cluster map\n",
        "    esdaplot.lisa_cluster(\n",
        "        lisa, db, p=0.05, ax=axes[i], legend=True,\n",
        "        legend_kwds={\n",
        "            \"bbox_to_anchor\": (1.0, 0.4),\n",
        "            \"fontsize\": 10\n",
        "        }\n",
        "    )\n",
        "\n",
        "    axes[i].set_title(f\"{year}\")\n",
        "    axes[i].set_axis_off()\n",
        "\n",
        "# Turn off unused axes (row 4, columns 2, 3, and 4 → indices 22, 23, 24)\n",
        "for idx in [22, 23, 24]:\n",
        "    axes[idx].set_axis_off()\n",
        "\n",
        "# Adjust layout\n",
        "plt.tight_layout()\n",
        "plt.show()"
      ],
      "metadata": {
        "id": "zjGY3POfll7E"
      },
      "execution_count": null,
      "outputs": []
    },
    {
      "cell_type": "markdown",
      "source": [
        "**Legend Interpretation (LISA Cluster Types)**\n",
        "\n",
        "* HH\tHigh values surrounded by high values\t🔴 Red\n",
        "* LL\tLow values surrounded by low values\t🔵 Blue\n",
        "* LH\tLow values surrounded by high values (outlier)\t🟠 Orange\n",
        "* HL\tHigh values surrounded by low values (outlier)\t🟠 Orange\n",
        "* ns\tNot significant (p ≥ 0.05)\t⚪ Gray\n",
        "\n",
        "\n",
        "**Consistent Clusters**\n",
        "\n",
        "🔵 LL clusters (blue) in the Patagonia and southern regions (e.g., southern Buenos Aires, Chubut, Santa Cruz) are highly consistent across time. These areas likely have persistently low asthma mortality rates. May reflect environmental conditions (low pollution, sparse population).\n",
        "\n",
        "🔴 Emerging HH Clusters\n",
        "Red HH clusters (high-high) are episodically present across:\n",
        "\n",
        "* Northern Córdoba, Chaco, Corrientes, and Noroeste Argentino (NOA) regions.\n",
        "\n",
        "* 2015, 2018, and 2021–2022 show stronger HH concentrations.\n",
        "\n",
        "* These years/regions may warrant further investigation (e.g., pollution spikes, urbanization, or climate).\n",
        "\n",
        "🟠 Spatial Outliers (HL, LH)\n",
        "Outliers (orange) appear sporadically in various provinces.\n",
        "\n",
        "* These may suggest local shocks (e.g., wildfires, industrial events) or reporting anomalies.\n",
        "\n",
        "\n",
        "⚪ Large areas of non-significance\n",
        "Many departments are gray (ns), especially in central Argentina and urban peripheries. This could be due to low variance, insufficient sample sizes, or lack of spatial autocorrelation.\n",
        "\n",
        "**Interpretation Summary**\n",
        "\n",
        "* Strong, persistent LL clusters. \tStable regions with low mortality — possibly due to favorable environmental or health conditions.\n",
        "* Emergence of HH clusters\tMay reflect environmental stressors (pollution, climate events) or demographic shifts.\n",
        "* Outlier clusters (LH, HL)\tCould represent areas with rapid change, anomalous events, or data quality issues.\n",
        "* Temporal dynamics\tSuggest evolving spatial processes — should be explored using time-series spatial modeling.\n",
        "\n",
        "\n"
      ],
      "metadata": {
        "id": "l8OyyeYgzRKW"
      }
    },
    {
      "cell_type": "markdown",
      "source": [
        "### Temporal Analysis"
      ],
      "metadata": {
        "id": "t2vw4NVK3VpE"
      }
    },
    {
      "cell_type": "markdown",
      "source": [
        "#### NAMR Over Time"
      ],
      "metadata": {
        "id": "b4zwio5Rdm8f"
      }
    },
    {
      "cell_type": "code",
      "source": [
        "# Load  `gdf`  from a shapefile containing asthma mortality data from 2001 to 2022\n",
        "gdf = gpd.read_file(\"pdt/asthma_mortality/data/shp/tma_2001_2022_2.shp\", encoding='utf-8')"
      ],
      "metadata": {
        "id": "FmYR1J4lzQVx"
      },
      "execution_count": null,
      "outputs": []
    },
    {
      "cell_type": "code",
      "source": [
        "# Drop geometry if only panel analysis is needed\n",
        "df = gdf.drop(columns=\"geometry\")"
      ],
      "metadata": {
        "id": "GpwOavZXySrG"
      },
      "execution_count": null,
      "outputs": []
    },
    {
      "cell_type": "code",
      "source": [
        "# Reshape gdf to long format\n",
        "years = range(2001, 2023)\n",
        "records = []"
      ],
      "metadata": {
        "id": "xt9O5cis98_K"
      },
      "execution_count": null,
      "outputs": []
    },
    {
      "cell_type": "code",
      "source": [
        "for _, row in df.iterrows():\n",
        "    iddpto = row[\"IDDPTO\"]\n",
        "    for year in years:\n",
        "        records.append({\n",
        "            \"IDDPTO\": iddpto,\n",
        "            \"YEAR\": year,\n",
        "            \"CA\": row.get(f\"CA_{year}\", np.nan)\n",
        "            })"
      ],
      "metadata": {
        "id": "3WQnR4gZ98_L"
      },
      "execution_count": null,
      "outputs": []
    },
    {
      "cell_type": "code",
      "source": [
        "# create new df from list and sort\n",
        "panel_df = pd.DataFrame(records)"
      ],
      "metadata": {
        "id": "Lu4fqbfe98_L"
      },
      "execution_count": null,
      "outputs": []
    },
    {
      "cell_type": "code",
      "source": [
        "# Sort and reset index\n",
        "panel_df = panel_df.sort_values(by=[\"IDDPTO\", \"YEAR\"]).reset_index(drop=True)"
      ],
      "metadata": {
        "id": "dt1Nab8q-3Qn"
      },
      "execution_count": null,
      "outputs": []
    },
    {
      "cell_type": "code",
      "source": [
        "# visualize panel_df\n",
        "init_notebook_mode(all_interactive=True)\n",
        "show(panel_df)"
      ],
      "metadata": {
        "id": "WLyvT7u-98_Q"
      },
      "execution_count": null,
      "outputs": []
    },
    {
      "cell_type": "code",
      "source": [
        "# get basic info of panel_df\n",
        "panel_df.info()"
      ],
      "metadata": {
        "id": "TVpaIvzF_4ZV"
      },
      "execution_count": null,
      "outputs": []
    },
    {
      "cell_type": "code",
      "source": [
        "# copy panel_df\n",
        "df_ts = panel_df.copy()"
      ],
      "metadata": {
        "id": "1prmXplX-TyY"
      },
      "execution_count": null,
      "outputs": []
    },
    {
      "cell_type": "code",
      "source": [
        "# Convert 'YEAR' column to datetime format using '%Y'\n",
        "df_ts['YEAR'] = pd.to_datetime(df_ts['YEAR'], format='%Y')"
      ],
      "metadata": {
        "id": "H4APfMn--T0t"
      },
      "execution_count": null,
      "outputs": []
    },
    {
      "cell_type": "code",
      "source": [
        "df_ts.set_index('YEAR', inplace=True)"
      ],
      "metadata": {
        "id": "0kRWsihqBln6"
      },
      "execution_count": null,
      "outputs": []
    },
    {
      "cell_type": "code",
      "source": [
        "# visualize df_ts\n",
        "init_notebook_mode(all_interactive=True)\n",
        "show(df_ts)"
      ],
      "metadata": {
        "id": "hfS4t55P-T3o"
      },
      "execution_count": null,
      "outputs": []
    },
    {
      "cell_type": "code",
      "source": [
        "# Plot mortality rate over time\n",
        "plt.figure(figsize=(10, 4))\n",
        "sns.lineplot(data=df_ts, x=df_ts.index, y='CA', marker='o')\n",
        "plt.title('NAMR Over Time')\n",
        "plt.ylabel('NAMR')\n",
        "plt.xlabel('Year')\n",
        "plt.grid(True)\n",
        "plt.tight_layout()\n",
        "plt.show()"
      ],
      "metadata": {
        "id": "ABWMU9kSBqun"
      },
      "execution_count": null,
      "outputs": []
    },
    {
      "cell_type": "markdown",
      "source": [
        "1. Overall Declining Trend\n",
        "The NAMR shows a clear downward trend from around 1.7 per unit in 2001 to below 1.0 by 2016, reaching a minimum around 2020. This suggests that asthma mortality risk decreased over the two decades — a positive public health outcome.\n",
        "\n",
        "2. NAMR exhibited greater variability in the earlier years of the study period, which may be attributed to environmental fluctuations and/or progressive improvements in the asthma healthcare system over time.\n",
        "\n",
        "3. Short-Term Fluctuations There are several year-to-year variations in the NAMR: i) Spikes in 2003 and 2007–2008l; ii) Troughs around 2012, 2016, and 2020. These may be due to environmental, demographic, or healthcare access factors (e.g., pollution events, epidemics, healthcare reforms, or data irregularities).\n",
        "\n",
        "4. Recent Uptick (Post-2020). After reaching a minimum around 2020, there’s a small upward rebound in NAMR in 2021–2022. This might suggest: i)  resurgence in asthma mortality: ii) Potential impact of COVID-19 on respiratory health or healthcare accessibility, or changes in environmental conditions like increased PM2.5 or wildfire events.\n",
        "\n",
        "5. A lagged analysis between predictors (e.g., PM2.5, land use change, climate) and this outcome may reveal key drivers."
      ],
      "metadata": {
        "id": "rzv17E5XUhPA"
      }
    },
    {
      "cell_type": "markdown",
      "source": [
        "#### ACF and PACF plots"
      ],
      "metadata": {
        "id": "f5uxqDQJdskc"
      }
    },
    {
      "cell_type": "code",
      "source": [
        "# Plot ACF and PACF\n",
        "fig, axes = plt.subplots(1, 2, figsize=(14, 4))\n",
        "\n",
        "plot_acf(df_ts['CA'], ax=axes[0], lags=21, title='Autocorrelation (ACF)')\n",
        "plot_pacf(df_ts['CA'], ax=axes[1], lags=21, title='Partial Autocorrelation (PACF)')\n",
        "\n",
        "plt.tight_layout()\n",
        "plt.show()"
      ],
      "metadata": {
        "id": "rEXpvzZgBq11"
      },
      "execution_count": null,
      "outputs": []
    },
    {
      "cell_type": "markdown",
      "source": [
        "**ACF Plot (Left Plot)**\n",
        "* Lag 1: Shows a moderate positive autocorrelation (~0.13).\n",
        "\n",
        "* Subsequent lags (2–20): Autocorrelation drops off quickly and remains close to zero.\n",
        "\n",
        "The time series does not exhibit strong autocorrelation beyond the first lag it suggests a weak temporal dependency — current values are only mildly influenced by the immediately previous year.\n",
        "\n",
        "**PACF Plot (Right Panel)**\n",
        "\n",
        "* Lag 1: Shows a moderate positive partial autocorrelation (~0.13).\n",
        "\n",
        "* Lags >1: Partial autocorrelations fall off quickly, hovering around zero.\n",
        "\n",
        "The PACF cuts off after lag 1, which implies that only the most recent past value (lag 1) contributes significant explanatory power."
      ],
      "metadata": {
        "id": "pYB8rznsYl95"
      }
    },
    {
      "cell_type": "markdown",
      "source": [
        "#### ADF Test to check stationarity"
      ],
      "metadata": {
        "id": "CrT7x0j8dylB"
      }
    },
    {
      "cell_type": "code",
      "source": [
        "# create a pandas series from CA (NAMR) column\n",
        "series = df_ts['CA']"
      ],
      "metadata": {
        "id": "qdGlPofacbD9"
      },
      "execution_count": null,
      "outputs": []
    },
    {
      "cell_type": "code",
      "source": [
        "# Apply ADF Test to check stationarity of NARMR values over time\n",
        "result = adfuller(series.dropna())\n",
        "print(\"Augmented Dickey-Fuller Test:\")\n",
        "print(f\"ADF Statistic: {result[0]:.4f}\")\n",
        "print(f\"p-value: {result[1]:.4f}\")\n",
        "print(\"Critical Values:\")\n",
        "for key, value in result[4].items():\n",
        "    print(f\"   {key}: {value:.4f}\")\n",
        "\n",
        "# Interpretation\n",
        "if result[1] <= 0.05:\n",
        "    print(\"The time series is likely stationary (reject H0).\")\n",
        "else:\n",
        "    print(\"The time series is likely non-stationary (fail to reject H0).\")"
      ],
      "metadata": {
        "id": "WGk4IUWpaEWa"
      },
      "execution_count": null,
      "outputs": []
    },
    {
      "cell_type": "markdown",
      "source": [
        "Since the p-value ≤ 0.05, we reject the null hypothesis (H₀) and conclude that the series is likely stationary. This implies that its statistical properties—such as mean, variance, and autocorrelation—remain constant over time. Stationary series are generally more predictable, as their behavior tends to be consistent across time period."
      ],
      "metadata": {
        "id": "gRSXwKegcsvp"
      }
    },
    {
      "cell_type": "markdown",
      "source": [
        "#### Compute 4-year moving average"
      ],
      "metadata": {
        "id": "y2osZQcmd-Cb"
      }
    },
    {
      "cell_type": "code",
      "source": [
        "# Compute 4-year moving average\n",
        "df_ts['MA4'] = df_ts['CA'].rolling(window=4, center=True).mean()"
      ],
      "metadata": {
        "id": "Rskw26JMBq42"
      },
      "execution_count": null,
      "outputs": []
    },
    {
      "cell_type": "code",
      "source": [
        "# Drop  rows with NaNs due to moving average\n",
        "df_ts = df_ts.dropna()"
      ],
      "metadata": {
        "id": "5p1OWKNAEHjk"
      },
      "execution_count": null,
      "outputs": []
    },
    {
      "cell_type": "code",
      "source": [
        "# Plot with trend\n",
        "plt.figure(figsize=(12, 6))\n",
        "sns.lineplot(data=df_ts, x='YEAR', y='CA', label='NAMR', marker='o')\n",
        "sns.lineplot(data=df_ts, x='YEAR', y='MA4', label='4-Year Moving Average', linestyle='--')\n",
        "plt.title('NAMR with 4-Year Moving Average')\n",
        "plt.xlabel('Year')\n",
        "plt.ylabel('NAMR')\n",
        "plt.legend()\n",
        "plt.tight_layout()\n",
        "plt.show()"
      ],
      "metadata": {
        "id": "RUEAmn81EHlu"
      },
      "execution_count": null,
      "outputs": []
    },
    {
      "cell_type": "markdown",
      "source": [
        "The 4-year moving average closely follows the observed values but smooths out sudden year-to-year jumps.It confirms the long-term downward trajectory, even if some years temporarily deviate."
      ],
      "metadata": {
        "id": "6ZZUunD5UYE9"
      }
    },
    {
      "cell_type": "markdown",
      "source": [
        "#### Identify temporal outliers"
      ],
      "metadata": {
        "id": "24xKSc_2eCiy"
      }
    },
    {
      "cell_type": "code",
      "source": [
        "# Define IQR bounds to identify outliers\n",
        "Q1 = df_ts['CA'].quantile(0.25)\n",
        "Q3 = df_ts['CA'].quantile(0.75)\n",
        "IQR = Q3 - Q1"
      ],
      "metadata": {
        "id": "qi0ovqZdEVC1"
      },
      "execution_count": null,
      "outputs": []
    },
    {
      "cell_type": "code",
      "source": [
        "lower_bound = Q1 - 1.5 * IQR\n",
        "upper_bound = Q3 + 1.5 * IQR"
      ],
      "metadata": {
        "id": "cpZgwq_kF0IV"
      },
      "execution_count": null,
      "outputs": []
    },
    {
      "cell_type": "code",
      "source": [
        "# Flag outliers\n",
        "df_ts['Outlier'] = (df_ts['CA'] < lower_bound) | (df_ts['CA'] > upper_bound)"
      ],
      "metadata": {
        "id": "0am0KdHiF0LF"
      },
      "execution_count": null,
      "outputs": []
    },
    {
      "cell_type": "code",
      "source": [
        "# Plot with outliers highlighted\n",
        "plt.figure(figsize=(12, 6))\n",
        "sns.lineplot(data=df_ts, x='YEAR', y='CA', marker='o')\n",
        "sns.scatterplot(data=df_ts[df_ts['Outlier']], x='YEAR', y='CA', color='red', s=100, label='Outliers')\n",
        "plt.title('NAMR with Temporal Outliers')\n",
        "plt.xlabel('Year')\n",
        "plt.ylabel('NAMR')\n",
        "plt.legend()\n",
        "plt.tight_layout()\n",
        "plt.show()"
      ],
      "metadata": {
        "id": "ertyka3rGDbU"
      },
      "execution_count": null,
      "outputs": []
    },
    {
      "cell_type": "markdown",
      "source": [
        "* Outliers are persistently present across the entire period.\n",
        "* Some years (e.g., ~2002–2003, 2015, 2019) show extreme spikes, with values well above 30, while most data seems to hover below 15.\n",
        "* The presence of many outliers in early 2000s may suggest either higher local mortality rates or reporting issues.\n",
        "* The blue trend line is relatively flat or slightly declining, indicating that the overall NAMR has remained stable or decreased over time, despite the presence of high outliers.\n",
        "* The data shows high variance and positive skew.\n",
        "* These outliers may distort model estimation if not handled (e.g., using robust regression, winsorization, or model-based outlier detection).\n"
      ],
      "metadata": {
        "id": "QdxKB3Rif8qO"
      }
    },
    {
      "cell_type": "markdown",
      "source": [
        "#### Number of NAMR Zero Values per Year"
      ],
      "metadata": {
        "id": "hpvlwu7Kjk78"
      }
    },
    {
      "cell_type": "code",
      "source": [
        "# Group and count zero values per year\n",
        "zero_counts = panel_df[panel_df['CA'] == 0].groupby('YEAR').size()"
      ],
      "metadata": {
        "id": "_ceSCpovF0O8"
      },
      "execution_count": null,
      "outputs": []
    },
    {
      "cell_type": "code",
      "source": [
        "all_years = pd.Series(index=range(panel_df['YEAR'].min(), panel_df['YEAR'].max() + 1))\n",
        "zero_counts = all_years.combine_first(zero_counts).fillna(0)"
      ],
      "metadata": {
        "id": "SuBSDrDmhKNr"
      },
      "execution_count": null,
      "outputs": []
    },
    {
      "cell_type": "code",
      "source": [
        "# Plot\n",
        "plt.figure(figsize=(12, 5))\n",
        "plt.plot(zero_counts.index, zero_counts.values, marker='o', linestyle='-')\n",
        "plt.title(\"Number of NAMR Zero Values per Year\")\n",
        "plt.xlabel(\"Year\")\n",
        "plt.ylabel(\"Count of Zero NAMR Values\")\n",
        "plt.grid(True)\n",
        "plt.tight_layout()\n",
        "plt.show()"
      ],
      "metadata": {
        "id": "zXeNnJnThKQ1"
      },
      "execution_count": null,
      "outputs": []
    },
    {
      "cell_type": "markdown",
      "source": [
        "* From 2001 to 2020, the number of zero NAMR values per year generally increased, rising from ~300 to a peak of 373 in 2020.\n",
        "* This may suggest that more departments reported zero asthma mortality rates over time.\n",
        "* The spike in 2020 could reflect: i) COVID-19 pandemic effects, such as underreporting, healthcare system overload, or misclassification of respiratory deaths; or ii) Reduced exposure to asthma triggers (e.g., reduced pollution or indoor confinement).\n",
        "* The decline after 2020 might indicate a return to pre-pandemic reporting or mortality patterns.\n",
        "* Temporal autocorrelation: The smooth increase suggests some systematic drift, possibly non-random. We should consider a deeper analysis with population-based features for modeling.Also, in modeling we should forecast zero values.\n",
        "*"
      ],
      "metadata": {
        "id": "yt5Uxh7sj4AD"
      }
    },
    {
      "cell_type": "markdown",
      "source": [
        "## References\n",
        "\n",
        "\n",
        "1. Andresen EM, Diehr PH, Luke DA. Public Health Surveillance of Low-Frequency Populations. Annual Review of Public Health. 2004;25(Volume 25, 2004):25-52. doi:10.1146/annurev.publhealth.25.101802.123111\n",
        "\n",
        "2. Kostaki A, and Zafeiris KN. Dealing with limitations of empirical mortality data in small populations. Communications in Statistics: Case Studies, Data Analysis and Applications. 2019;5(1):39-45. doi:10.1080/23737484.2019.1578706\n",
        "\n",
        "3. Berrill WT. Is the death rate from asthma exaggerated? Evidence from west Cumbria. BMJ. 1993;306(6871):193-194. doi:10.1136/bmj.306.6871.193\n",
        "\n",
        "4. Washington State Department of Health. Guidelines for using confidence intervals for public health assessment. Published online 2012. https://doh.wa.gov/sites/default/files/legacy/Documents/1500/ConfIntGuide.pdf\n",
        "\n",
        "5. OpenAI. ChatGPT [large language model]. OpenAI; 2025. Accessed June 12, 2025. https://chat.openai.com\n",
        "\n",
        "\n",
        "\n"
      ],
      "metadata": {
        "id": "r2B7auLIqY7g"
      }
    }
  ]
}
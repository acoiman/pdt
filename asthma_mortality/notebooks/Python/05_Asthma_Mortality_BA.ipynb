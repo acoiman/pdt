{
  "nbformat": 4,
  "nbformat_minor": 0,
  "metadata": {
    "colab": {
      "provenance": [],
      "toc_visible": true,
      "authorship_tag": "ABX9TyOIFq7cOegSFzjFkwg52gsp",
      "include_colab_link": true
    },
    "kernelspec": {
      "name": "python3",
      "display_name": "Python 3"
    },
    "language_info": {
      "name": "python"
    }
  },
  "cells": [
    {
      "cell_type": "markdown",
      "metadata": {
        "id": "view-in-github",
        "colab_type": "text"
      },
      "source": [
        "<a href=\"https://colab.research.google.com/github/acoiman/pdt/blob/main/asthma_mortality/notebooks/Python/05_Asthma_Mortality_BA.ipynb\" target=\"_parent\"><img src=\"https://colab.research.google.com/assets/colab-badge.svg\" alt=\"Open In Colab\"/></a>"
      ]
    },
    {
      "cell_type": "markdown",
      "source": [
        "# 🔥 Burned Area (BA) Data"
      ],
      "metadata": {
        "id": "LVi2H9KYDB00"
      }
    },
    {
      "cell_type": "markdown",
      "source": [
        "In this notebook, we will calculate the annual burned areas for each department from 2001 to 2022. This dataset will be aggregated and normalized by the surface area of each department and normalized by 1000 km<sup>2</sup>.\n",
        "\n",
        "\n",
        "We will use the MODIS product MCD64A1.061 (MODIS Burned Area Monthly Global 500m)<sup>1</sup> available on Google Earth Engine (GEE) at https://developers.google.com/earth-engine/datasets/catalog/MODIS_061_MCD64A1"
      ],
      "metadata": {
        "id": "V68FDawHD6a-"
      }
    },
    {
      "cell_type": "markdown",
      "source": [
        "##📦 Import Required Libraries"
      ],
      "metadata": {
        "id": "fdlvQ-6njmkK"
      }
    },
    {
      "cell_type": "code",
      "source": [
        "# geospatial data handling\n",
        "import geopandas as gpd\n",
        "import geemap\n",
        "import ee\n",
        "\n",
        "# maping ansd visualization\n",
        "import matplotlib.pyplot as plt\n",
        "import folium\n",
        "import geemap.foliumap as geemap_folium\n",
        "\n",
        "# data frame handling\n",
        "import pandas as pd\n",
        "\n",
        "# other libraries\n",
        "from typing import Union, List\n",
        "from itables import init_notebook_mode"
      ],
      "metadata": {
        "id": "uWmsptlhDJpu"
      },
      "execution_count": null,
      "outputs": []
    },
    {
      "cell_type": "markdown",
      "source": [
        "## 🌍 Connect to Google Earth Engine (GEE)"
      ],
      "metadata": {
        "id": "x3eqoWLMgevB"
      }
    },
    {
      "cell_type": "code",
      "source": [
        "# trigger the authentication flow\n",
        "ee.Authenticate()"
      ],
      "metadata": {
        "id": "-qQgNBqJgc9i"
      },
      "execution_count": null,
      "outputs": []
    },
    {
      "cell_type": "code",
      "source": [
        "# initialize the library.\n",
        "ee.Initialize(project='ee-pdt')\n",
        "print(ee.String('Hello from the Earth Engine servers!').getInfo())"
      ],
      "metadata": {
        "id": "gzkMyRxVg5Ld"
      },
      "execution_count": null,
      "outputs": []
    },
    {
      "cell_type": "markdown",
      "source": [
        "## 🖥️ Calculating BA data per departaments\n",
        "\n",
        "To get the BA per departments from 2001 to 2022 we will create a function to compute the normalized burned area (per 1000 km²) for a given year and return it as a FeatureCollection"
      ],
      "metadata": {
        "id": "vxvznZAzkG02"
      }
    },
    {
      "cell_type": "code",
      "source": [
        "# Set the PROJ_LIB path\n",
        "os.environ['PROJ_LIB'] = \"/opt/conda/envs/gds/share/proj\""
      ],
      "metadata": {
        "id": "uJANQwPWk8bC"
      },
      "execution_count": null,
      "outputs": []
    },
    {
      "cell_type": "code",
      "source": [
        "# change to my computer home directory\n",
        "%cd work"
      ],
      "metadata": {
        "id": "qbrXd6oJgXit"
      },
      "execution_count": null,
      "outputs": []
    },
    {
      "cell_type": "markdown",
      "source": [
        "### Compute the normalized burned area (per 1000 km²) from 2001 to 2022"
      ],
      "metadata": {
        "id": "I6z0kdMi4vRI"
      }
    },
    {
      "cell_type": "code",
      "source": [
        "def compute_normalized_burned_area(year: Union[int, str], departments_fc: ee.FeatureCollection, country_fc: ee.FeatureCollection) -> ee.FeatureCollection:\n",
        "    \"\"\"\n",
        "    Compute the normalized burned area (per 1000 km²) for a given year and return it as a FeatureCollection.\n",
        "    \"\"\"\n",
        "\n",
        "    # Ensure the year is a string (needed for building date strings)\n",
        "    year = str(year)\n",
        "\n",
        "    # Print a message for tracking which year is being processed\n",
        "    print(f\"Processing year {year}...\")\n",
        "\n",
        "    # Load the MCD64A1.061 MODIS Burned Area  for the selected year, select the 'BurnDate' band,\n",
        "    # and mask out unburned pixels (set values > 0 to 1)\n",
        "    dataset = ee.ImageCollection('MODIS/061/MCD64A1') \\\n",
        "        .filterDate(f'{year}-01-01', f'{year}-12-31') \\\n",
        "        .select('BurnDate') \\\n",
        "        .map(lambda img: img.gt(0).selfMask())\n",
        "\n",
        "    # Take the maximum burn date value per pixel (this creates a binary mask: burned = 1)\n",
        "    max_ba = dataset.max()\n",
        "\n",
        "    # Clip the burned area image to the boundaries of the country (e.g., Argentina)\n",
        "    max_ba_arg = max_ba.clip(country_fc)\n",
        "\n",
        "    # Set default CRS and scale\n",
        "    # Aggregate finer-resolution pixels\n",
        "    max_ba_arg_1km = max_ba_arg \\\n",
        "        .setDefaultProjection(crs='EPSG:4326', scale=1000) \\\n",
        "        .reduceResolution(reducer=ee.Reducer.max(), maxPixels=1024) \\\n",
        "        .reproject(crs='EPSG:4326', scale=500)# preserve original spatial resolution\n",
        "        #.reproject(crs='EPSG:4326', scale=1000)# Reproject to enforce 1 km resolution\n",
        "\n",
        "    # Create an image where each pixel represents its area in km²\n",
        "    pixel_area = ee.Image.pixelArea().divide(1e6)\n",
        "\n",
        "    # Multiply the binary burned area mask by the pixel area to get burned area in km²\n",
        "    burned_area_km2 = max_ba_arg_1km.multiply(pixel_area)\n",
        "\n",
        "    # Define a nested function to compute burned area stats for each department\n",
        "    def compute_ba(feat):\n",
        "        # Use reduceRegion to sum burned area values within each department\n",
        "        stats = burned_area_km2.reduceRegion(\n",
        "            reducer=ee.Reducer.sum(),        # Sum of burned area\n",
        "            geometry=feat.geometry(),        # Department geometry\n",
        "            scale=1000,                      # Analysis resolution (1 km)\n",
        "            maxPixels=1e13                   # High limit for pixel processing\n",
        "        )\n",
        "        # Extract total burned area in km²\n",
        "        ba_km2 = ee.Number(stats.get('BurnDate'))\n",
        "\n",
        "        # Compute the area of the department in km²\n",
        "        dept_area = feat.geometry().area().divide(1e6)\n",
        "\n",
        "        # Normalize the burned area per 1000 km² of department area\n",
        "        normalized_ba = ba_km2.divide(dept_area).multiply(1000)\n",
        "\n",
        "        # Round the result to 2 decimal places\n",
        "        normalized_ba = normalized_ba.multiply(100).round().divide(100)\n",
        "\n",
        "        # Add the normalized value as a new property (e.g., NBA_2001)\n",
        "        return feat.set({f'NBA_{year}': normalized_ba})\n",
        "\n",
        "    # Apply the function to all department features\n",
        "    return departments_fc.map(compute_ba)"
      ],
      "metadata": {
        "id": "LWhCqXqY5_Ie"
      },
      "execution_count": null,
      "outputs": []
    },
    {
      "cell_type": "code",
      "source": [
        "# Load input feature collections\n",
        "argentina = ee.FeatureCollection('projects/ee-pdt/assets/argentina/ar_poly') # Argentina boundaries\n",
        "# geospatial dataset with departments id\n",
        "# departments = ee.FeatureCollection('projects/ee-pdt/assets/tma/tma_pm25_2001_2022')\n",
        "departments = ee.FeatureCollection('projects/ee-pdt/assets/argentina/ar_dpto')"
      ],
      "metadata": {
        "id": "QkfElzCsx8qT"
      },
      "execution_count": null,
      "outputs": []
    },
    {
      "cell_type": "code",
      "source": [
        "# Initialize an empty GeoDataFrame\n",
        "combined_gdf = None"
      ],
      "metadata": {
        "id": "iLJEZWilCvmr"
      },
      "execution_count": null,
      "outputs": []
    },
    {
      "cell_type": "code",
      "source": [
        "# Loop over the range of years from 2001 to 2022 (inclusive)\n",
        "for year in range(2001, 2023):\n",
        "\n",
        "    # Call the function to compute normalized burned area (NBA) for the current year\n",
        "    # using the departments and Argentina boundary FeatureCollections\n",
        "    result_fc = compute_normalized_burned_area(year, departments, argentina)\n",
        "\n",
        "    # Convert the resulting Earth Engine FeatureCollection to a GeoDataFrame\n",
        "    result_gdf = geemap.ee_to_gdf(result_fc)\n",
        "\n",
        "    # If this is the first year, initialize the combined GeoDataFrame\n",
        "    if combined_gdf is None:\n",
        "        combined_gdf = result_gdf\n",
        "    else:\n",
        "        # For subsequent years, merge the new year’s NBA column into the combined GeoDataFrame\n",
        "        # We keep only the geometry and NBA column for merging\n",
        "        combined_gdf = combined_gdf.merge(\n",
        "            result_gdf[[result_gdf.geometry.name, f'NBA_{year}']],  # keep geometry and current year column\n",
        "            on=combined_gdf.geometry.name  # merge based on geometry\n",
        "        )\n"
      ],
      "metadata": {
        "id": "LOIDFKJlkYwB"
      },
      "execution_count": null,
      "outputs": []
    },
    {
      "cell_type": "code",
      "source": [
        "# Display the first few rows of the DataFrame\n",
        "init_notebook_mode(all_interactive=True)\n",
        "combined_gdf.head()"
      ],
      "metadata": {
        "id": "CIAYP9MFkYyx"
      },
      "execution_count": null,
      "outputs": []
    },
    {
      "cell_type": "markdown",
      "source": [
        "### Visualize statistics of NBA columns"
      ],
      "metadata": {
        "id": "4olQSsJb_sOB"
      }
    },
    {
      "cell_type": "code",
      "source": [
        "# Create a summary table of statistics for all NBA columns\n",
        "nba_columns = [col for col in combined_gdf.columns if 'NBA_' in col]\n",
        "summary_stats = combined_gdf[nba_columns].describe()\n",
        "\n",
        "# Display the summary table\n",
        "init_notebook_mode(all_interactive=True)\n",
        "summary_stats"
      ],
      "metadata": {
        "id": "pvmg896L3Kw2"
      },
      "execution_count": null,
      "outputs": []
    },
    {
      "cell_type": "markdown",
      "source": [
        "### Line chart of mean NBA across the years"
      ],
      "metadata": {
        "id": "6bhfpViB_x3A"
      }
    },
    {
      "cell_type": "code",
      "source": [
        "# Extract the years and mean NBA values from the summary statistics\n",
        "years = [int(col.replace('NBA_', '')) for col in summary_stats.columns]\n",
        "mean_nba = summary_stats.loc['mean'].values\n",
        "\n",
        "# Create the line chart\n",
        "plt.figure(figsize=(12, 6))\n",
        "plt.plot(years, mean_nba, marker='o')\n",
        "plt.xlabel('Year')\n",
        "plt.ylabel('Mean NBA')\n",
        "plt.title('Mean NBA (Normalized Burned Area) 2001-2022')\n",
        "plt.grid(True)\n",
        "plt.show()"
      ],
      "metadata": {
        "id": "ZBQ5NidV4NCa"
      },
      "execution_count": null,
      "outputs": []
    },
    {
      "cell_type": "markdown",
      "source": [
        "### Map NBA and BA for 2003\n",
        "\n",
        "According to our line chart, the largest normalized burned area (NBA) occurred in 2003. Therefore, we will create a map displaying both burned areas (BA) and normalized burned areas (NBA) for that year."
      ],
      "metadata": {
        "id": "P-5FJdzzAQJC"
      }
    },
    {
      "cell_type": "code",
      "source": [
        "# Load MCD64A1.061 burned area data for 2003\n",
        "dataset = ee.ImageCollection('MODIS/061/MCD64A1') \\\n",
        "    .filterDate('2003-01-01', '2003-12-31') \\\n",
        "    .select('BurnDate')\n",
        "\n",
        "# Binary burned area (1 = burned, 0 = not burned)\n",
        "dataset = dataset.map(lambda img: img.gt(0).selfMask())\n",
        "\n",
        "# Max burn date per pixel\n",
        "max_ba = dataset.max()\n",
        "\n",
        "# Load Argentina polygon\n",
        "argentina = ee.FeatureCollection('projects/ee-pdt/assets/argentina/ar_poly')\n",
        "\n",
        "# Clip image to Argentina\n",
        "max_ba_arg = max_ba.clip(argentina)\n",
        "\n",
        "# Reduce resolution 1 km and set a valid default projection (MODIS-like: 1 km in EPSG:4326)\n",
        "max_ba_arg_1km = max_ba_arg \\\n",
        "    .setDefaultProjection(crs='EPSG:4326', scale=1000) \\\n",
        "    .reduceResolution(reducer=ee.Reducer.max(), maxPixels=1024) \\\n",
        "    .reproject(crs='EPSG:4326', scale=500)# preserve original spatial resolution\n",
        "    #.reproject(crs='EPSG:4326', scale=1000)# Reproject to enforce 1 km resolution"
      ],
      "metadata": {
        "id": "LkrXdQfuAiDG"
      },
      "execution_count": null,
      "outputs": []
    },
    {
      "cell_type": "code",
      "source": [
        "# Visualization for burned area\n",
        "ba_vis = {\n",
        "    'min': 0,\n",
        "    'max': 1,\n",
        "    'palette': ['ffffff', 'ff0000']\n",
        "}\n",
        "map_id_dict = ee.Image(max_ba_arg_1km).getMapId(ba_vis)\n",
        "\n",
        "# Load NBA data from GeoPackage (local)\n",
        "# gdf = gpd.read_file(\"pdt/asthma_mortality/data/gpkg/tma_pm25_ba_2001_2022.gpkg\")\n",
        "# use in-memory gdf\n",
        "gdf = combined_gdf\n",
        "nba_col = \"NBA_2003\"\n",
        "\n",
        "# Ensure GeoDataFrame is in EPSG:4326 for Folium\n",
        "if gdf.crs != \"EPSG:4326\":\n",
        "    gdf = gdf.to_crs(\"EPSG:4326\")\n",
        "\n",
        "# Create Folium map centered on Argentina\n",
        "m = folium.Map(location=[-38.4, -63.6], zoom_start=4)\n",
        "\n",
        "# Add burned area from EE\n",
        "folium.TileLayer(\n",
        "    tiles=map_id_dict['tile_fetcher'].url_format,\n",
        "    attr='Map Data © Google Earth Engine',\n",
        "    name='Burned Area 2003 - Argentina',\n",
        "    overlay=True,\n",
        "    control=True\n",
        ").add_to(m)\n",
        "\n",
        "# Add NBA choropleth layer\n",
        "folium.Choropleth(\n",
        "    geo_data=gdf,\n",
        "    name=\"Normalized Burned Area 2003\",\n",
        "    data=gdf,\n",
        "    columns=[gdf.index, nba_col],\n",
        "    key_on=\"feature.id\",\n",
        "    fill_color=\"YlOrRd\",\n",
        "    fill_opacity=0.7,\n",
        "    line_opacity=0.4,\n",
        "    nan_fill_color=\"gray\",\n",
        "    legend_name=\"Normalized Burned Area (per 1000 km²)\"\n",
        ").add_to(m)\n",
        "\n",
        "# Add boundary\n",
        "argentina_geojson = geemap.ee_to_geojson(argentina)\n",
        "folium.GeoJson(\n",
        "    argentina_geojson,\n",
        "    name='Argentina Boundary',\n",
        "    style_function=lambda x: {\n",
        "        'fillColor': 'none',\n",
        "        'color': 'black',\n",
        "        'weight': 2\n",
        "    }\n",
        ").add_to(m)\n",
        "\n",
        "# Add layer control\n",
        "folium.LayerControl().add_to(m)\n",
        "\n",
        "# Show the map\n",
        "m"
      ],
      "metadata": {
        "id": "WXo-YohbFm36"
      },
      "execution_count": null,
      "outputs": []
    },
    {
      "cell_type": "markdown",
      "source": [
        "### Merge Burned Areas with NAMR+PM2.5 dataset\n"
      ],
      "metadata": {
        "id": "RAdfcEAGro4-"
      }
    },
    {
      "cell_type": "code",
      "source": [
        "# drop geometry column of combined_gdf and create a new df\n",
        "df_ba = combined_gdf.drop(columns=['geometry'])"
      ],
      "metadata": {
        "id": "ajhzfvwLqHEz"
      },
      "execution_count": null,
      "outputs": []
    },
    {
      "cell_type": "code",
      "source": [
        "# load data with NAMR data and PM2.5\n",
        "gdf_tma_pm25 = gpd.read_file(\"pdt/asthma_mortality/data/gpkg/tma_pm25_2001_2022.gpkg\")"
      ],
      "metadata": {
        "id": "5m97KB0hqHOE"
      },
      "execution_count": null,
      "outputs": []
    },
    {
      "cell_type": "code",
      "source": [
        "# Merge gdf_tma_pm25 and gdf_ba based on 'IDDPTO', preserving all data from gdf\n",
        "gdf_tma_pm25_ba  = gdf_tma_pm25.merge(df_ba, on='IDDPTO', how='left')"
      ],
      "metadata": {
        "id": "i62ERkg7qHRF"
      },
      "execution_count": null,
      "outputs": []
    },
    {
      "cell_type": "code",
      "source": [
        "# Display the first few rows of the merged GeoDataFrame\n",
        "init_notebook_mode(all_interactive=True)\n",
        "gdf_tma_pm25_ba"
      ],
      "metadata": {
        "id": "o6m3Nj9tsJyL"
      },
      "execution_count": null,
      "outputs": []
    },
    {
      "cell_type": "code",
      "source": [
        "# Save data with NAMR data and PM2.5  the calculated BA at 500m spatial resolution (original spatial resolution) as  a GeoPackage\n",
        "gdf_tma_pm25_ba.to_file(\"pdt/asthma_mortality/data/gpkg/tma_pm25_ba_2001_2022.gpkg\", driver=\"GPKG\")"
      ],
      "metadata": {
        "id": "ydvcyN2gV9y-"
      },
      "execution_count": null,
      "outputs": []
    },
    {
      "cell_type": "markdown",
      "source": [
        "## 📚 References\n",
        "\n",
        "1. Giglio, L., Justice, C., Boschetti, L., Roy, D. (2021). <i>MODIS/Terra+Aqua Burned Area Monthly L3 Global 500m SIN Grid V061</i> [Data set]. NASA EOSDIS Land Processes Distributed Active Archive Center. Accessed 2025-05-10 from https://doi.org/10.5067/MODIS/MCD64A1.061\n"
      ],
      "metadata": {
        "id": "xvNPGh5m4hpw"
      }
    }
  ]
}